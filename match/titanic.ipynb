{
 "cells": [
  {
   "cell_type": "code",
   "execution_count": 1,
   "metadata": {
    "collapsed": true
   },
   "outputs": [],
   "source": [
    "%matplotlib inline\n",
    "import matplotlib\n",
    "import matplotlib.pyplot as plt\n",
    "import pandas as pd\n",
    "import numpy as np"
   ]
  },
  {
   "cell_type": "markdown",
   "metadata": {},
   "source": [
    "#### First sight into data"
   ]
  },
  {
   "cell_type": "code",
   "execution_count": 2,
   "metadata": {
    "collapsed": false
   },
   "outputs": [],
   "source": [
    "def get_titanic_data():\n",
    "    train_data = pd.read_csv(\"../data/titanic/train.csv\")\n",
    "    test_data = pd.read_csv(\"../data/titanic/test.csv\")\n",
    "    return train_data, test_data\n",
    "\n",
    "train_data, test_data = get_titanic_data()"
   ]
  },
  {
   "cell_type": "code",
   "execution_count": 3,
   "metadata": {
    "collapsed": false
   },
   "outputs": [
    {
     "name": "stdout",
     "output_type": "stream",
     "text": [
      "(891, 12)\n",
      "(418, 11)\n"
     ]
    }
   ],
   "source": [
    "print train_data.shape\n",
    "print test_data.shape"
   ]
  },
  {
   "cell_type": "code",
   "execution_count": 7,
   "metadata": {
    "collapsed": false,
    "scrolled": true
   },
   "outputs": [
    {
     "name": "stdout",
     "output_type": "stream",
     "text": [
      "<class 'pandas.core.frame.DataFrame'>\n",
      "RangeIndex: 891 entries, 0 to 890\n",
      "Data columns (total 12 columns):\n",
      "PassengerId    891 non-null int64\n",
      "Survived       891 non-null int64\n",
      "Pclass         891 non-null int64\n",
      "Name           891 non-null object\n",
      "Sex            891 non-null object\n",
      "Age            714 non-null float64\n",
      "SibSp          891 non-null int64\n",
      "Parch          891 non-null int64\n",
      "Ticket         891 non-null object\n",
      "Fare           891 non-null float64\n",
      "Cabin          204 non-null object\n",
      "Embarked       889 non-null object\n",
      "dtypes: float64(2), int64(5), object(5)\n",
      "memory usage: 83.6+ KB\n"
     ]
    }
   ],
   "source": [
    "train_data.info()"
   ]
  },
  {
   "cell_type": "code",
   "execution_count": 8,
   "metadata": {
    "collapsed": false
   },
   "outputs": [
    {
     "data": {
      "text/html": [
       "<div>\n",
       "<table border=\"1\" class=\"dataframe\">\n",
       "  <thead>\n",
       "    <tr style=\"text-align: right;\">\n",
       "      <th></th>\n",
       "      <th>PassengerId</th>\n",
       "      <th>Survived</th>\n",
       "      <th>Pclass</th>\n",
       "      <th>Name</th>\n",
       "      <th>Sex</th>\n",
       "      <th>Age</th>\n",
       "      <th>SibSp</th>\n",
       "      <th>Parch</th>\n",
       "      <th>Ticket</th>\n",
       "      <th>Fare</th>\n",
       "      <th>Cabin</th>\n",
       "      <th>Embarked</th>\n",
       "    </tr>\n",
       "  </thead>\n",
       "  <tbody>\n",
       "    <tr>\n",
       "      <th>0</th>\n",
       "      <td>1</td>\n",
       "      <td>0</td>\n",
       "      <td>3</td>\n",
       "      <td>Braund, Mr. Owen Harris</td>\n",
       "      <td>male</td>\n",
       "      <td>22.0</td>\n",
       "      <td>1</td>\n",
       "      <td>0</td>\n",
       "      <td>A/5 21171</td>\n",
       "      <td>7.2500</td>\n",
       "      <td>NaN</td>\n",
       "      <td>S</td>\n",
       "    </tr>\n",
       "    <tr>\n",
       "      <th>1</th>\n",
       "      <td>2</td>\n",
       "      <td>1</td>\n",
       "      <td>1</td>\n",
       "      <td>Cumings, Mrs. John Bradley (Florence Briggs Th...</td>\n",
       "      <td>female</td>\n",
       "      <td>38.0</td>\n",
       "      <td>1</td>\n",
       "      <td>0</td>\n",
       "      <td>PC 17599</td>\n",
       "      <td>71.2833</td>\n",
       "      <td>C85</td>\n",
       "      <td>C</td>\n",
       "    </tr>\n",
       "    <tr>\n",
       "      <th>2</th>\n",
       "      <td>3</td>\n",
       "      <td>1</td>\n",
       "      <td>3</td>\n",
       "      <td>Heikkinen, Miss. Laina</td>\n",
       "      <td>female</td>\n",
       "      <td>26.0</td>\n",
       "      <td>0</td>\n",
       "      <td>0</td>\n",
       "      <td>STON/O2. 3101282</td>\n",
       "      <td>7.9250</td>\n",
       "      <td>NaN</td>\n",
       "      <td>S</td>\n",
       "    </tr>\n",
       "    <tr>\n",
       "      <th>3</th>\n",
       "      <td>4</td>\n",
       "      <td>1</td>\n",
       "      <td>1</td>\n",
       "      <td>Futrelle, Mrs. Jacques Heath (Lily May Peel)</td>\n",
       "      <td>female</td>\n",
       "      <td>35.0</td>\n",
       "      <td>1</td>\n",
       "      <td>0</td>\n",
       "      <td>113803</td>\n",
       "      <td>53.1000</td>\n",
       "      <td>C123</td>\n",
       "      <td>S</td>\n",
       "    </tr>\n",
       "    <tr>\n",
       "      <th>4</th>\n",
       "      <td>5</td>\n",
       "      <td>0</td>\n",
       "      <td>3</td>\n",
       "      <td>Allen, Mr. William Henry</td>\n",
       "      <td>male</td>\n",
       "      <td>35.0</td>\n",
       "      <td>0</td>\n",
       "      <td>0</td>\n",
       "      <td>373450</td>\n",
       "      <td>8.0500</td>\n",
       "      <td>NaN</td>\n",
       "      <td>S</td>\n",
       "    </tr>\n",
       "  </tbody>\n",
       "</table>\n",
       "</div>"
      ],
      "text/plain": [
       "   PassengerId  Survived  Pclass  \\\n",
       "0            1         0       3   \n",
       "1            2         1       1   \n",
       "2            3         1       3   \n",
       "3            4         1       1   \n",
       "4            5         0       3   \n",
       "\n",
       "                                                Name     Sex   Age  SibSp  \\\n",
       "0                            Braund, Mr. Owen Harris    male  22.0      1   \n",
       "1  Cumings, Mrs. John Bradley (Florence Briggs Th...  female  38.0      1   \n",
       "2                             Heikkinen, Miss. Laina  female  26.0      0   \n",
       "3       Futrelle, Mrs. Jacques Heath (Lily May Peel)  female  35.0      1   \n",
       "4                           Allen, Mr. William Henry    male  35.0      0   \n",
       "\n",
       "   Parch            Ticket     Fare Cabin Embarked  \n",
       "0      0         A/5 21171   7.2500   NaN        S  \n",
       "1      0          PC 17599  71.2833   C85        C  \n",
       "2      0  STON/O2. 3101282   7.9250   NaN        S  \n",
       "3      0            113803  53.1000  C123        S  \n",
       "4      0            373450   8.0500   NaN        S  "
      ]
     },
     "execution_count": 8,
     "metadata": {},
     "output_type": "execute_result"
    }
   ],
   "source": [
    "train_data.head()"
   ]
  },
  {
   "cell_type": "code",
   "execution_count": 4,
   "metadata": {
    "collapsed": false
   },
   "outputs": [
    {
     "data": {
      "text/html": [
       "<div>\n",
       "<table border=\"1\" class=\"dataframe\">\n",
       "  <thead>\n",
       "    <tr style=\"text-align: right;\">\n",
       "      <th></th>\n",
       "      <th>PassengerId</th>\n",
       "      <th>Survived</th>\n",
       "      <th>Pclass</th>\n",
       "      <th>Age</th>\n",
       "      <th>SibSp</th>\n",
       "      <th>Parch</th>\n",
       "      <th>Fare</th>\n",
       "    </tr>\n",
       "  </thead>\n",
       "  <tbody>\n",
       "    <tr>\n",
       "      <th>count</th>\n",
       "      <td>891.000000</td>\n",
       "      <td>891.000000</td>\n",
       "      <td>891.000000</td>\n",
       "      <td>714.000000</td>\n",
       "      <td>891.000000</td>\n",
       "      <td>891.000000</td>\n",
       "      <td>891.000000</td>\n",
       "    </tr>\n",
       "    <tr>\n",
       "      <th>mean</th>\n",
       "      <td>446.000000</td>\n",
       "      <td>0.383838</td>\n",
       "      <td>2.308642</td>\n",
       "      <td>29.699118</td>\n",
       "      <td>0.523008</td>\n",
       "      <td>0.381594</td>\n",
       "      <td>32.204208</td>\n",
       "    </tr>\n",
       "    <tr>\n",
       "      <th>std</th>\n",
       "      <td>257.353842</td>\n",
       "      <td>0.486592</td>\n",
       "      <td>0.836071</td>\n",
       "      <td>14.526497</td>\n",
       "      <td>1.102743</td>\n",
       "      <td>0.806057</td>\n",
       "      <td>49.693429</td>\n",
       "    </tr>\n",
       "    <tr>\n",
       "      <th>min</th>\n",
       "      <td>1.000000</td>\n",
       "      <td>0.000000</td>\n",
       "      <td>1.000000</td>\n",
       "      <td>0.420000</td>\n",
       "      <td>0.000000</td>\n",
       "      <td>0.000000</td>\n",
       "      <td>0.000000</td>\n",
       "    </tr>\n",
       "    <tr>\n",
       "      <th>25%</th>\n",
       "      <td>223.500000</td>\n",
       "      <td>0.000000</td>\n",
       "      <td>2.000000</td>\n",
       "      <td>20.125000</td>\n",
       "      <td>0.000000</td>\n",
       "      <td>0.000000</td>\n",
       "      <td>7.910400</td>\n",
       "    </tr>\n",
       "    <tr>\n",
       "      <th>50%</th>\n",
       "      <td>446.000000</td>\n",
       "      <td>0.000000</td>\n",
       "      <td>3.000000</td>\n",
       "      <td>28.000000</td>\n",
       "      <td>0.000000</td>\n",
       "      <td>0.000000</td>\n",
       "      <td>14.454200</td>\n",
       "    </tr>\n",
       "    <tr>\n",
       "      <th>75%</th>\n",
       "      <td>668.500000</td>\n",
       "      <td>1.000000</td>\n",
       "      <td>3.000000</td>\n",
       "      <td>38.000000</td>\n",
       "      <td>1.000000</td>\n",
       "      <td>0.000000</td>\n",
       "      <td>31.000000</td>\n",
       "    </tr>\n",
       "    <tr>\n",
       "      <th>max</th>\n",
       "      <td>891.000000</td>\n",
       "      <td>1.000000</td>\n",
       "      <td>3.000000</td>\n",
       "      <td>80.000000</td>\n",
       "      <td>8.000000</td>\n",
       "      <td>6.000000</td>\n",
       "      <td>512.329200</td>\n",
       "    </tr>\n",
       "  </tbody>\n",
       "</table>\n",
       "</div>"
      ],
      "text/plain": [
       "       PassengerId    Survived      Pclass         Age       SibSp  \\\n",
       "count   891.000000  891.000000  891.000000  714.000000  891.000000   \n",
       "mean    446.000000    0.383838    2.308642   29.699118    0.523008   \n",
       "std     257.353842    0.486592    0.836071   14.526497    1.102743   \n",
       "min       1.000000    0.000000    1.000000    0.420000    0.000000   \n",
       "25%     223.500000    0.000000    2.000000   20.125000    0.000000   \n",
       "50%     446.000000    0.000000    3.000000   28.000000    0.000000   \n",
       "75%     668.500000    1.000000    3.000000   38.000000    1.000000   \n",
       "max     891.000000    1.000000    3.000000   80.000000    8.000000   \n",
       "\n",
       "            Parch        Fare  \n",
       "count  891.000000  891.000000  \n",
       "mean     0.381594   32.204208  \n",
       "std      0.806057   49.693429  \n",
       "min      0.000000    0.000000  \n",
       "25%      0.000000    7.910400  \n",
       "50%      0.000000   14.454200  \n",
       "75%      0.000000   31.000000  \n",
       "max      6.000000  512.329200  "
      ]
     },
     "execution_count": 4,
     "metadata": {},
     "output_type": "execute_result"
    }
   ],
   "source": [
    "train_data.describe()"
   ]
  },
  {
   "cell_type": "code",
   "execution_count": 65,
   "metadata": {
    "collapsed": true
   },
   "outputs": [],
   "source": [
    "target_column = 'Survived'\n",
    "continuous_column_list = ['Age', 'SibSp', 'Fare',\n",
    "                      'Parch']\n",
    "discrete_column_list = ['Sex', 'Pclass', 'Embarked']\n",
    "text_column_list = ['Name', 'Ticket', 'Cabin']\n",
    "\n",
    "continuous_train_data = train_data.filter(continuous_column_list)\n",
    "discrete_train_data = train_data.filter(discrete_column_list)\n",
    "\n",
    "# y_train = train_data['Survived']\n",
    "# X_train = train_data.drop(useless_column_list, axis=1)\n",
    "# X_test = test_data.drop(useless_column_test_list, axis=1)"
   ]
  },
  {
   "cell_type": "code",
   "execution_count": 9,
   "metadata": {
    "collapsed": false
   },
   "outputs": [
    {
     "data": {
      "text/html": [
       "<div>\n",
       "<table border=\"1\" class=\"dataframe\">\n",
       "  <thead>\n",
       "    <tr style=\"text-align: right;\">\n",
       "      <th></th>\n",
       "      <th>Age</th>\n",
       "      <th>SibSp</th>\n",
       "      <th>Fare</th>\n",
       "      <th>Parch</th>\n",
       "    </tr>\n",
       "  </thead>\n",
       "  <tbody>\n",
       "    <tr>\n",
       "      <th>count</th>\n",
       "      <td>714.000000</td>\n",
       "      <td>891.000000</td>\n",
       "      <td>891.000000</td>\n",
       "      <td>891.000000</td>\n",
       "    </tr>\n",
       "    <tr>\n",
       "      <th>mean</th>\n",
       "      <td>29.699118</td>\n",
       "      <td>0.523008</td>\n",
       "      <td>32.204208</td>\n",
       "      <td>0.381594</td>\n",
       "    </tr>\n",
       "    <tr>\n",
       "      <th>std</th>\n",
       "      <td>14.526497</td>\n",
       "      <td>1.102743</td>\n",
       "      <td>49.693429</td>\n",
       "      <td>0.806057</td>\n",
       "    </tr>\n",
       "    <tr>\n",
       "      <th>min</th>\n",
       "      <td>0.420000</td>\n",
       "      <td>0.000000</td>\n",
       "      <td>0.000000</td>\n",
       "      <td>0.000000</td>\n",
       "    </tr>\n",
       "    <tr>\n",
       "      <th>25%</th>\n",
       "      <td>20.125000</td>\n",
       "      <td>0.000000</td>\n",
       "      <td>7.910400</td>\n",
       "      <td>0.000000</td>\n",
       "    </tr>\n",
       "    <tr>\n",
       "      <th>50%</th>\n",
       "      <td>28.000000</td>\n",
       "      <td>0.000000</td>\n",
       "      <td>14.454200</td>\n",
       "      <td>0.000000</td>\n",
       "    </tr>\n",
       "    <tr>\n",
       "      <th>75%</th>\n",
       "      <td>38.000000</td>\n",
       "      <td>1.000000</td>\n",
       "      <td>31.000000</td>\n",
       "      <td>0.000000</td>\n",
       "    </tr>\n",
       "    <tr>\n",
       "      <th>max</th>\n",
       "      <td>80.000000</td>\n",
       "      <td>8.000000</td>\n",
       "      <td>512.329200</td>\n",
       "      <td>6.000000</td>\n",
       "    </tr>\n",
       "  </tbody>\n",
       "</table>\n",
       "</div>"
      ],
      "text/plain": [
       "              Age       SibSp        Fare       Parch\n",
       "count  714.000000  891.000000  891.000000  891.000000\n",
       "mean    29.699118    0.523008   32.204208    0.381594\n",
       "std     14.526497    1.102743   49.693429    0.806057\n",
       "min      0.420000    0.000000    0.000000    0.000000\n",
       "25%     20.125000    0.000000    7.910400    0.000000\n",
       "50%     28.000000    0.000000   14.454200    0.000000\n",
       "75%     38.000000    1.000000   31.000000    0.000000\n",
       "max     80.000000    8.000000  512.329200    6.000000"
      ]
     },
     "execution_count": 9,
     "metadata": {},
     "output_type": "execute_result"
    }
   ],
   "source": [
    "continuous_train_data.describe()"
   ]
  },
  {
   "cell_type": "code",
   "execution_count": 16,
   "metadata": {
    "collapsed": false
   },
   "outputs": [
    {
     "data": {
      "text/plain": [
       "array([[<matplotlib.axes._subplots.AxesSubplot object at 0x10a9b6c90>,\n",
       "        <matplotlib.axes._subplots.AxesSubplot object at 0x10ae65790>],\n",
       "       [<matplotlib.axes._subplots.AxesSubplot object at 0x10aeeb7d0>,\n",
       "        <matplotlib.axes._subplots.AxesSubplot object at 0x10af51f90>]], dtype=object)"
      ]
     },
     "execution_count": 16,
     "metadata": {},
     "output_type": "execute_result"
    },
    {
     "data": {
      "image/png": "[encoded data removed]",
      "text/plain": [
       "<matplotlib.figure.Figure at 0x10aa43550>"
      ]
     },
     "metadata": {},
     "output_type": "display_data"
    }
   ],
   "source": [
    "continuous_train_data.hist(figsize=(8, 8))"
   ]
  },
  {
   "cell_type": "code",
   "execution_count": 45,
   "metadata": {
    "collapsed": false,
    "scrolled": false
   },
   "outputs": [
    {
     "data": {
      "image/png": "[encoded data removed]",
      "text/plain": [
       "<matplotlib.figure.Figure at 0x116104dd0>"
      ]
     },
     "metadata": {},
     "output_type": "display_data"
    },
    {
     "data": {
      "text/plain": [
       "Parch\n",
       "0    [[Axes(0.125,0.125;0.775x0.755)]]\n",
       "1    [[Axes(0.125,0.125;0.775x0.755)]]\n",
       "2    [[Axes(0.125,0.125;0.775x0.755)]]\n",
       "3    [[Axes(0.125,0.125;0.775x0.755)]]\n",
       "4    [[Axes(0.125,0.125;0.775x0.755)]]\n",
       "5    [[Axes(0.125,0.125;0.775x0.755)]]\n",
       "6    [[Axes(0.125,0.125;0.775x0.755)]]\n",
       "dtype: object"
      ]
     },
     "execution_count": 45,
     "metadata": {},
     "output_type": "execute_result"
    },
    {
     "data": {
      "image/png": "[encoded data removed]",
      "text/plain": [
       "<matplotlib.figure.Figure at 0x109f1b410>"
      ]
     },
     "metadata": {},
     "output_type": "display_data"
    },
    {
     "data": {
      "image/png": "[encoded data removed]",
      "text/plain": [
       "<matplotlib.figure.Figure at 0x10a12d950>"
      ]
     },
     "metadata": {},
     "output_type": "display_data"
    },
    {
     "data": {
      "image/png": "[encoded data removed]",
      "text/plain": [
       "<matplotlib.figure.Figure at 0x10a1cbd10>"
      ]
     },
     "metadata": {},
     "output_type": "display_data"
    },
    {
     "data": {
      "image/png": "[encoded data removed]",
      "text/plain": [
       "<matplotlib.figure.Figure at 0x10a29db90>"
      ]
     },
     "metadata": {},
     "output_type": "display_data"
    },
    {
     "data": {
      "image/png": "[encoded data removed]",
      "text/plain": [
       "<matplotlib.figure.Figure at 0x10a35c8d0>"
      ]
     },
     "metadata": {},
     "output_type": "display_data"
    },
    {
     "data": {
      "image/png": "[encoded data removed]",
      "text/plain": [
       "<matplotlib.figure.Figure at 0x10a2fa890>"
      ]
     },
     "metadata": {},
     "output_type": "display_data"
    },
    {
     "data": {
      "image/png": "[encoded data removed]",
      "text/plain": [
       "<matplotlib.figure.Figure at 0x10ab354d0>"
      ]
     },
     "metadata": {},
     "output_type": "display_data"
    }
   ],
   "source": [
    "feature = 'Parch'\n",
    "feature_data = train_data.filter([feature, 'Survived'])\n",
    "survived_data = feature_data[feature][feature_data.Survived == 1].value_counts()\n",
    "unsurvived_data = feature_data[feature][feature_data.Survived == 0].value_counts()\n",
    "df = pd.DataFrame({'Survived': survived_data, 'UnSurvivied': unsurvived_data})\n",
    "df.plot(kind='bar', stacked=True)\n",
    "plt.title('Survived_' + feature)\n",
    "plt.xlabel(feature)\n",
    "plt.ylabel(u'Number of people')\n",
    "plt.show()\n",
    "\n",
    "feature_data.groupby(feature).hist()"
   ]
  },
  {
   "cell_type": "code",
   "execution_count": 56,
   "metadata": {
    "collapsed": false,
    "scrolled": true
   },
   "outputs": [
    {
     "name": "stdout",
     "output_type": "stream",
     "text": [
      "Parch: (0.081629407083483485, 0.0147992453747224)\n",
      "SibSp: (-0.035322498885735583, 0.29224392869817906)\n",
      "PassengerId: (-0.0050066607670664854, 0.88136577687981443)\n"
     ]
    }
   ],
   "source": [
    "from scipy.stats import pearsonr\n",
    "print \"Parch:\", pearsonr(train_data[\"Parch\"], train_data['Survived'])\n",
    "print \"SibSp:\", pearsonr(train_data[\"SibSp\"], train_data['Survived'])\n",
    "print \"PassengerId:\", pearsonr(train_data[\"PassengerId\"], train_data['Survived'])"
   ]
  },
  {
   "cell_type": "code",
   "execution_count": 55,
   "metadata": {
    "collapsed": false
   },
   "outputs": [
    {
     "name": "stdout",
     "output_type": "stream",
     "text": [
      "Parch: (0.023610547633470973, 0.5)\n",
      "SibSp: (0.03346632133871006, 0.5)\n",
      "PassengerId: (0.13425000935219458, 0.5)\n"
     ]
    }
   ],
   "source": [
    "from minepy import MINE\n",
    "def mic(x, y):\n",
    "    m = MINE()\n",
    "    m.compute_score(x, y)\n",
    "    return (m.mic(), 0.5)\n",
    "\n",
    "print \"Parch:\", mic(train_data[\"Parch\"], train_data['Survived'])\n",
    "print \"SibSp:\", mic(train_data[\"SibSp\"], train_data['Survived'])\n",
    "print \"PassengerId:\", mic(train_data[\"PassengerId\"], train_data['Survived'])"
   ]
  },
  {
   "cell_type": "code",
   "execution_count": 63,
   "metadata": {
    "collapsed": false,
    "scrolled": true
   },
   "outputs": [
    {
     "name": "stdout",
     "output_type": "stream",
     "text": [
      " Parch: (array([ 10.09749911]), array([ 0.00148471]))\n",
      "SibSp: (array([ 2.58186538]), array([ 0.10809421]))\n"
     ]
    }
   ],
   "source": [
    "from sklearn.feature_selection import chi2\n",
    "print \"Parch:\", chi2(train_data.filter([\"Parch\"]), train_data['Survived'])\n",
    "print \"SibSp:\", chi2(train_data.filter([\"SibSp\"]), train_data['Survived'])"
   ]
  },
  {
   "cell_type": "markdown",
   "metadata": {},
   "source": [
    "##### 离散值分析"
   ]
  },
  {
   "cell_type": "code",
   "execution_count": 69,
   "metadata": {
    "collapsed": false,
    "scrolled": true
   },
   "outputs": [
    {
     "name": "stdout",
     "output_type": "stream",
     "text": [
      "male      577\n",
      "female    314\n",
      "Name: Sex, dtype: int64\n",
      "3    491\n",
      "1    216\n",
      "2    184\n",
      "Name: Pclass, dtype: int64\n",
      "S    644\n",
      "C    168\n",
      "Q     77\n",
      "Name: Embarked, dtype: int64\n"
     ]
    }
   ],
   "source": [
    "for column in discrete_train_data.columns:\n",
    "    print discrete_train_data[column].value_counts()"
   ]
  },
  {
   "cell_type": "code",
   "execution_count": 83,
   "metadata": {
    "collapsed": false,
    "scrolled": true
   },
   "outputs": [
    {
     "name": "stdout",
     "output_type": "stream",
     "text": [
      "Embarked (array([ 10.20252466]), array([ 0.00140249]))\n",
      "Sex: (array([ 92.70244698]), array([  6.07783826e-22]))\n",
      "Pclass: (array([ 30.87369944]), array([  2.75378563e-08]))\n"
     ]
    }
   ],
   "source": [
    "from sklearn.feature_selection import chi2\n",
    "from sklearn.preprocessing import LabelEncoder\n",
    "sex_label_data = LabelBinarizer().fit_transform(train_data['Sex'])\n",
    "embarked_label_data = LabelEncoder().fit_transform(train_data['Embarked'].fillna('S'))\n",
    "print \"Embarked\", chi2(pd.DataFrame(embarked_label_data), train_data['Survived'])\n",
    "print \"Sex:\", chi2(sex_label_data, train_data['Survived'])\n",
    "print \"Pclass:\", chi2(train_data.filter([\"Pclass\"]), train_data['Survived'])"
   ]
  },
  {
   "cell_type": "code",
   "execution_count": 86,
   "metadata": {
    "collapsed": false,
    "scrolled": true
   },
   "outputs": [
    {
     "data": {
      "image/png": "[encoded data removed]",
      "text/plain": [
       "<matplotlib.figure.Figure at 0x11a577a90>"
      ]
     },
     "metadata": {},
     "output_type": "display_data"
    },
    {
     "data": {
      "image/png": "[encoded data removed]",
      "text/plain": [
       "<matplotlib.figure.Figure at 0x11aa1f310>"
      ]
     },
     "metadata": {},
     "output_type": "display_data"
    },
    {
     "data": {
      "image/png": "[encoded data removed]",
      "text/plain": [
       "<matplotlib.figure.Figure at 0x11ab8da10>"
      ]
     },
     "metadata": {},
     "output_type": "display_data"
    }
   ],
   "source": [
    "def print_stacked_hist(feature):\n",
    "    feature_data = train_data.filter([feature, 'Survived'])\n",
    "    survived_data = feature_data[feature][feature_data.Survived == 1].value_counts()\n",
    "    unsurvived_data = feature_data[feature][feature_data.Survived == 0].value_counts()\n",
    "    df = pd.DataFrame({'Survived': survived_data, 'UnSurvivied': unsurvived_data})\n",
    "    df.plot(kind='bar', stacked=True)\n",
    "    plt.title('Survived_' + feature)\n",
    "    plt.xlabel(feature)\n",
    "    plt.ylabel(u'Number of people')\n",
    "    plt.show()\n",
    "\n",
    "print_stacked_hist('Sex')\n",
    "print_stacked_hist('Pclass')\n",
    "print_stacked_hist('Embarked')"
   ]
  },
  {
   "cell_type": "markdown",
   "metadata": {},
   "source": [
    "### **数据清洗**"
   ]
  },
  {
   "cell_type": "markdown",
   "metadata": {},
   "source": [
    "#### 缺失值\n",
    "1. 年龄缺失1/4\n",
    "2. 客舱确实3/4\n",
    "3. 登录港口缺失少量数据\n",
    "\n",
    "[处理方式：拟合、填充或者参照组忽略]"
   ]
  },
  {
   "cell_type": "code",
   "execution_count": 87,
   "metadata": {
    "collapsed": false,
    "scrolled": true
   },
   "outputs": [
    {
     "data": {
      "text/html": [
       "<div>\n",
       "<table border=\"1\" class=\"dataframe\">\n",
       "  <thead>\n",
       "    <tr style=\"text-align: right;\">\n",
       "      <th></th>\n",
       "      <th>PassengerId</th>\n",
       "      <th>Survived</th>\n",
       "      <th>Pclass</th>\n",
       "      <th>Name</th>\n",
       "      <th>Sex</th>\n",
       "      <th>Age</th>\n",
       "      <th>SibSp</th>\n",
       "      <th>Parch</th>\n",
       "      <th>Ticket</th>\n",
       "      <th>Fare</th>\n",
       "      <th>Cabin</th>\n",
       "      <th>Embarked</th>\n",
       "    </tr>\n",
       "  </thead>\n",
       "  <tbody>\n",
       "    <tr>\n",
       "      <th>0</th>\n",
       "      <td>1</td>\n",
       "      <td>0</td>\n",
       "      <td>3</td>\n",
       "      <td>Braund, Mr. Owen Harris</td>\n",
       "      <td>male</td>\n",
       "      <td>22.0</td>\n",
       "      <td>1</td>\n",
       "      <td>0</td>\n",
       "      <td>A/5 21171</td>\n",
       "      <td>7.2500</td>\n",
       "      <td>NaN</td>\n",
       "      <td>S</td>\n",
       "    </tr>\n",
       "    <tr>\n",
       "      <th>1</th>\n",
       "      <td>2</td>\n",
       "      <td>1</td>\n",
       "      <td>1</td>\n",
       "      <td>Cumings, Mrs. John Bradley (Florence Briggs Th...</td>\n",
       "      <td>female</td>\n",
       "      <td>38.0</td>\n",
       "      <td>1</td>\n",
       "      <td>0</td>\n",
       "      <td>PC 17599</td>\n",
       "      <td>71.2833</td>\n",
       "      <td>C85</td>\n",
       "      <td>C</td>\n",
       "    </tr>\n",
       "    <tr>\n",
       "      <th>2</th>\n",
       "      <td>3</td>\n",
       "      <td>1</td>\n",
       "      <td>3</td>\n",
       "      <td>Heikkinen, Miss. Laina</td>\n",
       "      <td>female</td>\n",
       "      <td>26.0</td>\n",
       "      <td>0</td>\n",
       "      <td>0</td>\n",
       "      <td>STON/O2. 3101282</td>\n",
       "      <td>7.9250</td>\n",
       "      <td>NaN</td>\n",
       "      <td>S</td>\n",
       "    </tr>\n",
       "    <tr>\n",
       "      <th>3</th>\n",
       "      <td>4</td>\n",
       "      <td>1</td>\n",
       "      <td>1</td>\n",
       "      <td>Futrelle, Mrs. Jacques Heath (Lily May Peel)</td>\n",
       "      <td>female</td>\n",
       "      <td>35.0</td>\n",
       "      <td>1</td>\n",
       "      <td>0</td>\n",
       "      <td>113803</td>\n",
       "      <td>53.1000</td>\n",
       "      <td>C123</td>\n",
       "      <td>S</td>\n",
       "    </tr>\n",
       "    <tr>\n",
       "      <th>4</th>\n",
       "      <td>5</td>\n",
       "      <td>0</td>\n",
       "      <td>3</td>\n",
       "      <td>Allen, Mr. William Henry</td>\n",
       "      <td>male</td>\n",
       "      <td>35.0</td>\n",
       "      <td>0</td>\n",
       "      <td>0</td>\n",
       "      <td>373450</td>\n",
       "      <td>8.0500</td>\n",
       "      <td>NaN</td>\n",
       "      <td>S</td>\n",
       "    </tr>\n",
       "  </tbody>\n",
       "</table>\n",
       "</div>"
      ],
      "text/plain": [
       "   PassengerId  Survived  Pclass  \\\n",
       "0            1         0       3   \n",
       "1            2         1       1   \n",
       "2            3         1       3   \n",
       "3            4         1       1   \n",
       "4            5         0       3   \n",
       "\n",
       "                                                Name     Sex   Age  SibSp  \\\n",
       "0                            Braund, Mr. Owen Harris    male  22.0      1   \n",
       "1  Cumings, Mrs. John Bradley (Florence Briggs Th...  female  38.0      1   \n",
       "2                             Heikkinen, Miss. Laina  female  26.0      0   \n",
       "3       Futrelle, Mrs. Jacques Heath (Lily May Peel)  female  35.0      1   \n",
       "4                           Allen, Mr. William Henry    male  35.0      0   \n",
       "\n",
       "   Parch            Ticket     Fare Cabin Embarked  \n",
       "0      0         A/5 21171   7.2500   NaN        S  \n",
       "1      0          PC 17599  71.2833   C85        C  \n",
       "2      0  STON/O2. 3101282   7.9250   NaN        S  \n",
       "3      0            113803  53.1000  C123        S  \n",
       "4      0            373450   8.0500   NaN        S  "
      ]
     },
     "execution_count": 87,
     "metadata": {},
     "output_type": "execute_result"
    }
   ],
   "source": [
    "train_data.head()"
   ]
  },
  {
   "cell_type": "markdown",
   "metadata": {},
   "source": [
    "1. Age: 年龄缺失1/4，由于特征和年龄大多没有关系，采取Step(5年)离散化+**填充**NaN新类型的方法。\n",
    "2. 客舱: 缺失3/4，因为船舱可能和身份有关，所以直接使用**0/1化**。\n",
    "3. 登录港口：登录港口缺失少量数据，直接**填充**为最常见类型。"
   ]
  },
  {
   "cell_type": "markdown",
   "metadata": {},
   "source": [
    "##### 填充字段信息"
   ]
  },
  {
   "cell_type": "code",
   "execution_count": 206,
   "metadata": {
    "collapsed": true
   },
   "outputs": [],
   "source": [
    "filled_data = train_data.copy()\n",
    "# transform Age\n",
    "filled_data.loc[np.isnan(train_data['Age']), 'Age'] = 0\n",
    "def transform_category(data, start, step, category):\n",
    "    \"\"\"\n",
    "    data是一个array数据\n",
    "    \"\"\"\n",
    "    result = ((data - start) / step).astype(int) + category\n",
    "    return result\n",
    "\n",
    "step = 5\n",
    "filled_data['Age'] = transform_category(filled_data['Age'], 0, step, 0)\n",
    "\n",
    "filled_data.loc[filled_data['Cabin'].notnull(), 'Cabin'] = 1\n",
    "filled_data.loc[filled_data['Cabin'].isnull(), 'Cabin'] = 0\n",
    "\n",
    "def get_most_common_category(series):\n",
    "    return series.value_counts().axes[0][0]\n",
    "\n",
    "most_common = get_most_common_category(filled_data['Embarked'])\n",
    "filled_data.loc[filled_data['Embarked'].isnull(), 'Embarked'] = most_common"
   ]
  },
  {
   "cell_type": "code",
   "execution_count": 207,
   "metadata": {
    "collapsed": false
   },
   "outputs": [
    {
     "name": "stdout",
     "output_type": "stream",
     "text": [
      "<class 'pandas.core.frame.DataFrame'>\n",
      "RangeIndex: 891 entries, 0 to 890\n",
      "Data columns (total 12 columns):\n",
      "PassengerId    891 non-null int64\n",
      "Survived       891 non-null int64\n",
      "Pclass         891 non-null int64\n",
      "Name           891 non-null object\n",
      "Sex            891 non-null object\n",
      "Age            891 non-null int64\n",
      "SibSp          891 non-null int64\n",
      "Parch          891 non-null int64\n",
      "Ticket         891 non-null object\n",
      "Fare           891 non-null float64\n",
      "Cabin          891 non-null object\n",
      "Embarked       891 non-null object\n",
      "dtypes: float64(1), int64(6), object(5)\n",
      "memory usage: 83.6+ KB\n"
     ]
    }
   ],
   "source": [
    "filled_data.info()"
   ]
  },
  {
   "cell_type": "markdown",
   "metadata": {},
   "source": [
    "#### Dummy Coding\n",
    "Sex\\new_Cabin和Embarked进行dummy coding"
   ]
  },
  {
   "cell_type": "code",
   "execution_count": 210,
   "metadata": {
    "collapsed": false
   },
   "outputs": [
    {
     "data": {
      "text/html": [
       "<div>\n",
       "<table border=\"1\" class=\"dataframe\">\n",
       "  <thead>\n",
       "    <tr style=\"text-align: right;\">\n",
       "      <th></th>\n",
       "      <th>PassengerId</th>\n",
       "      <th>Survived</th>\n",
       "      <th>Pclass</th>\n",
       "      <th>Name</th>\n",
       "      <th>Age</th>\n",
       "      <th>SibSp</th>\n",
       "      <th>Parch</th>\n",
       "      <th>Ticket</th>\n",
       "      <th>Fare</th>\n",
       "      <th>Cabin_0</th>\n",
       "      <th>Cabin_1</th>\n",
       "      <th>Sex_female</th>\n",
       "      <th>Sex_male</th>\n",
       "      <th>Embarked_C</th>\n",
       "      <th>Embarked_Q</th>\n",
       "      <th>Embarked_S</th>\n",
       "    </tr>\n",
       "  </thead>\n",
       "  <tbody>\n",
       "    <tr>\n",
       "      <th>0</th>\n",
       "      <td>1</td>\n",
       "      <td>0</td>\n",
       "      <td>3</td>\n",
       "      <td>Braund, Mr. Owen Harris</td>\n",
       "      <td>4</td>\n",
       "      <td>1</td>\n",
       "      <td>0</td>\n",
       "      <td>A/5 21171</td>\n",
       "      <td>7.2500</td>\n",
       "      <td>1</td>\n",
       "      <td>0</td>\n",
       "      <td>0</td>\n",
       "      <td>1</td>\n",
       "      <td>0</td>\n",
       "      <td>0</td>\n",
       "      <td>1</td>\n",
       "    </tr>\n",
       "    <tr>\n",
       "      <th>1</th>\n",
       "      <td>2</td>\n",
       "      <td>1</td>\n",
       "      <td>1</td>\n",
       "      <td>Cumings, Mrs. John Bradley (Florence Briggs Th...</td>\n",
       "      <td>7</td>\n",
       "      <td>1</td>\n",
       "      <td>0</td>\n",
       "      <td>PC 17599</td>\n",
       "      <td>71.2833</td>\n",
       "      <td>0</td>\n",
       "      <td>1</td>\n",
       "      <td>1</td>\n",
       "      <td>0</td>\n",
       "      <td>1</td>\n",
       "      <td>0</td>\n",
       "      <td>0</td>\n",
       "    </tr>\n",
       "    <tr>\n",
       "      <th>2</th>\n",
       "      <td>3</td>\n",
       "      <td>1</td>\n",
       "      <td>3</td>\n",
       "      <td>Heikkinen, Miss. Laina</td>\n",
       "      <td>5</td>\n",
       "      <td>0</td>\n",
       "      <td>0</td>\n",
       "      <td>STON/O2. 3101282</td>\n",
       "      <td>7.9250</td>\n",
       "      <td>1</td>\n",
       "      <td>0</td>\n",
       "      <td>1</td>\n",
       "      <td>0</td>\n",
       "      <td>0</td>\n",
       "      <td>0</td>\n",
       "      <td>1</td>\n",
       "    </tr>\n",
       "    <tr>\n",
       "      <th>3</th>\n",
       "      <td>4</td>\n",
       "      <td>1</td>\n",
       "      <td>1</td>\n",
       "      <td>Futrelle, Mrs. Jacques Heath (Lily May Peel)</td>\n",
       "      <td>7</td>\n",
       "      <td>1</td>\n",
       "      <td>0</td>\n",
       "      <td>113803</td>\n",
       "      <td>53.1000</td>\n",
       "      <td>0</td>\n",
       "      <td>1</td>\n",
       "      <td>1</td>\n",
       "      <td>0</td>\n",
       "      <td>0</td>\n",
       "      <td>0</td>\n",
       "      <td>1</td>\n",
       "    </tr>\n",
       "    <tr>\n",
       "      <th>4</th>\n",
       "      <td>5</td>\n",
       "      <td>0</td>\n",
       "      <td>3</td>\n",
       "      <td>Allen, Mr. William Henry</td>\n",
       "      <td>7</td>\n",
       "      <td>0</td>\n",
       "      <td>0</td>\n",
       "      <td>373450</td>\n",
       "      <td>8.0500</td>\n",
       "      <td>1</td>\n",
       "      <td>0</td>\n",
       "      <td>0</td>\n",
       "      <td>1</td>\n",
       "      <td>0</td>\n",
       "      <td>0</td>\n",
       "      <td>1</td>\n",
       "    </tr>\n",
       "  </tbody>\n",
       "</table>\n",
       "</div>"
      ],
      "text/plain": [
       "   PassengerId  Survived  Pclass  \\\n",
       "0            1         0       3   \n",
       "1            2         1       1   \n",
       "2            3         1       3   \n",
       "3            4         1       1   \n",
       "4            5         0       3   \n",
       "\n",
       "                                                Name  Age  SibSp  Parch  \\\n",
       "0                            Braund, Mr. Owen Harris    4      1      0   \n",
       "1  Cumings, Mrs. John Bradley (Florence Briggs Th...    7      1      0   \n",
       "2                             Heikkinen, Miss. Laina    5      0      0   \n",
       "3       Futrelle, Mrs. Jacques Heath (Lily May Peel)    7      1      0   \n",
       "4                           Allen, Mr. William Henry    7      0      0   \n",
       "\n",
       "             Ticket     Fare  Cabin_0  Cabin_1  Sex_female  Sex_male  \\\n",
       "0         A/5 21171   7.2500        1        0           0         1   \n",
       "1          PC 17599  71.2833        0        1           1         0   \n",
       "2  STON/O2. 3101282   7.9250        1        0           1         0   \n",
       "3            113803  53.1000        0        1           1         0   \n",
       "4            373450   8.0500        1        0           0         1   \n",
       "\n",
       "   Embarked_C  Embarked_Q  Embarked_S  \n",
       "0           0           0           1  \n",
       "1           1           0           0  \n",
       "2           0           0           1  \n",
       "3           0           0           1  \n",
       "4           0           0           1  "
      ]
     },
     "execution_count": 210,
     "metadata": {},
     "output_type": "execute_result"
    }
   ],
   "source": [
    "dummy_cabin = pd.get_dummies(new_data[\"Cabin\"], prefix=\"Cabin\")\n",
    "dummy_sex = pd.get_dummies(new_data['Sex'], prefix='Sex')\n",
    "dummy_embarked = pd.get_dummies(new_data['Embarked'], prefix='Embarked')\n",
    "\n",
    "dummied_data = pd.concat([new_data, dummy_cabin, dummy_sex, dummy_embarked], axis=1)\n",
    "dummied_data.drop(['Cabin', 'Sex', 'Embarked'], axis=1, inplace=True)\n",
    "dummied_data.head()"
   ]
  },
  {
   "cell_type": "markdown",
   "metadata": {},
   "source": [
    "##### Feature Scaling\n",
    "将fare数据归一化"
   ]
  },
  {
   "cell_type": "code",
   "execution_count": 212,
   "metadata": {
    "collapsed": false
   },
   "outputs": [],
   "source": [
    "from sklearn.preprocessing import StandardScaler\n",
    "dummied_data['Fare'] = StandardScaler().fit_transform(dummied_data.filter(['Fare']))"
   ]
  },
  {
   "cell_type": "code",
   "execution_count": 214,
   "metadata": {
    "collapsed": false
   },
   "outputs": [
    {
     "data": {
      "text/plain": [
       "count    8.910000e+02\n",
       "mean     3.987333e-18\n",
       "std      1.000562e+00\n",
       "min     -6.484217e-01\n",
       "25%     -4.891482e-01\n",
       "50%     -3.573909e-01\n",
       "75%     -2.424635e-02\n",
       "max      9.667167e+00\n",
       "Name: Fare, dtype: float64"
      ]
     },
     "execution_count": 214,
     "metadata": {},
     "output_type": "execute_result"
    }
   ],
   "source": [
    "dummied_data['Fare'].describe()"
   ]
  },
  {
   "cell_type": "markdown",
   "metadata": {},
   "source": [
    "#### 暂时去除无用字段"
   ]
  },
  {
   "cell_type": "code",
   "execution_count": 215,
   "metadata": {
    "collapsed": true
   },
   "outputs": [],
   "source": [
    "unsed_column = ['PassengerId', 'Name', 'Ticket']\n",
    "train_prepared_data = dummied_data.drop(unsed_column, axis=1)"
   ]
  },
  {
   "cell_type": "code",
   "execution_count": 216,
   "metadata": {
    "collapsed": false
   },
   "outputs": [
    {
     "data": {
      "text/html": [
       "<div>\n",
       "<table border=\"1\" class=\"dataframe\">\n",
       "  <thead>\n",
       "    <tr style=\"text-align: right;\">\n",
       "      <th></th>\n",
       "      <th>Survived</th>\n",
       "      <th>Pclass</th>\n",
       "      <th>Age</th>\n",
       "      <th>SibSp</th>\n",
       "      <th>Parch</th>\n",
       "      <th>Fare</th>\n",
       "      <th>Cabin_0</th>\n",
       "      <th>Cabin_1</th>\n",
       "      <th>Sex_female</th>\n",
       "      <th>Sex_male</th>\n",
       "      <th>Embarked_C</th>\n",
       "      <th>Embarked_Q</th>\n",
       "      <th>Embarked_S</th>\n",
       "    </tr>\n",
       "  </thead>\n",
       "  <tbody>\n",
       "    <tr>\n",
       "      <th>0</th>\n",
       "      <td>0</td>\n",
       "      <td>3</td>\n",
       "      <td>4</td>\n",
       "      <td>1</td>\n",
       "      <td>0</td>\n",
       "      <td>-0.502445</td>\n",
       "      <td>1</td>\n",
       "      <td>0</td>\n",
       "      <td>0</td>\n",
       "      <td>1</td>\n",
       "      <td>0</td>\n",
       "      <td>0</td>\n",
       "      <td>1</td>\n",
       "    </tr>\n",
       "    <tr>\n",
       "      <th>1</th>\n",
       "      <td>1</td>\n",
       "      <td>1</td>\n",
       "      <td>7</td>\n",
       "      <td>1</td>\n",
       "      <td>0</td>\n",
       "      <td>0.786845</td>\n",
       "      <td>0</td>\n",
       "      <td>1</td>\n",
       "      <td>1</td>\n",
       "      <td>0</td>\n",
       "      <td>1</td>\n",
       "      <td>0</td>\n",
       "      <td>0</td>\n",
       "    </tr>\n",
       "    <tr>\n",
       "      <th>2</th>\n",
       "      <td>1</td>\n",
       "      <td>3</td>\n",
       "      <td>5</td>\n",
       "      <td>0</td>\n",
       "      <td>0</td>\n",
       "      <td>-0.488854</td>\n",
       "      <td>1</td>\n",
       "      <td>0</td>\n",
       "      <td>1</td>\n",
       "      <td>0</td>\n",
       "      <td>0</td>\n",
       "      <td>0</td>\n",
       "      <td>1</td>\n",
       "    </tr>\n",
       "    <tr>\n",
       "      <th>3</th>\n",
       "      <td>1</td>\n",
       "      <td>1</td>\n",
       "      <td>7</td>\n",
       "      <td>1</td>\n",
       "      <td>0</td>\n",
       "      <td>0.420730</td>\n",
       "      <td>0</td>\n",
       "      <td>1</td>\n",
       "      <td>1</td>\n",
       "      <td>0</td>\n",
       "      <td>0</td>\n",
       "      <td>0</td>\n",
       "      <td>1</td>\n",
       "    </tr>\n",
       "    <tr>\n",
       "      <th>4</th>\n",
       "      <td>0</td>\n",
       "      <td>3</td>\n",
       "      <td>7</td>\n",
       "      <td>0</td>\n",
       "      <td>0</td>\n",
       "      <td>-0.486337</td>\n",
       "      <td>1</td>\n",
       "      <td>0</td>\n",
       "      <td>0</td>\n",
       "      <td>1</td>\n",
       "      <td>0</td>\n",
       "      <td>0</td>\n",
       "      <td>1</td>\n",
       "    </tr>\n",
       "  </tbody>\n",
       "</table>\n",
       "</div>"
      ],
      "text/plain": [
       "   Survived  Pclass  Age  SibSp  Parch      Fare  Cabin_0  Cabin_1  \\\n",
       "0         0       3    4      1      0 -0.502445        1        0   \n",
       "1         1       1    7      1      0  0.786845        0        1   \n",
       "2         1       3    5      0      0 -0.488854        1        0   \n",
       "3         1       1    7      1      0  0.420730        0        1   \n",
       "4         0       3    7      0      0 -0.486337        1        0   \n",
       "\n",
       "   Sex_female  Sex_male  Embarked_C  Embarked_Q  Embarked_S  \n",
       "0           0         1           0           0           1  \n",
       "1           1         0           1           0           0  \n",
       "2           1         0           0           0           1  \n",
       "3           1         0           0           0           1  \n",
       "4           0         1           0           0           1  "
      ]
     },
     "execution_count": 216,
     "metadata": {},
     "output_type": "execute_result"
    }
   ],
   "source": [
    "train_prepared_data.head()"
   ]
  },
  {
   "cell_type": "markdown",
   "metadata": {},
   "source": [
    "1. Build a Base System"
   ]
  },
  {
   "cell_type": "markdown",
   "metadata": {},
   "source": [
    "#### Prepared Data\n",
    "Filling in missing value"
   ]
  },
  {
   "cell_type": "code",
   "execution_count": 165,
   "metadata": {
    "collapsed": false,
    "scrolled": false
   },
   "outputs": [
    {
     "data": {
      "text/plain": [
       "(418, 11)"
      ]
     },
     "execution_count": 165,
     "metadata": {},
     "output_type": "execute_result"
    }
   ],
   "source": [
    "from sklearn.pipeline import FeatureUnion\n",
    "from sklearn.pipeline import Pipeline\n",
    "from sklearn.preprocessing import StandardScaler\n",
    "from sklearn.preprocessing import LabelBinarizer\n",
    "from sklearn.preprocessing import OneHotEncoder\n",
    "from sklearn.preprocessing import Imputer\n",
    "\n",
    "numeric_attributes = ['Age', 'SibSp', 'Parch', 'Fare']\n",
    "scatter_attributes = ['Sex', ]\n",
    "one_hot_attributes = ['Pclass']\n",
    "other_attributes = ['Embarked']\n",
    "\n",
    "numeric_pipline = Pipeline([\n",
    "    ('selector', DataFrameSelector(numeric_attributes)),\n",
    "    ('imputer', Imputer(strategy='median')),\n",
    "    ('scaler', StandardScaler()),\n",
    "])\n",
    "scatter_pipline = Pipeline([\n",
    "    ('selector', DataFrameSelector(scatter_attributes)),\n",
    "    ('imputer', CategoricalImputer()),\n",
    "    ('label_binarizer', LabelBinarizer()),    \n",
    "])\n",
    "one_hot_pipeline = Pipeline([\n",
    "    ('selector', DataFrameSelector(one_hot_attributes)),\n",
    "    ('one_hot', OneHotEncoder())\n",
    "])\n",
    "other_pipeline = Pipeline([\n",
    "    ('selector', DataFrameSelector(other_attributes)),\n",
    "    ('imputer', CategoricalImputer()),\n",
    "    ('label_binarizer', LabelBinarizer())\n",
    "])\n",
    "full_pipeline = FeatureUnion(transformer_list = [\n",
    "    ('numeric_pipeline', numeric_pipline),\n",
    "    ('scatter_pipeline', scatter_pipline),\n",
    "    ('one_hot_pipeline', one_hot_pipeline),\n",
    "    ('other_pipeline', other_pipeline)\n",
    "])\n",
    "\n",
    "X_train_prepared = full_pipeline.fit_transform(X_train)\n",
    "X_test_prepared = full_pipeline.fit_transform(X_test)\n",
    "X_test_prepared.shape"
   ]
  },
  {
   "cell_type": "code",
   "execution_count": 21,
   "metadata": {
    "collapsed": true
   },
   "outputs": [],
   "source": [
    "def print_result(passage_list, result):\n",
    "    for i, key in passage_list.iteritems():\n",
    "        print \"{0},{1}\".format(key, result[i])"
   ]
  },
  {
   "cell_type": "markdown",
   "metadata": {},
   "source": [
    "#### Build A baseline Model\n",
    "GDBT and RandomForest\n",
    "\n",
    "RandomFrest: 0.71770\n",
    "\n",
    "GBDT: 0.75120"
   ]
  },
  {
   "cell_type": "code",
   "execution_count": 147,
   "metadata": {
    "collapsed": false
   },
   "outputs": [],
   "source": [
    "from sklearn.model_selection import cross_val_score\n",
    "from sklearn.ensemble import RandomForestClassifier\n",
    "for_clf = RandomForestClassifier()\n",
    "for_clf.fit(X_train_prepared, y_train)\n",
    "result = for_clf.predict(X_test_prepared)\n",
    "\n",
    "passage_list = test_data['PassengerId']"
   ]
  },
  {
   "cell_type": "code",
   "execution_count": 148,
   "metadata": {
    "collapsed": false
   },
   "outputs": [],
   "source": [
    "from sklearn.model_selection import cross_val_score\n",
    "from sklearn.ensemble import GradientBoostingClassifier\n",
    "gb_clf = GradientBoostingClassifier()\n",
    "gb_clf.fit(X_train_prepared, y_train)\n",
    "result = gb_clf.predict(X_test_prepared.toarray())\n",
    "\n",
    "passage_list = test_data['PassengerId']\n",
    "# print_result(passage_list, result)"
   ]
  },
  {
   "cell_type": "markdown",
   "metadata": {},
   "source": [
    "#### Analysis Baseline Model"
   ]
  },
  {
   "cell_type": "code",
   "execution_count": 33,
   "metadata": {
    "collapsed": true
   },
   "outputs": [],
   "source": [
    "av_hack = pd.read_csv(\"../data/av/Test_bCtAN1w.csv\")"
   ]
  },
  {
   "cell_type": "code",
   "execution_count": 34,
   "metadata": {
    "collapsed": false,
    "scrolled": false
   },
   "outputs": [
    {
     "data": {
      "text/html": [
       "<div>\n",
       "<table border=\"1\" class=\"dataframe\">\n",
       "  <thead>\n",
       "    <tr style=\"text-align: right;\">\n",
       "      <th></th>\n",
       "      <th>ID</th>\n",
       "      <th>Gender</th>\n",
       "      <th>City</th>\n",
       "      <th>Monthly_Income</th>\n",
       "      <th>DOB</th>\n",
       "      <th>Lead_Creation_Date</th>\n",
       "      <th>Loan_Amount_Applied</th>\n",
       "      <th>Loan_Tenure_Applied</th>\n",
       "      <th>Existing_EMI</th>\n",
       "      <th>Employer_Name</th>\n",
       "      <th>...</th>\n",
       "      <th>Loan_Amount_Submitted</th>\n",
       "      <th>Loan_Tenure_Submitted</th>\n",
       "      <th>Interest_Rate</th>\n",
       "      <th>Processing_Fee</th>\n",
       "      <th>EMI_Loan_Submitted</th>\n",
       "      <th>Filled_Form</th>\n",
       "      <th>Device_Type</th>\n",
       "      <th>Var2</th>\n",
       "      <th>Source</th>\n",
       "      <th>Var4</th>\n",
       "    </tr>\n",
       "  </thead>\n",
       "  <tbody>\n",
       "    <tr>\n",
       "      <th>0</th>\n",
       "      <td>ID000026A10</td>\n",
       "      <td>Male</td>\n",
       "      <td>Dehradun</td>\n",
       "      <td>21500</td>\n",
       "      <td>03-Apr-87</td>\n",
       "      <td>05-May-15</td>\n",
       "      <td>100000.0</td>\n",
       "      <td>3.0</td>\n",
       "      <td>0.0</td>\n",
       "      <td>APTARA INC</td>\n",
       "      <td>...</td>\n",
       "      <td>100000.0</td>\n",
       "      <td>3.0</td>\n",
       "      <td>20.0</td>\n",
       "      <td>1000.0</td>\n",
       "      <td>2649.39</td>\n",
       "      <td>N</td>\n",
       "      <td>Web-browser</td>\n",
       "      <td>B</td>\n",
       "      <td>S122</td>\n",
       "      <td>3</td>\n",
       "    </tr>\n",
       "    <tr>\n",
       "      <th>1</th>\n",
       "      <td>ID000054C40</td>\n",
       "      <td>Male</td>\n",
       "      <td>Mumbai</td>\n",
       "      <td>42000</td>\n",
       "      <td>12-May-80</td>\n",
       "      <td>01-May-15</td>\n",
       "      <td>0.0</td>\n",
       "      <td>0.0</td>\n",
       "      <td>0.0</td>\n",
       "      <td>ATUL LTD</td>\n",
       "      <td>...</td>\n",
       "      <td>690000.0</td>\n",
       "      <td>5.0</td>\n",
       "      <td>24.0</td>\n",
       "      <td>13800.0</td>\n",
       "      <td>19849.90</td>\n",
       "      <td>Y</td>\n",
       "      <td>Mobile</td>\n",
       "      <td>C</td>\n",
       "      <td>S133</td>\n",
       "      <td>5</td>\n",
       "    </tr>\n",
       "    <tr>\n",
       "      <th>2</th>\n",
       "      <td>ID000066O10</td>\n",
       "      <td>Female</td>\n",
       "      <td>Jaipur</td>\n",
       "      <td>10000</td>\n",
       "      <td>19-Sep-89</td>\n",
       "      <td>01-May-15</td>\n",
       "      <td>300000.0</td>\n",
       "      <td>2.0</td>\n",
       "      <td>0.0</td>\n",
       "      <td>SHAREKHAN PVT LTD</td>\n",
       "      <td>...</td>\n",
       "      <td>NaN</td>\n",
       "      <td>NaN</td>\n",
       "      <td>NaN</td>\n",
       "      <td>NaN</td>\n",
       "      <td>NaN</td>\n",
       "      <td>N</td>\n",
       "      <td>Web-browser</td>\n",
       "      <td>B</td>\n",
       "      <td>S133</td>\n",
       "      <td>1</td>\n",
       "    </tr>\n",
       "    <tr>\n",
       "      <th>3</th>\n",
       "      <td>ID000110G00</td>\n",
       "      <td>Female</td>\n",
       "      <td>Chennai</td>\n",
       "      <td>14650</td>\n",
       "      <td>15-Aug-91</td>\n",
       "      <td>01-May-15</td>\n",
       "      <td>0.0</td>\n",
       "      <td>0.0</td>\n",
       "      <td>0.0</td>\n",
       "      <td>MAERSK GLOBAL SERVICE CENTRES</td>\n",
       "      <td>...</td>\n",
       "      <td>NaN</td>\n",
       "      <td>NaN</td>\n",
       "      <td>NaN</td>\n",
       "      <td>NaN</td>\n",
       "      <td>NaN</td>\n",
       "      <td>N</td>\n",
       "      <td>Mobile</td>\n",
       "      <td>C</td>\n",
       "      <td>S133</td>\n",
       "      <td>1</td>\n",
       "    </tr>\n",
       "    <tr>\n",
       "      <th>4</th>\n",
       "      <td>ID000113J30</td>\n",
       "      <td>Male</td>\n",
       "      <td>Chennai</td>\n",
       "      <td>23400</td>\n",
       "      <td>22-Jul-87</td>\n",
       "      <td>01-May-15</td>\n",
       "      <td>100000.0</td>\n",
       "      <td>1.0</td>\n",
       "      <td>5000.0</td>\n",
       "      <td>SCHAWK</td>\n",
       "      <td>...</td>\n",
       "      <td>100000.0</td>\n",
       "      <td>2.0</td>\n",
       "      <td>NaN</td>\n",
       "      <td>NaN</td>\n",
       "      <td>NaN</td>\n",
       "      <td>N</td>\n",
       "      <td>Web-browser</td>\n",
       "      <td>B</td>\n",
       "      <td>S143</td>\n",
       "      <td>1</td>\n",
       "    </tr>\n",
       "  </tbody>\n",
       "</table>\n",
       "<p>5 rows × 24 columns</p>\n",
       "</div>"
      ],
      "text/plain": [
       "            ID  Gender      City  Monthly_Income        DOB  \\\n",
       "0  ID000026A10    Male  Dehradun           21500  03-Apr-87   \n",
       "1  ID000054C40    Male    Mumbai           42000  12-May-80   \n",
       "2  ID000066O10  Female    Jaipur           10000  19-Sep-89   \n",
       "3  ID000110G00  Female   Chennai           14650  15-Aug-91   \n",
       "4  ID000113J30    Male   Chennai           23400  22-Jul-87   \n",
       "\n",
       "  Lead_Creation_Date  Loan_Amount_Applied  Loan_Tenure_Applied  Existing_EMI  \\\n",
       "0          05-May-15             100000.0                  3.0           0.0   \n",
       "1          01-May-15                  0.0                  0.0           0.0   \n",
       "2          01-May-15             300000.0                  2.0           0.0   \n",
       "3          01-May-15                  0.0                  0.0           0.0   \n",
       "4          01-May-15             100000.0                  1.0        5000.0   \n",
       "\n",
       "                   Employer_Name ...  Loan_Amount_Submitted  \\\n",
       "0                     APTARA INC ...               100000.0   \n",
       "1                       ATUL LTD ...               690000.0   \n",
       "2              SHAREKHAN PVT LTD ...                    NaN   \n",
       "3  MAERSK GLOBAL SERVICE CENTRES ...                    NaN   \n",
       "4                         SCHAWK ...               100000.0   \n",
       "\n",
       "  Loan_Tenure_Submitted  Interest_Rate Processing_Fee  EMI_Loan_Submitted  \\\n",
       "0                   3.0           20.0         1000.0             2649.39   \n",
       "1                   5.0           24.0        13800.0            19849.90   \n",
       "2                   NaN            NaN            NaN                 NaN   \n",
       "3                   NaN            NaN            NaN                 NaN   \n",
       "4                   2.0            NaN            NaN                 NaN   \n",
       "\n",
       "   Filled_Form  Device_Type  Var2  Source Var4  \n",
       "0            N  Web-browser     B    S122    3  \n",
       "1            Y       Mobile     C    S133    5  \n",
       "2            N  Web-browser     B    S133    1  \n",
       "3            N       Mobile     C    S133    1  \n",
       "4            N  Web-browser     B    S143    1  \n",
       "\n",
       "[5 rows x 24 columns]"
      ]
     },
     "execution_count": 34,
     "metadata": {},
     "output_type": "execute_result"
    }
   ],
   "source": [
    "av_hack.head()"
   ]
  },
  {
   "cell_type": "markdown",
   "metadata": {},
   "source": [
    "#### Tune parameters\n",
    "1. GridSearchCV\n",
    "2. Randomized Search"
   ]
  },
  {
   "cell_type": "code",
   "execution_count": 149,
   "metadata": {
    "collapsed": false,
    "scrolled": false
   },
   "outputs": [
    {
     "name": "stdout",
     "output_type": "stream",
     "text": [
      "\n",
      "Model Report\n",
      "Accuracy : 0.8945\n",
      "AUC Score (Train): 0.953760\n",
      "CV Score : Mean - 0.8755126 | Std - 0.03125096 | Min - 0.8268775 | Max - 0.9109552\n"
     ]
    },
    {
     "data": {
      "image/png": "[encoded data removed]",
      "text/plain": [
       "<matplotlib.figure.Figure at 0x11467d550>"
      ]
     },
     "metadata": {},
     "output_type": "display_data"
    }
   ],
   "source": [
    "param_test = {'min_samples_split':range(2, 20, 2), 'min_samples_leaf':range(1,10,1), 'learning_rate': (0.05, 0.2, 0.05)}\n",
    "gv_search = GridSearchCV(estimator = GradientBoostingClassifier(n_estimators=60,max_depth=9,max_features='sqrt', subsample=0.8, random_state=10,), \n",
    "param_grid = param_test, scoring='roc_auc',n_jobs=4,iid=False, cv=5)\n",
    "gv_search.fit(X_train_prepared.toarray(), y_train)\n",
    "gv_search.grid_scores_, gv_search.best_params_, gv_search.best_score_\n",
    "modelfit(gv_search.best_estimator_, X_train_prepared, y_train)"
   ]
  },
  {
   "cell_type": "code",
   "execution_count": 75,
   "metadata": {
    "collapsed": false
   },
   "outputs": [],
   "source": [
    "from sklearn import cross_validation, metrics   #Additional scklearn functions\n",
    "from sklearn.grid_search import GridSearchCV   #Perforing grid search\n",
    "def modelfit(alg, X, Y, performCV=True, printFeatureImportance=True, cv_folds=5):\n",
    "    #Fit the algorithm on the data\n",
    "    alg.fit(X, Y)\n",
    "        \n",
    "    #Predict training set:\n",
    "    dtrain_predictions = alg.predict(X.toarray())\n",
    "    dtrain_predprob = alg.predict_proba(X.toarray())[:,1]\n",
    "    \n",
    "    #Perform cross-validation:\n",
    "    if performCV:\n",
    "        cv_score = cross_validation.cross_val_score(alg, X.toarray(), Y, cv=cv_folds, scoring='roc_auc')\n",
    "    \n",
    "    #Print model report:\n",
    "    print(\"\\nModel Report\")\n",
    "    print(\"Accuracy : %.4g\" % metrics.accuracy_score(Y.values, dtrain_predictions))\n",
    "    print(\"AUC Score (Train): %f\" % metrics.roc_auc_score(Y, dtrain_predprob))\n",
    "    \n",
    "    if performCV:\n",
    "        print(\"CV Score : Mean - %.7g | Std - %.7g | Min - %.7g | Max - %.7g\" % (np.mean(cv_score),np.std(cv_score),np.min(cv_score),np.max(cv_score)))\n",
    "        \n",
    "    #Print Feature Importance:\n",
    "    if printFeatureImportance:\n",
    "        feat_imp = pd.Series(alg.feature_importances_).sort_values(ascending=False)\n",
    "        feat_imp.plot(kind='bar', title='Feature Importances')\n",
    "        plt.ylabel('Feature Importance Score')"
   ]
  },
  {
   "cell_type": "code",
   "execution_count": 103,
   "metadata": {
    "collapsed": false
   },
   "outputs": [
    {
     "name": "stderr",
     "output_type": "stream",
     "text": [
      "/usr/local/lib/python2.7/site-packages/sklearn/model_selection/_search.py:667: DeprecationWarning: The grid_scores_ attribute was deprecated in version 0.18 in favor of the more elaborate cv_results_ attribute. The grid_scores_ attribute will not be available from 0.20\n",
      "  DeprecationWarning)\n"
     ]
    },
    {
     "data": {
      "text/plain": [
       "([mean: 0.87127, std: 0.02605, params: {u'learning_rate': 0.15, u'min_samples_leaf': 31, u'subsample': 0.85, u'min_samples_split': 23, u'max_features': 6, u'max_depth': 15},\n",
       "  mean: 0.86897, std: 0.02567, params: {u'learning_rate': 0.15, u'min_samples_leaf': 21, u'subsample': 0.8, u'min_samples_split': 48, u'max_features': 9, u'max_depth': 9},\n",
       "  mean: 0.86747, std: 0.02839, params: {u'learning_rate': 0.15, u'min_samples_leaf': 28, u'subsample': 0.7, u'min_samples_split': 28, u'max_features': 9, u'max_depth': 7},\n",
       "  mean: 0.86346, std: 0.02980, params: {u'learning_rate': 0.15, u'min_samples_leaf': 12, u'subsample': 0.8, u'min_samples_split': 15, u'max_features': 5, u'max_depth': 16},\n",
       "  mean: 0.86473, std: 0.02877, params: {u'learning_rate': 0.2, u'min_samples_leaf': 38, u'subsample': 0.8, u'min_samples_split': 23, u'max_features': 2, u'max_depth': 15},\n",
       "  mean: 0.84838, std: 0.02270, params: {u'learning_rate': 0.05, u'min_samples_leaf': 37, u'subsample': 0.7, u'min_samples_split': 14, u'max_features': 7, u'max_depth': 2},\n",
       "  mean: 0.86139, std: 0.02425, params: {u'learning_rate': 0.1, u'min_samples_leaf': 40, u'subsample': 0.75, u'min_samples_split': 33, u'max_features': 8, u'max_depth': 18},\n",
       "  mean: 0.86449, std: 0.02778, params: {u'learning_rate': 0.15, u'min_samples_leaf': 28, u'subsample': 0.7, u'min_samples_split': 14, u'max_features': 8, u'max_depth': 3},\n",
       "  mean: 0.87006, std: 0.02953, params: {u'learning_rate': 0.1, u'min_samples_leaf': 16, u'subsample': 0.85, u'min_samples_split': 23, u'max_features': 5, u'max_depth': 10},\n",
       "  mean: 0.86957, std: 0.02691, params: {u'learning_rate': 0.1, u'min_samples_leaf': 28, u'subsample': 0.85, u'min_samples_split': 10, u'max_features': 2, u'max_depth': 12},\n",
       "  mean: 0.85612, std: 0.02130, params: {u'learning_rate': 0.05, u'min_samples_leaf': 43, u'subsample': 0.85, u'min_samples_split': 15, u'max_features': 5, u'max_depth': 14},\n",
       "  mean: 0.86387, std: 0.03338, params: {u'learning_rate': 0.05, u'min_samples_leaf': 6, u'subsample': 0.8, u'min_samples_split': 11, u'max_features': 6, u'max_depth': 12},\n",
       "  mean: 0.86790, std: 0.02390, params: {u'learning_rate': 0.2, u'min_samples_leaf': 39, u'subsample': 0.75, u'min_samples_split': 19, u'max_features': 9, u'max_depth': 10},\n",
       "  mean: 0.86700, std: 0.02871, params: {u'learning_rate': 0.1, u'min_samples_leaf': 24, u'subsample': 0.9, u'min_samples_split': 35, u'max_features': 2, u'max_depth': 5},\n",
       "  mean: 0.85746, std: 0.02039, params: {u'learning_rate': 0.05, u'min_samples_leaf': 41, u'subsample': 0.8, u'min_samples_split': 17, u'max_features': 9, u'max_depth': 11},\n",
       "  mean: 0.85101, std: 0.02356, params: {u'learning_rate': 0.05, u'min_samples_leaf': 48, u'subsample': 0.9, u'min_samples_split': 14, u'max_features': 5, u'max_depth': 10},\n",
       "  mean: 0.86154, std: 0.01747, params: {u'learning_rate': 0.05, u'min_samples_leaf': 25, u'subsample': 0.75, u'min_samples_split': 46, u'max_features': 6, u'max_depth': 2},\n",
       "  mean: 0.86548, std: 0.02734, params: {u'learning_rate': 0.1, u'min_samples_leaf': 11, u'subsample': 0.75, u'min_samples_split': 19, u'max_features': 7, u'max_depth': 15},\n",
       "  mean: 0.86361, std: 0.01684, params: {u'learning_rate': 0.05, u'min_samples_leaf': 12, u'subsample': 0.9, u'min_samples_split': 38, u'max_features': 9, u'max_depth': 2},\n",
       "  mean: 0.86345, std: 0.02793, params: {u'learning_rate': 0.2, u'min_samples_leaf': 21, u'subsample': 0.85, u'min_samples_split': 22, u'max_features': 8, u'max_depth': 17},\n",
       "  mean: 0.86874, std: 0.02635, params: {u'learning_rate': 0.05, u'min_samples_leaf': 23, u'subsample': 0.75, u'min_samples_split': 21, u'max_features': 8, u'max_depth': 11},\n",
       "  mean: 0.87402, std: 0.02515, params: {u'learning_rate': 0.1, u'min_samples_leaf': 21, u'subsample': 0.7, u'min_samples_split': 39, u'max_features': 9, u'max_depth': 16},\n",
       "  mean: 0.87304, std: 0.02785, params: {u'learning_rate': 0.15, u'min_samples_leaf': 20, u'subsample': 0.75, u'min_samples_split': 3, u'max_features': 1, u'max_depth': 8},\n",
       "  mean: 0.86568, std: 0.02756, params: {u'learning_rate': 0.05, u'min_samples_leaf': 24, u'subsample': 0.9, u'min_samples_split': 5, u'max_features': 2, u'max_depth': 19},\n",
       "  mean: 0.86844, std: 0.02831, params: {u'learning_rate': 0.15, u'min_samples_leaf': 18, u'subsample': 0.85, u'min_samples_split': 20, u'max_features': 7, u'max_depth': 17},\n",
       "  mean: 0.84358, std: 0.03055, params: {u'learning_rate': 0.2, u'min_samples_leaf': 4, u'subsample': 0.85, u'min_samples_split': 12, u'max_features': 9, u'max_depth': 14},\n",
       "  mean: 0.86639, std: 0.03233, params: {u'learning_rate': 0.2, u'min_samples_leaf': 8, u'subsample': 0.8, u'min_samples_split': 12, u'max_features': 2, u'max_depth': 11},\n",
       "  mean: 0.86804, std: 0.02467, params: {u'learning_rate': 0.2, u'min_samples_leaf': 24, u'subsample': 0.8, u'min_samples_split': 16, u'max_features': 5, u'max_depth': 18},\n",
       "  mean: 0.86476, std: 0.02570, params: {u'learning_rate': 0.05, u'min_samples_leaf': 25, u'subsample': 0.9, u'min_samples_split': 29, u'max_features': 1, u'max_depth': 10},\n",
       "  mean: 0.86526, std: 0.02813, params: {u'learning_rate': 0.1, u'min_samples_leaf': 21, u'subsample': 0.9, u'min_samples_split': 10, u'max_features': 3, u'max_depth': 4},\n",
       "  mean: 0.86602, std: 0.03570, params: {u'learning_rate': 0.1, u'min_samples_leaf': 1, u'subsample': 0.7, u'min_samples_split': 30, u'max_features': 6, u'max_depth': 11},\n",
       "  mean: 0.84500, std: 0.02727, params: {u'learning_rate': 0.05, u'min_samples_leaf': 47, u'subsample': 0.85, u'min_samples_split': 42, u'max_features': 2, u'max_depth': 6},\n",
       "  mean: 0.86117, std: 0.02732, params: {u'learning_rate': 0.05, u'min_samples_leaf': 31, u'subsample': 0.9, u'min_samples_split': 17, u'max_features': 4, u'max_depth': 18},\n",
       "  mean: 0.87059, std: 0.02222, params: {u'learning_rate': 0.2, u'min_samples_leaf': 28, u'subsample': 0.75, u'min_samples_split': 36, u'max_features': 6, u'max_depth': 18},\n",
       "  mean: 0.87229, std: 0.03046, params: {u'learning_rate': 0.2, u'min_samples_leaf': 17, u'subsample': 0.7, u'min_samples_split': 21, u'max_features': 1, u'max_depth': 14},\n",
       "  mean: 0.86265, std: 0.03234, params: {u'learning_rate': 0.15, u'min_samples_leaf': 8, u'subsample': 0.85, u'min_samples_split': 2, u'max_features': 8, u'max_depth': 7},\n",
       "  mean: 0.85569, std: 0.02433, params: {u'learning_rate': 0.1, u'min_samples_leaf': 41, u'subsample': 0.85, u'min_samples_split': 22, u'max_features': 2, u'max_depth': 3},\n",
       "  mean: 0.85913, std: 0.02348, params: {u'learning_rate': 0.05, u'min_samples_leaf': 34, u'subsample': 0.8, u'min_samples_split': 38, u'max_features': 5, u'max_depth': 17},\n",
       "  mean: 0.86476, std: 0.02608, params: {u'learning_rate': 0.2, u'min_samples_leaf': 38, u'subsample': 0.75, u'min_samples_split': 44, u'max_features': 3, u'max_depth': 8},\n",
       "  mean: 0.86222, std: 0.02422, params: {u'learning_rate': 0.05, u'min_samples_leaf': 31, u'subsample': 0.7, u'min_samples_split': 8, u'max_features': 9, u'max_depth': 19},\n",
       "  mean: 0.86808, std: 0.02837, params: {u'learning_rate': 0.05, u'min_samples_leaf': 12, u'subsample': 0.75, u'min_samples_split': 40, u'max_features': 2, u'max_depth': 18},\n",
       "  mean: 0.86759, std: 0.02804, params: {u'learning_rate': 0.2, u'min_samples_leaf': 16, u'subsample': 0.9, u'min_samples_split': 18, u'max_features': 5, u'max_depth': 16},\n",
       "  mean: 0.86948, std: 0.03081, params: {u'learning_rate': 0.2, u'min_samples_leaf': 12, u'subsample': 0.8, u'min_samples_split': 37, u'max_features': 8, u'max_depth': 17},\n",
       "  mean: 0.86971, std: 0.02447, params: {u'learning_rate': 0.1, u'min_samples_leaf': 27, u'subsample': 0.7, u'min_samples_split': 17, u'max_features': 6, u'max_depth': 19},\n",
       "  mean: 0.86334, std: 0.02872, params: {u'learning_rate': 0.1, u'min_samples_leaf': 1, u'subsample': 0.8, u'min_samples_split': 39, u'max_features': 8, u'max_depth': 16},\n",
       "  mean: 0.87573, std: 0.02998, params: {u'learning_rate': 0.2, u'min_samples_leaf': 16, u'subsample': 0.75, u'min_samples_split': 48, u'max_features': 1, u'max_depth': 13},\n",
       "  mean: 0.86736, std: 0.03297, params: {u'learning_rate': 0.15, u'min_samples_leaf': 12, u'subsample': 0.85, u'min_samples_split': 42, u'max_features': 5, u'max_depth': 14},\n",
       "  mean: 0.86579, std: 0.02864, params: {u'learning_rate': 0.05, u'min_samples_leaf': 18, u'subsample': 0.85, u'min_samples_split': 10, u'max_features': 2, u'max_depth': 6},\n",
       "  mean: 0.86828, std: 0.02251, params: {u'learning_rate': 0.15, u'min_samples_leaf': 28, u'subsample': 0.85, u'min_samples_split': 48, u'max_features': 5, u'max_depth': 11},\n",
       "  mean: 0.86904, std: 0.02539, params: {u'learning_rate': 0.2, u'min_samples_leaf': 35, u'subsample': 0.7, u'min_samples_split': 10, u'max_features': 5, u'max_depth': 12},\n",
       "  mean: 0.87025, std: 0.02799, params: {u'learning_rate': 0.1, u'min_samples_leaf': 25, u'subsample': 0.8, u'min_samples_split': 2, u'max_features': 1, u'max_depth': 16},\n",
       "  mean: 0.86990, std: 0.03067, params: {u'learning_rate': 0.1, u'min_samples_leaf': 15, u'subsample': 0.7, u'min_samples_split': 9, u'max_features': 2, u'max_depth': 19},\n",
       "  mean: 0.86257, std: 0.03216, params: {u'learning_rate': 0.1, u'min_samples_leaf': 19, u'subsample': 0.8, u'min_samples_split': 38, u'max_features': 5, u'max_depth': 4},\n",
       "  mean: 0.86932, std: 0.02926, params: {u'learning_rate': 0.1, u'min_samples_leaf': 11, u'subsample': 0.8, u'min_samples_split': 43, u'max_features': 2, u'max_depth': 19},\n",
       "  mean: 0.86173, std: 0.02683, params: {u'learning_rate': 0.15, u'min_samples_leaf': 40, u'subsample': 0.8, u'min_samples_split': 4, u'max_features': 1, u'max_depth': 14},\n",
       "  mean: 0.86492, std: 0.03121, params: {u'learning_rate': 0.15, u'min_samples_leaf': 14, u'subsample': 0.7, u'min_samples_split': 23, u'max_features': 5, u'max_depth': 2},\n",
       "  mean: 0.87112, std: 0.02570, params: {u'learning_rate': 0.15, u'min_samples_leaf': 33, u'subsample': 0.8, u'min_samples_split': 18, u'max_features': 3, u'max_depth': 7},\n",
       "  mean: 0.86805, std: 0.02399, params: {u'learning_rate': 0.05, u'min_samples_leaf': 25, u'subsample': 0.85, u'min_samples_split': 17, u'max_features': 7, u'max_depth': 19},\n",
       "  mean: 0.85542, std: 0.01791, params: {u'learning_rate': 0.05, u'min_samples_leaf': 45, u'subsample': 0.8, u'min_samples_split': 43, u'max_features': 9, u'max_depth': 19},\n",
       "  mean: 0.86430, std: 0.02422, params: {u'learning_rate': 0.1, u'min_samples_leaf': 47, u'subsample': 0.9, u'min_samples_split': 4, u'max_features': 5, u'max_depth': 13},\n",
       "  mean: 0.86926, std: 0.02412, params: {u'learning_rate': 0.15, u'min_samples_leaf': 29, u'subsample': 0.7, u'min_samples_split': 8, u'max_features': 2, u'max_depth': 17},\n",
       "  mean: 0.86835, std: 0.02996, params: {u'learning_rate': 0.15, u'min_samples_leaf': 22, u'subsample': 0.75, u'min_samples_split': 19, u'max_features': 3, u'max_depth': 6},\n",
       "  mean: 0.86676, std: 0.03491, params: {u'learning_rate': 0.15, u'min_samples_leaf': 11, u'subsample': 0.8, u'min_samples_split': 14, u'max_features': 2, u'max_depth': 13},\n",
       "  mean: 0.86888, std: 0.02774, params: {u'learning_rate': 0.15, u'min_samples_leaf': 27, u'subsample': 0.8, u'min_samples_split': 8, u'max_features': 6, u'max_depth': 14},\n",
       "  mean: 0.86787, std: 0.02665, params: {u'learning_rate': 0.05, u'min_samples_leaf': 22, u'subsample': 0.75, u'min_samples_split': 13, u'max_features': 6, u'max_depth': 11},\n",
       "  mean: 0.86285, std: 0.02423, params: {u'learning_rate': 0.05, u'min_samples_leaf': 23, u'subsample': 0.7, u'min_samples_split': 27, u'max_features': 2, u'max_depth': 12},\n",
       "  mean: 0.86866, std: 0.02393, params: {u'learning_rate': 0.2, u'min_samples_leaf': 31, u'subsample': 0.8, u'min_samples_split': 34, u'max_features': 4, u'max_depth': 13},\n",
       "  mean: 0.85567, std: 0.02485, params: {u'learning_rate': 0.05, u'min_samples_leaf': 33, u'subsample': 0.7, u'min_samples_split': 36, u'max_features': 6, u'max_depth': 15},\n",
       "  mean: 0.86449, std: 0.02287, params: {u'learning_rate': 0.15, u'min_samples_leaf': 36, u'subsample': 0.75, u'min_samples_split': 43, u'max_features': 4, u'max_depth': 15},\n",
       "  mean: 0.86867, std: 0.02365, params: {u'learning_rate': 0.1, u'min_samples_leaf': 33, u'subsample': 0.9, u'min_samples_split': 16, u'max_features': 5, u'max_depth': 19},\n",
       "  mean: 0.86441, std: 0.02478, params: {u'learning_rate': 0.2, u'min_samples_leaf': 40, u'subsample': 0.9, u'min_samples_split': 37, u'max_features': 4, u'max_depth': 2},\n",
       "  mean: 0.86577, std: 0.02446, params: {u'learning_rate': 0.1, u'min_samples_leaf': 28, u'subsample': 0.75, u'min_samples_split': 20, u'max_features': 8, u'max_depth': 2},\n",
       "  mean: 0.87096, std: 0.02313, params: {u'learning_rate': 0.15, u'min_samples_leaf': 32, u'subsample': 0.85, u'min_samples_split': 35, u'max_features': 8, u'max_depth': 18},\n",
       "  mean: 0.86636, std: 0.03060, params: {u'learning_rate': 0.2, u'min_samples_leaf': 17, u'subsample': 0.7, u'min_samples_split': 26, u'max_features': 2, u'max_depth': 9},\n",
       "  mean: 0.87044, std: 0.02634, params: {u'learning_rate': 0.05, u'min_samples_leaf': 20, u'subsample': 0.9, u'min_samples_split': 11, u'max_features': 5, u'max_depth': 15},\n",
       "  mean: 0.87062, std: 0.02749, params: {u'learning_rate': 0.15, u'min_samples_leaf': 33, u'subsample': 0.85, u'min_samples_split': 17, u'max_features': 2, u'max_depth': 17},\n",
       "  mean: 0.85321, std: 0.02638, params: {u'learning_rate': 0.2, u'min_samples_leaf': 49, u'subsample': 0.85, u'min_samples_split': 12, u'max_features': 1, u'max_depth': 14},\n",
       "  mean: 0.86414, std: 0.03168, params: {u'learning_rate': 0.2, u'min_samples_leaf': 1, u'subsample': 0.8, u'min_samples_split': 18, u'max_features': 7, u'max_depth': 7},\n",
       "  mean: 0.86453, std: 0.02660, params: {u'learning_rate': 0.2, u'min_samples_leaf': 13, u'subsample': 0.7, u'min_samples_split': 44, u'max_features': 6, u'max_depth': 11},\n",
       "  mean: 0.86774, std: 0.02647, params: {u'learning_rate': 0.1, u'min_samples_leaf': 27, u'subsample': 0.8, u'min_samples_split': 5, u'max_features': 3, u'max_depth': 5},\n",
       "  mean: 0.85145, std: 0.02418, params: {u'learning_rate': 0.05, u'min_samples_leaf': 41, u'subsample': 0.85, u'min_samples_split': 21, u'max_features': 4, u'max_depth': 9},\n",
       "  mean: 0.87366, std: 0.02529, params: {u'learning_rate': 0.15, u'min_samples_leaf': 27, u'subsample': 0.8, u'min_samples_split': 7, u'max_features': 9, u'max_depth': 15},\n",
       "  mean: 0.86819, std: 0.02486, params: {u'learning_rate': 0.15, u'min_samples_leaf': 34, u'subsample': 0.7, u'min_samples_split': 3, u'max_features': 9, u'max_depth': 8},\n",
       "  mean: 0.85736, std: 0.02412, params: {u'learning_rate': 0.05, u'min_samples_leaf': 38, u'subsample': 0.85, u'min_samples_split': 9, u'max_features': 8, u'max_depth': 8},\n",
       "  mean: 0.86587, std: 0.02999, params: {u'learning_rate': 0.05, u'min_samples_leaf': 10, u'subsample': 0.85, u'min_samples_split': 48, u'max_features': 8, u'max_depth': 8},\n",
       "  mean: 0.84556, std: 0.02683, params: {u'learning_rate': 0.1, u'min_samples_leaf': 43, u'subsample': 0.75, u'min_samples_split': 38, u'max_features': 1, u'max_depth': 4},\n",
       "  mean: 0.86788, std: 0.03146, params: {u'learning_rate': 0.15, u'min_samples_leaf': 20, u'subsample': 0.9, u'min_samples_split': 27, u'max_features': 6, u'max_depth': 10},\n",
       "  mean: 0.85849, std: 0.02185, params: {u'learning_rate': 0.05, u'min_samples_leaf': 45, u'subsample': 0.9, u'min_samples_split': 44, u'max_features': 6, u'max_depth': 8},\n",
       "  mean: 0.84785, std: 0.02107, params: {u'learning_rate': 0.05, u'min_samples_leaf': 46, u'subsample': 0.7, u'min_samples_split': 23, u'max_features': 6, u'max_depth': 19},\n",
       "  mean: 0.86270, std: 0.02427, params: {u'learning_rate': 0.05, u'min_samples_leaf': 30, u'subsample': 0.9, u'min_samples_split': 29, u'max_features': 5, u'max_depth': 5},\n",
       "  mean: 0.85357, std: 0.02879, params: {u'learning_rate': 0.2, u'min_samples_leaf': 7, u'subsample': 0.9, u'min_samples_split': 23, u'max_features': 6, u'max_depth': 13},\n",
       "  mean: 0.87113, std: 0.02694, params: {u'learning_rate': 0.15, u'min_samples_leaf': 36, u'subsample': 0.75, u'min_samples_split': 6, u'max_features': 9, u'max_depth': 18},\n",
       "  mean: 0.85829, std: 0.02119, params: {u'learning_rate': 0.05, u'min_samples_leaf': 40, u'subsample': 0.85, u'min_samples_split': 35, u'max_features': 7, u'max_depth': 8},\n",
       "  mean: 0.85726, std: 0.02870, params: {u'learning_rate': 0.2, u'min_samples_leaf': 11, u'subsample': 0.9, u'min_samples_split': 6, u'max_features': 9, u'max_depth': 6},\n",
       "  mean: 0.86661, std: 0.02498, params: {u'learning_rate': 0.2, u'min_samples_leaf': 37, u'subsample': 0.8, u'min_samples_split': 14, u'max_features': 5, u'max_depth': 18},\n",
       "  mean: 0.85706, std: 0.02390, params: {u'learning_rate': 0.1, u'min_samples_leaf': 45, u'subsample': 0.8, u'min_samples_split': 3, u'max_features': 3, u'max_depth': 14},\n",
       "  mean: 0.87281, std: 0.02345, params: {u'learning_rate': 0.2, u'min_samples_leaf': 37, u'subsample': 0.9, u'min_samples_split': 32, u'max_features': 2, u'max_depth': 17},\n",
       "  mean: 0.85795, std: 0.02611, params: {u'learning_rate': 0.1, u'min_samples_leaf': 34, u'subsample': 0.7, u'min_samples_split': 31, u'max_features': 2, u'max_depth': 7},\n",
       "  mean: 0.86404, std: 0.02416, params: {u'learning_rate': 0.15, u'min_samples_leaf': 44, u'subsample': 0.75, u'min_samples_split': 46, u'max_features': 7, u'max_depth': 11},\n",
       "  mean: 0.86313, std: 0.02582, params: {u'learning_rate': 0.15, u'min_samples_leaf': 48, u'subsample': 0.75, u'min_samples_split': 35, u'max_features': 4, u'max_depth': 10},\n",
       "  mean: 0.86958, std: 0.02635, params: {u'learning_rate': 0.1, u'min_samples_leaf': 21, u'subsample': 0.85, u'min_samples_split': 27, u'max_features': 8, u'max_depth': 19},\n",
       "  mean: 0.86508, std: 0.02973, params: {u'learning_rate': 0.2, u'min_samples_leaf': 24, u'subsample': 0.85, u'min_samples_split': 29, u'max_features': 2, u'max_depth': 3},\n",
       "  mean: 0.86415, std: 0.02626, params: {u'learning_rate': 0.05, u'min_samples_leaf': 28, u'subsample': 0.75, u'min_samples_split': 19, u'max_features': 9, u'max_depth': 11},\n",
       "  mean: 0.87052, std: 0.02384, params: {u'learning_rate': 0.2, u'min_samples_leaf': 43, u'subsample': 0.8, u'min_samples_split': 23, u'max_features': 6, u'max_depth': 17},\n",
       "  mean: 0.85840, std: 0.02565, params: {u'learning_rate': 0.05, u'min_samples_leaf': 31, u'subsample': 0.9, u'min_samples_split': 9, u'max_features': 3, u'max_depth': 4},\n",
       "  mean: 0.86587, std: 0.02982, params: {u'learning_rate': 0.15, u'min_samples_leaf': 14, u'subsample': 0.85, u'min_samples_split': 20, u'max_features': 6, u'max_depth': 4},\n",
       "  mean: 0.86216, std: 0.02208, params: {u'learning_rate': 0.2, u'min_samples_leaf': 49, u'subsample': 0.7, u'min_samples_split': 8, u'max_features': 4, u'max_depth': 19},\n",
       "  mean: 0.86966, std: 0.02002, params: {u'learning_rate': 0.15, u'min_samples_leaf': 40, u'subsample': 0.9, u'min_samples_split': 2, u'max_features': 7, u'max_depth': 19},\n",
       "  mean: 0.86989, std: 0.02824, params: {u'learning_rate': 0.1, u'min_samples_leaf': 20, u'subsample': 0.75, u'min_samples_split': 5, u'max_features': 3, u'max_depth': 4},\n",
       "  mean: 0.86645, std: 0.03253, params: {u'learning_rate': 0.1, u'min_samples_leaf': 6, u'subsample': 0.8, u'min_samples_split': 5, u'max_features': 1, u'max_depth': 13},\n",
       "  mean: 0.86307, std: 0.02440, params: {u'learning_rate': 0.2, u'min_samples_leaf': 39, u'subsample': 0.7, u'min_samples_split': 4, u'max_features': 4, u'max_depth': 8},\n",
       "  mean: 0.86724, std: 0.02787, params: {u'learning_rate': 0.15, u'min_samples_leaf': 24, u'subsample': 0.7, u'min_samples_split': 5, u'max_features': 5, u'max_depth': 6},\n",
       "  mean: 0.85293, std: 0.02333, params: {u'learning_rate': 0.05, u'min_samples_leaf': 37, u'subsample': 0.75, u'min_samples_split': 41, u'max_features': 5, u'max_depth': 12},\n",
       "  mean: 0.85272, std: 0.02662, params: {u'learning_rate': 0.2, u'min_samples_leaf': 5, u'subsample': 0.85, u'min_samples_split': 21, u'max_features': 8, u'max_depth': 11},\n",
       "  mean: 0.86206, std: 0.02769, params: {u'learning_rate': 0.2, u'min_samples_leaf': 17, u'subsample': 0.7, u'min_samples_split': 16, u'max_features': 7, u'max_depth': 3},\n",
       "  mean: 0.86866, std: 0.02607, params: {u'learning_rate': 0.05, u'min_samples_leaf': 20, u'subsample': 0.75, u'min_samples_split': 15, u'max_features': 4, u'max_depth': 12},\n",
       "  mean: 0.87117, std: 0.02629, params: {u'learning_rate': 0.2, u'min_samples_leaf': 28, u'subsample': 0.9, u'min_samples_split': 41, u'max_features': 8, u'max_depth': 19},\n",
       "  mean: 0.86564, std: 0.02508, params: {u'learning_rate': 0.2, u'min_samples_leaf': 43, u'subsample': 0.85, u'min_samples_split': 29, u'max_features': 2, u'max_depth': 13},\n",
       "  mean: 0.86580, std: 0.03213, params: {u'learning_rate': 0.1, u'min_samples_leaf': 8, u'subsample': 0.85, u'min_samples_split': 35, u'max_features': 5, u'max_depth': 13},\n",
       "  mean: 0.86757, std: 0.02669, params: {u'learning_rate': 0.05, u'min_samples_leaf': 22, u'subsample': 0.75, u'min_samples_split': 40, u'max_features': 6, u'max_depth': 18},\n",
       "  mean: 0.85075, std: 0.02142, params: {u'learning_rate': 0.05, u'min_samples_leaf': 22, u'subsample': 0.7, u'min_samples_split': 44, u'max_features': 4, u'max_depth': 2},\n",
       "  mean: 0.86897, std: 0.03161, params: {u'learning_rate': 0.15, u'min_samples_leaf': 16, u'subsample': 0.7, u'min_samples_split': 48, u'max_features': 7, u'max_depth': 14},\n",
       "  mean: 0.86684, std: 0.02746, params: {u'learning_rate': 0.1, u'min_samples_leaf': 29, u'subsample': 0.85, u'min_samples_split': 44, u'max_features': 7, u'max_depth': 4},\n",
       "  mean: 0.87125, std: 0.02500, params: {u'learning_rate': 0.15, u'min_samples_leaf': 27, u'subsample': 0.75, u'min_samples_split': 33, u'max_features': 2, u'max_depth': 18},\n",
       "  mean: 0.86334, std: 0.03826, params: {u'learning_rate': 0.1, u'min_samples_leaf': 4, u'subsample': 0.8, u'min_samples_split': 10, u'max_features': 2, u'max_depth': 9},\n",
       "  mean: 0.86858, std: 0.02597, params: {u'learning_rate': 0.15, u'min_samples_leaf': 14, u'subsample': 0.7, u'min_samples_split': 17, u'max_features': 4, u'max_depth': 8},\n",
       "  mean: 0.86187, std: 0.03140, params: {u'learning_rate': 0.2, u'min_samples_leaf': 10, u'subsample': 0.85, u'min_samples_split': 10, u'max_features': 3, u'max_depth': 2},\n",
       "  mean: 0.86551, std: 0.02036, params: {u'learning_rate': 0.1, u'min_samples_leaf': 44, u'subsample': 0.8, u'min_samples_split': 23, u'max_features': 6, u'max_depth': 14},\n",
       "  mean: 0.86207, std: 0.03168, params: {u'learning_rate': 0.2, u'min_samples_leaf': 8, u'subsample': 0.7, u'min_samples_split': 33, u'max_features': 4, u'max_depth': 7},\n",
       "  mean: 0.86001, std: 0.02520, params: {u'learning_rate': 0.05, u'min_samples_leaf': 28, u'subsample': 0.8, u'min_samples_split': 16, u'max_features': 2, u'max_depth': 19},\n",
       "  mean: 0.86243, std: 0.02525, params: {u'learning_rate': 0.2, u'min_samples_leaf': 45, u'subsample': 0.85, u'min_samples_split': 12, u'max_features': 8, u'max_depth': 2},\n",
       "  mean: 0.86979, std: 0.02750, params: {u'learning_rate': 0.2, u'min_samples_leaf': 40, u'subsample': 0.85, u'min_samples_split': 6, u'max_features': 7, u'max_depth': 5},\n",
       "  mean: 0.86301, std: 0.02888, params: {u'learning_rate': 0.2, u'min_samples_leaf': 16, u'subsample': 0.85, u'min_samples_split': 40, u'max_features': 8, u'max_depth': 16},\n",
       "  mean: 0.87124, std: 0.02215, params: {u'learning_rate': 0.15, u'min_samples_leaf': 38, u'subsample': 0.8, u'min_samples_split': 38, u'max_features': 9, u'max_depth': 10},\n",
       "  mean: 0.86932, std: 0.02604, params: {u'learning_rate': 0.15, u'min_samples_leaf': 42, u'subsample': 0.9, u'min_samples_split': 19, u'max_features': 3, u'max_depth': 15},\n",
       "  mean: 0.86827, std: 0.02883, params: {u'learning_rate': 0.05, u'min_samples_leaf': 15, u'subsample': 0.75, u'min_samples_split': 27, u'max_features': 1, u'max_depth': 14},\n",
       "  mean: 0.86812, std: 0.02616, params: {u'learning_rate': 0.2, u'min_samples_leaf': 23, u'subsample': 0.85, u'min_samples_split': 9, u'max_features': 4, u'max_depth': 7},\n",
       "  mean: 0.85638, std: 0.03001, params: {u'learning_rate': 0.1, u'min_samples_leaf': 29, u'subsample': 0.9, u'min_samples_split': 39, u'max_features': 1, u'max_depth': 3},\n",
       "  mean: 0.86488, std: 0.03133, params: {u'learning_rate': 0.15, u'min_samples_leaf': 6, u'subsample': 0.7, u'min_samples_split': 33, u'max_features': 4, u'max_depth': 4},\n",
       "  mean: 0.87550, std: 0.02748, params: {u'learning_rate': 0.2, u'min_samples_leaf': 20, u'subsample': 0.8, u'min_samples_split': 6, u'max_features': 1, u'max_depth': 11},\n",
       "  mean: 0.85921, std: 0.02530, params: {u'learning_rate': 0.1, u'min_samples_leaf': 44, u'subsample': 0.9, u'min_samples_split': 9, u'max_features': 1, u'max_depth': 11},\n",
       "  mean: 0.86419, std: 0.03289, params: {u'learning_rate': 0.1, u'min_samples_leaf': 1, u'subsample': 0.9, u'min_samples_split': 19, u'max_features': 5, u'max_depth': 4},\n",
       "  mean: 0.86745, std: 0.02786, params: {u'learning_rate': 0.1, u'min_samples_leaf': 30, u'subsample': 0.8, u'min_samples_split': 41, u'max_features': 5, u'max_depth': 14},\n",
       "  mean: 0.86881, std: 0.02569, params: {u'learning_rate': 0.15, u'min_samples_leaf': 20, u'subsample': 0.7, u'min_samples_split': 5, u'max_features': 6, u'max_depth': 19},\n",
       "  mean: 0.85179, std: 0.02333, params: {u'learning_rate': 0.1, u'min_samples_leaf': 46, u'subsample': 0.75, u'min_samples_split': 37, u'max_features': 2, u'max_depth': 14},\n",
       "  mean: 0.86142, std: 0.02557, params: {u'learning_rate': 0.15, u'min_samples_leaf': 36, u'subsample': 0.7, u'min_samples_split': 18, u'max_features': 4, u'max_depth': 5},\n",
       "  mean: 0.86885, std: 0.02600, params: {u'learning_rate': 0.15, u'min_samples_leaf': 21, u'subsample': 0.8, u'min_samples_split': 7, u'max_features': 4, u'max_depth': 16},\n",
       "  mean: 0.86080, std: 0.02564, params: {u'learning_rate': 0.2, u'min_samples_leaf': 19, u'subsample': 0.9, u'min_samples_split': 42, u'max_features': 8, u'max_depth': 7},\n",
       "  mean: 0.85991, std: 0.02277, params: {u'learning_rate': 0.2, u'min_samples_leaf': 48, u'subsample': 0.7, u'min_samples_split': 5, u'max_features': 4, u'max_depth': 16},\n",
       "  mean: 0.86986, std: 0.02772, params: {u'learning_rate': 0.1, u'min_samples_leaf': 28, u'subsample': 0.9, u'min_samples_split': 24, u'max_features': 4, u'max_depth': 18},\n",
       "  mean: 0.84216, std: 0.03561, params: {u'learning_rate': 0.05, u'min_samples_leaf': 45, u'subsample': 0.8, u'min_samples_split': 24, u'max_features': 1, u'max_depth': 8},\n",
       "  mean: 0.87018, std: 0.02883, params: {u'learning_rate': 0.15, u'min_samples_leaf': 17, u'subsample': 0.75, u'min_samples_split': 7, u'max_features': 3, u'max_depth': 13},\n",
       "  mean: 0.84661, std: 0.02773, params: {u'learning_rate': 0.05, u'min_samples_leaf': 38, u'subsample': 0.7, u'min_samples_split': 3, u'max_features': 2, u'max_depth': 15},\n",
       "  mean: 0.86703, std: 0.02712, params: {u'learning_rate': 0.2, u'min_samples_leaf': 21, u'subsample': 0.75, u'min_samples_split': 10, u'max_features': 6, u'max_depth': 4},\n",
       "  mean: 0.84913, std: 0.02613, params: {u'learning_rate': 0.05, u'min_samples_leaf': 36, u'subsample': 0.7, u'min_samples_split': 40, u'max_features': 3, u'max_depth': 13},\n",
       "  mean: 0.87102, std: 0.02903, params: {u'learning_rate': 0.1, u'min_samples_leaf': 24, u'subsample': 0.85, u'min_samples_split': 35, u'max_features': 3, u'max_depth': 8},\n",
       "  mean: 0.86361, std: 0.03566, params: {u'learning_rate': 0.15, u'min_samples_leaf': 8, u'subsample': 0.75, u'min_samples_split': 26, u'max_features': 3, u'max_depth': 5},\n",
       "  mean: 0.85293, std: 0.02333, params: {u'learning_rate': 0.05, u'min_samples_leaf': 37, u'subsample': 0.75, u'min_samples_split': 45, u'max_features': 5, u'max_depth': 18},\n",
       "  mean: 0.86706, std: 0.02370, params: {u'learning_rate': 0.15, u'min_samples_leaf': 21, u'subsample': 0.8, u'min_samples_split': 40, u'max_features': 8, u'max_depth': 5},\n",
       "  mean: 0.86570, std: 0.03028, params: {u'learning_rate': 0.1, u'min_samples_leaf': 2, u'subsample': 0.7, u'min_samples_split': 12, u'max_features': 8, u'max_depth': 4},\n",
       "  mean: 0.85697, std: 0.02247, params: {u'learning_rate': 0.05, u'min_samples_leaf': 32, u'subsample': 0.7, u'min_samples_split': 4, u'max_features': 5, u'max_depth': 7},\n",
       "  mean: 0.87209, std: 0.02784, params: {u'learning_rate': 0.1, u'min_samples_leaf': 25, u'subsample': 0.75, u'min_samples_split': 38, u'max_features': 8, u'max_depth': 10},\n",
       "  mean: 0.83605, std: 0.03278, params: {u'learning_rate': 0.05, u'min_samples_leaf': 46, u'subsample': 0.75, u'min_samples_split': 18, u'max_features': 1, u'max_depth': 11},\n",
       "  mean: 0.86728, std: 0.02677, params: {u'learning_rate': 0.1, u'min_samples_leaf': 17, u'subsample': 0.9, u'min_samples_split': 46, u'max_features': 8, u'max_depth': 2},\n",
       "  mean: 0.86511, std: 0.03127, params: {u'learning_rate': 0.15, u'min_samples_leaf': 2, u'subsample': 0.75, u'min_samples_split': 40, u'max_features': 5, u'max_depth': 5},\n",
       "  mean: 0.86458, std: 0.03074, params: {u'learning_rate': 0.1, u'min_samples_leaf': 13, u'subsample': 0.9, u'min_samples_split': 28, u'max_features': 7, u'max_depth': 8},\n",
       "  mean: 0.85926, std: 0.03114, params: {u'learning_rate': 0.15, u'min_samples_leaf': 6, u'subsample': 0.9, u'min_samples_split': 47, u'max_features': 7, u'max_depth': 13},\n",
       "  mean: 0.86664, std: 0.03051, params: {u'learning_rate': 0.05, u'min_samples_leaf': 11, u'subsample': 0.7, u'min_samples_split': 20, u'max_features': 6, u'max_depth': 4},\n",
       "  mean: 0.86817, std: 0.02635, params: {u'learning_rate': 0.05, u'min_samples_leaf': 25, u'subsample': 0.9, u'min_samples_split': 13, u'max_features': 8, u'max_depth': 17},\n",
       "  mean: 0.85384, std: 0.01744, params: {u'learning_rate': 0.05, u'min_samples_leaf': 48, u'subsample': 0.9, u'min_samples_split': 38, u'max_features': 7, u'max_depth': 14},\n",
       "  mean: 0.85783, std: 0.02175, params: {u'learning_rate': 0.15, u'min_samples_leaf': 40, u'subsample': 0.7, u'min_samples_split': 4, u'max_features': 1, u'max_depth': 8},\n",
       "  mean: 0.86652, std: 0.02646, params: {u'learning_rate': 0.15, u'min_samples_leaf': 37, u'subsample': 0.8, u'min_samples_split': 7, u'max_features': 4, u'max_depth': 11},\n",
       "  mean: 0.86916, std: 0.02526, params: {u'learning_rate': 0.2, u'min_samples_leaf': 39, u'subsample': 0.7, u'min_samples_split': 9, u'max_features': 8, u'max_depth': 17},\n",
       "  mean: 0.86952, std: 0.02319, params: {u'learning_rate': 0.15, u'min_samples_leaf': 27, u'subsample': 0.85, u'min_samples_split': 47, u'max_features': 7, u'max_depth': 11},\n",
       "  mean: 0.87453, std: 0.02579, params: {u'learning_rate': 0.15, u'min_samples_leaf': 21, u'subsample': 0.8, u'min_samples_split': 8, u'max_features': 2, u'max_depth': 9},\n",
       "  mean: 0.87069, std: 0.02553, params: {u'learning_rate': 0.2, u'min_samples_leaf': 24, u'subsample': 0.9, u'min_samples_split': 49, u'max_features': 5, u'max_depth': 19},\n",
       "  mean: 0.86350, std: 0.03297, params: {u'learning_rate': 0.1, u'min_samples_leaf': 3, u'subsample': 0.8, u'min_samples_split': 46, u'max_features': 2, u'max_depth': 4},\n",
       "  mean: 0.86730, std: 0.02483, params: {u'learning_rate': 0.15, u'min_samples_leaf': 27, u'subsample': 0.7, u'min_samples_split': 27, u'max_features': 1, u'max_depth': 10},\n",
       "  mean: 0.87578, std: 0.02680, params: {u'learning_rate': 0.1, u'min_samples_leaf': 22, u'subsample': 0.9, u'min_samples_split': 21, u'max_features': 1, u'max_depth': 16},\n",
       "  mean: 0.85877, std: 0.02686, params: {u'learning_rate': 0.05, u'min_samples_leaf': 30, u'subsample': 0.7, u'min_samples_split': 16, u'max_features': 3, u'max_depth': 6},\n",
       "  mean: 0.86893, std: 0.02565, params: {u'learning_rate': 0.15, u'min_samples_leaf': 34, u'subsample': 0.9, u'min_samples_split': 29, u'max_features': 4, u'max_depth': 19},\n",
       "  mean: 0.86141, std: 0.02145, params: {u'learning_rate': 0.1, u'min_samples_leaf': 44, u'subsample': 0.75, u'min_samples_split': 36, u'max_features': 7, u'max_depth': 10},\n",
       "  mean: 0.86480, std: 0.03115, params: {u'learning_rate': 0.2, u'min_samples_leaf': 20, u'subsample': 0.85, u'min_samples_split': 15, u'max_features': 8, u'max_depth': 13},\n",
       "  mean: 0.86763, std: 0.02349, params: {u'learning_rate': 0.1, u'min_samples_leaf': 30, u'subsample': 0.9, u'min_samples_split': 29, u'max_features': 6, u'max_depth': 4},\n",
       "  mean: 0.86599, std: 0.02815, params: {u'learning_rate': 0.1, u'min_samples_leaf': 30, u'subsample': 0.8, u'min_samples_split': 48, u'max_features': 1, u'max_depth': 16},\n",
       "  mean: 0.86252, std: 0.01716, params: {u'learning_rate': 0.05, u'min_samples_leaf': 6, u'subsample': 0.85, u'min_samples_split': 11, u'max_features': 7, u'max_depth': 2},\n",
       "  mean: 0.87014, std: 0.02645, params: {u'learning_rate': 0.1, u'min_samples_leaf': 21, u'subsample': 0.8, u'min_samples_split': 18, u'max_features': 7, u'max_depth': 17},\n",
       "  mean: 0.86095, std: 0.03487, params: {u'learning_rate': 0.15, u'min_samples_leaf': 4, u'subsample': 0.9, u'min_samples_split': 13, u'max_features': 1, u'max_depth': 12},\n",
       "  mean: 0.86586, std: 0.02685, params: {u'learning_rate': 0.05, u'min_samples_leaf': 17, u'subsample': 0.7, u'min_samples_split': 38, u'max_features': 1, u'max_depth': 12},\n",
       "  mean: 0.86138, std: 0.02267, params: {u'learning_rate': 0.1, u'min_samples_leaf': 49, u'subsample': 0.8, u'min_samples_split': 43, u'max_features': 9, u'max_depth': 19},\n",
       "  mean: 0.86694, std: 0.02189, params: {u'learning_rate': 0.15, u'min_samples_leaf': 35, u'subsample': 0.8, u'min_samples_split': 39, u'max_features': 9, u'max_depth': 4},\n",
       "  mean: 0.85722, std: 0.02657, params: {u'learning_rate': 0.05, u'min_samples_leaf': 37, u'subsample': 0.85, u'min_samples_split': 5, u'max_features': 8, u'max_depth': 11},\n",
       "  mean: 0.86499, std: 0.03016, params: {u'learning_rate': 0.1, u'min_samples_leaf': 16, u'subsample': 0.8, u'min_samples_split': 38, u'max_features': 4, u'max_depth': 3},\n",
       "  mean: 0.86151, std: 0.02520, params: {u'learning_rate': 0.15, u'min_samples_leaf': 48, u'subsample': 0.9, u'min_samples_split': 24, u'max_features': 3, u'max_depth': 16},\n",
       "  mean: 0.86345, std: 0.02578, params: {u'learning_rate': 0.2, u'min_samples_leaf': 43, u'subsample': 0.9, u'min_samples_split': 44, u'max_features': 8, u'max_depth': 4},\n",
       "  mean: 0.86129, std: 0.02330, params: {u'learning_rate': 0.1, u'min_samples_leaf': 44, u'subsample': 0.8, u'min_samples_split': 44, u'max_features': 4, u'max_depth': 13},\n",
       "  mean: 0.86710, std: 0.02487, params: {u'learning_rate': 0.05, u'min_samples_leaf': 30, u'subsample': 0.9, u'min_samples_split': 14, u'max_features': 5, u'max_depth': 15},\n",
       "  mean: 0.86516, std: 0.03029, params: {u'learning_rate': 0.1, u'min_samples_leaf': 7, u'subsample': 0.7, u'min_samples_split': 26, u'max_features': 8, u'max_depth': 9},\n",
       "  mean: 0.86549, std: 0.03051, params: {u'learning_rate': 0.1, u'min_samples_leaf': 17, u'subsample': 0.8, u'min_samples_split': 42, u'max_features': 5, u'max_depth': 4},\n",
       "  mean: 0.86048, std: 0.03075, params: {u'learning_rate': 0.2, u'min_samples_leaf': 5, u'subsample': 0.85, u'min_samples_split': 25, u'max_features': 4, u'max_depth': 2},\n",
       "  mean: 0.86332, std: 0.02769, params: {u'learning_rate': 0.05, u'min_samples_leaf': 23, u'subsample': 0.7, u'min_samples_split': 23, u'max_features': 8, u'max_depth': 5},\n",
       "  mean: 0.86175, std: 0.02635, params: {u'learning_rate': 0.05, u'min_samples_leaf': 29, u'subsample': 0.8, u'min_samples_split': 28, u'max_features': 8, u'max_depth': 4},\n",
       "  mean: 0.86557, std: 0.03601, params: {u'learning_rate': 0.15, u'min_samples_leaf': 11, u'subsample': 0.9, u'min_samples_split': 20, u'max_features': 1, u'max_depth': 8},\n",
       "  mean: 0.85672, std: 0.02999, params: {u'learning_rate': 0.05, u'min_samples_leaf': 29, u'subsample': 0.75, u'min_samples_split': 6, u'max_features': 1, u'max_depth': 11},\n",
       "  mean: 0.86173, std: 0.03190, params: {u'learning_rate': 0.05, u'min_samples_leaf': 17, u'subsample': 0.8, u'min_samples_split': 7, u'max_features': 1, u'max_depth': 5},\n",
       "  mean: 0.86603, std: 0.02372, params: {u'learning_rate': 0.05, u'min_samples_leaf': 24, u'subsample': 0.8, u'min_samples_split': 31, u'max_features': 4, u'max_depth': 18},\n",
       "  mean: 0.86822, std: 0.03266, params: {u'learning_rate': 0.15, u'min_samples_leaf': 23, u'subsample': 0.9, u'min_samples_split': 34, u'max_features': 6, u'max_depth': 10},\n",
       "  mean: 0.87123, std: 0.02993, params: {u'learning_rate': 0.05, u'min_samples_leaf': 9, u'subsample': 0.9, u'min_samples_split': 44, u'max_features': 2, u'max_depth': 15},\n",
       "  mean: 0.87616, std: 0.03129, params: {u'learning_rate': 0.1, u'min_samples_leaf': 16, u'subsample': 0.75, u'min_samples_split': 3, u'max_features': 5, u'max_depth': 12},\n",
       "  mean: 0.86086, std: 0.03335, params: {u'learning_rate': 0.2, u'min_samples_leaf': 9, u'subsample': 0.7, u'min_samples_split': 2, u'max_features': 5, u'max_depth': 7},\n",
       "  mean: 0.86951, std: 0.02999, params: {u'learning_rate': 0.05, u'min_samples_leaf': 13, u'subsample': 0.75, u'min_samples_split': 15, u'max_features': 7, u'max_depth': 10},\n",
       "  mean: 0.86499, std: 0.02787, params: {u'learning_rate': 0.1, u'min_samples_leaf': 10, u'subsample': 0.85, u'min_samples_split': 35, u'max_features': 9, u'max_depth': 14},\n",
       "  mean: 0.86109, std: 0.02410, params: {u'learning_rate': 0.05, u'min_samples_leaf': 33, u'subsample': 0.85, u'min_samples_split': 12, u'max_features': 7, u'max_depth': 11},\n",
       "  mean: 0.87096, std: 0.02712, params: {u'learning_rate': 0.15, u'min_samples_leaf': 31, u'subsample': 0.8, u'min_samples_split': 48, u'max_features': 9, u'max_depth': 10},\n",
       "  mean: 0.86870, std: 0.02447, params: {u'learning_rate': 0.1, u'min_samples_leaf': 34, u'subsample': 0.9, u'min_samples_split': 37, u'max_features': 9, u'max_depth': 10},\n",
       "  mean: 0.85872, std: 0.02318, params: {u'learning_rate': 0.05, u'min_samples_leaf': 37, u'subsample': 0.9, u'min_samples_split': 3, u'max_features': 4, u'max_depth': 9},\n",
       "  mean: 0.86602, std: 0.02430, params: {u'learning_rate': 0.1, u'min_samples_leaf': 35, u'subsample': 0.9, u'min_samples_split': 4, u'max_features': 4, u'max_depth': 8},\n",
       "  mean: 0.86558, std: 0.02925, params: {u'learning_rate': 0.1, u'min_samples_leaf': 14, u'subsample': 0.75, u'min_samples_split': 38, u'max_features': 8, u'max_depth': 4},\n",
       "  mean: 0.86153, std: 0.02351, params: {u'learning_rate': 0.2, u'min_samples_leaf': 49, u'subsample': 0.85, u'min_samples_split': 32, u'max_features': 3, u'max_depth': 8},\n",
       "  mean: 0.86055, std: 0.02379, params: {u'learning_rate': 0.1, u'min_samples_leaf': 46, u'subsample': 0.8, u'min_samples_split': 5, u'max_features': 8, u'max_depth': 10},\n",
       "  mean: 0.84483, std: 0.02619, params: {u'learning_rate': 0.05, u'min_samples_leaf': 45, u'subsample': 0.7, u'min_samples_split': 34, u'max_features': 3, u'max_depth': 9},\n",
       "  mean: 0.86818, std: 0.02286, params: {u'learning_rate': 0.05, u'min_samples_leaf': 23, u'subsample': 0.85, u'min_samples_split': 3, u'max_features': 3, u'max_depth': 11},\n",
       "  mean: 0.86584, std: 0.03340, params: {u'learning_rate': 0.05, u'min_samples_leaf': 5, u'subsample': 0.8, u'min_samples_split': 27, u'max_features': 6, u'max_depth': 8},\n",
       "  mean: 0.87399, std: 0.03060, params: {u'learning_rate': 0.1, u'min_samples_leaf': 14, u'subsample': 0.85, u'min_samples_split': 46, u'max_features': 1, u'max_depth': 9},\n",
       "  mean: 0.86646, std: 0.02861, params: {u'learning_rate': 0.1, u'min_samples_leaf': 16, u'subsample': 0.8, u'min_samples_split': 35, u'max_features': 1, u'max_depth': 5},\n",
       "  mean: 0.86602, std: 0.03359, params: {u'learning_rate': 0.15, u'min_samples_leaf': 11, u'subsample': 0.85, u'min_samples_split': 25, u'max_features': 2, u'max_depth': 8},\n",
       "  mean: 0.87388, std: 0.02608, params: {u'learning_rate': 0.2, u'min_samples_leaf': 25, u'subsample': 0.85, u'min_samples_split': 20, u'max_features': 5, u'max_depth': 19},\n",
       "  mean: 0.86511, std: 0.02386, params: {u'learning_rate': 0.1, u'min_samples_leaf': 39, u'subsample': 0.9, u'min_samples_split': 45, u'max_features': 4, u'max_depth': 12},\n",
       "  mean: 0.86591, std: 0.02716, params: {u'learning_rate': 0.2, u'min_samples_leaf': 12, u'subsample': 0.75, u'min_samples_split': 46, u'max_features': 5, u'max_depth': 12},\n",
       "  mean: 0.86216, std: 0.02244, params: {u'learning_rate': 0.2, u'min_samples_leaf': 49, u'subsample': 0.7, u'min_samples_split': 20, u'max_features': 8, u'max_depth': 11},\n",
       "  mean: 0.86923, std: 0.02498, params: {u'learning_rate': 0.05, u'min_samples_leaf': 25, u'subsample': 0.9, u'min_samples_split': 5, u'max_features': 6, u'max_depth': 18},\n",
       "  mean: 0.87065, std: 0.02696, params: {u'learning_rate': 0.1, u'min_samples_leaf': 26, u'subsample': 0.85, u'min_samples_split': 42, u'max_features': 4, u'max_depth': 10},\n",
       "  mean: 0.86214, std: 0.02895, params: {u'learning_rate': 0.15, u'min_samples_leaf': 15, u'subsample': 0.85, u'min_samples_split': 35, u'max_features': 1, u'max_depth': 3},\n",
       "  mean: 0.86797, std: 0.02846, params: {u'learning_rate': 0.1, u'min_samples_leaf': 15, u'subsample': 0.9, u'min_samples_split': 25, u'max_features': 8, u'max_depth': 15},\n",
       "  mean: 0.86996, std: 0.02740, params: {u'learning_rate': 0.2, u'min_samples_leaf': 37, u'subsample': 0.75, u'min_samples_split': 14, u'max_features': 8, u'max_depth': 15},\n",
       "  mean: 0.86608, std: 0.02288, params: {u'learning_rate': 0.1, u'min_samples_leaf': 37, u'subsample': 0.85, u'min_samples_split': 33, u'max_features': 2, u'max_depth': 15},\n",
       "  mean: 0.86376, std: 0.03092, params: {u'learning_rate': 0.2, u'min_samples_leaf': 18, u'subsample': 0.8, u'min_samples_split': 38, u'max_features': 1, u'max_depth': 3},\n",
       "  mean: 0.86191, std: 0.02476, params: {u'learning_rate': 0.15, u'min_samples_leaf': 41, u'subsample': 0.8, u'min_samples_split': 13, u'max_features': 4, u'max_depth': 3},\n",
       "  mean: 0.86957, std: 0.02316, params: {u'learning_rate': 0.2, u'min_samples_leaf': 40, u'subsample': 0.9, u'min_samples_split': 27, u'max_features': 4, u'max_depth': 15},\n",
       "  mean: 0.84195, std: 0.02525, params: {u'learning_rate': 0.05, u'min_samples_leaf': 44, u'subsample': 0.75, u'min_samples_split': 46, u'max_features': 2, u'max_depth': 18},\n",
       "  mean: 0.84019, std: 0.02603, params: {u'learning_rate': 0.05, u'min_samples_leaf': 45, u'subsample': 0.85, u'min_samples_split': 27, u'max_features': 3, u'max_depth': 2},\n",
       "  mean: 0.87042, std: 0.02520, params: {u'learning_rate': 0.2, u'min_samples_leaf': 34, u'subsample': 0.85, u'min_samples_split': 21, u'max_features': 6, u'max_depth': 11},\n",
       "  mean: 0.86481, std: 0.02314, params: {u'learning_rate': 0.1, u'min_samples_leaf': 39, u'subsample': 0.85, u'min_samples_split': 29, u'max_features': 5, u'max_depth': 3},\n",
       "  mean: 0.84548, std: 0.03071, params: {u'learning_rate': 0.05, u'min_samples_leaf': 11, u'subsample': 0.75, u'min_samples_split': 27, u'max_features': 2, u'max_depth': 2},\n",
       "  mean: 0.86479, std: 0.02686, params: {u'learning_rate': 0.15, u'min_samples_leaf': 32, u'subsample': 0.75, u'min_samples_split': 45, u'max_features': 3, u'max_depth': 3},\n",
       "  mean: 0.85927, std: 0.02154, params: {u'learning_rate': 0.1, u'min_samples_leaf': 45, u'subsample': 0.8, u'min_samples_split': 11, u'max_features': 4, u'max_depth': 10},\n",
       "  mean: 0.87067, std: 0.02564, params: {u'learning_rate': 0.2, u'min_samples_leaf': 20, u'subsample': 0.9, u'min_samples_split': 44, u'max_features': 5, u'max_depth': 10},\n",
       "  mean: 0.85906, std: 0.02190, params: {u'learning_rate': 0.05, u'min_samples_leaf': 33, u'subsample': 0.7, u'min_samples_split': 26, u'max_features': 9, u'max_depth': 13},\n",
       "  mean: 0.87368, std: 0.02828, params: {u'learning_rate': 0.2, u'min_samples_leaf': 28, u'subsample': 0.8, u'min_samples_split': 27, u'max_features': 3, u'max_depth': 8},\n",
       "  mean: 0.86637, std: 0.02450, params: {u'learning_rate': 0.15, u'min_samples_leaf': 5, u'subsample': 0.7, u'min_samples_split': 21, u'max_features': 9, u'max_depth': 5},\n",
       "  mean: 0.85835, std: 0.02757, params: {u'learning_rate': 0.15, u'min_samples_leaf': 4, u'subsample': 0.75, u'min_samples_split': 35, u'max_features': 9, u'max_depth': 8},\n",
       "  mean: 0.86955, std: 0.02560, params: {u'learning_rate': 0.2, u'min_samples_leaf': 10, u'subsample': 0.7, u'min_samples_split': 2, u'max_features': 2, u'max_depth': 13},\n",
       "  mean: 0.86777, std: 0.03313, params: {u'learning_rate': 0.1, u'min_samples_leaf': 12, u'subsample': 0.8, u'min_samples_split': 18, u'max_features': 9, u'max_depth': 8},\n",
       "  mean: 0.86232, std: 0.03348, params: {u'learning_rate': 0.15, u'min_samples_leaf': 1, u'subsample': 0.7, u'min_samples_split': 34, u'max_features': 9, u'max_depth': 15},\n",
       "  mean: 0.86351, std: 0.02769, params: {u'learning_rate': 0.2, u'min_samples_leaf': 44, u'subsample': 0.7, u'min_samples_split': 12, u'max_features': 7, u'max_depth': 12},\n",
       "  mean: 0.86097, std: 0.02258, params: {u'learning_rate': 0.05, u'min_samples_leaf': 32, u'subsample': 0.85, u'min_samples_split': 35, u'max_features': 5, u'max_depth': 10},\n",
       "  mean: 0.86851, std: 0.02996, params: {u'learning_rate': 0.2, u'min_samples_leaf': 15, u'subsample': 0.85, u'min_samples_split': 8, u'max_features': 2, u'max_depth': 15},\n",
       "  mean: 0.86792, std: 0.02963, params: {u'learning_rate': 0.2, u'min_samples_leaf': 17, u'subsample': 0.9, u'min_samples_split': 11, u'max_features': 3, u'max_depth': 10},\n",
       "  mean: 0.85024, std: 0.02147, params: {u'learning_rate': 0.15, u'min_samples_leaf': 45, u'subsample': 0.7, u'min_samples_split': 29, u'max_features': 1, u'max_depth': 7},\n",
       "  mean: 0.87131, std: 0.02691, params: {u'learning_rate': 0.05, u'min_samples_leaf': 18, u'subsample': 0.85, u'min_samples_split': 31, u'max_features': 5, u'max_depth': 12},\n",
       "  mean: 0.87047, std: 0.02689, params: {u'learning_rate': 0.2, u'min_samples_leaf': 27, u'subsample': 0.9, u'min_samples_split': 15, u'max_features': 5, u'max_depth': 9},\n",
       "  mean: 0.86458, std: 0.02455, params: {u'learning_rate': 0.1, u'min_samples_leaf': 39, u'subsample': 0.85, u'min_samples_split': 48, u'max_features': 4, u'max_depth': 6},\n",
       "  mean: 0.86484, std: 0.03024, params: {u'learning_rate': 0.1, u'min_samples_leaf': 4, u'subsample': 0.75, u'min_samples_split': 17, u'max_features': 8, u'max_depth': 7},\n",
       "  mean: 0.86462, std: 0.02895, params: {u'learning_rate': 0.1, u'min_samples_leaf': 9, u'subsample': 0.85, u'min_samples_split': 26, u'max_features': 6, u'max_depth': 17},\n",
       "  mean: 0.85484, std: 0.02504, params: {u'learning_rate': 0.05, u'min_samples_leaf': 41, u'subsample': 0.9, u'min_samples_split': 5, u'max_features': 4, u'max_depth': 16},\n",
       "  mean: 0.85301, std: 0.02748, params: {u'learning_rate': 0.2, u'min_samples_leaf': 9, u'subsample': 0.7, u'min_samples_split': 26, u'max_features': 9, u'max_depth': 9},\n",
       "  mean: 0.86194, std: 0.02802, params: {u'learning_rate': 0.15, u'min_samples_leaf': 43, u'subsample': 0.85, u'min_samples_split': 24, u'max_features': 2, u'max_depth': 14},\n",
       "  mean: 0.86935, std: 0.02540, params: {u'learning_rate': 0.05, u'min_samples_leaf': 26, u'subsample': 0.9, u'min_samples_split': 17, u'max_features': 7, u'max_depth': 11},\n",
       "  mean: 0.85173, std: 0.02526, params: {u'learning_rate': 0.1, u'min_samples_leaf': 8, u'subsample': 0.9, u'min_samples_split': 25, u'max_features': 1, u'max_depth': 2},\n",
       "  mean: 0.86232, std: 0.03137, params: {u'learning_rate': 0.2, u'min_samples_leaf': 10, u'subsample': 0.8, u'min_samples_split': 34, u'max_features': 1, u'max_depth': 11},\n",
       "  mean: 0.86813, std: 0.02972, params: {u'learning_rate': 0.05, u'min_samples_leaf': 19, u'subsample': 0.9, u'min_samples_split': 2, u'max_features': 8, u'max_depth': 9},\n",
       "  mean: 0.87107, std: 0.02688, params: {u'learning_rate': 0.15, u'min_samples_leaf': 32, u'subsample': 0.85, u'min_samples_split': 40, u'max_features': 4, u'max_depth': 17},\n",
       "  mean: 0.86559, std: 0.03957, params: {u'learning_rate': 0.1, u'min_samples_leaf': 5, u'subsample': 0.9, u'min_samples_split': 13, u'max_features': 1, u'max_depth': 11},\n",
       "  mean: 0.86670, std: 0.02773, params: {u'learning_rate': 0.2, u'min_samples_leaf': 41, u'subsample': 0.8, u'min_samples_split': 3, u'max_features': 7, u'max_depth': 12},\n",
       "  mean: 0.86431, std: 0.03047, params: {u'learning_rate': 0.15, u'min_samples_leaf': 11, u'subsample': 0.7, u'min_samples_split': 19, u'max_features': 4, u'max_depth': 16},\n",
       "  mean: 0.85565, std: 0.02900, params: {u'learning_rate': 0.2, u'min_samples_leaf': 38, u'subsample': 0.75, u'min_samples_split': 19, u'max_features': 4, u'max_depth': 2},\n",
       "  mean: 0.85036, std: 0.02358, params: {u'learning_rate': 0.05, u'min_samples_leaf': 42, u'subsample': 0.7, u'min_samples_split': 34, u'max_features': 4, u'max_depth': 15},\n",
       "  mean: 0.86856, std: 0.02903, params: {u'learning_rate': 0.15, u'min_samples_leaf': 15, u'subsample': 0.75, u'min_samples_split': 10, u'max_features': 9, u'max_depth': 14},\n",
       "  mean: 0.87238, std: 0.02618, params: {u'learning_rate': 0.15, u'min_samples_leaf': 21, u'subsample': 0.9, u'min_samples_split': 6, u'max_features': 8, u'max_depth': 14},\n",
       "  mean: 0.86578, std: 0.03350, params: {u'learning_rate': 0.1, u'min_samples_leaf': 2, u'subsample': 0.9, u'min_samples_split': 26, u'max_features': 3, u'max_depth': 17},\n",
       "  mean: 0.86761, std: 0.02452, params: {u'learning_rate': 0.15, u'min_samples_leaf': 35, u'subsample': 0.85, u'min_samples_split': 21, u'max_features': 3, u'max_depth': 6},\n",
       "  mean: 0.84214, std: 0.02493, params: {u'learning_rate': 0.05, u'min_samples_leaf': 49, u'subsample': 0.7, u'min_samples_split': 49, u'max_features': 3, u'max_depth': 12},\n",
       "  mean: 0.86540, std: 0.02950, params: {u'learning_rate': 0.15, u'min_samples_leaf': 9, u'subsample': 0.9, u'min_samples_split': 34, u'max_features': 4, u'max_depth': 9},\n",
       "  mean: 0.85998, std: 0.02356, params: {u'learning_rate': 0.05, u'min_samples_leaf': 35, u'subsample': 0.85, u'min_samples_split': 15, u'max_features': 7, u'max_depth': 7},\n",
       "  mean: 0.85868, std: 0.03125, params: {u'learning_rate': 0.2, u'min_samples_leaf': 2, u'subsample': 0.75, u'min_samples_split': 37, u'max_features': 6, u'max_depth': 14},\n",
       "  mean: 0.84435, std: 0.02449, params: {u'learning_rate': 0.05, u'min_samples_leaf': 48, u'subsample': 0.7, u'min_samples_split': 41, u'max_features': 3, u'max_depth': 10},\n",
       "  mean: 0.86314, std: 0.03459, params: {u'learning_rate': 0.1, u'min_samples_leaf': 5, u'subsample': 0.8, u'min_samples_split': 39, u'max_features': 9, u'max_depth': 14},\n",
       "  mean: 0.85792, std: 0.01984, params: {u'learning_rate': 0.15, u'min_samples_leaf': 39, u'subsample': 0.8, u'min_samples_split': 25, u'max_features': 3, u'max_depth': 2},\n",
       "  mean: 0.87441, std: 0.02734, params: {u'learning_rate': 0.15, u'min_samples_leaf': 26, u'subsample': 0.75, u'min_samples_split': 15, u'max_features': 8, u'max_depth': 10},\n",
       "  mean: 0.86501, std: 0.03710, params: {u'learning_rate': 0.1, u'min_samples_leaf': 4, u'subsample': 0.8, u'min_samples_split': 20, u'max_features': 2, u'max_depth': 7},\n",
       "  mean: 0.86442, std: 0.03079, params: {u'learning_rate': 0.05, u'min_samples_leaf': 5, u'subsample': 0.8, u'min_samples_split': 17, u'max_features': 7, u'max_depth': 3},\n",
       "  mean: 0.84797, std: 0.02367, params: {u'learning_rate': 0.05, u'min_samples_leaf': 48, u'subsample': 0.8, u'min_samples_split': 48, u'max_features': 6, u'max_depth': 11},\n",
       "  mean: 0.86273, std: 0.02543, params: {u'learning_rate': 0.1, u'min_samples_leaf': 36, u'subsample': 0.8, u'min_samples_split': 10, u'max_features': 1, u'max_depth': 13},\n",
       "  mean: 0.86907, std: 0.02610, params: {u'learning_rate': 0.15, u'min_samples_leaf': 25, u'subsample': 0.85, u'min_samples_split': 22, u'max_features': 4, u'max_depth': 11},\n",
       "  mean: 0.86891, std: 0.03000, params: {u'learning_rate': 0.05, u'min_samples_leaf': 13, u'subsample': 0.75, u'min_samples_split': 4, u'max_features': 3, u'max_depth': 9},\n",
       "  mean: 0.86978, std: 0.03353, params: {u'learning_rate': 0.05, u'min_samples_leaf': 4, u'subsample': 0.75, u'min_samples_split': 47, u'max_features': 2, u'max_depth': 15},\n",
       "  mean: 0.86165, std: 0.03138, params: {u'learning_rate': 0.05, u'min_samples_leaf': 12, u'subsample': 0.75, u'min_samples_split': 28, u'max_features': 9, u'max_depth': 4},\n",
       "  mean: 0.87317, std: 0.02897, params: {u'learning_rate': 0.2, u'min_samples_leaf': 22, u'subsample': 0.75, u'min_samples_split': 32, u'max_features': 9, u'max_depth': 9},\n",
       "  mean: 0.86526, std: 0.03207, params: {u'learning_rate': 0.2, u'min_samples_leaf': 16, u'subsample': 0.85, u'min_samples_split': 29, u'max_features': 6, u'max_depth': 3},\n",
       "  mean: 0.86419, std: 0.02609, params: {u'learning_rate': 0.1, u'min_samples_leaf': 46, u'subsample': 0.9, u'min_samples_split': 27, u'max_features': 5, u'max_depth': 7},\n",
       "  mean: 0.86498, std: 0.03203, params: {u'learning_rate': 0.15, u'min_samples_leaf': 16, u'subsample': 0.7, u'min_samples_split': 34, u'max_features': 3, u'max_depth': 4},\n",
       "  mean: 0.86949, std: 0.02729, params: {u'learning_rate': 0.15, u'min_samples_leaf': 26, u'subsample': 0.9, u'min_samples_split': 12, u'max_features': 3, u'max_depth': 10},\n",
       "  mean: 0.86149, std: 0.02454, params: {u'learning_rate': 0.2, u'min_samples_leaf': 36, u'subsample': 0.9, u'min_samples_split': 14, u'max_features': 3, u'max_depth': 2},\n",
       "  mean: 0.86321, std: 0.02407, params: {u'learning_rate': 0.15, u'min_samples_leaf': 46, u'subsample': 0.75, u'min_samples_split': 5, u'max_features': 5, u'max_depth': 7},\n",
       "  mean: 0.85540, std: 0.02709, params: {u'learning_rate': 0.05, u'min_samples_leaf': 31, u'subsample': 0.75, u'min_samples_split': 7, u'max_features': 1, u'max_depth': 17},\n",
       "  mean: 0.86586, std: 0.02762, params: {u'learning_rate': 0.2, u'min_samples_leaf': 39, u'subsample': 0.75, u'min_samples_split': 41, u'max_features': 8, u'max_depth': 3},\n",
       "  mean: 0.86647, std: 0.02274, params: {u'learning_rate': 0.15, u'min_samples_leaf': 47, u'subsample': 0.8, u'min_samples_split': 13, u'max_features': 7, u'max_depth': 12},\n",
       "  mean: 0.87043, std: 0.02854, params: {u'learning_rate': 0.1, u'min_samples_leaf': 26, u'subsample': 0.9, u'min_samples_split': 9, u'max_features': 4, u'max_depth': 14},\n",
       "  mean: 0.86122, std: 0.02438, params: {u'learning_rate': 0.15, u'min_samples_leaf': 48, u'subsample': 0.8, u'min_samples_split': 26, u'max_features': 4, u'max_depth': 13},\n",
       "  mean: 0.87000, std: 0.03005, params: {u'learning_rate': 0.05, u'min_samples_leaf': 15, u'subsample': 0.85, u'min_samples_split': 14, u'max_features': 3, u'max_depth': 14},\n",
       "  mean: 0.85958, std: 0.02358, params: {u'learning_rate': 0.05, u'min_samples_leaf': 29, u'subsample': 0.75, u'min_samples_split': 34, u'max_features': 7, u'max_depth': 3},\n",
       "  mean: 0.85450, std: 0.02611, params: {u'learning_rate': 0.1, u'min_samples_leaf': 45, u'subsample': 0.85, u'min_samples_split': 10, u'max_features': 1, u'max_depth': 11},\n",
       "  mean: 0.87126, std: 0.02511, params: {u'learning_rate': 0.15, u'min_samples_leaf': 33, u'subsample': 0.75, u'min_samples_split': 17, u'max_features': 6, u'max_depth': 7},\n",
       "  mean: 0.86972, std: 0.03210, params: {u'learning_rate': 0.1, u'min_samples_leaf': 4, u'subsample': 0.75, u'min_samples_split': 44, u'max_features': 7, u'max_depth': 11},\n",
       "  mean: 0.86379, std: 0.01975, params: {u'learning_rate': 0.05, u'min_samples_leaf': 10, u'subsample': 0.7, u'min_samples_split': 33, u'max_features': 9, u'max_depth': 2},\n",
       "  mean: 0.86362, std: 0.02864, params: {u'learning_rate': 0.2, u'min_samples_leaf': 29, u'subsample': 0.75, u'min_samples_split': 22, u'max_features': 3, u'max_depth': 12},\n",
       "  mean: 0.87035, std: 0.02630, params: {u'learning_rate': 0.1, u'min_samples_leaf': 31, u'subsample': 0.9, u'min_samples_split': 29, u'max_features': 9, u'max_depth': 13},\n",
       "  mean: 0.85472, std: 0.01896, params: {u'learning_rate': 0.05, u'min_samples_leaf': 43, u'subsample': 0.8, u'min_samples_split': 12, u'max_features': 7, u'max_depth': 13},\n",
       "  mean: 0.86890, std: 0.03223, params: {u'learning_rate': 0.1, u'min_samples_leaf': 9, u'subsample': 0.75, u'min_samples_split': 18, u'max_features': 5, u'max_depth': 18},\n",
       "  mean: 0.87043, std: 0.03012, params: {u'learning_rate': 0.05, u'min_samples_leaf': 13, u'subsample': 0.7, u'min_samples_split': 13, u'max_features': 9, u'max_depth': 17},\n",
       "  mean: 0.86402, std: 0.02415, params: {u'learning_rate': 0.1, u'min_samples_leaf': 41, u'subsample': 0.8, u'min_samples_split': 49, u'max_features': 4, u'max_depth': 15},\n",
       "  mean: 0.86850, std: 0.02873, params: {u'learning_rate': 0.05, u'min_samples_leaf': 14, u'subsample': 0.85, u'min_samples_split': 23, u'max_features': 5, u'max_depth': 8},\n",
       "  mean: 0.86462, std: 0.02914, params: {u'learning_rate': 0.15, u'min_samples_leaf': 15, u'subsample': 0.7, u'min_samples_split': 44, u'max_features': 9, u'max_depth': 6},\n",
       "  mean: 0.86607, std: 0.02595, params: {u'learning_rate': 0.05, u'min_samples_leaf': 23, u'subsample': 0.85, u'min_samples_split': 29, u'max_features': 4, u'max_depth': 10},\n",
       "  mean: 0.86964, std: 0.02582, params: {u'learning_rate': 0.15, u'min_samples_leaf': 24, u'subsample': 0.75, u'min_samples_split': 44, u'max_features': 9, u'max_depth': 3},\n",
       "  mean: 0.86437, std: 0.02327, params: {u'learning_rate': 0.05, u'min_samples_leaf': 27, u'subsample': 0.8, u'min_samples_split': 14, u'max_features': 5, u'max_depth': 9},\n",
       "  mean: 0.82648, std: 0.04115, params: {u'learning_rate': 0.05, u'min_samples_leaf': 36, u'subsample': 0.7, u'min_samples_split': 44, u'max_features': 1, u'max_depth': 2},\n",
       "  mean: 0.85953, std: 0.03021, params: {u'learning_rate': 0.2, u'min_samples_leaf': 9, u'subsample': 0.7, u'min_samples_split': 18, u'max_features': 3, u'max_depth': 11},\n",
       "  mean: 0.86284, std: 0.02674, params: {u'learning_rate': 0.15, u'min_samples_leaf': 33, u'subsample': 0.75, u'min_samples_split': 18, u'max_features': 1, u'max_depth': 5},\n",
       "  mean: 0.87092, std: 0.02659, params: {u'learning_rate': 0.15, u'min_samples_leaf': 18, u'subsample': 0.85, u'min_samples_split': 48, u'max_features': 5, u'max_depth': 7},\n",
       "  mean: 0.85869, std: 0.03154, params: {u'learning_rate': 0.2, u'min_samples_leaf': 11, u'subsample': 0.7, u'min_samples_split': 14, u'max_features': 9, u'max_depth': 7},\n",
       "  mean: 0.87193, std: 0.02588, params: {u'learning_rate': 0.2, u'min_samples_leaf': 24, u'subsample': 0.9, u'min_samples_split': 7, u'max_features': 3, u'max_depth': 14},\n",
       "  mean: 0.86884, std: 0.02946, params: {u'learning_rate': 0.15, u'min_samples_leaf': 24, u'subsample': 0.75, u'min_samples_split': 16, u'max_features': 5, u'max_depth': 8},\n",
       "  mean: 0.86095, std: 0.03411, params: {u'learning_rate': 0.05, u'min_samples_leaf': 1, u'subsample': 0.9, u'min_samples_split': 13, u'max_features': 9, u'max_depth': 10},\n",
       "  mean: 0.86833, std: 0.02781, params: {u'learning_rate': 0.05, u'min_samples_leaf': 7, u'subsample': 0.7, u'min_samples_split': 39, u'max_features': 8, u'max_depth': 3},\n",
       "  mean: 0.86938, std: 0.02690, params: {u'learning_rate': 0.15, u'min_samples_leaf': 21, u'subsample': 0.7, u'min_samples_split': 39, u'max_features': 3, u'max_depth': 8},\n",
       "  mean: 0.86091, std: 0.02604, params: {u'learning_rate': 0.2, u'min_samples_leaf': 48, u'subsample': 0.7, u'min_samples_split': 27, u'max_features': 7, u'max_depth': 4},\n",
       "  mean: 0.84788, std: 0.02473, params: {u'learning_rate': 0.05, u'min_samples_leaf': 37, u'subsample': 0.9, u'min_samples_split': 37, u'max_features': 3, u'max_depth': 2},\n",
       "  mean: 0.86140, std: 0.02386, params: {u'learning_rate': 0.05, u'min_samples_leaf': 28, u'subsample': 0.8, u'min_samples_split': 16, u'max_features': 5, u'max_depth': 4},\n",
       "  mean: 0.87169, std: 0.02644, params: {u'learning_rate': 0.1, u'min_samples_leaf': 22, u'subsample': 0.75, u'min_samples_split': 28, u'max_features': 7, u'max_depth': 15},\n",
       "  mean: 0.86808, std: 0.02827, params: {u'learning_rate': 0.05, u'min_samples_leaf': 17, u'subsample': 0.8, u'min_samples_split': 32, u'max_features': 2, u'max_depth': 12},\n",
       "  mean: 0.86346, std: 0.02461, params: {u'learning_rate': 0.05, u'min_samples_leaf': 31, u'subsample': 0.85, u'min_samples_split': 33, u'max_features': 8, u'max_depth': 6},\n",
       "  mean: 0.86715, std: 0.02880, params: {u'learning_rate': 0.15, u'min_samples_leaf': 28, u'subsample': 0.75, u'min_samples_split': 10, u'max_features': 5, u'max_depth': 18},\n",
       "  mean: 0.84703, std: 0.02661, params: {u'learning_rate': 0.05, u'min_samples_leaf': 42, u'subsample': 0.7, u'min_samples_split': 10, u'max_features': 3, u'max_depth': 13},\n",
       "  mean: 0.86864, std: 0.02812, params: {u'learning_rate': 0.2, u'min_samples_leaf': 26, u'subsample': 0.8, u'min_samples_split': 27, u'max_features': 4, u'max_depth': 3},\n",
       "  mean: 0.86424, std: 0.02837, params: {u'learning_rate': 0.1, u'min_samples_leaf': 16, u'subsample': 0.7, u'min_samples_split': 26, u'max_features': 3, u'max_depth': 3},\n",
       "  mean: 0.86388, std: 0.03185, params: {u'learning_rate': 0.05, u'min_samples_leaf': 2, u'subsample': 0.75, u'min_samples_split': 18, u'max_features': 5, u'max_depth': 7},\n",
       "  mean: 0.85294, std: 0.02299, params: {u'learning_rate': 0.1, u'min_samples_leaf': 23, u'subsample': 0.7, u'min_samples_split': 4, u'max_features': 2, u'max_depth': 2},\n",
       "  mean: 0.87129, std: 0.02641, params: {u'learning_rate': 0.2, u'min_samples_leaf': 30, u'subsample': 0.9, u'min_samples_split': 2, u'max_features': 1, u'max_depth': 15},\n",
       "  mean: 0.86508, std: 0.02333, params: {u'learning_rate': 0.1, u'min_samples_leaf': 37, u'subsample': 0.9, u'min_samples_split': 41, u'max_features': 8, u'max_depth': 6},\n",
       "  mean: 0.83837, std: 0.03382, params: {u'learning_rate': 0.05, u'min_samples_leaf': 43, u'subsample': 0.75, u'min_samples_split': 31, u'max_features': 1, u'max_depth': 11},\n",
       "  mean: 0.86925, std: 0.02356, params: {u'learning_rate': 0.2, u'min_samples_leaf': 36, u'subsample': 0.8, u'min_samples_split': 27, u'max_features': 7, u'max_depth': 15},\n",
       "  mean: 0.86897, std: 0.02889, params: {u'learning_rate': 0.15, u'min_samples_leaf': 20, u'subsample': 0.7, u'min_samples_split': 29, u'max_features': 8, u'max_depth': 12},\n",
       "  mean: 0.86628, std: 0.02853, params: {u'learning_rate': 0.05, u'min_samples_leaf': 4, u'subsample': 0.7, u'min_samples_split': 40, u'max_features': 6, u'max_depth': 3},\n",
       "  mean: 0.86836, std: 0.02497, params: {u'learning_rate': 0.2, u'min_samples_leaf': 44, u'subsample': 0.85, u'min_samples_split': 32, u'max_features': 8, u'max_depth': 15},\n",
       "  mean: 0.86141, std: 0.02786, params: {u'learning_rate': 0.2, u'min_samples_leaf': 40, u'subsample': 0.7, u'min_samples_split': 4, u'max_features': 2, u'max_depth': 10},\n",
       "  mean: 0.86276, std: 0.02674, params: {u'learning_rate': 0.05, u'min_samples_leaf': 26, u'subsample': 0.75, u'min_samples_split': 33, u'max_features': 4, u'max_depth': 11},\n",
       "  mean: 0.86893, std: 0.02844, params: {u'learning_rate': 0.1, u'min_samples_leaf': 17, u'subsample': 0.7, u'min_samples_split': 30, u'max_features': 5, u'max_depth': 3},\n",
       "  mean: 0.86419, std: 0.02625, params: {u'learning_rate': 0.1, u'min_samples_leaf': 32, u'subsample': 0.75, u'min_samples_split': 17, u'max_features': 7, u'max_depth': 13},\n",
       "  mean: 0.86441, std: 0.03402, params: {u'learning_rate': 0.2, u'min_samples_leaf': 19, u'subsample': 0.75, u'min_samples_split': 39, u'max_features': 3, u'max_depth': 16},\n",
       "  mean: 0.86397, std: 0.03783, params: {u'learning_rate': 0.05, u'min_samples_leaf': 2, u'subsample': 0.85, u'min_samples_split': 10, u'max_features': 1, u'max_depth': 9},\n",
       "  mean: 0.86755, std: 0.02494, params: {u'learning_rate': 0.2, u'min_samples_leaf': 46, u'subsample': 0.85, u'min_samples_split': 44, u'max_features': 7, u'max_depth': 12},\n",
       "  mean: 0.86478, std: 0.03436, params: {u'learning_rate': 0.2, u'min_samples_leaf': 3, u'subsample': 0.7, u'min_samples_split': 35, u'max_features': 5, u'max_depth': 11},\n",
       "  mean: 0.86907, std: 0.02464, params: {u'learning_rate': 0.1, u'min_samples_leaf': 24, u'subsample': 0.75, u'min_samples_split': 21, u'max_features': 2, u'max_depth': 15},\n",
       "  mean: 0.86382, std: 0.02864, params: {u'learning_rate': 0.2, u'min_samples_leaf': 41, u'subsample': 0.8, u'min_samples_split': 22, u'max_features': 1, u'max_depth': 17},\n",
       "  mean: 0.87146, std: 0.02706, params: {u'learning_rate': 0.15, u'min_samples_leaf': 13, u'subsample': 0.7, u'min_samples_split': 43, u'max_features': 1, u'max_depth': 14},\n",
       "  mean: 0.86522, std: 0.02440, params: {u'learning_rate': 0.2, u'min_samples_leaf': 17, u'subsample': 0.75, u'min_samples_split': 39, u'max_features': 6, u'max_depth': 18},\n",
       "  mean: 0.86786, std: 0.02776, params: {u'learning_rate': 0.15, u'min_samples_leaf': 20, u'subsample': 0.9, u'min_samples_split': 36, u'max_features': 5, u'max_depth': 9},\n",
       "  mean: 0.86481, std: 0.02440, params: {u'learning_rate': 0.15, u'min_samples_leaf': 31, u'subsample': 0.7, u'min_samples_split': 44, u'max_features': 4, u'max_depth': 9},\n",
       "  mean: 0.84635, std: 0.02881, params: {u'learning_rate': 0.05, u'min_samples_leaf': 46, u'subsample': 0.8, u'min_samples_split': 37, u'max_features': 3, u'max_depth': 12},\n",
       "  mean: 0.86296, std: 0.03165, params: {u'learning_rate': 0.15, u'min_samples_leaf': 2, u'subsample': 0.75, u'min_samples_split': 27, u'max_features': 4, u'max_depth': 19},\n",
       "  mean: 0.86832, std: 0.02713, params: {u'learning_rate': 0.2, u'min_samples_leaf': 37, u'subsample': 0.85, u'min_samples_split': 28, u'max_features': 2, u'max_depth': 14},\n",
       "  mean: 0.85362, std: 0.02233, params: {u'learning_rate': 0.2, u'min_samples_leaf': 49, u'subsample': 0.75, u'min_samples_split': 31, u'max_features': 1, u'max_depth': 6},\n",
       "  mean: 0.87260, std: 0.02148, params: {u'learning_rate': 0.2, u'min_samples_leaf': 29, u'subsample': 0.75, u'min_samples_split': 11, u'max_features': 9, u'max_depth': 8},\n",
       "  mean: 0.86503, std: 0.02769, params: {u'learning_rate': 0.1, u'min_samples_leaf': 5, u'subsample': 0.75, u'min_samples_split': 37, u'max_features': 8, u'max_depth': 14},\n",
       "  mean: 0.87202, std: 0.02547, params: {u'learning_rate': 0.15, u'min_samples_leaf': 21, u'subsample': 0.7, u'min_samples_split': 9, u'max_features': 2, u'max_depth': 13},\n",
       "  mean: 0.84890, std: 0.02686, params: {u'learning_rate': 0.05, u'min_samples_leaf': 47, u'subsample': 0.85, u'min_samples_split': 20, u'max_features': 3, u'max_depth': 16},\n",
       "  mean: 0.87206, std: 0.02304, params: {u'learning_rate': 0.15, u'min_samples_leaf': 30, u'subsample': 0.8, u'min_samples_split': 9, u'max_features': 9, u'max_depth': 6},\n",
       "  mean: 0.86100, std: 0.02804, params: {u'learning_rate': 0.05, u'min_samples_leaf': 28, u'subsample': 0.7, u'min_samples_split': 25, u'max_features': 8, u'max_depth': 12},\n",
       "  mean: 0.87268, std: 0.02921, params: {u'learning_rate': 0.05, u'min_samples_leaf': 14, u'subsample': 0.75, u'min_samples_split': 41, u'max_features': 8, u'max_depth': 15},\n",
       "  mean: 0.86318, std: 0.03114, params: {u'learning_rate': 0.15, u'min_samples_leaf': 11, u'subsample': 0.8, u'min_samples_split': 22, u'max_features': 5, u'max_depth': 7},\n",
       "  mean: 0.86054, std: 0.03558, params: {u'learning_rate': 0.2, u'min_samples_leaf': 3, u'subsample': 0.8, u'min_samples_split': 5, u'max_features': 2, u'max_depth': 3},\n",
       "  mean: 0.86846, std: 0.03386, params: {u'learning_rate': 0.15, u'min_samples_leaf': 16, u'subsample': 0.9, u'min_samples_split': 44, u'max_features': 4, u'max_depth': 18},\n",
       "  mean: 0.84466, std: 0.02884, params: {u'learning_rate': 0.05, u'min_samples_leaf': 48, u'subsample': 0.85, u'min_samples_split': 44, u'max_features': 2, u'max_depth': 7},\n",
       "  mean: 0.86982, std: 0.03494, params: {u'learning_rate': 0.05, u'min_samples_leaf': 1, u'subsample': 0.75, u'min_samples_split': 6, u'max_features': 4, u'max_depth': 8},\n",
       "  mean: 0.86029, std: 0.01926, params: {u'learning_rate': 0.05, u'min_samples_leaf': 42, u'subsample': 0.85, u'min_samples_split': 23, u'max_features': 9, u'max_depth': 10},\n",
       "  mean: 0.86712, std: 0.03176, params: {u'learning_rate': 0.1, u'min_samples_leaf': 11, u'subsample': 0.8, u'min_samples_split': 5, u'max_features': 5, u'max_depth': 19},\n",
       "  mean: 0.87055, std: 0.02798, params: {u'learning_rate': 0.05, u'min_samples_leaf': 16, u'subsample': 0.85, u'min_samples_split': 23, u'max_features': 7, u'max_depth': 11},\n",
       "  mean: 0.87459, std: 0.02598, params: {u'learning_rate': 0.15, u'min_samples_leaf': 29, u'subsample': 0.85, u'min_samples_split': 43, u'max_features': 7, u'max_depth': 11},\n",
       "  mean: 0.86720, std: 0.02634, params: {u'learning_rate': 0.2, u'min_samples_leaf': 37, u'subsample': 0.8, u'min_samples_split': 44, u'max_features': 3, u'max_depth': 9},\n",
       "  mean: 0.86846, std: 0.02358, params: {u'learning_rate': 0.15, u'min_samples_leaf': 46, u'subsample': 0.8, u'min_samples_split': 46, u'max_features': 9, u'max_depth': 12},\n",
       "  mean: 0.86909, std: 0.02697, params: {u'learning_rate': 0.1, u'min_samples_leaf': 27, u'subsample': 0.8, u'min_samples_split': 49, u'max_features': 2, u'max_depth': 15},\n",
       "  mean: 0.86198, std: 0.03059, params: {u'learning_rate': 0.15, u'min_samples_leaf': 5, u'subsample': 0.7, u'min_samples_split': 34, u'max_features': 9, u'max_depth': 14},\n",
       "  mean: 0.86726, std: 0.02776, params: {u'learning_rate': 0.2, u'min_samples_leaf': 41, u'subsample': 0.75, u'min_samples_split': 41, u'max_features': 8, u'max_depth': 11},\n",
       "  mean: 0.86820, std: 0.03626, params: {u'learning_rate': 0.05, u'min_samples_leaf': 6, u'subsample': 0.75, u'min_samples_split': 15, u'max_features': 4, u'max_depth': 18},\n",
       "  mean: 0.86637, std: 0.02628, params: {u'learning_rate': 0.1, u'min_samples_leaf': 29, u'subsample': 0.75, u'min_samples_split': 43, u'max_features': 1, u'max_depth': 19},\n",
       "  mean: 0.86941, std: 0.03102, params: {u'learning_rate': 0.1, u'min_samples_leaf': 15, u'subsample': 0.7, u'min_samples_split': 2, u'max_features': 3, u'max_depth': 12},\n",
       "  mean: 0.86453, std: 0.02196, params: {u'learning_rate': 0.1, u'min_samples_leaf': 43, u'subsample': 0.9, u'min_samples_split': 48, u'max_features': 4, u'max_depth': 13},\n",
       "  mean: 0.85880, std: 0.02990, params: {u'learning_rate': 0.15, u'min_samples_leaf': 15, u'subsample': 0.75, u'min_samples_split': 44, u'max_features': 1, u'max_depth': 3},\n",
       "  mean: 0.86317, std: 0.02342, params: {u'learning_rate': 0.05, u'min_samples_leaf': 24, u'subsample': 0.85, u'min_samples_split': 29, u'max_features': 5, u'max_depth': 3}],\n",
       " {u'learning_rate': 0.1,\n",
       "  u'max_depth': 12,\n",
       "  u'max_features': 5,\n",
       "  u'min_samples_leaf': 16,\n",
       "  u'min_samples_split': 3,\n",
       "  u'subsample': 0.75},\n",
       " 0.8761632029248585)"
      ]
     },
     "execution_count": 103,
     "metadata": {},
     "output_type": "execute_result"
    }
   ],
   "source": [
    "from scipy.stats import randint as sp_randint\n",
    "param_dist = {\n",
    "    'min_samples_split':sp_randint(2, 50),\n",
    "    'min_samples_leaf':sp_randint(1, 50),\n",
    "    'max_depth': sp_randint(2, 20),\n",
    "    'learning_rate': [0.05, 0.1, 0.15, 0.20],\n",
    "    'subsample': [0.7, 0.75, 0.8, 0.85, 0.90],\n",
    "    'max_features': sp_randint(1, 10),\n",
    "}\n",
    "\n",
    "from sklearn.model_selection import RandomizedSearchCV\n",
    "clf = GradientBoostingClassifier(n_estimators=60,max_depth=9,max_features='sqrt', subsample=0.8, random_state=10)\n",
    "gv_search = RandomizedSearchCV(clf, param_distributions=param_dist,\n",
    "    n_iter=400, scoring='roc_auc',n_jobs=4,iid=False, cv=5)\n",
    "gv_search.fit(X_train_prepared.toarray(), y_train)\n",
    "gv_search.grid_scores_, gv_search.best_params_, gv_search.best_score_\n",
    "# modelfit(gv_search.best_estimator_, X_train_prepared, y_train)"
   ]
  },
  {
   "cell_type": "code",
   "execution_count": 150,
   "metadata": {
    "collapsed": false
   },
   "outputs": [
    {
     "name": "stdout",
     "output_type": "stream",
     "text": [
      "892,0\n",
      "893,0\n",
      "894,0\n",
      "895,0\n",
      "896,0\n",
      "897,0\n",
      "898,1\n",
      "899,0\n",
      "900,1\n",
      "901,0\n",
      "902,0\n",
      "903,0\n",
      "904,1\n",
      "905,0\n",
      "906,1\n",
      "907,1\n",
      "908,0\n",
      "909,0\n",
      "910,1\n",
      "911,0\n",
      "912,1\n",
      "913,0\n",
      "914,1\n",
      "915,0\n",
      "916,1\n",
      "917,0\n",
      "918,1\n",
      "919,0\n",
      "920,1\n",
      "921,0\n",
      "922,0\n",
      "923,0\n",
      "924,0\n",
      "925,0\n",
      "926,1\n",
      "927,0\n",
      "928,1\n",
      "929,0\n",
      "930,0\n",
      "931,0\n",
      "932,0\n",
      "933,0\n",
      "934,0\n",
      "935,1\n",
      "936,1\n",
      "937,0\n",
      "938,0\n",
      "939,0\n",
      "940,1\n",
      "941,0\n",
      "942,0\n",
      "943,0\n",
      "944,1\n",
      "945,1\n",
      "946,0\n",
      "947,0\n",
      "948,0\n",
      "949,0\n",
      "950,0\n",
      "951,1\n",
      "952,0\n",
      "953,0\n",
      "954,0\n",
      "955,1\n",
      "956,1\n",
      "957,1\n",
      "958,1\n",
      "959,0\n",
      "960,0\n",
      "961,1\n",
      "962,1\n",
      "963,0\n",
      "964,1\n",
      "965,0\n",
      "966,1\n",
      "967,0\n",
      "968,0\n",
      "969,1\n",
      "970,0\n",
      "971,1\n",
      "972,1\n",
      "973,0\n",
      "974,0\n",
      "975,0\n",
      "976,0\n",
      "977,0\n",
      "978,1\n",
      "979,1\n",
      "980,1\n",
      "981,1\n",
      "982,0\n",
      "983,0\n",
      "984,1\n",
      "985,0\n",
      "986,0\n",
      "987,0\n",
      "988,1\n",
      "989,0\n",
      "990,1\n",
      "991,0\n",
      "992,1\n",
      "993,0\n",
      "994,0\n",
      "995,0\n",
      "996,1\n",
      "997,0\n",
      "998,0\n",
      "999,0\n",
      "1000,0\n",
      "1001,0\n",
      "1002,0\n",
      "1003,1\n",
      "1004,1\n",
      "1005,1\n",
      "1006,1\n",
      "1007,0\n",
      "1008,0\n",
      "1009,1\n",
      "1010,1\n",
      "1011,1\n",
      "1012,1\n",
      "1013,0\n",
      "1014,1\n",
      "1015,0\n",
      "1016,0\n",
      "1017,1\n",
      "1018,0\n",
      "1019,1\n",
      "1020,0\n",
      "1021,0\n",
      "1022,0\n",
      "1023,0\n",
      "1024,0\n",
      "1025,0\n",
      "1026,0\n",
      "1027,0\n",
      "1028,0\n",
      "1029,0\n",
      "1030,1\n",
      "1031,0\n",
      "1032,0\n",
      "1033,1\n",
      "1034,0\n",
      "1035,0\n",
      "1036,0\n",
      "1037,0\n",
      "1038,0\n",
      "1039,0\n",
      "1040,0\n",
      "1041,0\n",
      "1042,1\n",
      "1043,0\n",
      "1044,0\n",
      "1045,1\n",
      "1046,0\n",
      "1047,0\n",
      "1048,1\n",
      "1049,1\n",
      "1050,0\n",
      "1051,1\n",
      "1052,1\n",
      "1053,1\n",
      "1054,1\n",
      "1055,0\n",
      "1056,0\n",
      "1057,0\n",
      "1058,0\n",
      "1059,0\n",
      "1060,1\n",
      "1061,0\n",
      "1062,0\n",
      "1063,0\n",
      "1064,0\n",
      "1065,0\n",
      "1066,0\n",
      "1067,1\n",
      "1068,1\n",
      "1069,1\n",
      "1070,1\n",
      "1071,1\n",
      "1072,0\n",
      "1073,1\n",
      "1074,1\n",
      "1075,0\n",
      "1076,1\n",
      "1077,0\n",
      "1078,1\n",
      "1079,0\n",
      "1080,0\n",
      "1081,0\n",
      "1082,0\n",
      "1083,0\n",
      "1084,0\n",
      "1085,0\n",
      "1086,1\n",
      "1087,0\n",
      "1088,1\n",
      "1089,1\n",
      "1090,0\n",
      "1091,1\n",
      "1092,1\n",
      "1093,1\n",
      "1094,0\n",
      "1095,1\n",
      "1096,0\n",
      "1097,0\n",
      "1098,1\n",
      "1099,0\n",
      "1100,1\n",
      "1101,0\n",
      "1102,0\n",
      "1103,0\n",
      "1104,0\n",
      "1105,1\n",
      "1106,0\n",
      "1107,0\n",
      "1108,1\n",
      "1109,0\n",
      "1110,1\n",
      "1111,0\n",
      "1112,1\n",
      "1113,0\n",
      "1114,1\n",
      "1115,0\n",
      "1116,1\n",
      "1117,1\n",
      "1118,0\n",
      "1119,1\n",
      "1120,0\n",
      "1121,0\n",
      "1122,0\n",
      "1123,1\n",
      "1124,0\n",
      "1125,0\n",
      "1126,1\n",
      "1127,0\n",
      "1128,1\n",
      "1129,0\n",
      "1130,1\n",
      "1131,1\n",
      "1132,1\n",
      "1133,1\n",
      "1134,0\n",
      "1135,0\n",
      "1136,0\n",
      "1137,0\n",
      "1138,1\n",
      "1139,0\n",
      "1140,1\n",
      "1141,0\n",
      "1142,1\n",
      "1143,0\n",
      "1144,0\n",
      "1145,0\n",
      "1146,0\n",
      "1147,0\n",
      "1148,0\n",
      "1149,0\n",
      "1150,1\n",
      "1151,0\n",
      "1152,0\n",
      "1153,0\n",
      "1154,1\n",
      "1155,1\n",
      "1156,0\n",
      "1157,0\n",
      "1158,0\n",
      "1159,0\n",
      "1160,1\n",
      "1161,0\n",
      "1162,0\n",
      "1163,0\n",
      "1164,1\n",
      "1165,1\n",
      "1166,0\n",
      "1167,1\n",
      "1168,0\n",
      "1169,0\n",
      "1170,0\n",
      "1171,0\n",
      "1172,0\n",
      "1173,1\n",
      "1174,1\n",
      "1175,1\n",
      "1176,1\n",
      "1177,0\n",
      "1178,0\n",
      "1179,0\n",
      "1180,0\n",
      "1181,0\n",
      "1182,0\n",
      "1183,1\n",
      "1184,0\n",
      "1185,0\n",
      "1186,0\n",
      "1187,0\n",
      "1188,1\n",
      "1189,0\n",
      "1190,0\n",
      "1191,0\n",
      "1192,0\n",
      "1193,0\n",
      "1194,0\n",
      "1195,0\n",
      "1196,1\n",
      "1197,1\n",
      "1198,0\n",
      "1199,1\n",
      "1200,0\n",
      "1201,0\n",
      "1202,0\n",
      "1203,0\n",
      "1204,0\n",
      "1205,1\n",
      "1206,1\n",
      "1207,1\n",
      "1208,0\n",
      "1209,0\n",
      "1210,0\n",
      "1211,0\n",
      "1212,0\n",
      "1213,0\n",
      "1214,0\n",
      "1215,0\n",
      "1216,1\n",
      "1217,0\n",
      "1218,1\n",
      "1219,0\n",
      "1220,0\n",
      "1221,0\n",
      "1222,1\n",
      "1223,0\n",
      "1224,0\n",
      "1225,0\n",
      "1226,0\n",
      "1227,0\n",
      "1228,0\n",
      "1229,0\n",
      "1230,0\n",
      "1231,0\n",
      "1232,0\n",
      "1233,0\n",
      "1234,0\n",
      "1235,1\n",
      "1236,0\n",
      "1237,1\n",
      "1238,0\n",
      "1239,0\n",
      "1240,0\n",
      "1241,1\n",
      "1242,1\n",
      "1243,0\n",
      "1244,0\n",
      "1245,0\n",
      "1246,1\n",
      "1247,0\n",
      "1248,1\n",
      "1249,0\n",
      "1250,0\n",
      "1251,0\n",
      "1252,0\n",
      "1253,1\n",
      "1254,1\n",
      "1255,0\n",
      "1256,1\n",
      "1257,0\n",
      "1258,0\n",
      "1259,0\n",
      "1260,1\n",
      "1261,0\n",
      "1262,0\n",
      "1263,1\n",
      "1264,0\n",
      "1265,0\n",
      "1266,1\n",
      "1267,1\n",
      "1268,0\n",
      "1269,0\n",
      "1270,0\n",
      "1271,0\n",
      "1272,0\n",
      "1273,0\n",
      "1274,1\n",
      "1275,0\n",
      "1276,0\n",
      "1277,1\n",
      "1278,0\n",
      "1279,0\n",
      "1280,0\n",
      "1281,0\n",
      "1282,0\n",
      "1283,1\n",
      "1284,0\n",
      "1285,0\n",
      "1286,0\n",
      "1287,1\n",
      "1288,0\n",
      "1289,1\n",
      "1290,0\n",
      "1291,0\n",
      "1292,1\n",
      "1293,0\n",
      "1294,1\n",
      "1295,0\n",
      "1296,0\n",
      "1297,0\n",
      "1298,0\n",
      "1299,0\n",
      "1300,1\n",
      "1301,1\n",
      "1302,1\n",
      "1303,1\n",
      "1304,1\n",
      "1305,0\n",
      "1306,1\n",
      "1307,0\n",
      "1308,0\n",
      "1309,1\n"
     ]
    }
   ],
   "source": [
    "result = gv_search.best_estimator_.predict(X_test_prepared.toarray())\n",
    "print_result(passage_list, result)"
   ]
  },
  {
   "cell_type": "code",
   "execution_count": null,
   "metadata": {
    "collapsed": true
   },
   "outputs": [],
   "source": []
  },
  {
   "cell_type": "markdown",
   "metadata": {},
   "source": [
    "#### GBDT is black box, it's hard to know feature importance\n",
    "Use linearClassifier again"
   ]
  },
  {
   "cell_type": "code",
   "execution_count": 158,
   "metadata": {
    "collapsed": false
   },
   "outputs": [
    {
     "name": "stdout",
     "output_type": "stream",
     "text": [
      "(891, 11)\n",
      "(891,)\n"
     ]
    },
    {
     "data": {
      "text/plain": [
       "0.7988826815642458"
      ]
     },
     "execution_count": 158,
     "metadata": {},
     "output_type": "execute_result"
    }
   ],
   "source": [
    "from sklearn.linear_model import LogisticRegression\n",
    "from sklearn.model_selection import train_test_split\n",
    "\n",
    "print(X_train_prepared.shape)\n",
    "print(y_train.shape)\n",
    "X_tra, X_cv, y_tra, y_cv = train_test_split(\n",
    "    X_train_prepared, y_train, test_size=0.2, random_state=42)\n",
    "\n",
    "lr = LogisticRegression()\n",
    "lr.fit(X_tra, y_tra)\n",
    "lr.score(X_cv, y_cv)\n"
   ]
  },
  {
   "cell_type": "code",
   "execution_count": 153,
   "metadata": {
    "collapsed": false
   },
   "outputs": [
    {
     "data": {
      "text/plain": [
       "array([[-0.37079411, -0.31537791, -0.09625745,  0.18195305, -2.55628418,\n",
       "         1.01464163,  0.53341856, -0.66679071,  0.50256864,  0.3363907 ,\n",
       "         0.04231015]])"
      ]
     },
     "execution_count": 153,
     "metadata": {},
     "output_type": "execute_result"
    }
   ],
   "source": [
    "lr.coef_"
   ]
  },
  {
   "cell_type": "code",
   "execution_count": 171,
   "metadata": {
    "collapsed": false
   },
   "outputs": [
    {
     "data": {
      "text/plain": [
       "array([ 0.9870865])"
      ]
     },
     "execution_count": 171,
     "metadata": {},
     "output_type": "execute_result"
    }
   ],
   "source": [
    "lr.decision_function(X_cv[0])\n",
    "lr.decision_function(X_cv[4])"
   ]
  },
  {
   "cell_type": "code",
   "execution_count": 170,
   "metadata": {
    "collapsed": false
   },
   "outputs": [
    {
     "data": {
      "text/plain": [
       "array([0, 0, 0, 1, 1, 1, 1, 0, 1, 1, 0, 0, 0, 0, 0, 1, 0, 1, 0, 0, 0, 0, 1,\n",
       "       0, 0, 0, 0, 0, 0, 1, 0, 1, 1, 1, 0, 0, 0, 1, 1, 0, 0, 0, 0, 0, 1, 0,\n",
       "       0, 0, 0, 0, 1, 1, 0, 0, 0, 1, 0, 1, 1, 1, 0, 1, 1, 0, 0, 1, 0, 0, 0,\n",
       "       1, 1, 1, 1, 1, 0, 0, 1, 1, 1, 0, 0, 1, 1, 0, 0, 0, 1, 1, 0, 0, 0, 0,\n",
       "       0, 0, 0, 0, 0, 0, 1, 0, 0, 0, 1, 0, 0, 0, 1, 0, 0, 0, 1, 0, 1, 0, 1,\n",
       "       0, 0, 0, 1, 0, 0, 1, 1, 0, 0, 0, 1, 1, 1, 0, 1, 0, 0, 1, 0, 1, 1, 0,\n",
       "       0, 1, 0, 1, 0, 0, 0, 1, 0, 0, 1, 0, 0, 0, 0, 1, 0, 0, 0, 1, 1, 1, 0,\n",
       "       0, 0, 1, 0, 0, 0, 1, 0, 0, 1, 1, 0, 1, 0, 0, 0, 1, 1])"
      ]
     },
     "execution_count": 170,
     "metadata": {},
     "output_type": "execute_result"
    }
   ],
   "source": [
    "lr.predict(X_cv)"
   ]
  },
  {
   "cell_type": "code",
   "execution_count": null,
   "metadata": {
    "collapsed": true
   },
   "outputs": [],
   "source": [
    "numeric_attributes = ['Age', 'SibSp', 'Parch', 'Fare']\n",
    "scatter_attributes = ['Sex', ]\n",
    "one_hot_attributes = ['Pclass']\n",
    "other_attributes = ['Embarked']"
   ]
  },
  {
   "cell_type": "markdown",
   "metadata": {},
   "source": [
    "#### Guess\n",
    "1. Negative Correlation: Age, SibSp, Parch\n",
    "2. Positive Correlation: Fare, Pclass\n",
    "3. Positive Relation: Female > Male; S > C > Q"
   ]
  },
  {
   "cell_type": "code",
   "execution_count": 177,
   "metadata": {
    "collapsed": false
   },
   "outputs": [
    {
     "data": {
      "text/plain": [
       "<matplotlib.axes._subplots.AxesSubplot at 0x113e8a410>"
      ]
     },
     "execution_count": 177,
     "metadata": {},
     "output_type": "execute_result"
    },
    {
     "data": {
      "image/png": "[encoded data removed]",
      "text/plain": [
       "<matplotlib.figure.Figure at 0x11455d210>"
      ]
     },
     "metadata": {},
     "output_type": "display_data"
    }
   ],
   "source": [
    "X_train['Age'].plot(kind='kde')"
   ]
  },
  {
   "cell_type": "code",
   "execution_count": 182,
   "metadata": {
    "collapsed": false,
    "scrolled": false
   },
   "outputs": [
    {
     "data": {
      "text/plain": [
       "<matplotlib.axes._subplots.AxesSubplot at 0x11455d810>"
      ]
     },
     "execution_count": 182,
     "metadata": {},
     "output_type": "execute_result"
    },
    {
     "data": {
      "image/png": "[encoded data removed]",
      "text/plain": [
       "<matplotlib.figure.Figure at 0x114701490>"
      ]
     },
     "metadata": {},
     "output_type": "display_data"
    }
   ],
   "source": [
    "Survive_0 = X_train.Pclass[y_train == 0].value_counts()\n",
    "Survive_1 = X_train.Pclass[y_train == 1].value_counts()\n",
    "df = pd.DataFrame({\"Survive\": Survive_1, \"Died\": Survive_0})\n",
    "df.plot(kind='bar', stacked=True)"
   ]
  },
  {
   "cell_type": "code",
   "execution_count": 183,
   "metadata": {
    "collapsed": false,
    "scrolled": true
   },
   "outputs": [
    {
     "data": {
      "text/plain": [
       "<matplotlib.axes._subplots.AxesSubplot at 0x1146e7190>"
      ]
     },
     "execution_count": 183,
     "metadata": {},
     "output_type": "execute_result"
    },
    {
     "data": {
      "image/png": "[encoded data removed]",
      "text/plain": [
       "<matplotlib.figure.Figure at 0x1148041d0>"
      ]
     },
     "metadata": {},
     "output_type": "display_data"
    }
   ],
   "source": [
    "Survive_0 = X_train.Sex[y_train == 0].value_counts()\n",
    "Survive_1 = X_train.Sex[y_train == 1].value_counts()\n",
    "df = pd.DataFrame({\"Survive\": Survive_1, \"Died\": Survive_0})\n",
    "df.plot(kind='bar', stacked=True)"
   ]
  },
  {
   "cell_type": "markdown",
   "metadata": {},
   "source": [
    "#### 处理Cabin/Ticket/Name未使用的参数"
   ]
  },
  {
   "cell_type": "code",
   "execution_count": 190,
   "metadata": {
    "collapsed": false
   },
   "outputs": [
    {
     "data": {
      "text/plain": [
       "C23 C25 C27        4\n",
       "G6                 4\n",
       "B96 B98            4\n",
       "D                  3\n",
       "C22 C26            3\n",
       "E101               3\n",
       "F2                 3\n",
       "F33                3\n",
       "B57 B59 B63 B66    2\n",
       "C68                2\n",
       "B58 B60            2\n",
       "E121               2\n",
       "D20                2\n",
       "E8                 2\n",
       "E44                2\n",
       "B77                2\n",
       "C65                2\n",
       "D26                2\n",
       "E24                2\n",
       "E25                2\n",
       "B20                2\n",
       "C93                2\n",
       "D33                2\n",
       "E67                2\n",
       "D35                2\n",
       "D36                2\n",
       "C52                2\n",
       "F4                 2\n",
       "C125               2\n",
       "C124               2\n",
       "                  ..\n",
       "F G63              1\n",
       "A6                 1\n",
       "D45                1\n",
       "D6                 1\n",
       "D56                1\n",
       "C101               1\n",
       "C54                1\n",
       "D28                1\n",
       "D37                1\n",
       "B102               1\n",
       "D30                1\n",
       "E17                1\n",
       "E58                1\n",
       "F E69              1\n",
       "D10 D12            1\n",
       "E50                1\n",
       "A14                1\n",
       "C91                1\n",
       "A16                1\n",
       "B38                1\n",
       "B39                1\n",
       "C95                1\n",
       "B78                1\n",
       "B79                1\n",
       "C99                1\n",
       "B37                1\n",
       "A19                1\n",
       "E12                1\n",
       "A7                 1\n",
       "D15                1\n",
       "Name: Cabin, dtype: int64"
      ]
     },
     "execution_count": 190,
     "metadata": {},
     "output_type": "execute_result"
    }
   ],
   "source": [
    "train_data.Cabin.value_counts()"
   ]
  },
  {
   "cell_type": "code",
   "execution_count": 191,
   "metadata": {
    "collapsed": false
   },
   "outputs": [
    {
     "data": {
      "text/plain": [
       "<matplotlib.axes._subplots.AxesSubplot at 0x114f78e50>"
      ]
     },
     "execution_count": 191,
     "metadata": {},
     "output_type": "execute_result"
    },
    {
     "data": {
      "image/png": "[encoded data removed]",
      "text/plain": [
       "<matplotlib.figure.Figure at 0x114f66a10>"
      ]
     },
     "metadata": {},
     "output_type": "display_data"
    }
   ],
   "source": [
    "cabin = train_data.Survived[pd.notnull(train_data.Cabin)].value_counts()\n",
    "no_cabin = train_data.Survived[pd.isnull(train_data.Cabin)].value_counts()\n",
    "df = pd.DataFrame({\"Cabin\": cabin, \"No_cabin\": no_cabin})\n",
    "df.plot(kind='bar', stacked=True)"
   ]
  },
  {
   "cell_type": "markdown",
   "metadata": {},
   "source": [
    "#### Cabin缺失与否可以作为一个参量，由于分布有差异"
   ]
  },
  {
   "cell_type": "code",
   "execution_count": null,
   "metadata": {
    "collapsed": true
   },
   "outputs": [],
   "source": []
  }
 ],
 "metadata": {
  "kernelspec": {
   "display_name": "Python 2",
   "language": "python",
   "name": "python2"
  },
  "language_info": {
   "codemirror_mode": {
    "name": "ipython",
    "version": 2
   },
   "file_extension": ".py",
   "mimetype": "text/x-python",
   "name": "python",
   "nbconvert_exporter": "python",
   "pygments_lexer": "ipython2",
   "version": "2.7.11"
  }
 },
 "nbformat": 4,
 "nbformat_minor": 0
}
