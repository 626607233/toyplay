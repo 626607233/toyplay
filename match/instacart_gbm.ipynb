{
 "cells": [
  {
   "cell_type": "code",
   "execution_count": 3,
   "metadata": {
    "collapsed": true
   },
   "outputs": [],
   "source": [
    "%matplotlib inline\n",
    "import matplotlib\n",
    "import matplotlib.pyplot as plt\n",
    "import pandas as pd\n",
    "import numpy as np\n",
    "import seaborn as sns\n",
    "import scipy.sparse\n",
    "pd.set_option(\"display.max_columns\",101)\n",
    "RANDOM_STATE = 42\n",
    "DATA_PATH = \"../data/instacart/\""
   ]
  },
  {
   "cell_type": "code",
   "execution_count": 6,
   "metadata": {
    "collapsed": false
   },
   "outputs": [
    {
     "name": "stdout",
     "output_type": "stream",
     "text": [
      "loading prior\n",
      "loading orders\n",
      "loading train\n",
      "split orders: train, test\n"
     ]
    }
   ],
   "source": [
    "print('loading prior')\n",
    "priors = pd.read_csv(DATA_PATH + 'order_products__prior.csv', dtype={\n",
    "            'order_id': np.int32,\n",
    "            'product_id': np.uint16,\n",
    "            'add_to_cart_order': np.int16,\n",
    "            'reordered': np.int8})\n",
    "\n",
    "\n",
    "print('loading orders')\n",
    "orders = pd.read_csv(DATA_PATH + 'orders.csv', dtype={\n",
    "        'order_id': np.int32,\n",
    "        'user_id': np.int32,\n",
    "        'eval_set': 'category',\n",
    "        'order_number': np.int16,\n",
    "        'order_dow': np.int8,\n",
    "        'order_hour_of_day': np.int8,\n",
    "        'days_since_prior_order': np.float32})\n",
    "orders.set_index('order_id', inplace=True, drop=False)\n",
    "\n",
    "print('loading train')\n",
    "train = pd.read_csv(DATA_PATH + 'order_products__train.csv', dtype={\n",
    "            'order_id': np.int32,\n",
    "            'product_id': np.uint16,\n",
    "            'add_to_cart_order': np.int16,\n",
    "            'reordered': np.int8})\n",
    "\n",
    "print ('split orders: train, test')\n",
    "priors.drop('order_id_', inplace=True, axis=1)\n",
    "test_orders = orders[orders.eval_set == 'test']\n",
    "train_orders = orders[orders.eval_set == 'train']\n",
    "\n",
    "train.set_index(['order_id', 'product_id'], inplace=True, drop=False)"
   ]
  },
  {
   "cell_type": "code",
   "execution_count": 8,
   "metadata": {
    "collapsed": false,
    "scrolled": false
   },
   "outputs": [],
   "source": [
    "users = pd.read_csv(DATA_PATH + \"users_match.csv\", dtype={\n",
    "    'total_items': np.int32,\n",
    "    'total_distinct_items': np.int32,\n",
    "    'average_days_between_orders': np.float32,\n",
    "    'nb_orders': np.int32,\n",
    "    'average_basket': np.float32\n",
    "})\n",
    "users.set_index('user_id', inplace=True)\n",
    "def xx(a):\n",
    "    tmp = a.strip()[5:-2].split(\",\")\n",
    "    result = [int(x) for x in tmp if x]\n",
    "    return result\n",
    "users['all_products'] = users['all_products'].apply(xx)\n",
    "\n",
    "products = pd.read_csv(DATA_PATH + \"products_match.csv\", dtype={\n",
    "    'product_id': np.int32,\n",
    "    'aisle_id': np.int32,\n",
    "    'department_id': np.int32,\n",
    "    'orders': np.float32,\n",
    "    'reorders': np.float32,\n",
    "    'reorder_rate': np.float64\n",
    "})\n",
    "\n",
    "products.set_index('product_id.1', inplace=True)\n",
    "\n",
    "userXproduct = pd.read_csv(DATA_PATH + \"user_product_match.csv\", index_col=0, dtype={\n",
    "    'np_orders': np.int32,\n",
    "    'last_order_id': np.int32,\n",
    "    'sum_pos_in_cart': np.int32,\n",
    "})"
   ]
  },
  {
   "cell_type": "code",
   "execution_count": 9,
   "metadata": {
    "collapsed": true
   },
   "outputs": [],
   "source": [
    "def features(selected_orders, labels_given=False):\n",
    "    print('build candidate list')\n",
    "    order_list = []\n",
    "    product_list = []\n",
    "    labels = []\n",
    "    i=0\n",
    "    for row in selected_orders.itertuples():\n",
    "        i+=1\n",
    "        if i%10000 == 0: print('order row',i)\n",
    "        order_id = row.order_id\n",
    "        user_id = row.user_id\n",
    "        if user_id not in users.all_products:\n",
    "            continue\n",
    "            \n",
    "        user_products = users.all_products[user_id]\n",
    "        product_list += user_products\n",
    "        order_list += [order_id] * len(user_products)\n",
    "        if labels_given:\n",
    "            labels += [(order_id, product) in train.index for product in user_products]\n",
    "        \n",
    "    df = pd.DataFrame({'order_id':order_list, 'product_id':product_list}, dtype=np.int32)\n",
    "    df.head()\n",
    "    labels = np.array(labels, dtype=np.int8)\n",
    "    del order_list\n",
    "    del product_list\n",
    "    print('user related features')\n",
    "    df['user_id'] = df.order_id.map(orders.user_id)\n",
    "    df['user_total_orders'] = df.user_id.map(users.nb_orders)\n",
    "    df['user_total_items'] = df.user_id.map(users.total_items)\n",
    "    df['total_distinct_items'] = df.user_id.map(users.total_distinct_items)\n",
    "    df['user_average_days_between_orders'] = df.user_id.map(users.average_days_between_orders)\n",
    "    df['user_average_basket'] =  df.user_id.map(users.average_basket)\n",
    "    \n",
    "    print('order related features')\n",
    "    df['dow'] = df.order_id.map(orders.order_dow)\n",
    "    df['order_hour_of_day'] = df.order_id.map(orders.order_hour_of_day)\n",
    "    df['days_since_prior_order'] = df.order_id.map(orders.days_since_prior_order)\n",
    "    df['days_since_ratio'] = df.days_since_prior_order / df.user_average_days_between_orders\n",
    "    \n",
    "    print('product related features')\n",
    "    df['aisle_id'] = df.product_id.map(products.aisle_id)\n",
    "    df['department_id'] = df.product_id.map(products.department_id)\n",
    "    df['product_orders'] = df.product_id.map(products.orders)\n",
    "    df['product_reorders'] = df.product_id.map(products.reordered)\n",
    "    df['product_reorder_rate'] = df.product_id.map(products.reorder_rate)\n",
    "\n",
    "    print('user_X_product related features')\n",
    "    df['z'] = df.user_id * 100000 + df.product_id\n",
    "    df.drop(['user_id'], axis=1, inplace=True)\n",
    "    df['UP_orders'] = df.z.map(userXproduct.nb_orders)\n",
    "    df['UP_orders_ratio'] = (df.UP_orders / df.user_total_orders)\n",
    "    df['UP_last_order_id'] = df.z.map(userXproduct.last_order_id)\n",
    "    df['UP_average_pos_in_cart'] = (df.z.map(userXproduct.sum_pos_in_cart) / df.UP_orders)\n",
    "    df['UP_reorder_rate'] = (df.UP_orders / df.user_total_orders)\n",
    "    df['UP_orders_since_last'] = df.user_total_orders - df.UP_last_order_id.map(orders.order_number)\n",
    "    df['UP_delta_hour_vs_last'] = abs(df.order_hour_of_day - df.UP_last_order_id.map(orders.order_hour_of_day)).map(lambda x: min(x, 24-x))\n",
    "    #df['UP_same_dow_as_last_order'] = df.UP_last_order_id.map(orders.order_dow) == \\\n",
    "    #                                              df.order_id.map(orders.order_dow)\n",
    "\n",
    "    df.drop(['UP_last_order_id', 'z'], axis=1, inplace=True)\n",
    "    print(df.dtypes)\n",
    "    print(df.memory_usage())\n",
    "    return (df, labels)"
   ]
  },
  {
   "cell_type": "code",
   "execution_count": 11,
   "metadata": {
    "collapsed": false,
    "scrolled": true
   },
   "outputs": [
    {
     "name": "stdout",
     "output_type": "stream",
     "text": [
      "build candidate list\n",
      "('order row', 10000)\n",
      "('order row', 20000)\n",
      "('order row', 30000)\n",
      "('order row', 40000)\n",
      "('order row', 50000)\n",
      "('order row', 60000)\n",
      "('order row', 70000)\n",
      "('order row', 80000)\n",
      "('order row', 90000)\n",
      "('order row', 100000)\n",
      "('order row', 110000)\n",
      "('order row', 120000)\n",
      "('order row', 130000)\n",
      "user related features\n",
      "order related features\n",
      "product related features\n",
      "user_X_product related features\n",
      "order_id                              int32\n",
      "product_id                            int32\n",
      "user_total_orders                     int32\n",
      "user_total_items                      int32\n",
      "total_distinct_items                  int32\n",
      "user_average_days_between_orders    float32\n",
      "user_average_basket                 float32\n",
      "dow                                    int8\n",
      "order_hour_of_day                      int8\n",
      "days_since_prior_order              float32\n",
      "days_since_ratio                    float32\n",
      "aisle_id                              int32\n",
      "department_id                         int32\n",
      "product_orders                      float32\n",
      "product_reorders                    float64\n",
      "product_reorder_rate                float64\n",
      "UP_orders                             int64\n",
      "UP_orders_ratio                     float64\n",
      "UP_average_pos_in_cart              float64\n",
      "UP_reorder_rate                     float64\n",
      "UP_orders_since_last                  int32\n",
      "UP_delta_hour_vs_last                 int64\n",
      "dtype: object\n",
      "Index                                     72\n",
      "order_id                            33898644\n",
      "product_id                          33898644\n",
      "user_total_orders                   33898644\n",
      "user_total_items                    33898644\n",
      "total_distinct_items                33898644\n",
      "user_average_days_between_orders    33898644\n",
      "user_average_basket                 33898644\n",
      "dow                                  8474661\n",
      "order_hour_of_day                    8474661\n",
      "days_since_prior_order              33898644\n",
      "days_since_ratio                    33898644\n",
      "aisle_id                            33898644\n",
      "department_id                       33898644\n",
      "product_orders                      33898644\n",
      "product_reorders                    67797288\n",
      "product_reorder_rate                67797288\n",
      "UP_orders                           67797288\n",
      "UP_orders_ratio                     67797288\n",
      "UP_average_pos_in_cart              67797288\n",
      "UP_reorder_rate                     67797288\n",
      "UP_orders_since_last                33898644\n",
      "UP_delta_hour_vs_last               67797288\n",
      "dtype: int64\n"
     ]
    }
   ],
   "source": [
    "df_train, labels = features(train_orders, labels_given=True)\n",
    "\n",
    "f_to_use = ['user_total_orders', 'user_total_items', 'total_distinct_items',\n",
    "       'user_average_days_between_orders', 'user_average_basket',\n",
    "       'order_hour_of_day', 'days_since_prior_order', 'days_since_ratio',\n",
    "       'aisle_id', 'department_id', 'product_orders', 'product_reorders',\n",
    "       'product_reorder_rate', 'UP_orders', 'UP_orders_ratio',\n",
    "       'UP_average_pos_in_cart', 'UP_reorder_rate', 'UP_orders_since_last',\n",
    "       'UP_delta_hour_vs_last'] # 'dow', 'UP_same_dow_as_last_order'"
   ]
  },
  {
   "cell_type": "code",
   "execution_count": 76,
   "metadata": {
    "collapsed": true
   },
   "outputs": [],
   "source": [
    "m = int(len(labels) * 0.8)\n",
    "df_train_data = df_train[:m]\n",
    "label_train = labels[:m]"
   ]
  },
  {
   "cell_type": "code",
   "execution_count": 77,
   "metadata": {
    "collapsed": true
   },
   "outputs": [],
   "source": [
    "df_test_dat = df_train[m:]\n",
    "label_test = labels[m:]"
   ]
  },
  {
   "cell_type": "code",
   "execution_count": 78,
   "metadata": {
    "collapsed": true
   },
   "outputs": [],
   "source": [
    "import lightgbm as lgb\n",
    "d_train = lgb.Dataset(df_train_data[f_to_use],\n",
    "                      label=label_train,\n",
    "                      categorical_feature=['aisle_id', 'department_id'])  # , 'order_hour_of_day', 'dow'"
   ]
  },
  {
   "cell_type": "code",
   "execution_count": 79,
   "metadata": {
    "collapsed": true
   },
   "outputs": [],
   "source": [
    "d_test = lgb.Dataset(df_test_dat[f_to_use],\n",
    "                      label=label_test,\n",
    "                      categorical_feature=['aisle_id', 'department_id'])  # , 'order_hour_of_day', 'dow'"
   ]
  },
  {
   "cell_type": "code",
   "execution_count": 93,
   "metadata": {
    "collapsed": false,
    "scrolled": true
   },
   "outputs": [
    {
     "name": "stdout",
     "output_type": "stream",
     "text": [
      "light GBM train :-)\n",
      "[1]\tvalid_0's auc: 0.818838\n",
      "Train until valid scores didn't improve in 10 rounds.\n",
      "[2]\tvalid_0's auc: 0.823068\n",
      "[3]\tvalid_0's auc: 0.824455\n",
      "[4]\tvalid_0's auc: 0.825735\n",
      "[5]\tvalid_0's auc: 0.826267\n",
      "[6]\tvalid_0's auc: 0.827207\n",
      "[7]\tvalid_0's auc: 0.828055\n",
      "[8]\tvalid_0's auc: 0.828616\n",
      "[9]\tvalid_0's auc: 0.829163\n",
      "[10]\tvalid_0's auc: 0.829462\n",
      "[11]\tvalid_0's auc: 0.829751\n",
      "[12]\tvalid_0's auc: 0.829862\n",
      "[13]\tvalid_0's auc: 0.830007\n",
      "[14]\tvalid_0's auc: 0.830154\n",
      "[15]\tvalid_0's auc: 0.830204\n",
      "[16]\tvalid_0's auc: 0.830172\n",
      "[17]\tvalid_0's auc: 0.830361\n",
      "[18]\tvalid_0's auc: 0.830462\n",
      "[19]\tvalid_0's auc: 0.830513\n",
      "[20]\tvalid_0's auc: 0.830583\n",
      "[21]\tvalid_0's auc: 0.830652\n",
      "[22]\tvalid_0's auc: 0.830646\n",
      "[23]\tvalid_0's auc: 0.830626\n",
      "[24]\tvalid_0's auc: 0.830595\n",
      "[25]\tvalid_0's auc: 0.830605\n",
      "[26]\tvalid_0's auc: 0.830612\n",
      "[27]\tvalid_0's auc: 0.830591\n",
      "[28]\tvalid_0's auc: 0.830536\n",
      "[29]\tvalid_0's auc: 0.830476\n",
      "[30]\tvalid_0's auc: 0.830483\n",
      "[31]\tvalid_0's auc: 0.830441\n",
      "Early stopping, best iteration is:\n",
      "[21]\tvalid_0's auc: 0.830652\n"
     ]
    }
   ],
   "source": [
    "params = {\n",
    "    'task': 'train',\n",
    "    'boosting_type': 'gbdt',\n",
    "    'objective': 'binary',\n",
    "    'metric': {'auc'},\n",
    "    'num_leaves': 96,\n",
    "    'max_depth': 10,\n",
    "    'feature_fraction': 0.9,\n",
    "    'bagging_fraction': 0.95,\n",
    "    'bagging_freq': 5,\n",
    "    'learning_rate': 0.5\n",
    "}\n",
    "ROUNDS = 200\n",
    "\n",
    "print('light GBM train :-)')\n",
    "bst = lgb.train(params, d_train, ROUNDS, valid_sets=[d_test,], early_stopping_rounds=10)\n",
    "# lgb.plot_importance(bst, figsize=(9,20))"
   ]
  },
  {
   "cell_type": "code",
   "execution_count": 65,
   "metadata": {
    "collapsed": false
   },
   "outputs": [
    {
     "data": {
      "text/plain": [
       "Counter({0: 8407170, 1: 59878})"
      ]
     },
     "execution_count": 65,
     "metadata": {},
     "output_type": "execute_result"
    }
   ],
   "source": [
    "from collections import Counter\n",
    "Counter(labels)"
   ]
  },
  {
   "cell_type": "code",
   "execution_count": 193,
   "metadata": {
    "collapsed": false
   },
   "outputs": [
    {
     "data": {
      "text/plain": [
       "0.007071886211109232"
      ]
     },
     "execution_count": 193,
     "metadata": {},
     "output_type": "execute_result"
    }
   ],
   "source": [
    "np.mean(labels)"
   ]
  },
  {
   "cell_type": "code",
   "execution_count": 160,
   "metadata": {
    "collapsed": false
   },
   "outputs": [
    {
     "data": {
      "text/plain": [
       "20"
      ]
     },
     "execution_count": 160,
     "metadata": {},
     "output_type": "execute_result"
    }
   ],
   "source": [
    "bst.best_iteration"
   ]
  },
  {
   "cell_type": "code",
   "execution_count": 94,
   "metadata": {
    "collapsed": false
   },
   "outputs": [],
   "source": [
    "preduct_result =bst.predict(df_test_dat[f_to_use], num_iteration=bst.best_iteration)"
   ]
  },
  {
   "cell_type": "code",
   "execution_count": 82,
   "metadata": {
    "collapsed": false,
    "scrolled": true
   },
   "outputs": [
    {
     "data": {
      "text/plain": [
       "0.098191938607873591"
      ]
     },
     "execution_count": 82,
     "metadata": {},
     "output_type": "execute_result"
    }
   ],
   "source": [
    "np.mean(preduct_result)"
   ]
  },
  {
   "cell_type": "code",
   "execution_count": 95,
   "metadata": {
    "collapsed": false,
    "scrolled": false
   },
   "outputs": [
    {
     "data": {
      "text/plain": [
       "12478"
      ]
     },
     "execution_count": 95,
     "metadata": {},
     "output_type": "execute_result"
    }
   ],
   "source": [
    "result = preduct_result > 0.7\n",
    "sum(result)"
   ]
  },
  {
   "cell_type": "code",
   "execution_count": 106,
   "metadata": {
    "collapsed": false
   },
   "outputs": [
    {
     "name": "stdout",
     "output_type": "stream",
     "text": [
      "1 0.197559831908\n",
      "2 0.228464302586\n",
      "3 0.255728414259\n",
      "4 0.279347535266\n",
      "5 0.300647833671\n",
      "6 0.319372188804\n",
      "7 0.336055010674\n",
      "8 0.351269695223\n",
      "9 0.364781983159\n",
      "10 0.377058937222\n",
      "11 0.388025854012\n",
      "12 0.397716371383\n",
      "13 0.405644417807\n",
      "14 0.412497539626\n",
      "15 0.418289170332\n",
      "16 0.423647614471\n",
      "17 0.427063104383\n",
      "18 0.42997396049\n",
      "19 0.432684705944\n",
      "20 0.434376029302\n",
      "21 0.435220280518\n",
      "22 0.435663557346\n",
      "23 0.43526482819\n",
      "24 0.434455301391\n",
      "25 0.432199423889\n",
      "26 0.430058370706\n",
      "27 0.427060595813\n",
      "28 0.423765988267\n",
      "29 0.420363768243\n",
      "30 0.416103551278\n",
      "31 0.411654550583\n",
      "32 0.406631301579\n",
      "33 0.401466909256\n",
      "34 0.395768878818\n",
      "35 0.389827304369\n",
      "36 0.383479510056\n",
      "37 0.37676647814\n",
      "38 0.370395942113\n",
      "39 0.363065943409\n",
      "40 0.356561218155\n",
      "41 0.349540111363\n",
      "42 0.341884639073\n",
      "43 0.33407799834\n",
      "44 0.326348520838\n",
      "45 0.318085996906\n",
      "46 0.309920257452\n",
      "47 0.302276350992\n",
      "48 0.293943708247\n",
      "49 0.285378732534\n",
      "50 0.277454807575\n",
      "51 0.269509526201\n",
      "52 0.260718257468\n",
      "53 0.251868656022\n",
      "54 0.24329304751\n",
      "55 0.2344624652\n",
      "56 0.225423745783\n",
      "57 0.216513093348\n",
      "58 0.207339374559\n",
      "59 0.198840723207\n",
      "60 0.190308195834\n",
      "61 0.181225321348\n",
      "62 0.17270065185\n",
      "63 0.163493470299\n",
      "64 0.155252763338\n",
      "65 0.146985639708\n",
      "66 0.138725862191\n",
      "67 0.130558807526\n",
      "68 0.122761016518\n",
      "69 0.115129857841\n",
      "70 0.107412239687\n",
      "71 0.100222403649\n",
      "72 0.0930395797482\n",
      "73 0.0864366089816\n",
      "74 0.0800123465258\n",
      "75 0.073319053881\n",
      "76 0.0669358560222\n",
      "77 0.060490179037\n",
      "78 0.0551652748377\n",
      "79 0.0497828928938\n",
      "80 0.0448740843965\n",
      "81 0.0396660811533\n",
      "82 0.034802387729\n",
      "83 0.0298826797482\n",
      "84 0.0259498658072\n",
      "85 0.0222337033012\n",
      "86 0.0183441461818\n",
      "87 0.0149452227172\n",
      "88 0.0116052540367\n",
      "89 0.008679983957\n",
      "90 0.00625812987418\n",
      "91 0.0044885027123\n",
      "92 0.00299093710023\n",
      "93 0.00198326842637\n",
      "94 0.00123860602708\n",
      "95 0.000601471198552\n",
      "96 0.000312812060108\n",
      "97 0.000144389563041\n",
      "98 3.61010830325e-05\n",
      "99 1.20344184367e-05\n"
     ]
    }
   ],
   "source": [
    "from sklearn.metrics import f1_score\n",
    "for i in range(1, 100, 1):\n",
    "    result = preduct_result > i / 100.0\n",
    "    xx = f1_score(label_test, result)\n",
    "    print i, xx"
   ]
  },
  {
   "cell_type": "code",
   "execution_count": 88,
   "metadata": {
    "collapsed": false
   },
   "outputs": [
    {
     "name": "stdout",
     "output_type": "stream",
     "text": [
      "build candidate list\n",
      "('order row', 10000)\n",
      "('order row', 20000)\n",
      "('order row', 30000)\n",
      "('order row', 40000)\n",
      "('order row', 50000)\n",
      "('order row', 60000)\n",
      "('order row', 70000)\n",
      "user related features\n",
      "order related features\n",
      "product related features\n",
      "user_X_product related features\n",
      "order_id                              int32\n",
      "product_id                            int32\n",
      "user_total_orders                     int32\n",
      "user_total_items                      int32\n",
      "total_distinct_items                  int32\n",
      "user_average_days_between_orders    float32\n",
      "user_average_basket                 float32\n",
      "dow                                    int8\n",
      "order_hour_of_day                      int8\n",
      "days_since_prior_order              float32\n",
      "days_since_ratio                    float32\n",
      "aisle_id                              int32\n",
      "department_id                         int32\n",
      "product_orders                      float32\n",
      "product_reorders                    float64\n",
      "product_reorder_rate                float64\n",
      "UP_orders                             int64\n",
      "UP_orders_ratio                     float64\n",
      "UP_average_pos_in_cart              float64\n",
      "UP_reorder_rate                     float64\n",
      "UP_orders_since_last                  int32\n",
      "UP_delta_hour_vs_last                 int64\n",
      "dtype: object\n",
      "Index                                     72\n",
      "order_id                            19333168\n",
      "product_id                          19333168\n",
      "user_total_orders                   19333168\n",
      "user_total_items                    19333168\n",
      "total_distinct_items                19333168\n",
      "user_average_days_between_orders    19333168\n",
      "user_average_basket                 19333168\n",
      "dow                                  4833292\n",
      "order_hour_of_day                    4833292\n",
      "days_since_prior_order              19333168\n",
      "days_since_ratio                    19333168\n",
      "aisle_id                            19333168\n",
      "department_id                       19333168\n",
      "product_orders                      19333168\n",
      "product_reorders                    38666336\n",
      "product_reorder_rate                38666336\n",
      "UP_orders                           38666336\n",
      "UP_orders_ratio                     38666336\n",
      "UP_average_pos_in_cart              38666336\n",
      "UP_reorder_rate                     38666336\n",
      "UP_orders_since_last                19333168\n",
      "UP_delta_hour_vs_last               38666336\n",
      "dtype: int64\n"
     ]
    }
   ],
   "source": [
    "df_test, _ = features(test_orders)"
   ]
  },
  {
   "cell_type": "code",
   "execution_count": 96,
   "metadata": {
    "collapsed": false
   },
   "outputs": [
    {
     "name": "stdout",
     "output_type": "stream",
     "text": [
      "light GBM predict\n"
     ]
    }
   ],
   "source": [
    "print('light GBM predict')\n",
    "preds = bst.predict(df_test[f_to_use], num_iteration=bst.best_iteration)"
   ]
  },
  {
   "cell_type": "code",
   "execution_count": 108,
   "metadata": {
    "collapsed": false
   },
   "outputs": [
    {
     "data": {
      "text/plain": [
       "604423"
      ]
     },
     "execution_count": 108,
     "metadata": {},
     "output_type": "execute_result"
    }
   ],
   "source": [
    "result_pred = preds > 0.22\n",
    "sum(result_pred)"
   ]
  },
  {
   "cell_type": "code",
   "execution_count": 107,
   "metadata": {
    "collapsed": true
   },
   "outputs": [],
   "source": [
    "df_test['pred'] = preds\n",
    "\n",
    "TRESHOLD = 0.22  # guess, should be tuned with crossval on a subset of train data\n",
    "\n",
    "d = dict()\n",
    "for row in df_test.itertuples():\n",
    "    if row.pred > TRESHOLD:\n",
    "        try:\n",
    "            d[row.order_id] += ' ' + str(row.product_id)\n",
    "        except:\n",
    "            d[row.order_id] = str(row.product_id)\n",
    "\n",
    "for order in test_orders.order_id:\n",
    "    if order not in d:\n",
    "        d[order] = 'None'\n",
    "\n",
    "sub = pd.DataFrame.from_dict(d, orient='index')\n",
    "\n",
    "sub.reset_index(inplace=True)\n",
    "sub.columns = ['order_id', 'products']\n",
    "sub.to_csv(DATA_PATH + 'sub.csv', index=False)"
   ]
  }
 ],
 "metadata": {
  "kernelspec": {
   "display_name": "Python 2",
   "language": "python",
   "name": "python2"
  },
  "language_info": {
   "codemirror_mode": {
    "name": "ipython",
    "version": 2
   },
   "file_extension": ".py",
   "mimetype": "text/x-python",
   "name": "python",
   "nbconvert_exporter": "python",
   "pygments_lexer": "ipython2",
   "version": "2.7.13"
  }
 },
 "nbformat": 4,
 "nbformat_minor": 2
}
