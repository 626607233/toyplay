{
 "cells": [
  {
   "cell_type": "markdown",
   "metadata": {},
   "source": [
    "Game Description:\n",
    "https://yunhai.ctrip.com/Games/9"
   ]
  },
  {
   "cell_type": "code",
   "execution_count": 1,
   "metadata": {
    "collapsed": true
   },
   "outputs": [],
   "source": [
    "# initial environment\n",
    "import pandas as pd\n",
    "import numpy as np\n",
    "import numpy.random as nr\n",
    "\n",
    "nr.seed(42)\n",
    "\n",
    "%matplotlib inline\n",
    "import matplotlib.pyplot as plt"
   ]
  },
  {
   "cell_type": "code",
   "execution_count": 2,
   "metadata": {
    "collapsed": true
   },
   "outputs": [],
   "source": [
    "product_info = pd.read_csv(\"product_data/product_info.txt\")\n",
    "product_quantity = pd.read_csv(\"product_data/product_quantity.txt\")"
   ]
  },
  {
   "cell_type": "code",
   "execution_count": 9,
   "metadata": {
    "collapsed": false,
    "scrolled": true
   },
   "outputs": [
    {
     "data": {
      "text/plain": [
       "Index([u'product_id', u'district_id1', u'district_id2', u'district_id3',\n",
       "       u'district_id4', u'lat', u'lon', u'railway', u'airport', u'citycenter',\n",
       "       u'railway2', u'airport2', u'citycenter2', u'eval', u'eval2', u'eval3',\n",
       "       u'eval4', u'voters', u'startdate', u'upgradedate', u'cooperatedate',\n",
       "       u'maxstock'],\n",
       "      dtype='object')"
      ]
     },
     "execution_count": 9,
     "metadata": {},
     "output_type": "execute_result"
    }
   ],
   "source": [
    "product_info.shape\n",
    "product_info.columns"
   ]
  },
  {
   "cell_type": "code",
   "execution_count": 4,
   "metadata": {
    "collapsed": false,
    "scrolled": true
   },
   "outputs": [
    {
     "data": {
      "text/plain": [
       "(1959676, 9)"
      ]
     },
     "execution_count": 4,
     "metadata": {},
     "output_type": "execute_result"
    }
   ],
   "source": [
    "product_quantity.shape"
   ]
  },
  {
   "cell_type": "code",
   "execution_count": 5,
   "metadata": {
    "collapsed": false,
    "scrolled": true
   },
   "outputs": [
    {
     "data": {
      "text/html": [
       "<div>\n",
       "<table border=\"1\" class=\"dataframe\">\n",
       "  <thead>\n",
       "    <tr style=\"text-align: right;\">\n",
       "      <th></th>\n",
       "      <th>product_id</th>\n",
       "      <th>district_id1</th>\n",
       "      <th>district_id2</th>\n",
       "      <th>district_id3</th>\n",
       "      <th>district_id4</th>\n",
       "      <th>lat</th>\n",
       "      <th>lon</th>\n",
       "      <th>railway</th>\n",
       "      <th>airport</th>\n",
       "      <th>citycenter</th>\n",
       "      <th>...</th>\n",
       "      <th>citycenter2</th>\n",
       "      <th>eval</th>\n",
       "      <th>eval2</th>\n",
       "      <th>eval3</th>\n",
       "      <th>eval4</th>\n",
       "      <th>voters</th>\n",
       "      <th>startdate</th>\n",
       "      <th>upgradedate</th>\n",
       "      <th>cooperatedate</th>\n",
       "      <th>maxstock</th>\n",
       "    </tr>\n",
       "  </thead>\n",
       "  <tbody>\n",
       "    <tr>\n",
       "      <th>0</th>\n",
       "      <td>1</td>\n",
       "      <td>10201</td>\n",
       "      <td>20502</td>\n",
       "      <td>31003</td>\n",
       "      <td>45760</td>\n",
       "      <td>3.994928</td>\n",
       "      <td>11.634630</td>\n",
       "      <td>-1.0</td>\n",
       "      <td>-1.0</td>\n",
       "      <td>-1.0</td>\n",
       "      <td>...</td>\n",
       "      <td>-1.0</td>\n",
       "      <td>3.0</td>\n",
       "      <td>5</td>\n",
       "      <td>2.0</td>\n",
       "      <td>3.1</td>\n",
       "      <td>1034.0</td>\n",
       "      <td>2005-11-01</td>\n",
       "      <td>2015-01-01</td>\n",
       "      <td>2013-07-02</td>\n",
       "      <td>75.0</td>\n",
       "    </tr>\n",
       "    <tr>\n",
       "      <th>1</th>\n",
       "      <td>2</td>\n",
       "      <td>10201</td>\n",
       "      <td>20502</td>\n",
       "      <td>31003</td>\n",
       "      <td>45760</td>\n",
       "      <td>3.995148</td>\n",
       "      <td>11.636258</td>\n",
       "      <td>-1.0</td>\n",
       "      <td>-1.0</td>\n",
       "      <td>2.3</td>\n",
       "      <td>...</td>\n",
       "      <td>-1.0</td>\n",
       "      <td>3.0</td>\n",
       "      <td>4</td>\n",
       "      <td>2.0</td>\n",
       "      <td>3.4</td>\n",
       "      <td>1707.0</td>\n",
       "      <td>2005-02-28</td>\n",
       "      <td>2011-01-01</td>\n",
       "      <td>2014-12-16</td>\n",
       "      <td>172.0</td>\n",
       "    </tr>\n",
       "    <tr>\n",
       "      <th>2</th>\n",
       "      <td>3</td>\n",
       "      <td>10201</td>\n",
       "      <td>20502</td>\n",
       "      <td>31003</td>\n",
       "      <td>45760</td>\n",
       "      <td>3.994291</td>\n",
       "      <td>11.631246</td>\n",
       "      <td>-1.0</td>\n",
       "      <td>-1.0</td>\n",
       "      <td>10.3</td>\n",
       "      <td>...</td>\n",
       "      <td>-1.0</td>\n",
       "      <td>3.0</td>\n",
       "      <td>4</td>\n",
       "      <td>2.5</td>\n",
       "      <td>3.6</td>\n",
       "      <td>1739.0</td>\n",
       "      <td>2007-03-01</td>\n",
       "      <td>2014-01-01</td>\n",
       "      <td>2014-07-02</td>\n",
       "      <td>188.0</td>\n",
       "    </tr>\n",
       "    <tr>\n",
       "      <th>3</th>\n",
       "      <td>4</td>\n",
       "      <td>10201</td>\n",
       "      <td>20502</td>\n",
       "      <td>31003</td>\n",
       "      <td>55952</td>\n",
       "      <td>3.997783</td>\n",
       "      <td>11.641561</td>\n",
       "      <td>-1.0</td>\n",
       "      <td>-1.0</td>\n",
       "      <td>9.3</td>\n",
       "      <td>...</td>\n",
       "      <td>-1.0</td>\n",
       "      <td>3.0</td>\n",
       "      <td>4</td>\n",
       "      <td>2.5</td>\n",
       "      <td>3.5</td>\n",
       "      <td>1065.0</td>\n",
       "      <td>2006-07-01</td>\n",
       "      <td>1753-01-01</td>\n",
       "      <td>2014-12-19</td>\n",
       "      <td>116.0</td>\n",
       "    </tr>\n",
       "    <tr>\n",
       "      <th>4</th>\n",
       "      <td>5</td>\n",
       "      <td>10201</td>\n",
       "      <td>20502</td>\n",
       "      <td>31003</td>\n",
       "      <td>55952</td>\n",
       "      <td>3.999904</td>\n",
       "      <td>11.641149</td>\n",
       "      <td>12.1</td>\n",
       "      <td>25.2</td>\n",
       "      <td>13.3</td>\n",
       "      <td>...</td>\n",
       "      <td>3.6</td>\n",
       "      <td>3.0</td>\n",
       "      <td>5</td>\n",
       "      <td>2.0</td>\n",
       "      <td>3.4</td>\n",
       "      <td>2209.0</td>\n",
       "      <td>2007-01-01</td>\n",
       "      <td>2012-03-01</td>\n",
       "      <td>2007-11-07</td>\n",
       "      <td>95.0</td>\n",
       "    </tr>\n",
       "  </tbody>\n",
       "</table>\n",
       "<p>5 rows × 22 columns</p>\n",
       "</div>"
      ],
      "text/plain": [
       "   product_id  district_id1  district_id2  district_id3  district_id4  \\\n",
       "0           1         10201         20502         31003         45760   \n",
       "1           2         10201         20502         31003         45760   \n",
       "2           3         10201         20502         31003         45760   \n",
       "3           4         10201         20502         31003         55952   \n",
       "4           5         10201         20502         31003         55952   \n",
       "\n",
       "        lat        lon  railway  airport  citycenter   ...     citycenter2  \\\n",
       "0  3.994928  11.634630     -1.0     -1.0        -1.0   ...            -1.0   \n",
       "1  3.995148  11.636258     -1.0     -1.0         2.3   ...            -1.0   \n",
       "2  3.994291  11.631246     -1.0     -1.0        10.3   ...            -1.0   \n",
       "3  3.997783  11.641561     -1.0     -1.0         9.3   ...            -1.0   \n",
       "4  3.999904  11.641149     12.1     25.2        13.3   ...             3.6   \n",
       "\n",
       "   eval  eval2  eval3  eval4  voters   startdate  upgradedate cooperatedate  \\\n",
       "0   3.0      5    2.0    3.1  1034.0  2005-11-01   2015-01-01    2013-07-02   \n",
       "1   3.0      4    2.0    3.4  1707.0  2005-02-28   2011-01-01    2014-12-16   \n",
       "2   3.0      4    2.5    3.6  1739.0  2007-03-01   2014-01-01    2014-07-02   \n",
       "3   3.0      4    2.5    3.5  1065.0  2006-07-01   1753-01-01    2014-12-19   \n",
       "4   3.0      5    2.0    3.4  2209.0  2007-01-01   2012-03-01    2007-11-07   \n",
       "\n",
       "  maxstock  \n",
       "0     75.0  \n",
       "1    172.0  \n",
       "2    188.0  \n",
       "3    116.0  \n",
       "4     95.0  \n",
       "\n",
       "[5 rows x 22 columns]"
      ]
     },
     "execution_count": 5,
     "metadata": {},
     "output_type": "execute_result"
    }
   ],
   "source": [
    "product_info.head()"
   ]
  },
  {
   "cell_type": "code",
   "execution_count": 6,
   "metadata": {
    "collapsed": false,
    "scrolled": true
   },
   "outputs": [
    {
     "data": {
      "text/html": [
       "<div>\n",
       "<table border=\"1\" class=\"dataframe\">\n",
       "  <thead>\n",
       "    <tr style=\"text-align: right;\">\n",
       "      <th></th>\n",
       "      <th>product_id</th>\n",
       "      <th>product_date</th>\n",
       "      <th>orderattribute1</th>\n",
       "      <th>orderattribute2</th>\n",
       "      <th>orderattribute3</th>\n",
       "      <th>orderattribute4</th>\n",
       "      <th>ciiquantity</th>\n",
       "      <th>ordquantity</th>\n",
       "      <th>price</th>\n",
       "    </tr>\n",
       "  </thead>\n",
       "  <tbody>\n",
       "    <tr>\n",
       "      <th>0</th>\n",
       "      <td>1</td>\n",
       "      <td>2014-06-21</td>\n",
       "      <td>2</td>\n",
       "      <td>1</td>\n",
       "      <td>1</td>\n",
       "      <td>1</td>\n",
       "      <td>0</td>\n",
       "      <td>1</td>\n",
       "      <td>-1</td>\n",
       "    </tr>\n",
       "    <tr>\n",
       "      <th>1</th>\n",
       "      <td>1</td>\n",
       "      <td>2014-09-03</td>\n",
       "      <td>2</td>\n",
       "      <td>1</td>\n",
       "      <td>1</td>\n",
       "      <td>1</td>\n",
       "      <td>1</td>\n",
       "      <td>3</td>\n",
       "      <td>153</td>\n",
       "    </tr>\n",
       "    <tr>\n",
       "      <th>2</th>\n",
       "      <td>1</td>\n",
       "      <td>2014-09-26</td>\n",
       "      <td>2</td>\n",
       "      <td>1</td>\n",
       "      <td>1</td>\n",
       "      <td>1</td>\n",
       "      <td>0</td>\n",
       "      <td>3</td>\n",
       "      <td>-1</td>\n",
       "    </tr>\n",
       "    <tr>\n",
       "      <th>3</th>\n",
       "      <td>1</td>\n",
       "      <td>2014-11-28</td>\n",
       "      <td>2</td>\n",
       "      <td>1</td>\n",
       "      <td>1</td>\n",
       "      <td>1</td>\n",
       "      <td>0</td>\n",
       "      <td>4</td>\n",
       "      <td>-1</td>\n",
       "    </tr>\n",
       "    <tr>\n",
       "      <th>4</th>\n",
       "      <td>1</td>\n",
       "      <td>2014-01-11</td>\n",
       "      <td>2</td>\n",
       "      <td>1</td>\n",
       "      <td>1</td>\n",
       "      <td>1</td>\n",
       "      <td>1</td>\n",
       "      <td>1</td>\n",
       "      <td>153</td>\n",
       "    </tr>\n",
       "  </tbody>\n",
       "</table>\n",
       "</div>"
      ],
      "text/plain": [
       "   product_id product_date  orderattribute1  orderattribute2  orderattribute3  \\\n",
       "0           1   2014-06-21                2                1                1   \n",
       "1           1   2014-09-03                2                1                1   \n",
       "2           1   2014-09-26                2                1                1   \n",
       "3           1   2014-11-28                2                1                1   \n",
       "4           1   2014-01-11                2                1                1   \n",
       "\n",
       "   orderattribute4  ciiquantity  ordquantity  price  \n",
       "0                1            0            1     -1  \n",
       "1                1            1            3    153  \n",
       "2                1            0            3     -1  \n",
       "3                1            0            4     -1  \n",
       "4                1            1            1    153  "
      ]
     },
     "execution_count": 6,
     "metadata": {},
     "output_type": "execute_result"
    }
   ],
   "source": [
    "product_quantity.head()"
   ]
  },
  {
   "cell_type": "code",
   "execution_count": 10,
   "metadata": {
    "collapsed": false
   },
   "outputs": [
    {
     "data": {
      "text/plain": [
       "16"
      ]
     },
     "execution_count": 10,
     "metadata": {},
     "output_type": "execute_result"
    }
   ],
   "source": [
    "1959676/30/4000"
   ]
  },
  {
   "cell_type": "markdown",
   "metadata": {},
   "source": [
    "#### 0. 数据第一印象"
   ]
  },
  {
   "cell_type": "markdown",
   "metadata": {},
   "source": [
    "4000个产品，1959676天的交易记录，每个产品大概有16个月每天每单的交易记录\n",
    "1. 每个产品有22个属性, 21个有效属性。分为地理因素、评分、时间、库存4类。\n",
    "2. 订单拥有9个属性，8个有用属性，分为时间、订单信息、预定数和实际交易数和价格。\n",
    "【疑惑：每个物品销售时价格和属性是变化的, 订单是用户的行为特征，包括价格接受范围情况】\n",
    "\n",
    "> 升级时间是指产品的质量或服务得到了大幅度提升的时间点；订单属性是订单的各种特性或类别，例如人的性别、高矮胖瘦等."
   ]
  },
  {
   "cell_type": "markdown",
   "metadata": {},
   "source": [
    "#### 1. Look at the big picture从系统角度分析\n",
    "1. 当前模块在实际系统中的位置，和其他部门进行沟通协作\n",
    "2. 已有的成熟解决方案，可参考的准确率，业界在特征方面的考虑\n",
    "3. 从数学和机器学习角度描述问题\n",
    "4. 挑选一个性能优化指标"
   ]
  },
  {
   "cell_type": "markdown",
   "metadata": {},
   "source": [
    "分析：\n",
    "1. 通过预计每个月的销量，来指导产品的库存管理和定价策略。【**??问题：价格本身就是销量影响因素？？每个产品不同月份的价格本身就不同**】\n",
    "2. 已有方案：用每个产品的历史增长幅度和历史销量回归一下，【特征：在出行产品预订业务中，**不同区域**的产品需求量级不一样，**不同时段**需求量会有高低起伏，相同区域相同时段各产品的需求量因**产品特性**不同又有差异。】个人觉得：挖掘订单中用户特征比较重要，对价格的容忍度，以及用户本身具有一些特征\n",
    "3. 离线回归问题 + 预测。\n",
    "4. 优化指标：如果数据存在outlier而且无法挑选出，建议用MAE，否则通常使用RMSE"
   ]
  },
  {
   "cell_type": "markdown",
   "metadata": {},
   "source": [
    "#### 2. Get the data数据分析\n",
    "1. 数学表示：连续还是离散，是否人工修剪过，范围,是否分布均匀"
   ]
  },
  {
   "cell_type": "code",
   "execution_count": 15,
   "metadata": {
    "collapsed": false
   },
   "outputs": [
    {
     "data": {
      "text/html": [
       "<div>\n",
       "<table border=\"1\" class=\"dataframe\">\n",
       "  <thead>\n",
       "    <tr style=\"text-align: right;\">\n",
       "      <th></th>\n",
       "      <th>product_id</th>\n",
       "      <th>district_id1</th>\n",
       "      <th>district_id2</th>\n",
       "      <th>district_id3</th>\n",
       "      <th>district_id4</th>\n",
       "      <th>lat</th>\n",
       "      <th>lon</th>\n",
       "      <th>railway</th>\n",
       "      <th>airport</th>\n",
       "      <th>citycenter</th>\n",
       "      <th>...</th>\n",
       "      <th>citycenter2</th>\n",
       "      <th>eval</th>\n",
       "      <th>eval2</th>\n",
       "      <th>eval3</th>\n",
       "      <th>eval4</th>\n",
       "      <th>voters</th>\n",
       "      <th>startdate</th>\n",
       "      <th>upgradedate</th>\n",
       "      <th>cooperatedate</th>\n",
       "      <th>maxstock</th>\n",
       "    </tr>\n",
       "  </thead>\n",
       "  <tbody>\n",
       "    <tr>\n",
       "      <th>0</th>\n",
       "      <td>1</td>\n",
       "      <td>10201</td>\n",
       "      <td>20502</td>\n",
       "      <td>31003</td>\n",
       "      <td>45760</td>\n",
       "      <td>3.994928</td>\n",
       "      <td>11.634630</td>\n",
       "      <td>-1.0</td>\n",
       "      <td>-1.0</td>\n",
       "      <td>-1.0</td>\n",
       "      <td>...</td>\n",
       "      <td>-1.0</td>\n",
       "      <td>3.0</td>\n",
       "      <td>5</td>\n",
       "      <td>2.0</td>\n",
       "      <td>3.1</td>\n",
       "      <td>1034.0</td>\n",
       "      <td>2005-11-01</td>\n",
       "      <td>2015-01-01</td>\n",
       "      <td>2013-07-02</td>\n",
       "      <td>75.0</td>\n",
       "    </tr>\n",
       "    <tr>\n",
       "      <th>1</th>\n",
       "      <td>2</td>\n",
       "      <td>10201</td>\n",
       "      <td>20502</td>\n",
       "      <td>31003</td>\n",
       "      <td>45760</td>\n",
       "      <td>3.995148</td>\n",
       "      <td>11.636258</td>\n",
       "      <td>-1.0</td>\n",
       "      <td>-1.0</td>\n",
       "      <td>2.3</td>\n",
       "      <td>...</td>\n",
       "      <td>-1.0</td>\n",
       "      <td>3.0</td>\n",
       "      <td>4</td>\n",
       "      <td>2.0</td>\n",
       "      <td>3.4</td>\n",
       "      <td>1707.0</td>\n",
       "      <td>2005-02-28</td>\n",
       "      <td>2011-01-01</td>\n",
       "      <td>2014-12-16</td>\n",
       "      <td>172.0</td>\n",
       "    </tr>\n",
       "    <tr>\n",
       "      <th>2</th>\n",
       "      <td>3</td>\n",
       "      <td>10201</td>\n",
       "      <td>20502</td>\n",
       "      <td>31003</td>\n",
       "      <td>45760</td>\n",
       "      <td>3.994291</td>\n",
       "      <td>11.631246</td>\n",
       "      <td>-1.0</td>\n",
       "      <td>-1.0</td>\n",
       "      <td>10.3</td>\n",
       "      <td>...</td>\n",
       "      <td>-1.0</td>\n",
       "      <td>3.0</td>\n",
       "      <td>4</td>\n",
       "      <td>2.5</td>\n",
       "      <td>3.6</td>\n",
       "      <td>1739.0</td>\n",
       "      <td>2007-03-01</td>\n",
       "      <td>2014-01-01</td>\n",
       "      <td>2014-07-02</td>\n",
       "      <td>188.0</td>\n",
       "    </tr>\n",
       "    <tr>\n",
       "      <th>3</th>\n",
       "      <td>4</td>\n",
       "      <td>10201</td>\n",
       "      <td>20502</td>\n",
       "      <td>31003</td>\n",
       "      <td>55952</td>\n",
       "      <td>3.997783</td>\n",
       "      <td>11.641561</td>\n",
       "      <td>-1.0</td>\n",
       "      <td>-1.0</td>\n",
       "      <td>9.3</td>\n",
       "      <td>...</td>\n",
       "      <td>-1.0</td>\n",
       "      <td>3.0</td>\n",
       "      <td>4</td>\n",
       "      <td>2.5</td>\n",
       "      <td>3.5</td>\n",
       "      <td>1065.0</td>\n",
       "      <td>2006-07-01</td>\n",
       "      <td>1753-01-01</td>\n",
       "      <td>2014-12-19</td>\n",
       "      <td>116.0</td>\n",
       "    </tr>\n",
       "    <tr>\n",
       "      <th>4</th>\n",
       "      <td>5</td>\n",
       "      <td>10201</td>\n",
       "      <td>20502</td>\n",
       "      <td>31003</td>\n",
       "      <td>55952</td>\n",
       "      <td>3.999904</td>\n",
       "      <td>11.641149</td>\n",
       "      <td>12.1</td>\n",
       "      <td>25.2</td>\n",
       "      <td>13.3</td>\n",
       "      <td>...</td>\n",
       "      <td>3.6</td>\n",
       "      <td>3.0</td>\n",
       "      <td>5</td>\n",
       "      <td>2.0</td>\n",
       "      <td>3.4</td>\n",
       "      <td>2209.0</td>\n",
       "      <td>2007-01-01</td>\n",
       "      <td>2012-03-01</td>\n",
       "      <td>2007-11-07</td>\n",
       "      <td>95.0</td>\n",
       "    </tr>\n",
       "  </tbody>\n",
       "</table>\n",
       "<p>5 rows × 22 columns</p>\n",
       "</div>"
      ],
      "text/plain": [
       "   product_id  district_id1  district_id2  district_id3  district_id4  \\\n",
       "0           1         10201         20502         31003         45760   \n",
       "1           2         10201         20502         31003         45760   \n",
       "2           3         10201         20502         31003         45760   \n",
       "3           4         10201         20502         31003         55952   \n",
       "4           5         10201         20502         31003         55952   \n",
       "\n",
       "        lat        lon  railway  airport  citycenter   ...     citycenter2  \\\n",
       "0  3.994928  11.634630     -1.0     -1.0        -1.0   ...            -1.0   \n",
       "1  3.995148  11.636258     -1.0     -1.0         2.3   ...            -1.0   \n",
       "2  3.994291  11.631246     -1.0     -1.0        10.3   ...            -1.0   \n",
       "3  3.997783  11.641561     -1.0     -1.0         9.3   ...            -1.0   \n",
       "4  3.999904  11.641149     12.1     25.2        13.3   ...             3.6   \n",
       "\n",
       "   eval  eval2  eval3  eval4  voters   startdate  upgradedate cooperatedate  \\\n",
       "0   3.0      5    2.0    3.1  1034.0  2005-11-01   2015-01-01    2013-07-02   \n",
       "1   3.0      4    2.0    3.4  1707.0  2005-02-28   2011-01-01    2014-12-16   \n",
       "2   3.0      4    2.5    3.6  1739.0  2007-03-01   2014-01-01    2014-07-02   \n",
       "3   3.0      4    2.5    3.5  1065.0  2006-07-01   1753-01-01    2014-12-19   \n",
       "4   3.0      5    2.0    3.4  2209.0  2007-01-01   2012-03-01    2007-11-07   \n",
       "\n",
       "  maxstock  \n",
       "0     75.0  \n",
       "1    172.0  \n",
       "2    188.0  \n",
       "3    116.0  \n",
       "4     95.0  \n",
       "\n",
       "[5 rows x 22 columns]"
      ]
     },
     "execution_count": 15,
     "metadata": {},
     "output_type": "execute_result"
    }
   ],
   "source": [
    "product_info.head()"
   ]
  },
  {
   "cell_type": "code",
   "execution_count": 61,
   "metadata": {
    "collapsed": false
   },
   "outputs": [
    {
     "data": {
      "text/plain": [
       "10201    3904\n",
       "10504      28\n",
       "17978      19\n",
       "10403      17\n",
       "10302       5\n",
       "16766       5\n",
       "24846       5\n",
       "14342       3\n",
       "21109       2\n",
       "11615       2\n",
       "21008       2\n",
       "21311       1\n",
       "13231       1\n",
       "18180       1\n",
       "11514       1\n",
       "13332       1\n",
       "12928       1\n",
       "14847       1\n",
       "20806       1\n",
       "Name: district_id1, dtype: int64"
      ]
     },
     "execution_count": 61,
     "metadata": {},
     "output_type": "execute_result"
    }
   ],
   "source": [
    "product_info['district_id1'].value_counts()"
   ]
  },
  {
   "cell_type": "code",
   "execution_count": 62,
   "metadata": {
    "collapsed": false
   },
   "outputs": [
    {
     "data": {
      "text/plain": [
       " 22746      536\n",
       " 21420      291\n",
       " 22644      278\n",
       " 22338      263\n",
       " 20502      245\n",
       " 21930      215\n",
       " 21318      183\n",
       " 20604      181\n",
       " 22032      180\n",
       " 22440      131\n",
       " 20808      129\n",
       " 22542      116\n",
       " 22950      109\n",
       " 22848      107\n",
       " 20706      103\n",
       " 23562       86\n",
       " 21114       77\n",
       " 21216       74\n",
       " 21624       74\n",
       " 22134       66\n",
       " 21726       66\n",
       " 22236       59\n",
       " 21522       57\n",
       " 23358       52\n",
       " 20400       48\n",
       " 21012       47\n",
       " 23052       42\n",
       " 23256       35\n",
       " 20910       33\n",
       " 23154       24\n",
       "           ... \n",
       " 23460        7\n",
       " 21828        7\n",
       "-1            5\n",
       " 1053558      3\n",
       " 1148418      3\n",
       " 1049784      2\n",
       " 1145664      2\n",
       " 1071102      2\n",
       " 27132        2\n",
       " 1153722      2\n",
       " 1151376      1\n",
       " 1057128      1\n",
       " 1049274      1\n",
       " 1151274      1\n",
       " 1053150      1\n",
       " 23766        1\n",
       " 1068858      1\n",
       " 1307640      1\n",
       " 1148010      1\n",
       " 1160352      1\n",
       " 1062636      1\n",
       " 1193808      1\n",
       " 1048254      1\n",
       " 1059066      1\n",
       " 1157394      1\n",
       " 1051314      1\n",
       " 1055598      1\n",
       " 1076202      1\n",
       " 1055802      1\n",
       " 1187790      1\n",
       "Name: district_id2, dtype: int64"
      ]
     },
     "execution_count": 62,
     "metadata": {},
     "output_type": "execute_result"
    }
   ],
   "source": [
    "product_info['district_id2'].value_counts()"
   ]
  },
  {
   "cell_type": "code",
   "execution_count": 63,
   "metadata": {
    "collapsed": false
   },
   "outputs": [
    {
     "data": {
      "text/plain": [
       "34196      259\n",
       "31003      245\n",
       "31106      181\n",
       "31621      173\n",
       "33475      167\n",
       "31312      129\n",
       "33990      115\n",
       "33784      114\n",
       "31209      103\n",
       "88477       81\n",
       "69010       79\n",
       "35329       66\n",
       "32136       60\n",
       "80031       54\n",
       "32651       52\n",
       "52118       52\n",
       "32342       49\n",
       "31930       47\n",
       "34608       43\n",
       "64993       42\n",
       "56753       40\n",
       "31518       36\n",
       "86726       35\n",
       "47174       32\n",
       "33681       32\n",
       "41715       30\n",
       "70040       30\n",
       "34402       29\n",
       "83945       28\n",
       "59534       27\n",
       "          ... \n",
       "826369       1\n",
       "191477       1\n",
       "40376        1\n",
       "2292677      1\n",
       "142243       1\n",
       "105369       1\n",
       "67053        1\n",
       "2229126      1\n",
       "2296076      1\n",
       "134312       1\n",
       "56238        1\n",
       "79104        1\n",
       "1089019      1\n",
       "50676        1\n",
       "66229        1\n",
       "236488       1\n",
       "431055       1\n",
       "95275        1\n",
       "126381       1\n",
       "363590       1\n",
       "683405       1\n",
       "2248284      1\n",
       "66641        1\n",
       "363899       1\n",
       "427141       1\n",
       "2256215      1\n",
       "1088813      1\n",
       "83224        1\n",
       "46350        1\n",
       "2293707      1\n",
       "Name: district_id3, dtype: int64"
      ]
     },
     "execution_count": 63,
     "metadata": {},
     "output_type": "execute_result"
    }
   ],
   "source": [
    "product_info['district_id3'].value_counts()"
   ]
  },
  {
   "cell_type": "code",
   "execution_count": 64,
   "metadata": {
    "collapsed": false,
    "scrolled": true
   },
   "outputs": [
    {
     "data": {
      "text/plain": [
       "-1          750\n",
       " 1277016    103\n",
       " 54080       89\n",
       " 50544       88\n",
       " 45760       78\n",
       " 460200      77\n",
       " 48256       66\n",
       " 154752      65\n",
       " 114400      61\n",
       " 55952       58\n",
       " 58656       51\n",
       " 52000       48\n",
       " 70512       47\n",
       " 154232      37\n",
       " 146640      36\n",
       " 47320       35\n",
       " 121784      34\n",
       " 80184       34\n",
       " 116272      32\n",
       " 43576       32\n",
       " 80288       31\n",
       " 1321320     30\n",
       " 145808      28\n",
       " 1431872     27\n",
       " 156208      27\n",
       " 121472      27\n",
       " 120224      27\n",
       " 162240      26\n",
       " 144040      25\n",
       " 138736      25\n",
       "           ... \n",
       " 144872       1\n",
       " 105664       1\n",
       " 87256        1\n",
       " 138528       1\n",
       " 1451632      1\n",
       " 1469208      1\n",
       " 121056       1\n",
       " 1340664      1\n",
       " 1186640      1\n",
       " 1278576      1\n",
       " 1468584      1\n",
       " 107744       1\n",
       " 1395576      1\n",
       " 1389232      1\n",
       " 477464       1\n",
       " 474136       1\n",
       " 1405768      1\n",
       " 1458912      1\n",
       " 136344       1\n",
       " 1180400      1\n",
       " 1403272      1\n",
       " 1458288      1\n",
       " 137592       1\n",
       " 1410552      1\n",
       " 1389336      1\n",
       " 1563224      1\n",
       " 156312       1\n",
       " 1289288      1\n",
       " 1436240      1\n",
       " 1282216      1\n",
       "Name: district_id4, dtype: int64"
      ]
     },
     "execution_count": 64,
     "metadata": {},
     "output_type": "execute_result"
    }
   ],
   "source": [
    "product_info['district_id4'].value_counts()"
   ]
  },
  {
   "cell_type": "code",
   "execution_count": 60,
   "metadata": {
    "collapsed": false,
    "scrolled": true
   },
   "outputs": [
    {
     "data": {
      "image/png": "[encoded data removed]",
      "text/plain": [
       "<matplotlib.figure.Figure at 0x11281e350>"
      ]
     },
     "metadata": {},
     "output_type": "display_data"
    }
   ],
   "source": [
    "district_id1 = product_info['district_id1']\n",
    "district_id2 = product_info['district_id2']\n",
    "district_id3 = product_info['district_id3']\n",
    "district_id4 = product_info['district_id4']\n",
    "plt.subplot(2, 2, 1)\n",
    "plt.title(\"district_id1\")\n",
    "plt.hist(district_id1)\n",
    "plt.subplot(2, 2, 2)\n",
    "plt.title(\"district_id2\")\n",
    "plt.hist(district_id2)\n",
    "plt.subplot(2, 2, 3)\n",
    "plt.title(\"district_id3\")\n",
    "plt.hist(district_id3)\n",
    "plt.subplot(2, 2, 4)\n",
    "plt.title(\"district_id4\")\n",
    "plt.hist(district_id4)\n",
    "plt.show()"
   ]
  },
  {
   "cell_type": "code",
   "execution_count": 67,
   "metadata": {
    "collapsed": false
   },
   "outputs": [
    {
     "data": {
      "text/html": [
       "<div>\n",
       "<table border=\"1\" class=\"dataframe\">\n",
       "  <thead>\n",
       "    <tr style=\"text-align: right;\">\n",
       "      <th></th>\n",
       "      <th>product_id</th>\n",
       "      <th>district_id1</th>\n",
       "      <th>district_id2</th>\n",
       "      <th>district_id3</th>\n",
       "      <th>district_id4</th>\n",
       "      <th>lat</th>\n",
       "      <th>lon</th>\n",
       "      <th>railway</th>\n",
       "      <th>airport</th>\n",
       "      <th>citycenter</th>\n",
       "      <th>...</th>\n",
       "      <th>citycenter2</th>\n",
       "      <th>eval</th>\n",
       "      <th>eval2</th>\n",
       "      <th>eval3</th>\n",
       "      <th>eval4</th>\n",
       "      <th>voters</th>\n",
       "      <th>startdate</th>\n",
       "      <th>upgradedate</th>\n",
       "      <th>cooperatedate</th>\n",
       "      <th>maxstock</th>\n",
       "    </tr>\n",
       "  </thead>\n",
       "  <tbody>\n",
       "    <tr>\n",
       "      <th>0</th>\n",
       "      <td>1</td>\n",
       "      <td>10201</td>\n",
       "      <td>20502</td>\n",
       "      <td>31003</td>\n",
       "      <td>45760</td>\n",
       "      <td>3.994928</td>\n",
       "      <td>11.634630</td>\n",
       "      <td>-1.0</td>\n",
       "      <td>-1.0</td>\n",
       "      <td>-1.0</td>\n",
       "      <td>...</td>\n",
       "      <td>-1.0</td>\n",
       "      <td>3.0</td>\n",
       "      <td>5</td>\n",
       "      <td>2.0</td>\n",
       "      <td>3.1</td>\n",
       "      <td>1034.0</td>\n",
       "      <td>2005-11-01</td>\n",
       "      <td>2015-01-01</td>\n",
       "      <td>2013-07-02</td>\n",
       "      <td>75.0</td>\n",
       "    </tr>\n",
       "    <tr>\n",
       "      <th>1</th>\n",
       "      <td>2</td>\n",
       "      <td>10201</td>\n",
       "      <td>20502</td>\n",
       "      <td>31003</td>\n",
       "      <td>45760</td>\n",
       "      <td>3.995148</td>\n",
       "      <td>11.636258</td>\n",
       "      <td>-1.0</td>\n",
       "      <td>-1.0</td>\n",
       "      <td>2.3</td>\n",
       "      <td>...</td>\n",
       "      <td>-1.0</td>\n",
       "      <td>3.0</td>\n",
       "      <td>4</td>\n",
       "      <td>2.0</td>\n",
       "      <td>3.4</td>\n",
       "      <td>1707.0</td>\n",
       "      <td>2005-02-28</td>\n",
       "      <td>2011-01-01</td>\n",
       "      <td>2014-12-16</td>\n",
       "      <td>172.0</td>\n",
       "    </tr>\n",
       "    <tr>\n",
       "      <th>2</th>\n",
       "      <td>3</td>\n",
       "      <td>10201</td>\n",
       "      <td>20502</td>\n",
       "      <td>31003</td>\n",
       "      <td>45760</td>\n",
       "      <td>3.994291</td>\n",
       "      <td>11.631246</td>\n",
       "      <td>-1.0</td>\n",
       "      <td>-1.0</td>\n",
       "      <td>10.3</td>\n",
       "      <td>...</td>\n",
       "      <td>-1.0</td>\n",
       "      <td>3.0</td>\n",
       "      <td>4</td>\n",
       "      <td>2.5</td>\n",
       "      <td>3.6</td>\n",
       "      <td>1739.0</td>\n",
       "      <td>2007-03-01</td>\n",
       "      <td>2014-01-01</td>\n",
       "      <td>2014-07-02</td>\n",
       "      <td>188.0</td>\n",
       "    </tr>\n",
       "    <tr>\n",
       "      <th>3</th>\n",
       "      <td>4</td>\n",
       "      <td>10201</td>\n",
       "      <td>20502</td>\n",
       "      <td>31003</td>\n",
       "      <td>55952</td>\n",
       "      <td>3.997783</td>\n",
       "      <td>11.641561</td>\n",
       "      <td>-1.0</td>\n",
       "      <td>-1.0</td>\n",
       "      <td>9.3</td>\n",
       "      <td>...</td>\n",
       "      <td>-1.0</td>\n",
       "      <td>3.0</td>\n",
       "      <td>4</td>\n",
       "      <td>2.5</td>\n",
       "      <td>3.5</td>\n",
       "      <td>1065.0</td>\n",
       "      <td>2006-07-01</td>\n",
       "      <td>1753-01-01</td>\n",
       "      <td>2014-12-19</td>\n",
       "      <td>116.0</td>\n",
       "    </tr>\n",
       "    <tr>\n",
       "      <th>4</th>\n",
       "      <td>5</td>\n",
       "      <td>10201</td>\n",
       "      <td>20502</td>\n",
       "      <td>31003</td>\n",
       "      <td>55952</td>\n",
       "      <td>3.999904</td>\n",
       "      <td>11.641149</td>\n",
       "      <td>12.1</td>\n",
       "      <td>25.2</td>\n",
       "      <td>13.3</td>\n",
       "      <td>...</td>\n",
       "      <td>3.6</td>\n",
       "      <td>3.0</td>\n",
       "      <td>5</td>\n",
       "      <td>2.0</td>\n",
       "      <td>3.4</td>\n",
       "      <td>2209.0</td>\n",
       "      <td>2007-01-01</td>\n",
       "      <td>2012-03-01</td>\n",
       "      <td>2007-11-07</td>\n",
       "      <td>95.0</td>\n",
       "    </tr>\n",
       "  </tbody>\n",
       "</table>\n",
       "<p>5 rows × 22 columns</p>\n",
       "</div>"
      ],
      "text/plain": [
       "   product_id  district_id1  district_id2  district_id3  district_id4  \\\n",
       "0           1         10201         20502         31003         45760   \n",
       "1           2         10201         20502         31003         45760   \n",
       "2           3         10201         20502         31003         45760   \n",
       "3           4         10201         20502         31003         55952   \n",
       "4           5         10201         20502         31003         55952   \n",
       "\n",
       "        lat        lon  railway  airport  citycenter   ...     citycenter2  \\\n",
       "0  3.994928  11.634630     -1.0     -1.0        -1.0   ...            -1.0   \n",
       "1  3.995148  11.636258     -1.0     -1.0         2.3   ...            -1.0   \n",
       "2  3.994291  11.631246     -1.0     -1.0        10.3   ...            -1.0   \n",
       "3  3.997783  11.641561     -1.0     -1.0         9.3   ...            -1.0   \n",
       "4  3.999904  11.641149     12.1     25.2        13.3   ...             3.6   \n",
       "\n",
       "   eval  eval2  eval3  eval4  voters   startdate  upgradedate cooperatedate  \\\n",
       "0   3.0      5    2.0    3.1  1034.0  2005-11-01   2015-01-01    2013-07-02   \n",
       "1   3.0      4    2.0    3.4  1707.0  2005-02-28   2011-01-01    2014-12-16   \n",
       "2   3.0      4    2.5    3.6  1739.0  2007-03-01   2014-01-01    2014-07-02   \n",
       "3   3.0      4    2.5    3.5  1065.0  2006-07-01   1753-01-01    2014-12-19   \n",
       "4   3.0      5    2.0    3.4  2209.0  2007-01-01   2012-03-01    2007-11-07   \n",
       "\n",
       "  maxstock  \n",
       "0     75.0  \n",
       "1    172.0  \n",
       "2    188.0  \n",
       "3    116.0  \n",
       "4     95.0  \n",
       "\n",
       "[5 rows x 22 columns]"
      ]
     },
     "execution_count": 67,
     "metadata": {},
     "output_type": "execute_result"
    }
   ],
   "source": [
    "product_info.head()"
   ]
  },
  {
   "cell_type": "code",
   "execution_count": 68,
   "metadata": {
    "collapsed": false
   },
   "outputs": [
    {
     "data": {
      "text/plain": [
       "Index([u'product_id', u'district_id1', u'district_id2', u'district_id3',\n",
       "       u'district_id4', u'lat', u'lon', u'railway', u'airport', u'citycenter',\n",
       "       u'railway2', u'airport2', u'citycenter2', u'eval', u'eval2', u'eval3',\n",
       "       u'eval4', u'voters', u'startdate', u'upgradedate', u'cooperatedate',\n",
       "       u'maxstock'],\n",
       "      dtype='object')"
      ]
     },
     "execution_count": 68,
     "metadata": {},
     "output_type": "execute_result"
    }
   ],
   "source": [
    "product_info.columns"
   ]
  },
  {
   "cell_type": "code",
   "execution_count": 74,
   "metadata": {
    "collapsed": false
   },
   "outputs": [
    {
     "data": {
      "text/plain": [
       "-1.0     3878\n",
       " 3.5       19\n",
       " 1.5       19\n",
       " 2.5       15\n",
       " 1.0       14\n",
       " 2.0       11\n",
       " 4.5        5\n",
       " 7.5        4\n",
       " 5.5        3\n",
       " 3.0        3\n",
       " 6.5        3\n",
       " 5.0        2\n",
       " 10.5       2\n",
       " 4.2        2\n",
       " 0.7        2\n",
       " 0.8        2\n",
       " 0.6        2\n",
       " 4.0        2\n",
       " 13.5       1\n",
       " 2.1        1\n",
       " 8.5        1\n",
       " 3.9        1\n",
       " 12.5       1\n",
       " 3.2        1\n",
       " 3.3        1\n",
       " 3.8        1\n",
       " 1.8        1\n",
       " 25.5       1\n",
       " 2.7        1\n",
       " 1.1        1\n",
       "Name: airport2, dtype: int64"
      ]
     },
     "execution_count": 74,
     "metadata": {},
     "output_type": "execute_result"
    }
   ],
   "source": [
    "product_info.railway.value_counts()\n",
    "product_info.airport2.value_counts()"
   ]
  },
  {
   "cell_type": "code",
   "execution_count": 78,
   "metadata": {
    "collapsed": false
   },
   "outputs": [
    {
     "data": {
      "text/plain": [
       "<matplotlib.axes._subplots.AxesSubplot at 0x111f68790>"
      ]
     },
     "execution_count": 78,
     "metadata": {},
     "output_type": "execute_result"
    },
    {
     "data": {
      "image/png": "[encoded data removed]",
      "text/plain": [
       "<matplotlib.figure.Figure at 0x110f10790>"
      ]
     },
     "metadata": {},
     "output_type": "display_data"
    }
   ],
   "source": [
    "product_info['eval'].hist()"
   ]
  },
  {
   "cell_type": "code",
   "execution_count": 80,
   "metadata": {
    "collapsed": false
   },
   "outputs": [
    {
     "data": {
      "text/html": [
       "<div>\n",
       "<table border=\"1\" class=\"dataframe\">\n",
       "  <thead>\n",
       "    <tr style=\"text-align: right;\">\n",
       "      <th></th>\n",
       "      <th>product_id</th>\n",
       "      <th>product_date</th>\n",
       "      <th>orderattribute1</th>\n",
       "      <th>orderattribute2</th>\n",
       "      <th>orderattribute3</th>\n",
       "      <th>orderattribute4</th>\n",
       "      <th>ciiquantity</th>\n",
       "      <th>ordquantity</th>\n",
       "      <th>price</th>\n",
       "    </tr>\n",
       "  </thead>\n",
       "  <tbody>\n",
       "    <tr>\n",
       "      <th>0</th>\n",
       "      <td>1</td>\n",
       "      <td>2014-06-21</td>\n",
       "      <td>2</td>\n",
       "      <td>1</td>\n",
       "      <td>1</td>\n",
       "      <td>1</td>\n",
       "      <td>0</td>\n",
       "      <td>1</td>\n",
       "      <td>-1</td>\n",
       "    </tr>\n",
       "    <tr>\n",
       "      <th>1</th>\n",
       "      <td>1</td>\n",
       "      <td>2014-09-03</td>\n",
       "      <td>2</td>\n",
       "      <td>1</td>\n",
       "      <td>1</td>\n",
       "      <td>1</td>\n",
       "      <td>1</td>\n",
       "      <td>3</td>\n",
       "      <td>153</td>\n",
       "    </tr>\n",
       "    <tr>\n",
       "      <th>2</th>\n",
       "      <td>1</td>\n",
       "      <td>2014-09-26</td>\n",
       "      <td>2</td>\n",
       "      <td>1</td>\n",
       "      <td>1</td>\n",
       "      <td>1</td>\n",
       "      <td>0</td>\n",
       "      <td>3</td>\n",
       "      <td>-1</td>\n",
       "    </tr>\n",
       "    <tr>\n",
       "      <th>3</th>\n",
       "      <td>1</td>\n",
       "      <td>2014-11-28</td>\n",
       "      <td>2</td>\n",
       "      <td>1</td>\n",
       "      <td>1</td>\n",
       "      <td>1</td>\n",
       "      <td>0</td>\n",
       "      <td>4</td>\n",
       "      <td>-1</td>\n",
       "    </tr>\n",
       "    <tr>\n",
       "      <th>4</th>\n",
       "      <td>1</td>\n",
       "      <td>2014-01-11</td>\n",
       "      <td>2</td>\n",
       "      <td>1</td>\n",
       "      <td>1</td>\n",
       "      <td>1</td>\n",
       "      <td>1</td>\n",
       "      <td>1</td>\n",
       "      <td>153</td>\n",
       "    </tr>\n",
       "  </tbody>\n",
       "</table>\n",
       "</div>"
      ],
      "text/plain": [
       "   product_id product_date  orderattribute1  orderattribute2  orderattribute3  \\\n",
       "0           1   2014-06-21                2                1                1   \n",
       "1           1   2014-09-03                2                1                1   \n",
       "2           1   2014-09-26                2                1                1   \n",
       "3           1   2014-11-28                2                1                1   \n",
       "4           1   2014-01-11                2                1                1   \n",
       "\n",
       "   orderattribute4  ciiquantity  ordquantity  price  \n",
       "0                1            0            1     -1  \n",
       "1                1            1            3    153  \n",
       "2                1            0            3     -1  \n",
       "3                1            0            4     -1  \n",
       "4                1            1            1    153  "
      ]
     },
     "execution_count": 80,
     "metadata": {},
     "output_type": "execute_result"
    }
   ],
   "source": [
    "product_quantity.head()"
   ]
  },
  {
   "cell_type": "code",
   "execution_count": 101,
   "metadata": {
    "collapsed": false,
    "scrolled": false
   },
   "outputs": [
    {
     "data": {
      "text/plain": [
       "product_id                  1\n",
       "product_date       2014-06-21\n",
       "orderattribute1             2\n",
       "orderattribute2             1\n",
       "orderattribute3             1\n",
       "orderattribute4             1\n",
       "ciiquantity                 0\n",
       "ordquantity                 1\n",
       "price                      -1\n",
       "Name: 0, dtype: object"
      ]
     },
     "execution_count": 101,
     "metadata": {},
     "output_type": "execute_result"
    }
   ],
   "source": [
    "product_quantity.loc[0]"
   ]
  },
  {
   "cell_type": "code",
   "execution_count": 108,
   "metadata": {
    "collapsed": false,
    "scrolled": true
   },
   "outputs": [
    {
     "data": {
      "text/plain": [
       "RangeIndex(start=0, stop=1959676, step=1)"
      ]
     },
     "execution_count": 108,
     "metadata": {},
     "output_type": "execute_result"
    }
   ],
   "source": [
    "product_quantity.index"
   ]
  },
  {
   "cell_type": "markdown",
   "metadata": {},
   "source": [
    "#### 实现base模型\n",
    "计算每个产品每个月的销量，直接作为预估值"
   ]
  },
  {
   "cell_type": "code",
   "execution_count": 116,
   "metadata": {
    "collapsed": false
   },
   "outputs": [],
   "source": [
    "def product_month_count(data):\n",
    "    '''统计每个产品12个月份的销量情况'''\n",
    "    from collections import defaultdict\n",
    "    month_count = defaultdict(dict)\n",
    "    m, n = data.shape\n",
    "    \n",
    "    for idx in product_quantity.index:\n",
    "        if idx % 10000 == 0:\n",
    "            print idx\n",
    "        row = data.loc[idx]\n",
    "        product_id = row['product_id']\n",
    "        product_month = int(row['product_date'].split('-')[1])\n",
    "        quantity = row['ciiquantity']\n",
    "        month_count[product_id].setdefault(product_month, 0)\n",
    "        month_count[product_id][product_month] += quantity\n",
    "    \n",
    "    return month_count"
   ]
  },
  {
   "cell_type": "code",
   "execution_count": 129,
   "metadata": {
    "collapsed": true
   },
   "outputs": [],
   "source": [
    "def print_result(product_month_count):\n",
    "    month_list = range(0, 14, 1)    #  总共14个月\n",
    "    for product_id, count in product_month_count.iteritems():\n",
    "        average_month = 0\n",
    "        average_month = sum(count.itervalues()) / len(count)\n",
    "        for month in month_list:\n",
    "            if month == 0:\n",
    "                month_info = \"2015-12-01\"\n",
    "            elif month == 13:\n",
    "                month_info = \"2017-01-01\"\n",
    "            else:\n",
    "                month_info = \"2016-%02d-01\" % month\n",
    "            \n",
    "            if month not in count:\n",
    "                value = average_month\n",
    "            else:\n",
    "                value = count[month]\n",
    "            \n",
    "            print \"{0},{1},{2}\".format(product_id, month_info, value)\n",
    "            "
   ]
  },
  {
   "cell_type": "code",
   "execution_count": null,
   "metadata": {
    "collapsed": true
   },
   "outputs": [],
   "source": [
    "month_count = product_month_count(product_quantity)\n",
    "print_result(month_count)"
   ]
  },
  {
   "cell_type": "markdown",
   "metadata": {},
   "source": [
    "#### 第一次提交结果为256"
   ]
  },
  {
   "cell_type": "markdown",
   "metadata": {},
   "source": [
    "#### 3. 可视化：\n",
    "- 可视化lat和lng，\n",
    "- 可视化销量和月份以及各种数据的关系"
   ]
  },
  {
   "cell_type": "code",
   "execution_count": 131,
   "metadata": {
    "collapsed": false
   },
   "outputs": [
    {
     "data": {
      "text/plain": [
       "<matplotlib.axes._subplots.AxesSubplot at 0x1133bdf50>"
      ]
     },
     "execution_count": 131,
     "metadata": {},
     "output_type": "execute_result"
    },
    {
     "data": {
      "image/png": "[encoded data removed]",
      "text/plain": [
       "<matplotlib.figure.Figure at 0x1133a5fd0>"
      ]
     },
     "metadata": {},
     "output_type": "display_data"
    }
   ],
   "source": [
    "product_info.plot(kind='scatter', x='lat', y='lon')"
   ]
  },
  {
   "cell_type": "markdown",
   "metadata": {},
   "source": [
    "**整理数据**\n",
    "1. 所有产品的月销量矩阵\n",
    "2. 所有产品的属性数据，包括离散和连续数据【地理位置这些不好处理】"
   ]
  },
  {
   "cell_type": "code",
   "execution_count": 139,
   "metadata": {
    "collapsed": false,
    "scrolled": false
   },
   "outputs": [
    {
     "data": {
      "text/plain": [
       "(3495, 12)"
      ]
     },
     "execution_count": 139,
     "metadata": {},
     "output_type": "execute_result"
    }
   ],
   "source": [
    "m = len(month_count)\n",
    "n = 12\n",
    "sale_matrix = np.zeros((m, n))\n",
    "num_product_name = []\n",
    "idx = 0\n",
    "for product_id, values in month_count.iteritems():\n",
    "    num_product_name.append(product_id)\n",
    "    \n",
    "    for month, value in values.iteritems():\n",
    "        sale_matrix[idx, month-1] = value\n",
    "    \n",
    "    idx += 1"
   ]
  },
  {
   "cell_type": "code",
   "execution_count": 149,
   "metadata": {
    "collapsed": true
   },
   "outputs": [],
   "source": [
    "from pandas import DataFrame\n",
    "sale_data = DataFrame(sale_matrix, columns=range(1, 13))\n",
    "Y = sale_data"
   ]
  },
  {
   "cell_type": "code",
   "execution_count": 150,
   "metadata": {
    "collapsed": false
   },
   "outputs": [
    {
     "data": {
      "text/plain": [
       "Index([u'product_id', u'district_id1', u'district_id2', u'district_id3',\n",
       "       u'district_id4', u'lat', u'lon', u'railway', u'airport', u'citycenter',\n",
       "       u'railway2', u'airport2', u'citycenter2', u'eval', u'eval2', u'eval3',\n",
       "       u'eval4', u'voters', u'startdate', u'upgradedate', u'cooperatedate',\n",
       "       u'maxstock'],\n",
       "      dtype='object')"
      ]
     },
     "execution_count": 150,
     "metadata": {},
     "output_type": "execute_result"
    }
   ],
   "source": [
    "product_info.columns"
   ]
  },
  {
   "cell_type": "code",
   "execution_count": 151,
   "metadata": {
    "collapsed": true
   },
   "outputs": [],
   "source": [
    "attr_list = [u'railway', u'airport', u'citycenter',\n",
    "       u'railway2', u'airport2', u'citycenter2', u'eval', u'eval2', u'eval3',\n",
    "       u'eval4', u'voters', u'maxstock']\n",
    "useful_info = product_info[attr_list]"
   ]
  },
  {
   "cell_type": "code",
   "execution_count": 152,
   "metadata": {
    "collapsed": false
   },
   "outputs": [
    {
     "data": {
      "text/plain": [
       "(4000, 12)"
      ]
     },
     "execution_count": 152,
     "metadata": {},
     "output_type": "execute_result"
    }
   ],
   "source": [
    "useful_info.shape"
   ]
  },
  {
   "cell_type": "code",
   "execution_count": 154,
   "metadata": {
    "collapsed": false
   },
   "outputs": [
    {
     "data": {
      "text/plain": [
       "array([[<matplotlib.axes._subplots.AxesSubplot object at 0x11369b410>,\n",
       "        <matplotlib.axes._subplots.AxesSubplot object at 0x112f62dd0>,\n",
       "        <matplotlib.axes._subplots.AxesSubplot object at 0x112fe2a90>],\n",
       "       [<matplotlib.axes._subplots.AxesSubplot object at 0x113047c90>,\n",
       "        <matplotlib.axes._subplots.AxesSubplot object at 0x1130cdcd0>,\n",
       "        <matplotlib.axes._subplots.AxesSubplot object at 0x113141650>],\n",
       "       [<matplotlib.axes._subplots.AxesSubplot object at 0x11350c850>,\n",
       "        <matplotlib.axes._subplots.AxesSubplot object at 0x113aaa110>,\n",
       "        <matplotlib.axes._subplots.AxesSubplot object at 0x113b30210>],\n",
       "       [<matplotlib.axes._subplots.AxesSubplot object at 0x113b8dc50>,\n",
       "        <matplotlib.axes._subplots.AxesSubplot object at 0x113c29110>,\n",
       "        <matplotlib.axes._subplots.AxesSubplot object at 0x113bdc950>]], dtype=object)"
      ]
     },
     "execution_count": 154,
     "metadata": {},
     "output_type": "execute_result"
    },
    {
     "data": {
      "image/png": "[encoded data removed]",
      "text/plain": [
       "<matplotlib.figure.Figure at 0x11203ea90>"
      ]
     },
     "metadata": {},
     "output_type": "display_data"
    }
   ],
   "source": [
    "useful_info.hist(bins=50, figsize=(15, 20))"
   ]
  },
  {
   "cell_type": "markdown",
   "metadata": {},
   "source": [
    "#### 需要去除NA以及Standard"
   ]
  },
  {
   "cell_type": "code",
   "execution_count": null,
   "metadata": {
    "collapsed": false
   },
   "outputs": [],
   "source": [
    "def fillempty(data, default=-1.0):\n",
    "    \"\"\"使用平均值填充所有值为default的数据\"\"\"\n",
    "    m, n = data.shape\n",
    "    for col in xrange(n):\n",
    "        temp = (data[:, col] != default)\n",
    "        xx = data[temp, col]\n",
    "        mean_value = np.mean(xx)\n",
    "        print mean_value\n",
    "        for row in xrange(m):\n",
    "            if data.values[row, col] == default:\n",
    "                data.values[row, col] = mean_value\n",
    "    return\n",
    "test = useful_info.copy()\n",
    "fillempty(test.values)\n",
    "test"
   ]
  }
 ],
 "metadata": {
  "kernelspec": {
   "display_name": "Python 2",
   "language": "python",
   "name": "python2"
  },
  "language_info": {
   "codemirror_mode": {
    "name": "ipython",
    "version": 2
   },
   "file_extension": ".py",
   "mimetype": "text/x-python",
   "name": "python",
   "nbconvert_exporter": "python",
   "pygments_lexer": "ipython2",
   "version": "2.7.11"
  }
 },
 "nbformat": 4,
 "nbformat_minor": 0
}
