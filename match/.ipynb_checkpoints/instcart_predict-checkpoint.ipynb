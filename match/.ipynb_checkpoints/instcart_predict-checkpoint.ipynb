{
 "cells": [
  {
   "cell_type": "code",
   "execution_count": 1,
   "metadata": {
    "collapsed": true
   },
   "outputs": [],
   "source": [
    "%matplotlib inline\n",
    "import matplotlib\n",
    "import matplotlib.pyplot as plt\n",
    "import pandas as pd\n",
    "import numpy as np\n",
    "import seaborn as sns\n",
    "import scipy.sparse\n",
    "pd.set_option(\"display.max_columns\",101)\n",
    "RANDOM_STATE = 42\n",
    "DATA_PATH = \"../data/instacart/\""
   ]
  },
  {
   "cell_type": "code",
   "execution_count": 2,
   "metadata": {
    "collapsed": true
   },
   "outputs": [],
   "source": [
    "positive_X = pd.read_csv(DATA_PATH + \"positive_X.csv\")\n",
    "negative_X = pd.read_csv(DATA_PATH + \"negative_X.csv\")\n",
    "positive_X.drop(['Unnamed: 0', ], axis=1, inplace=True)\n",
    "negative_X.drop(['Unnamed: 0', ], axis=1, inplace=True)"
   ]
  },
  {
   "cell_type": "code",
   "execution_count": 3,
   "metadata": {
    "collapsed": true
   },
   "outputs": [],
   "source": [
    "positive_X.fillna(0, inplace=True)\n",
    "negative_X.fillna(0, inplace=True)"
   ]
  },
  {
   "cell_type": "code",
   "execution_count": 4,
   "metadata": {
    "collapsed": true
   },
   "outputs": [],
   "source": [
    "from sklearn.preprocessing import StandardScaler\n",
    "pX = StandardScaler().fit_transform(positive_X)"
   ]
  },
  {
   "cell_type": "code",
   "execution_count": 5,
   "metadata": {
    "collapsed": true
   },
   "outputs": [],
   "source": [
    "nX = StandardScaler().fit_transform(negative_X)"
   ]
  },
  {
   "cell_type": "code",
   "execution_count": 6,
   "metadata": {
    "collapsed": true
   },
   "outputs": [],
   "source": [
    "py = np.ones(positive_X.shape[0])\n",
    "ny = np.zeros(negative_X.shape[0])"
   ]
  },
  {
   "cell_type": "code",
   "execution_count": 7,
   "metadata": {
    "collapsed": true
   },
   "outputs": [],
   "source": [
    "m, n = nX.shape"
   ]
  },
  {
   "cell_type": "code",
   "execution_count": 8,
   "metadata": {
    "collapsed": false
   },
   "outputs": [
    {
     "name": "stdout",
     "output_type": "stream",
     "text": [
      "1384617 73\n"
     ]
    }
   ],
   "source": [
    "print m, n"
   ]
  },
  {
   "cell_type": "code",
   "execution_count": 25,
   "metadata": {
    "collapsed": false
   },
   "outputs": [],
   "source": [
    "percentage = 1\n",
    "sample_m = int(m * percentage)\n",
    "X = np.concatenate([pX[:sample_m, :], nX[:sample_m, :]])\n",
    "y = np.concatenate([py[:sample_m], ny[:sample_m]])"
   ]
  },
  {
   "cell_type": "code",
   "execution_count": null,
   "metadata": {
    "collapsed": true
   },
   "outputs": [],
   "source": []
  },
  {
   "cell_type": "code",
   "execution_count": 10,
   "metadata": {
    "collapsed": false,
    "scrolled": false
   },
   "outputs": [
    {
     "data": {
      "text/plain": [
       "LogisticRegression(C=1.0, class_weight=None, dual=False, fit_intercept=True,\n",
       "          intercept_scaling=1, max_iter=100, multi_class='ovr', n_jobs=1,\n",
       "          penalty='l1', random_state=None, solver='liblinear', tol=0.0001,\n",
       "          verbose=0, warm_start=False)"
      ]
     },
     "execution_count": 10,
     "metadata": {},
     "output_type": "execute_result"
    }
   ],
   "source": [
    "from sklearn.linear_model import LogisticRegression\n",
    "lr = LogisticRegression(penalty='l1')\n",
    "lr.fit(X, y)"
   ]
  },
  {
   "cell_type": "code",
   "execution_count": 23,
   "metadata": {
    "collapsed": true
   },
   "outputs": [],
   "source": [
    "test_X = np.concatenate([pX[sample_m:2*sample_m, :], nX[sample_m:2*sample_m, :]])\n",
    "test_y = np.concatenate([py[sample_m:2*sample_m], ny[sample_m:2*sample_m]])"
   ]
  },
  {
   "cell_type": "code",
   "execution_count": 12,
   "metadata": {
    "collapsed": false
   },
   "outputs": [
    {
     "data": {
      "text/plain": [
       "0.50556117290192115"
      ]
     },
     "execution_count": 12,
     "metadata": {},
     "output_type": "execute_result"
    }
   ],
   "source": [
    "lr.score(test_X, test_y)"
   ]
  },
  {
   "cell_type": "code",
   "execution_count": 13,
   "metadata": {
    "collapsed": false
   },
   "outputs": [
    {
     "data": {
      "text/plain": [
       "0.51686407626751407"
      ]
     },
     "execution_count": 13,
     "metadata": {},
     "output_type": "execute_result"
    }
   ],
   "source": [
    "lr.score(X, y)"
   ]
  },
  {
   "cell_type": "markdown",
   "metadata": {},
   "source": [
    "#### The model is Low bias"
   ]
  },
  {
   "cell_type": "code",
   "execution_count": 21,
   "metadata": {
    "collapsed": false
   },
   "outputs": [
    {
     "data": {
      "text/plain": [
       "DecisionTreeClassifier(class_weight=None, criterion='gini', max_depth=None,\n",
       "            max_features=None, max_leaf_nodes=None,\n",
       "            min_impurity_split=1e-07, min_samples_leaf=1,\n",
       "            min_samples_split=2, min_weight_fraction_leaf=0.0,\n",
       "            presort=False, random_state=None, splitter='best')"
      ]
     },
     "execution_count": 21,
     "metadata": {},
     "output_type": "execute_result"
    }
   ],
   "source": [
    "from sklearn.tree import DecisionTreeClassifier\n",
    "clf = DecisionTreeClassifier()\n",
    "clf.fit(X, y)"
   ]
  },
  {
   "cell_type": "code",
   "execution_count": 22,
   "metadata": {
    "collapsed": false
   },
   "outputs": [
    {
     "data": {
      "text/plain": [
       "1.0"
      ]
     },
     "execution_count": 22,
     "metadata": {},
     "output_type": "execute_result"
    }
   ],
   "source": [
    "clf.score(X, y)"
   ]
  },
  {
   "cell_type": "code",
   "execution_count": 24,
   "metadata": {
    "collapsed": false
   },
   "outputs": [
    {
     "data": {
      "text/plain": [
       "0.99962083185879058"
      ]
     },
     "execution_count": 24,
     "metadata": {},
     "output_type": "execute_result"
    }
   ],
   "source": [
    "clf.score(test_X, test_y)"
   ]
  },
  {
   "cell_type": "code",
   "execution_count": null,
   "metadata": {
    "collapsed": true
   },
   "outputs": [],
   "source": []
  },
  {
   "cell_type": "markdown",
   "metadata": {},
   "source": [
    "#### Try add test item into data"
   ]
  },
  {
   "cell_type": "code",
   "execution_count": 17,
   "metadata": {
    "collapsed": true
   },
   "outputs": [],
   "source": [
    "orders = pd.read_csv(DATA_PATH + \"orders.csv\")"
   ]
  },
  {
   "cell_type": "code",
   "execution_count": 18,
   "metadata": {
    "collapsed": true
   },
   "outputs": [],
   "source": [
    "test_order = orders.loc[orders.eval_set == 'test']"
   ]
  },
  {
   "cell_type": "code",
   "execution_count": 22,
   "metadata": {
    "collapsed": false
   },
   "outputs": [
    {
     "data": {
      "text/plain": [
       "(75000, 7)"
      ]
     },
     "execution_count": 22,
     "metadata": {},
     "output_type": "execute_result"
    }
   ],
   "source": [
    "test_order.shape"
   ]
  },
  {
   "cell_type": "code",
   "execution_count": 23,
   "metadata": {
    "collapsed": false
   },
   "outputs": [
    {
     "data": {
      "text/html": [
       "<div>\n",
       "<table border=\"1\" class=\"dataframe\">\n",
       "  <thead>\n",
       "    <tr style=\"text-align: right;\">\n",
       "      <th></th>\n",
       "      <th>order_id</th>\n",
       "      <th>user_id</th>\n",
       "      <th>eval_set</th>\n",
       "      <th>order_number</th>\n",
       "      <th>order_dow</th>\n",
       "      <th>order_hour_of_day</th>\n",
       "      <th>days_since_prior_order</th>\n",
       "    </tr>\n",
       "  </thead>\n",
       "  <tbody>\n",
       "    <tr>\n",
       "      <th>38</th>\n",
       "      <td>2774568</td>\n",
       "      <td>3</td>\n",
       "      <td>test</td>\n",
       "      <td>13</td>\n",
       "      <td>5</td>\n",
       "      <td>15</td>\n",
       "      <td>11.0</td>\n",
       "    </tr>\n",
       "    <tr>\n",
       "      <th>44</th>\n",
       "      <td>329954</td>\n",
       "      <td>4</td>\n",
       "      <td>test</td>\n",
       "      <td>6</td>\n",
       "      <td>3</td>\n",
       "      <td>12</td>\n",
       "      <td>30.0</td>\n",
       "    </tr>\n",
       "    <tr>\n",
       "      <th>53</th>\n",
       "      <td>1528013</td>\n",
       "      <td>6</td>\n",
       "      <td>test</td>\n",
       "      <td>4</td>\n",
       "      <td>3</td>\n",
       "      <td>16</td>\n",
       "      <td>22.0</td>\n",
       "    </tr>\n",
       "    <tr>\n",
       "      <th>96</th>\n",
       "      <td>1376945</td>\n",
       "      <td>11</td>\n",
       "      <td>test</td>\n",
       "      <td>8</td>\n",
       "      <td>6</td>\n",
       "      <td>11</td>\n",
       "      <td>8.0</td>\n",
       "    </tr>\n",
       "    <tr>\n",
       "      <th>102</th>\n",
       "      <td>1356845</td>\n",
       "      <td>12</td>\n",
       "      <td>test</td>\n",
       "      <td>6</td>\n",
       "      <td>1</td>\n",
       "      <td>20</td>\n",
       "      <td>30.0</td>\n",
       "    </tr>\n",
       "  </tbody>\n",
       "</table>\n",
       "</div>"
      ],
      "text/plain": [
       "     order_id  user_id eval_set  order_number  order_dow  order_hour_of_day  \\\n",
       "38    2774568        3     test            13          5                 15   \n",
       "44     329954        4     test             6          3                 12   \n",
       "53    1528013        6     test             4          3                 16   \n",
       "96    1376945       11     test             8          6                 11   \n",
       "102   1356845       12     test             6          1                 20   \n",
       "\n",
       "     days_since_prior_order  \n",
       "38                     11.0  \n",
       "44                     30.0  \n",
       "53                     22.0  \n",
       "96                      8.0  \n",
       "102                    30.0  "
      ]
     },
     "execution_count": 23,
     "metadata": {},
     "output_type": "execute_result"
    }
   ],
   "source": [
    "test_order.head()"
   ]
  },
  {
   "cell_type": "markdown",
   "metadata": {},
   "source": [
    "#### product_list of user_id "
   ]
  },
  {
   "cell_type": "code",
   "execution_count": 19,
   "metadata": {
    "collapsed": true
   },
   "outputs": [],
   "source": [
    "test_user_id_list = np.unique(test_order['user_id'])\n",
    "test_order_ix = test_order.ix\n",
    "test_order_index = list(test_order.index)"
   ]
  },
  {
   "cell_type": "code",
   "execution_count": 57,
   "metadata": {
    "collapsed": false
   },
   "outputs": [
    {
     "data": {
      "text/plain": [
       "order_id                  2774568\n",
       "user_id                         3\n",
       "eval_set                     test\n",
       "order_number                   13\n",
       "order_dow                       5\n",
       "order_hour_of_day              15\n",
       "days_since_prior_order         11\n",
       "Name: 38, dtype: object"
      ]
     },
     "execution_count": 57,
     "metadata": {},
     "output_type": "execute_result"
    }
   ],
   "source": [
    "test_order_ix[38]"
   ]
  },
  {
   "cell_type": "code",
   "execution_count": 20,
   "metadata": {
    "collapsed": true
   },
   "outputs": [],
   "source": [
    "test_X = pd.read_csv(DATA_PATH + \"test_X.csv\")"
   ]
  },
  {
   "cell_type": "code",
   "execution_count": 21,
   "metadata": {
    "collapsed": true
   },
   "outputs": [],
   "source": [
    "test_X.drop(['Unnamed: 0', ], axis=1, inplace=True)\n",
    "test_X.fillna(0, inplace=True)\n",
    "from sklearn.preprocessing import StandardScaler\n",
    "testX = StandardScaler().fit_transform(test_X)"
   ]
  },
  {
   "cell_type": "code",
   "execution_count": 50,
   "metadata": {
    "collapsed": false
   },
   "outputs": [],
   "source": [
    "predict_y = lr.predict(test_X)"
   ]
  },
  {
   "cell_type": "code",
   "execution_count": 51,
   "metadata": {
    "collapsed": false
   },
   "outputs": [
    {
     "data": {
      "text/plain": [
       "(4833292,)"
      ]
     },
     "execution_count": 51,
     "metadata": {},
     "output_type": "execute_result"
    }
   ],
   "source": [
    "predict_y.shape"
   ]
  },
  {
   "cell_type": "code",
   "execution_count": 55,
   "metadata": {
    "collapsed": true
   },
   "outputs": [],
   "source": [
    "prior = pd.read_csv(DATA_PATH + \"order_products__prior.csv\")\n",
    "prior_order = pd.merge(prior, orders, on='order_id')\n",
    "item_user_reordered = pd.DataFrame(prior_order.groupby(['user_id', 'product_id']).agg({'reordered': np.sum}))"
   ]
  },
  {
   "cell_type": "code",
   "execution_count": 60,
   "metadata": {
    "collapsed": true
   },
   "outputs": [],
   "source": [
    "item_user_reordered_idx = item_user_reordered.ix"
   ]
  },
  {
   "cell_type": "code",
   "execution_count": 64,
   "metadata": {
    "collapsed": false
   },
   "outputs": [
    {
     "data": {
      "text/plain": [
       "array([ 1.,  1.,  0., ...,  1.,  0.,  1.])"
      ]
     },
     "execution_count": 64,
     "metadata": {},
     "output_type": "execute_result"
    }
   ],
   "source": [
    "predict_y"
   ]
  },
  {
   "cell_type": "code",
   "execution_count": 62,
   "metadata": {
    "collapsed": false,
    "scrolled": true
   },
   "outputs": [
    {
     "name": "stdout",
     "output_type": "stream",
     "text": [
      "1\n",
      "10001\n",
      "20001\n",
      "30001\n",
      "40001\n",
      "50001\n",
      "60001\n",
      "70001\n",
      "80001\n",
      "90001\n",
      "100001\n",
      "110001\n",
      "120001\n",
      "130001\n",
      "140001\n",
      "150001\n",
      "160001\n",
      "170001\n",
      "180001\n",
      "190001\n",
      "200001\n",
      "210001\n",
      "220001\n",
      "230001\n",
      "240001\n",
      "250001\n",
      "260001\n",
      "270001\n",
      "280001\n",
      "290001\n",
      "300001\n",
      "310001\n",
      "320001\n",
      "330001\n",
      "340001\n",
      "350001\n",
      "360001\n",
      "370001\n",
      "380001\n",
      "390001\n",
      "400001\n",
      "410001\n",
      "420001\n",
      "430001\n",
      "440001\n",
      "450001\n",
      "460001\n",
      "470001\n",
      "480001\n",
      "490001\n",
      "500001\n",
      "510001\n",
      "520001\n",
      "530001\n",
      "540001\n",
      "550001\n",
      "560001\n",
      "570001\n",
      "580001\n",
      "590001\n",
      "600001\n",
      "610001\n",
      "620001\n",
      "630001\n",
      "640001\n",
      "650001\n",
      "660001\n",
      "670001\n",
      "680001\n",
      "690001\n",
      "700001\n",
      "710001\n",
      "720001\n",
      "730001\n",
      "740001\n",
      "750001\n",
      "760001\n",
      "770001\n",
      "780001\n",
      "790001\n",
      "800001\n",
      "810001\n",
      "820001\n",
      "830001\n",
      "840001\n",
      "850001\n",
      "860001\n",
      "870001\n",
      "880001\n",
      "890001\n",
      "900001\n",
      "910001\n",
      "920001\n",
      "930001\n",
      "940001\n",
      "950001\n",
      "960001\n",
      "970001\n",
      "980001\n",
      "990001\n",
      "1000001\n",
      "1010001\n",
      "1020001\n",
      "1030001\n",
      "1040001\n",
      "1050001\n",
      "1060001\n",
      "1070001\n",
      "1080001\n",
      "1090001\n",
      "1100001\n",
      "1110001\n",
      "1120001\n",
      "1130001\n",
      "1140001\n",
      "1150001\n",
      "1160001\n",
      "1170001\n",
      "1180001\n",
      "1190001\n",
      "1200001\n",
      "1210001\n",
      "1220001\n",
      "1230001\n",
      "1240001\n",
      "1250001\n",
      "1260001\n",
      "1270001\n",
      "1280001\n",
      "1290001\n",
      "1300001\n",
      "1310001\n",
      "1320001\n",
      "1330001\n",
      "1340001\n",
      "1350001\n",
      "1360001\n",
      "1370001\n",
      "1380001\n",
      "1390001\n",
      "1400001\n",
      "1410001\n",
      "1420001\n",
      "1430001\n",
      "1440001\n",
      "1450001\n",
      "1460001\n",
      "1470001\n",
      "1480001\n",
      "1490001\n",
      "1500001\n",
      "1510001\n",
      "1520001\n",
      "1530001\n",
      "1540001\n",
      "1550001\n",
      "1560001\n",
      "1570001\n",
      "1580001\n",
      "1590001\n",
      "1600001\n",
      "1610001\n",
      "1620001\n",
      "1630001\n",
      "1640001\n",
      "1650001\n",
      "1660001\n",
      "1670001\n",
      "1680001\n",
      "1690001\n",
      "1700001\n",
      "1710001\n",
      "1720001\n",
      "1730001\n",
      "1740001\n",
      "1750001\n",
      "1760001\n",
      "1770001\n",
      "1780001\n",
      "1790001\n",
      "1800001\n",
      "1810001\n",
      "1820001\n",
      "1830001\n",
      "1840001\n",
      "1850001\n",
      "1860001\n",
      "1870001\n",
      "1880001\n",
      "1890001\n",
      "1900001\n",
      "1910001\n",
      "1920001\n",
      "1930001\n",
      "1940001\n",
      "1950001\n",
      "1960001\n",
      "1970001\n",
      "1980001\n",
      "1990001\n",
      "2000001\n",
      "2010001\n",
      "2020001\n",
      "2030001\n",
      "2040001\n",
      "2050001\n",
      "2060001\n",
      "2070001\n",
      "2080001\n",
      "2090001\n",
      "2100001\n",
      "2110001\n",
      "2120001\n",
      "2130001\n",
      "2140001\n",
      "2150001\n",
      "2160001\n",
      "2170001\n",
      "2180001\n",
      "2190001\n",
      "2200001\n",
      "2210001\n",
      "2220001\n",
      "2230001\n",
      "2240001\n",
      "2250001\n",
      "2260001\n",
      "2270001\n",
      "2280001\n",
      "2290001\n",
      "2300001\n",
      "2310001\n",
      "2320001\n",
      "2330001\n",
      "2340001\n",
      "2350001\n",
      "2360001\n",
      "2370001\n",
      "2380001\n",
      "2390001\n",
      "2400001\n",
      "2410001\n",
      "2420001\n",
      "2430001\n",
      "2440001\n",
      "2450001\n",
      "2460001\n",
      "2470001\n",
      "2480001\n",
      "2490001\n",
      "2500001\n",
      "2510001\n",
      "2520001\n",
      "2530001\n",
      "2540001\n",
      "2550001\n",
      "2560001\n",
      "2570001\n",
      "2580001\n",
      "2590001\n",
      "2600001\n",
      "2610001\n",
      "2620001\n",
      "2630001\n",
      "2640001\n",
      "2650001\n",
      "2660001\n",
      "2670001\n",
      "2680001\n",
      "2690001\n",
      "2700001\n",
      "2710001\n",
      "2720001\n",
      "2730001\n",
      "2740001\n",
      "2750001\n",
      "2760001\n",
      "2770001\n",
      "2780001\n",
      "2790001\n",
      "2800001\n",
      "2810001\n",
      "2820001\n",
      "2830001\n",
      "2840001\n",
      "2850001\n",
      "2860001\n",
      "2870001\n",
      "2880001\n",
      "2890001\n",
      "2900001\n",
      "2910001\n",
      "2920001\n",
      "2930001\n",
      "2940001\n",
      "2950001\n",
      "2960001\n",
      "2970001\n",
      "2980001\n",
      "2990001\n",
      "3000001\n",
      "3010001\n",
      "3020001\n",
      "3030001\n",
      "3040001\n",
      "3050001\n",
      "3060001\n",
      "3070001\n",
      "3080001\n",
      "3090001\n",
      "3100001\n",
      "3110001\n",
      "3120001\n",
      "3130001\n",
      "3140001\n",
      "3150001\n",
      "3160001\n",
      "3170001\n",
      "3180001\n",
      "3190001\n",
      "3200001\n",
      "3210001\n",
      "3220001\n",
      "3230001\n",
      "3240001\n",
      "3250001\n",
      "3260001\n",
      "3270001\n",
      "3280001\n",
      "3290001\n",
      "3300001\n",
      "3310001\n",
      "3320001\n",
      "3330001\n",
      "3340001\n",
      "3350001\n",
      "3360001\n",
      "3370001\n",
      "3380001\n",
      "3390001\n",
      "3400001\n",
      "3410001\n",
      "3420001\n",
      "3430001\n",
      "3440001\n",
      "3450001\n",
      "3460001\n",
      "3470001\n",
      "3480001\n",
      "3490001\n",
      "3500001\n",
      "3510001\n",
      "3520001\n",
      "3530001\n",
      "3540001\n",
      "3550001\n",
      "3560001\n",
      "3570001\n",
      "3580001\n",
      "3590001\n",
      "3600001\n",
      "3610001\n",
      "3620001\n",
      "3630001\n",
      "3640001\n",
      "3650001\n",
      "3660001\n",
      "3670001\n",
      "3680001\n",
      "3690001\n",
      "3700001\n",
      "3710001\n",
      "3720001\n",
      "3730001\n",
      "3740001\n",
      "3750001\n",
      "3760001\n",
      "3770001\n",
      "3780001\n",
      "3790001\n",
      "3800001\n",
      "3810001\n",
      "3820001\n",
      "3830001\n",
      "3840001\n",
      "3850001\n",
      "3860001\n",
      "3870001\n",
      "3880001\n",
      "3890001\n",
      "3900001\n",
      "3910001\n",
      "3920001\n",
      "3930001\n",
      "3940001\n",
      "3950001\n",
      "3960001\n",
      "3970001\n",
      "3980001\n",
      "3990001\n",
      "4000001\n",
      "4010001\n",
      "4020001\n",
      "4030001\n",
      "4040001\n",
      "4050001\n",
      "4060001\n",
      "4070001\n",
      "4080001\n",
      "4090001\n",
      "4100001\n",
      "4110001\n",
      "4120001\n",
      "4130001\n",
      "4140001\n",
      "4150001\n",
      "4160001\n",
      "4170001\n",
      "4180001\n",
      "4190001\n",
      "4200001\n",
      "4210001\n",
      "4220001\n",
      "4230001\n",
      "4240001\n",
      "4250001\n",
      "4260001\n",
      "4270001\n",
      "4280001\n",
      "4290001\n",
      "4300001\n",
      "4310001\n",
      "4320001\n",
      "4330001\n",
      "4340001\n",
      "4350001\n",
      "4360001\n",
      "4370001\n",
      "4380001\n",
      "4390001\n",
      "4400001\n",
      "4410001\n",
      "4420001\n",
      "4430001\n",
      "4440001\n",
      "4450001\n",
      "4460001\n",
      "4470001\n",
      "4480001\n",
      "4490001\n",
      "4500001\n",
      "4510001\n",
      "4520001\n",
      "4530001\n",
      "4540001\n",
      "4550001\n",
      "4560001\n",
      "4570001\n",
      "4580001\n",
      "4590001\n",
      "4600001\n",
      "4610001\n",
      "4620001\n",
      "4630001\n",
      "4640001\n",
      "4650001\n",
      "4660001\n",
      "4670001\n",
      "4680001\n",
      "4690001\n",
      "4700001\n",
      "4710001\n",
      "4720001\n",
      "4730001\n",
      "4740001\n",
      "4750001\n",
      "4760001\n",
      "4770001\n",
      "4780001\n",
      "4790001\n",
      "4800001\n",
      "4810001\n",
      "4820001\n",
      "4830001\n"
     ]
    }
   ],
   "source": [
    "result_file = DATA_PATH + \"submission.csv\"\n",
    "with open(result_file, \"w\") as f:\n",
    "    f.write(\"order_id,products\\n\")\n",
    "    idx = 0\n",
    "    for line_id in test_order_index:\n",
    "        test_order = test_order_ix[line_id]\n",
    "        order_id = test_order['order_id']\n",
    "        user_id = test_order['user_id']\n",
    "        product_id_list = list(item_user_reordered_idx[user_id].index)\n",
    "        \n",
    "        final_order_list = []\n",
    "        for product_id in product_id_list:\n",
    "            if predict_y[idx]:\n",
    "                final_order_list.append(str(product_id))\n",
    "            idx += 1\n",
    "            \n",
    "            if idx % 10000 == 1:\n",
    "                print idx\n",
    "        if final_order_list:\n",
    "            f.write(\"%d,%s\\n\" % (order_id, \" \".join(final_order_list)))\n",
    "        else:\n",
    "            f.write(\"%d, None\\n\" % order_id)"
   ]
  }
 ],
 "metadata": {
  "kernelspec": {
   "display_name": "Python 2",
   "language": "python",
   "name": "python2"
  },
  "language_info": {
   "codemirror_mode": {
    "name": "ipython",
    "version": 2
   },
   "file_extension": ".py",
   "mimetype": "text/x-python",
   "name": "python",
   "nbconvert_exporter": "python",
   "pygments_lexer": "ipython2",
   "version": "2.7.13"
  }
 },
 "nbformat": 4,
 "nbformat_minor": 2
}
