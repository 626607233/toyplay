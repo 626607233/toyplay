{
 "cells": [
  {
   "cell_type": "code",
   "execution_count": 1,
   "metadata": {
    "collapsed": true
   },
   "outputs": [],
   "source": [
    "%matplotlib inline\n",
    "import matplotlib\n",
    "import matplotlib.pyplot as plt\n",
    "import pandas as pd\n",
    "import numpy as np\n",
    "import seaborn as sns\n",
    "import scipy.sparse\n",
    "pd.set_option(\"display.max_columns\",101)\n",
    "RANDOM_STATE = 42"
   ]
  },
  {
   "cell_type": "code",
   "execution_count": 2,
   "metadata": {
    "collapsed": true
   },
   "outputs": [],
   "source": [
    "DATA_PATH = \"../data/instacart/\""
   ]
  },
  {
   "cell_type": "code",
   "execution_count": 3,
   "metadata": {
    "collapsed": true
   },
   "outputs": [],
   "source": [
    "def save_sparse_matrix(filename, x):\n",
    "    x_coo = x.tocoo()\n",
    "    row = x_coo.row\n",
    "    col = x_coo.col\n",
    "    data = x_coo.data\n",
    "    shape = x_coo.shape\n",
    "    np.savez(filename, row=row, col=col, data=data, shape=shape)\n",
    "\n",
    "def load_sparse_matrix(filename):\n",
    "    y = np.load(filename)\n",
    "    z = scipy.sparse.coo_matrix((y['data'], (y['row'], y['col'])), shape=y['shape'])\n",
    "    return z\n",
    "\n",
    "save_file = DATA_PATH + \"user_item.npz\""
   ]
  },
  {
   "cell_type": "code",
   "execution_count": 4,
   "metadata": {
    "collapsed": true
   },
   "outputs": [],
   "source": [
    "load_S = load_sparse_matrix(save_file)\n",
    "user_item_matrix = scipy.sparse.csr_matrix(load_S)"
   ]
  },
  {
   "cell_type": "markdown",
   "metadata": {},
   "source": [
    "#### inverse_matrix"
   ]
  },
  {
   "cell_type": "markdown",
   "metadata": {},
   "source": [
    "#### implement simple LFM model"
   ]
  },
  {
   "cell_type": "code",
   "execution_count": 5,
   "metadata": {
    "collapsed": true
   },
   "outputs": [],
   "source": [
    "item_pool = range(0, load_S.shape[1])\n",
    "\n",
    "def random_select_negative_sample(items):\n",
    "    import random\n",
    "    ret = {}\n",
    "    \n",
    "    result = sum(items.values())\n",
    "    for item, value in items.iteritems():\n",
    "        ret[item] = value / float(result)\n",
    "    \n",
    "    n = 0\n",
    "    for i in xrange(3 * len(items)):\n",
    "        item = item_pool[random.randint(0, len(item_pool) - 1)]\n",
    "        \n",
    "        if item in items:\n",
    "            continue\n",
    "        \n",
    "        ret[item] = 0\n",
    "        \n",
    "        n += 1\n",
    "        if n >= len(items):\n",
    "            break\n",
    "    return ret"
   ]
  },
  {
   "cell_type": "code",
   "execution_count": 6,
   "metadata": {
    "collapsed": false
   },
   "outputs": [],
   "source": [
    "ret = random_select_negative_sample({1: 2, 2: 3})"
   ]
  },
  {
   "cell_type": "code",
   "execution_count": 7,
   "metadata": {
    "collapsed": false
   },
   "outputs": [
    {
     "data": {
      "text/plain": [
       "{1: 0.4, 2: 0.6, 22158: 0, 33670: 0}"
      ]
     },
     "execution_count": 7,
     "metadata": {},
     "output_type": "execute_result"
    }
   ],
   "source": [
    "ret"
   ]
  },
  {
   "cell_type": "code",
   "execution_count": 8,
   "metadata": {
    "collapsed": true
   },
   "outputs": [],
   "source": [
    "xx = user_item_matrix.todok()"
   ]
  },
  {
   "cell_type": "code",
   "execution_count": 9,
   "metadata": {
    "collapsed": false
   },
   "outputs": [
    {
     "name": "stdout",
     "output_type": "stream",
     "text": [
      "(206209, 49677)\n"
     ]
    }
   ],
   "source": [
    "print xx.shape"
   ]
  },
  {
   "cell_type": "code",
   "execution_count": 10,
   "metadata": {
    "collapsed": false
   },
   "outputs": [
    {
     "name": "stdout",
     "output_type": "stream",
     "text": [
      "((97555, 46216), 13)\n"
     ]
    }
   ],
   "source": [
    "for i in xx.iteritems():\n",
    "    print i \n",
    "    break"
   ]
  },
  {
   "cell_type": "code",
   "execution_count": 11,
   "metadata": {
    "collapsed": false
   },
   "outputs": [
    {
     "data": {
      "text/plain": [
       "9098126"
      ]
     },
     "execution_count": 11,
     "metadata": {},
     "output_type": "execute_result"
    }
   ],
   "source": [
    "len(list(xx.iteritems()))"
   ]
  },
  {
   "cell_type": "code",
   "execution_count": 12,
   "metadata": {
    "collapsed": true
   },
   "outputs": [],
   "source": [
    "dok_matrix = user_item_matrix.todok()"
   ]
  },
  {
   "cell_type": "code",
   "execution_count": 13,
   "metadata": {
    "collapsed": true
   },
   "outputs": [],
   "source": [
    "def make_user_item_dict(X):\n",
    "    from collections import defaultdict\n",
    "    result = defaultdict(dict)\n",
    "    for user_item, value in dok_matrix.iteritems():\n",
    "        user_id, item_id = user_item\n",
    "        result[user_id][item_id] = value\n",
    "    return result"
   ]
  },
  {
   "cell_type": "code",
   "execution_count": 14,
   "metadata": {
    "collapsed": true
   },
   "outputs": [],
   "source": [
    "user_items = make_user_item_dict(dok_matrix)"
   ]
  },
  {
   "cell_type": "code",
   "execution_count": 15,
   "metadata": {
    "collapsed": true
   },
   "outputs": [],
   "source": [
    "u_items = user_items.items()"
   ]
  },
  {
   "cell_type": "code",
   "execution_count": null,
   "metadata": {
    "collapsed": true
   },
   "outputs": [],
   "source": []
  },
  {
   "cell_type": "markdown",
   "metadata": {},
   "source": [
    "#### tuning the parameter, because parameter is too small, C should be larger"
   ]
  },
  {
   "cell_type": "code",
   "execution_count": null,
   "metadata": {
    "collapsed": false,
    "scrolled": true
   },
   "outputs": [
    {
     "name": "stdout",
     "output_type": "stream",
     "text": [
      "count user: 10000\n",
      "count user: 20000\n",
      "count user: 30000\n",
      "count user: 40000\n",
      "count user: 50000\n",
      "count user: 60000\n",
      "count user: 70000\n",
      "count user: 80000\n",
      "count user: 90000\n"
     ]
    }
   ],
   "source": [
    "def LatentFactorModel(ui_data, n_factor, n_step, alpha, C):\n",
    "    num_user, num_item = user_item_matrix.shape\n",
    "    P_uk = np.ones((num_user, n_factor)) / float(n_factor)\n",
    "    Q_ik = np.ones((num_item, n_factor)) / float(n_factor)\n",
    "    for step in xrange(n_step):\n",
    "        num_error = 0\n",
    "        i = 0\n",
    "        for user_id, items in ui_data.iteritems():\n",
    "            i += 1\n",
    "            if i % 10000 == 0:\n",
    "                print 'count user:', i\n",
    "            samples = random_select_negative_sample(items)\n",
    "            for item_id, value in samples.iteritems():\n",
    "                E_ui = value - P_uk[user_id, :].dot(Q_ik[item_id, :].transpose())\n",
    "                old_error = E_ui * E_ui\n",
    "                P_uk[user_id, :] = P_uk[user_id, :] + alpha * (Q_ik[item_id, :] * E_ui - C * P_uk[user_id, :])\n",
    "                Q_ik[item_id, :] = Q_ik[item_id, :] + alpha * (P_uk[user_id, :] * E_ui - C * Q_ik[item_id, :])\n",
    "                new_error = (value - P_uk[user_id, :].dot(Q_ik[item_id, :].transpose())) ** 2\n",
    "                \n",
    "                num_error += new_error\n",
    "        alpha *= 0.9\n",
    "    \n",
    "        print \"step:\", step, \"error:\", num_error\n",
    "    return P_uk, Q_ik\n",
    "\n",
    "P, Q = LatentFactorModel(user_items, 10, 1, 0.5, 0.1)"
   ]
  },
  {
   "cell_type": "code",
   "execution_count": 438,
   "metadata": {
    "collapsed": false
   },
   "outputs": [],
   "source": [
    "df = pd.DataFrame(P)"
   ]
  },
  {
   "cell_type": "code",
   "execution_count": 439,
   "metadata": {
    "collapsed": false,
    "scrolled": true
   },
   "outputs": [
    {
     "data": {
      "text/html": [
       "<div>\n",
       "<table border=\"1\" class=\"dataframe\">\n",
       "  <thead>\n",
       "    <tr style=\"text-align: right;\">\n",
       "      <th></th>\n",
       "      <th>0</th>\n",
       "      <th>1</th>\n",
       "      <th>2</th>\n",
       "      <th>3</th>\n",
       "      <th>4</th>\n",
       "      <th>5</th>\n",
       "      <th>6</th>\n",
       "      <th>7</th>\n",
       "      <th>8</th>\n",
       "      <th>9</th>\n",
       "    </tr>\n",
       "  </thead>\n",
       "  <tbody>\n",
       "    <tr>\n",
       "      <th>count</th>\n",
       "      <td>4.967700e+04</td>\n",
       "      <td>4.967700e+04</td>\n",
       "      <td>4.967700e+04</td>\n",
       "      <td>4.967700e+04</td>\n",
       "      <td>4.967700e+04</td>\n",
       "      <td>4.967700e+04</td>\n",
       "      <td>4.967700e+04</td>\n",
       "      <td>4.967700e+04</td>\n",
       "      <td>4.967700e+04</td>\n",
       "      <td>4.967700e+04</td>\n",
       "    </tr>\n",
       "    <tr>\n",
       "      <th>mean</th>\n",
       "      <td>7.518801e-04</td>\n",
       "      <td>7.518801e-04</td>\n",
       "      <td>7.518801e-04</td>\n",
       "      <td>7.518801e-04</td>\n",
       "      <td>7.518801e-04</td>\n",
       "      <td>7.518801e-04</td>\n",
       "      <td>7.518801e-04</td>\n",
       "      <td>7.518801e-04</td>\n",
       "      <td>7.518801e-04</td>\n",
       "      <td>7.518801e-04</td>\n",
       "    </tr>\n",
       "    <tr>\n",
       "      <th>std</th>\n",
       "      <td>1.993054e-03</td>\n",
       "      <td>1.993054e-03</td>\n",
       "      <td>1.993054e-03</td>\n",
       "      <td>1.993054e-03</td>\n",
       "      <td>1.993054e-03</td>\n",
       "      <td>1.993054e-03</td>\n",
       "      <td>1.993054e-03</td>\n",
       "      <td>1.993054e-03</td>\n",
       "      <td>1.993054e-03</td>\n",
       "      <td>1.993054e-03</td>\n",
       "    </tr>\n",
       "    <tr>\n",
       "      <th>min</th>\n",
       "      <td>3.288207e-11</td>\n",
       "      <td>3.288207e-11</td>\n",
       "      <td>3.288207e-11</td>\n",
       "      <td>3.288207e-11</td>\n",
       "      <td>3.288207e-11</td>\n",
       "      <td>3.288207e-11</td>\n",
       "      <td>3.288207e-11</td>\n",
       "      <td>3.288207e-11</td>\n",
       "      <td>3.288207e-11</td>\n",
       "      <td>3.288207e-11</td>\n",
       "    </tr>\n",
       "    <tr>\n",
       "      <th>25%</th>\n",
       "      <td>1.347168e-05</td>\n",
       "      <td>1.347168e-05</td>\n",
       "      <td>1.347168e-05</td>\n",
       "      <td>1.347168e-05</td>\n",
       "      <td>1.347168e-05</td>\n",
       "      <td>1.347168e-05</td>\n",
       "      <td>1.347168e-05</td>\n",
       "      <td>1.347168e-05</td>\n",
       "      <td>1.347168e-05</td>\n",
       "      <td>1.347168e-05</td>\n",
       "    </tr>\n",
       "    <tr>\n",
       "      <th>50%</th>\n",
       "      <td>1.457287e-04</td>\n",
       "      <td>1.457287e-04</td>\n",
       "      <td>1.457287e-04</td>\n",
       "      <td>1.457287e-04</td>\n",
       "      <td>1.457287e-04</td>\n",
       "      <td>1.457287e-04</td>\n",
       "      <td>1.457287e-04</td>\n",
       "      <td>1.457287e-04</td>\n",
       "      <td>1.457287e-04</td>\n",
       "      <td>1.457287e-04</td>\n",
       "    </tr>\n",
       "    <tr>\n",
       "      <th>75%</th>\n",
       "      <td>7.135976e-04</td>\n",
       "      <td>7.135976e-04</td>\n",
       "      <td>7.135976e-04</td>\n",
       "      <td>7.135976e-04</td>\n",
       "      <td>7.135976e-04</td>\n",
       "      <td>7.135976e-04</td>\n",
       "      <td>7.135976e-04</td>\n",
       "      <td>7.135976e-04</td>\n",
       "      <td>7.135976e-04</td>\n",
       "      <td>7.135976e-04</td>\n",
       "    </tr>\n",
       "    <tr>\n",
       "      <th>max</th>\n",
       "      <td>8.106070e-02</td>\n",
       "      <td>8.106070e-02</td>\n",
       "      <td>8.106070e-02</td>\n",
       "      <td>8.106070e-02</td>\n",
       "      <td>8.106070e-02</td>\n",
       "      <td>8.106070e-02</td>\n",
       "      <td>8.106070e-02</td>\n",
       "      <td>8.106070e-02</td>\n",
       "      <td>8.106070e-02</td>\n",
       "      <td>8.106070e-02</td>\n",
       "    </tr>\n",
       "  </tbody>\n",
       "</table>\n",
       "</div>"
      ],
      "text/plain": [
       "                  0             1             2             3             4  \\\n",
       "count  4.967700e+04  4.967700e+04  4.967700e+04  4.967700e+04  4.967700e+04   \n",
       "mean   7.518801e-04  7.518801e-04  7.518801e-04  7.518801e-04  7.518801e-04   \n",
       "std    1.993054e-03  1.993054e-03  1.993054e-03  1.993054e-03  1.993054e-03   \n",
       "min    3.288207e-11  3.288207e-11  3.288207e-11  3.288207e-11  3.288207e-11   \n",
       "25%    1.347168e-05  1.347168e-05  1.347168e-05  1.347168e-05  1.347168e-05   \n",
       "50%    1.457287e-04  1.457287e-04  1.457287e-04  1.457287e-04  1.457287e-04   \n",
       "75%    7.135976e-04  7.135976e-04  7.135976e-04  7.135976e-04  7.135976e-04   \n",
       "max    8.106070e-02  8.106070e-02  8.106070e-02  8.106070e-02  8.106070e-02   \n",
       "\n",
       "                  5             6             7             8             9  \n",
       "count  4.967700e+04  4.967700e+04  4.967700e+04  4.967700e+04  4.967700e+04  \n",
       "mean   7.518801e-04  7.518801e-04  7.518801e-04  7.518801e-04  7.518801e-04  \n",
       "std    1.993054e-03  1.993054e-03  1.993054e-03  1.993054e-03  1.993054e-03  \n",
       "min    3.288207e-11  3.288207e-11  3.288207e-11  3.288207e-11  3.288207e-11  \n",
       "25%    1.347168e-05  1.347168e-05  1.347168e-05  1.347168e-05  1.347168e-05  \n",
       "50%    1.457287e-04  1.457287e-04  1.457287e-04  1.457287e-04  1.457287e-04  \n",
       "75%    7.135976e-04  7.135976e-04  7.135976e-04  7.135976e-04  7.135976e-04  \n",
       "max    8.106070e-02  8.106070e-02  8.106070e-02  8.106070e-02  8.106070e-02  "
      ]
     },
     "execution_count": 439,
     "metadata": {},
     "output_type": "execute_result"
    }
   ],
   "source": [
    "q_df = pd.DataFrame(Q)\n",
    "q_df.describe()"
   ]
  },
  {
   "cell_type": "markdown",
   "metadata": {},
   "source": [
    "#### Accoring to P and Q, we try to calculate result"
   ]
  },
  {
   "cell_type": "code",
   "execution_count": 440,
   "metadata": {
    "collapsed": true
   },
   "outputs": [],
   "source": [
    "orders = pd.read_csv(DATA_PATH + \"orders.csv\")"
   ]
  },
  {
   "cell_type": "markdown",
   "metadata": {},
   "source": [
    "#### Get train use-item_list"
   ]
  },
  {
   "cell_type": "code",
   "execution_count": 441,
   "metadata": {
    "collapsed": true
   },
   "outputs": [],
   "source": [
    "train = pd.read_csv(DATA_PATH + \"order_products__train.csv\")"
   ]
  },
  {
   "cell_type": "code",
   "execution_count": 442,
   "metadata": {
    "collapsed": true
   },
   "outputs": [],
   "source": [
    "train_order_user = pd.merge(train, orders, on='order_id')"
   ]
  },
  {
   "cell_type": "code",
   "execution_count": 443,
   "metadata": {
    "collapsed": true
   },
   "outputs": [],
   "source": [
    "train_user_products = pd.DataFrame(train_order_user.groupby('user_id')['product_id'].apply(list))"
   ]
  },
  {
   "cell_type": "code",
   "execution_count": 444,
   "metadata": {
    "collapsed": false,
    "scrolled": true
   },
   "outputs": [
    {
     "data": {
      "text/html": [
       "<div>\n",
       "<table border=\"1\" class=\"dataframe\">\n",
       "  <thead>\n",
       "    <tr style=\"text-align: right;\">\n",
       "      <th></th>\n",
       "      <th>product_id</th>\n",
       "    </tr>\n",
       "    <tr>\n",
       "      <th>user_id</th>\n",
       "      <th></th>\n",
       "    </tr>\n",
       "  </thead>\n",
       "  <tbody>\n",
       "    <tr>\n",
       "      <th>1</th>\n",
       "      <td>[196, 25133, 38928, 26405, 39657, 10258, 13032...</td>\n",
       "    </tr>\n",
       "    <tr>\n",
       "      <th>2</th>\n",
       "      <td>[22963, 7963, 16589, 32792, 41787, 22825, 1364...</td>\n",
       "    </tr>\n",
       "    <tr>\n",
       "      <th>5</th>\n",
       "      <td>[15349, 19057, 16185, 21413, 20843, 20114, 482...</td>\n",
       "    </tr>\n",
       "    <tr>\n",
       "      <th>7</th>\n",
       "      <td>[12053, 47272, 37999, 13198, 43967, 40852, 176...</td>\n",
       "    </tr>\n",
       "    <tr>\n",
       "      <th>8</th>\n",
       "      <td>[15937, 5539, 10960, 23165, 22247, 4853, 27104...</td>\n",
       "    </tr>\n",
       "  </tbody>\n",
       "</table>\n",
       "</div>"
      ],
      "text/plain": [
       "                                                product_id\n",
       "user_id                                                   \n",
       "1        [196, 25133, 38928, 26405, 39657, 10258, 13032...\n",
       "2        [22963, 7963, 16589, 32792, 41787, 22825, 1364...\n",
       "5        [15349, 19057, 16185, 21413, 20843, 20114, 482...\n",
       "7        [12053, 47272, 37999, 13198, 43967, 40852, 176...\n",
       "8        [15937, 5539, 10960, 23165, 22247, 4853, 27104..."
      ]
     },
     "execution_count": 444,
     "metadata": {},
     "output_type": "execute_result"
    }
   ],
   "source": [
    "train_user_products.head()"
   ]
  },
  {
   "cell_type": "code",
   "execution_count": 445,
   "metadata": {
    "collapsed": false
   },
   "outputs": [],
   "source": [
    "prior = pd.read_csv(DATA_PATH + \"order_products__prior.csv\")\n",
    "order_user = pd.merge(prior, orders, on='order_id')\n",
    "prior_user_products = pd.DataFrame(order_user.groupby('user_id')['product_id'].apply(list))\n",
    "def cal_dict(x):\n",
    "    from collections import Counter\n",
    "    a = Counter(x)\n",
    "    return dict(a)\n",
    "\n",
    "prior_user_products_dict = pd.DataFrame(prior_user_products['product_id'].apply(cal_dict))\n",
    "product_id_list = np.unique(order_user.product_id)\n",
    "product_id_dict = {}\n",
    "for idx, product_id in enumerate(product_id_list):\n",
    "    product_id_dict[product_id] = idx\n",
    "    \n",
    "user_id_list = np.unique(order_user.user_id)\n",
    "user_id_dict = {}\n",
    "for idx, user_id in enumerate(user_id_list):\n",
    "    user_id_dict[user_id] = idx"
   ]
  },
  {
   "cell_type": "code",
   "execution_count": 448,
   "metadata": {
    "collapsed": true
   },
   "outputs": [],
   "source": [
    "def cal_dict(x):\n",
    "    from collections import Counter\n",
    "    a = Counter(x)\n",
    "    return dict(a)\n",
    "\n",
    "train_user_products_dict = pd.DataFrame(train_user_products['product_id'].apply(cal_dict))"
   ]
  },
  {
   "cell_type": "markdown",
   "metadata": {},
   "source": [
    "#### Accoring to train_data, calculate the threshold for all provided data"
   ]
  },
  {
   "cell_type": "code",
   "execution_count": 450,
   "metadata": {
    "collapsed": true
   },
   "outputs": [],
   "source": [
    "def predict(train_dict, P_uk, Q_ik, user_dict, item_dict):\n",
    "    from collections import defaultdict\n",
    "    result = defaultdict(dict)\n",
    "    for x in train_dict['product_id'].iteritems():\n",
    "        user_id, product_dict = x[0], x[1]\n",
    "        for product_id, num in product_dict.iteritems():\n",
    "            if product_id not in item_dict:\n",
    "                continue\n",
    "            user_idx = user_dict[user_id]\n",
    "            item_idx = item_dict[product_id]\n",
    "            result[user_id][product_id] = P_uk[user_idx, :].dot(Q_ik[item_idx, :].transpose())\n",
    "    return result"
   ]
  },
  {
   "cell_type": "code",
   "execution_count": 451,
   "metadata": {
    "collapsed": false
   },
   "outputs": [],
   "source": [
    "train_result = predict(prior_user_products_dict, P, Q, user_id_dict, product_id_dict)"
   ]
  },
  {
   "cell_type": "code",
   "execution_count": 452,
   "metadata": {
    "collapsed": false
   },
   "outputs": [],
   "source": [
    "def normalize(data):\n",
    "    result = {}\n",
    "    for user_id, product_dict in data.iteritems():\n",
    "        cnt = sum(product_dict.values())\n",
    "        result[user_id] = {}\n",
    "        for product_id, value in product_dict.iteritems():\n",
    "            result[user_id][product_id] = value / cnt\n",
    "    return result\n",
    "\n",
    "normal_data = normalize(train_result)"
   ]
  },
  {
   "cell_type": "code",
   "execution_count": 453,
   "metadata": {
    "collapsed": true
   },
   "outputs": [],
   "source": [
    "def score_f(predict_list, product_list):\n",
    "    recall = 0\n",
    "    precision = 0\n",
    "    \n",
    "    same_one = 0\n",
    "    for product_id in predict_list:\n",
    "        if product_id in product_list:\n",
    "            same_one += 1\n",
    "    \n",
    "    if len(predict_list) == 0:\n",
    "        return 0\n",
    "    \n",
    "    recall = float(same_one) / len(product_list)\n",
    "    precision = float(same_one) / len(predict_list)\n",
    "    \n",
    "    if recall == 0 and precision == 0:\n",
    "        return 0\n",
    "    \n",
    "    return 2 * (recall * precision) / (recall + precision)"
   ]
  },
  {
   "cell_type": "code",
   "execution_count": null,
   "metadata": {
    "collapsed": true
   },
   "outputs": [],
   "source": [
    "from collectios import defaultdict\n",
    "user_order_list = orders.groupby('user_id')['order_id'].apply(list)\n",
    "user_order_dict = user_order_list.to_dict()\n",
    "cart_number_dict = order_user.groupby('order_id')['add_to_cart_order'].apply(list)\n",
    "unique_cart_number_list = cart_number_dict.apply(np.unique)\n",
    "\n",
    "average_length_dict = {}\n",
    "for user_id, order_list in user_order_list.iteritems():\n",
    "    order_length_list = [len(cart_number_dict[order_id]) for order_id in order_list]\n",
    "    average_length_dict[user_id] = max(1, sum(order_length_list) / len(order_length_list)"
   ]
  },
  {
   "cell_type": "code",
   "execution_count": 454,
   "metadata": {
    "collapsed": false
   },
   "outputs": [],
   "source": [
    "def cal_result(norm_data, train_dict, theshold):\n",
    "    f_score = 0\n",
    "    for x in train_dict['product_id'].iteritems():\n",
    "        user_id, product_dict = x[0], x[1]\n",
    "        \n",
    "        product_list = list(product_dict.keys())\n",
    "        predict_dict = normal_data[user_id]\n",
    "        predict_list = []\n",
    "        for key, value in predict_dict.iteritems():\n",
    "            if value >= theshold:\n",
    "                predict_list.append(key)\n",
    "                \n",
    "        f_score += score_f(predict_list, product_list)\n",
    "    \n",
    "    f_score /= float(len(train_dict))\n",
    "    return f_score"
   ]
  },
  {
   "cell_type": "code",
   "execution_count": 455,
   "metadata": {
    "collapsed": false
   },
   "outputs": [
    {
     "data": {
      "text/plain": [
       "0.20005023085593565"
      ]
     },
     "execution_count": 455,
     "metadata": {},
     "output_type": "execute_result"
    }
   ],
   "source": [
    "cal_result(normal_data, train_user_products_dict, 0.0032)"
   ]
  },
  {
   "cell_type": "code",
   "execution_count": 456,
   "metadata": {
    "collapsed": false
   },
   "outputs": [
    {
     "data": {
      "text/plain": [
       "0.20005631213031477"
      ]
     },
     "execution_count": 456,
     "metadata": {},
     "output_type": "execute_result"
    }
   ],
   "source": [
    "cal_result(normal_data, train_user_products_dict, 0.0034)"
   ]
  },
  {
   "cell_type": "code",
   "execution_count": 457,
   "metadata": {
    "collapsed": false
   },
   "outputs": [
    {
     "data": {
      "text/plain": [
       "0.2000537168876042"
      ]
     },
     "execution_count": 457,
     "metadata": {},
     "output_type": "execute_result"
    }
   ],
   "source": [
    "cal_result(normal_data, train_user_products_dict, 0.0035)"
   ]
  },
  {
   "cell_type": "code",
   "execution_count": 458,
   "metadata": {
    "collapsed": true
   },
   "outputs": [],
   "source": [
    "test_user_id_list = pd.DataFrame(orders.groupby('eval_set')['user_id'].apply(list))"
   ]
  },
  {
   "cell_type": "code",
   "execution_count": 459,
   "metadata": {
    "collapsed": false
   },
   "outputs": [],
   "source": [
    "unique_user_id_list = np.unique(test_user_id_list.user_id['test'])"
   ]
  },
  {
   "cell_type": "code",
   "execution_count": 460,
   "metadata": {
    "collapsed": false
   },
   "outputs": [
    {
     "data": {
      "text/plain": [
       "75000"
      ]
     },
     "execution_count": 460,
     "metadata": {},
     "output_type": "execute_result"
    }
   ],
   "source": [
    "len(unique_user_id_list)"
   ]
  },
  {
   "cell_type": "code",
   "execution_count": 461,
   "metadata": {
    "collapsed": true
   },
   "outputs": [],
   "source": [
    "def predict_result(norm_data, user_id_list, theshold=0.0035):\n",
    "    result = {}\n",
    "    for user_id in user_id_list:\n",
    "        predict_dict = normal_data[user_id]\n",
    "        predict_list = []\n",
    "        for key, value in predict_dict.iteritems():\n",
    "            if value >= theshold:\n",
    "                predict_list.append(key)\n",
    "                \n",
    "        result[user_id] = predict_list\n",
    "    \n",
    "    return result"
   ]
  },
  {
   "cell_type": "code",
   "execution_count": 462,
   "metadata": {
    "collapsed": true
   },
   "outputs": [],
   "source": [
    "test_result = predict_result(normal_data, unique_user_id_list)"
   ]
  },
  {
   "cell_type": "code",
   "execution_count": 463,
   "metadata": {
    "collapsed": false
   },
   "outputs": [],
   "source": [
    "test_order_data = orders.ix[orders['eval_set'] == 'test']"
   ]
  },
  {
   "cell_type": "code",
   "execution_count": 464,
   "metadata": {
    "collapsed": false,
    "scrolled": true
   },
   "outputs": [
    {
     "data": {
      "text/html": [
       "<div>\n",
       "<table border=\"1\" class=\"dataframe\">\n",
       "  <thead>\n",
       "    <tr style=\"text-align: right;\">\n",
       "      <th></th>\n",
       "      <th>order_id</th>\n",
       "      <th>user_id</th>\n",
       "      <th>eval_set</th>\n",
       "      <th>order_number</th>\n",
       "      <th>order_dow</th>\n",
       "      <th>order_hour_of_day</th>\n",
       "      <th>days_since_prior_order</th>\n",
       "    </tr>\n",
       "  </thead>\n",
       "  <tbody>\n",
       "    <tr>\n",
       "      <th>38</th>\n",
       "      <td>2774568</td>\n",
       "      <td>3</td>\n",
       "      <td>test</td>\n",
       "      <td>13</td>\n",
       "      <td>5</td>\n",
       "      <td>15</td>\n",
       "      <td>11.0</td>\n",
       "    </tr>\n",
       "    <tr>\n",
       "      <th>44</th>\n",
       "      <td>329954</td>\n",
       "      <td>4</td>\n",
       "      <td>test</td>\n",
       "      <td>6</td>\n",
       "      <td>3</td>\n",
       "      <td>12</td>\n",
       "      <td>30.0</td>\n",
       "    </tr>\n",
       "    <tr>\n",
       "      <th>53</th>\n",
       "      <td>1528013</td>\n",
       "      <td>6</td>\n",
       "      <td>test</td>\n",
       "      <td>4</td>\n",
       "      <td>3</td>\n",
       "      <td>16</td>\n",
       "      <td>22.0</td>\n",
       "    </tr>\n",
       "    <tr>\n",
       "      <th>96</th>\n",
       "      <td>1376945</td>\n",
       "      <td>11</td>\n",
       "      <td>test</td>\n",
       "      <td>8</td>\n",
       "      <td>6</td>\n",
       "      <td>11</td>\n",
       "      <td>8.0</td>\n",
       "    </tr>\n",
       "    <tr>\n",
       "      <th>102</th>\n",
       "      <td>1356845</td>\n",
       "      <td>12</td>\n",
       "      <td>test</td>\n",
       "      <td>6</td>\n",
       "      <td>1</td>\n",
       "      <td>20</td>\n",
       "      <td>30.0</td>\n",
       "    </tr>\n",
       "  </tbody>\n",
       "</table>\n",
       "</div>"
      ],
      "text/plain": [
       "     order_id  user_id eval_set  order_number  order_dow  order_hour_of_day  \\\n",
       "38    2774568        3     test            13          5                 15   \n",
       "44     329954        4     test             6          3                 12   \n",
       "53    1528013        6     test             4          3                 16   \n",
       "96    1376945       11     test             8          6                 11   \n",
       "102   1356845       12     test             6          1                 20   \n",
       "\n",
       "     days_since_prior_order  \n",
       "38                     11.0  \n",
       "44                     30.0  \n",
       "53                     22.0  \n",
       "96                      8.0  \n",
       "102                    30.0  "
      ]
     },
     "execution_count": 464,
     "metadata": {},
     "output_type": "execute_result"
    }
   ],
   "source": [
    "test_order_data.head()"
   ]
  },
  {
   "cell_type": "code",
   "execution_count": 465,
   "metadata": {
    "collapsed": false
   },
   "outputs": [
    {
     "data": {
      "text/plain": [
       "<generator object iteritems at 0x4771aeaa0>"
      ]
     },
     "execution_count": 465,
     "metadata": {},
     "output_type": "execute_result"
    }
   ],
   "source": [
    "test_order_data.iteritems()"
   ]
  },
  {
   "cell_type": "code",
   "execution_count": 466,
   "metadata": {
    "collapsed": false
   },
   "outputs": [],
   "source": [
    "print_data = []\n",
    "for x in test_order_data.iterrows():\n",
    "    order_id = x[1].order_id\n",
    "    user_id = x[1].user_id\n",
    "    print_data.append((order_id, test_result[user_id]))"
   ]
  },
  {
   "cell_type": "code",
   "execution_count": 467,
   "metadata": {
    "collapsed": false
   },
   "outputs": [],
   "source": [
    "sorted_print_data = sorted(print_data)"
   ]
  },
  {
   "cell_type": "code",
   "execution_count": 468,
   "metadata": {
    "collapsed": false
   },
   "outputs": [
    {
     "data": {
      "text/plain": [
       "(17,\n",
       " [26429,\n",
       "  40002,\n",
       "  16965,\n",
       "  11494,\n",
       "  13107,\n",
       "  39275,\n",
       "  21709,\n",
       "  21903,\n",
       "  18288,\n",
       "  44056,\n",
       "  6291,\n",
       "  47766,\n",
       "  21463,\n",
       "  39928,\n",
       "  38777,\n",
       "  7035,\n",
       "  31964,\n",
       "  15613,\n",
       "  13535])"
      ]
     },
     "execution_count": 468,
     "metadata": {},
     "output_type": "execute_result"
    }
   ],
   "source": [
    "sorted_print_data[0]"
   ]
  },
  {
   "cell_type": "code",
   "execution_count": 471,
   "metadata": {
    "collapsed": false
   },
   "outputs": [],
   "source": [
    "model_id_list = [x[0] for x in sorted_print_data]\n",
    "product_id_data = [\" \".join(map(str, x[1])) for x in sorted_print_data]"
   ]
  },
  {
   "cell_type": "code",
   "execution_count": 476,
   "metadata": {
    "collapsed": true
   },
   "outputs": [],
   "source": [
    "data = pd.DataFrame({'order_id': model_id_list, \"products\": product_id_data})"
   ]
  },
  {
   "cell_type": "code",
   "execution_count": null,
   "metadata": {
    "collapsed": true
   },
   "outputs": [],
   "source": []
  },
  {
   "cell_type": "code",
   "execution_count": 477,
   "metadata": {
    "collapsed": false
   },
   "outputs": [
    {
     "data": {
      "text/html": [
       "<div>\n",
       "<table border=\"1\" class=\"dataframe\">\n",
       "  <thead>\n",
       "    <tr style=\"text-align: right;\">\n",
       "      <th></th>\n",
       "      <th>order_id</th>\n",
       "      <th>products</th>\n",
       "    </tr>\n",
       "  </thead>\n",
       "  <tbody>\n",
       "    <tr>\n",
       "      <th>0</th>\n",
       "      <td>17</td>\n",
       "      <td>26429 40002 16965 11494 13107 39275 21709 2190...</td>\n",
       "    </tr>\n",
       "    <tr>\n",
       "      <th>1</th>\n",
       "      <td>34</td>\n",
       "      <td>26369 36994 7559 18441 651 39180 5134 31533 43...</td>\n",
       "    </tr>\n",
       "    <tr>\n",
       "      <th>2</th>\n",
       "      <td>137</td>\n",
       "      <td>42625 28934 22281 7179 5134 27663 7952 47630 4...</td>\n",
       "    </tr>\n",
       "    <tr>\n",
       "      <th>3</th>\n",
       "      <td>182</td>\n",
       "      <td>34824 26128 27156 17948 2078 48682 14891 23645...</td>\n",
       "    </tr>\n",
       "    <tr>\n",
       "      <th>4</th>\n",
       "      <td>257</td>\n",
       "      <td>1025 24964 47766 24838 29837 37646 39055 21137...</td>\n",
       "    </tr>\n",
       "  </tbody>\n",
       "</table>\n",
       "</div>"
      ],
      "text/plain": [
       "   order_id                                           products\n",
       "0        17  26429 40002 16965 11494 13107 39275 21709 2190...\n",
       "1        34  26369 36994 7559 18441 651 39180 5134 31533 43...\n",
       "2       137  42625 28934 22281 7179 5134 27663 7952 47630 4...\n",
       "3       182  34824 26128 27156 17948 2078 48682 14891 23645...\n",
       "4       257  1025 24964 47766 24838 29837 37646 39055 21137..."
      ]
     },
     "execution_count": 477,
     "metadata": {},
     "output_type": "execute_result"
    }
   ],
   "source": [
    "data.head()"
   ]
  },
  {
   "cell_type": "code",
   "execution_count": null,
   "metadata": {
    "collapsed": true
   },
   "outputs": [],
   "source": []
  },
  {
   "cell_type": "code",
   "execution_count": 478,
   "metadata": {
    "collapsed": true
   },
   "outputs": [],
   "source": [
    "data.to_csv(DATA_PATH + \"predict.csv\", index=False)"
   ]
  },
  {
   "cell_type": "code",
   "execution_count": null,
   "metadata": {
    "collapsed": true
   },
   "outputs": [],
   "source": []
  },
  {
   "cell_type": "code",
   "execution_count": null,
   "metadata": {
    "collapsed": true
   },
   "outputs": [],
   "source": []
  }
 ],
 "metadata": {
  "kernelspec": {
   "display_name": "Python 2",
   "language": "python",
   "name": "python2"
  },
  "language_info": {
   "codemirror_mode": {
    "name": "ipython",
    "version": 2
   },
   "file_extension": ".py",
   "mimetype": "text/x-python",
   "name": "python",
   "nbconvert_exporter": "python",
   "pygments_lexer": "ipython2",
   "version": "2.7.13"
  }
 },
 "nbformat": 4,
 "nbformat_minor": 2
}
