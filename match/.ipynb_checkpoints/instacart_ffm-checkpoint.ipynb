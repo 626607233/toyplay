{
 "cells": [
  {
   "cell_type": "code",
   "execution_count": 1,
   "metadata": {
    "collapsed": true
   },
   "outputs": [],
   "source": [
    "%matplotlib inline\n",
    "import matplotlib\n",
    "import matplotlib.pyplot as plt\n",
    "import pandas as pd\n",
    "import numpy as np\n",
    "import seaborn as sns\n",
    "import scipy.sparse\n",
    "pd.set_option(\"display.max_columns\",101)\n",
    "RANDOM_STATE = 42"
   ]
  },
  {
   "cell_type": "code",
   "execution_count": 2,
   "metadata": {
    "collapsed": true
   },
   "outputs": [],
   "source": [
    "DATA_PATH = \"../data/instacart/\""
   ]
  },
  {
   "cell_type": "code",
   "execution_count": 3,
   "metadata": {
    "collapsed": true
   },
   "outputs": [],
   "source": [
    "def save_sparse_matrix(filename, x):\n",
    "    x_coo = x.tocoo()\n",
    "    row = x_coo.row\n",
    "    col = x_coo.col\n",
    "    data = x_coo.data\n",
    "    shape = x_coo.shape\n",
    "    np.savez(filename, row=row, col=col, data=data, shape=shape)\n",
    "\n",
    "def load_sparse_matrix(filename):\n",
    "    y = np.load(filename)\n",
    "    z = scipy.sparse.coo_matrix((y['data'], (y['row'], y['col'])), shape=y['shape'])\n",
    "    return z\n",
    "\n",
    "save_file = DATA_PATH + \"user_item.npz\""
   ]
  },
  {
   "cell_type": "code",
   "execution_count": 4,
   "metadata": {
    "collapsed": true
   },
   "outputs": [],
   "source": [
    "load_S = load_sparse_matrix(save_file)\n",
    "user_item_matrix = scipy.sparse.csr_matrix(load_S)"
   ]
  },
  {
   "cell_type": "markdown",
   "metadata": {},
   "source": [
    "#### inverse_matrix"
   ]
  },
  {
   "cell_type": "markdown",
   "metadata": {},
   "source": [
    "#### implement simple LFM model"
   ]
  },
  {
   "cell_type": "code",
   "execution_count": 275,
   "metadata": {
    "collapsed": true
   },
   "outputs": [],
   "source": [
    "item_pool = range(0, load_S.shape[1])\n",
    "\n",
    "def random_select_negative_sample(items):\n",
    "    import random\n",
    "    ret = {}\n",
    "    \n",
    "    result = sum(items.values())\n",
    "    for item, value in items.iteritems():\n",
    "        ret[item] = value / float(result)\n",
    "    \n",
    "    n = 0\n",
    "    for i in xrange(3 * len(items)):\n",
    "        item = item_pool[random.randint(0, len(item_pool) - 1)]\n",
    "        \n",
    "        if item in items:\n",
    "            continue\n",
    "        \n",
    "        ret[item] = 0\n",
    "        \n",
    "        n += 1\n",
    "        if n >= len(items):\n",
    "            break\n",
    "    return ret"
   ]
  },
  {
   "cell_type": "code",
   "execution_count": 249,
   "metadata": {
    "collapsed": false
   },
   "outputs": [],
   "source": [
    "ret = random_select_negative_sample({1: 2, 2: 3})"
   ]
  },
  {
   "cell_type": "code",
   "execution_count": 250,
   "metadata": {
    "collapsed": false
   },
   "outputs": [
    {
     "data": {
      "text/plain": [
       "{1: 0.4, 2: 0.6, 3939: 0, 37818: 0}"
      ]
     },
     "execution_count": 250,
     "metadata": {},
     "output_type": "execute_result"
    }
   ],
   "source": [
    "ret"
   ]
  },
  {
   "cell_type": "code",
   "execution_count": 79,
   "metadata": {
    "collapsed": true
   },
   "outputs": [],
   "source": [
    "xx = user_item_matrix.todok()"
   ]
  },
  {
   "cell_type": "code",
   "execution_count": 82,
   "metadata": {
    "collapsed": false
   },
   "outputs": [
    {
     "name": "stdout",
     "output_type": "stream",
     "text": [
      "(206209, 49677)\n"
     ]
    }
   ],
   "source": [
    "print xx.shape"
   ]
  },
  {
   "cell_type": "code",
   "execution_count": 84,
   "metadata": {
    "collapsed": false
   },
   "outputs": [
    {
     "name": "stdout",
     "output_type": "stream",
     "text": [
      "((84520, 6101), 4)\n"
     ]
    }
   ],
   "source": [
    "for i in xx.iteritems():\n",
    "    print i \n",
    "    break"
   ]
  },
  {
   "cell_type": "code",
   "execution_count": 85,
   "metadata": {
    "collapsed": false
   },
   "outputs": [
    {
     "data": {
      "text/plain": [
       "13307953"
      ]
     },
     "execution_count": 85,
     "metadata": {},
     "output_type": "execute_result"
    }
   ],
   "source": [
    "len(list(xx.iteritems()))"
   ]
  },
  {
   "cell_type": "code",
   "execution_count": 92,
   "metadata": {
    "collapsed": true
   },
   "outputs": [],
   "source": [
    "dok_matrix = user_item_matrix.todok()"
   ]
  },
  {
   "cell_type": "code",
   "execution_count": 95,
   "metadata": {
    "collapsed": true
   },
   "outputs": [],
   "source": [
    "def make_user_item_dict(X):\n",
    "    from collections import defaultdict\n",
    "    result = defaultdict(dict)\n",
    "    for user_item, value in dok_matrix.iteritems():\n",
    "        user_id, item_id = user_item\n",
    "        result[user_id][item_id] = value\n",
    "    return result"
   ]
  },
  {
   "cell_type": "code",
   "execution_count": null,
   "metadata": {
    "collapsed": true
   },
   "outputs": [],
   "source": [
    "user_items = make_user_item_dict(dok_matrix)"
   ]
  },
  {
   "cell_type": "code",
   "execution_count": 253,
   "metadata": {
    "collapsed": true
   },
   "outputs": [],
   "source": [
    "u_items = user_items.items()"
   ]
  },
  {
   "cell_type": "code",
   "execution_count": 257,
   "metadata": {
    "collapsed": true
   },
   "outputs": [],
   "source": []
  },
  {
   "cell_type": "markdown",
   "metadata": {},
   "source": [
    "#### tuning the parameter, because parameter is too small, C should be larger"
   ]
  },
  {
   "cell_type": "code",
   "execution_count": 288,
   "metadata": {
    "collapsed": false,
    "scrolled": true
   },
   "outputs": [
    {
     "name": "stdout",
     "output_type": "stream",
     "text": [
      "count user: 10000\n",
      "count user: 20000\n",
      "count user: 30000\n",
      "count user: 40000\n",
      "count user: 50000\n",
      "count user: 60000\n",
      "count user: 70000\n",
      "count user: 80000\n",
      "count user: 90000\n",
      "count user: 100000\n",
      "count user: 110000\n",
      "count user: 120000\n",
      "count user: 130000\n",
      "count user: 140000\n",
      "count user: 150000\n",
      "count user: 160000\n",
      "count user: 170000\n",
      "count user: 180000\n",
      "count user: 190000\n",
      "count user: 200000\n",
      "step: 0 error: 10181.4843422\n"
     ]
    }
   ],
   "source": [
    "def LatentFactorModel(ui_data, n_factor, n_step, alpha, C):\n",
    "    num_user, num_item = user_item_matrix.shape\n",
    "    P_uk = np.ones((num_user, n_factor)) / float(n_factor)\n",
    "    Q_ik = np.ones((num_item, n_factor)) / float(n_factor)\n",
    "    for step in xrange(n_step):\n",
    "        num_error = 0\n",
    "        i = 0\n",
    "        for user_id, items in ui_data.iteritems():\n",
    "            i += 1\n",
    "            if i % 10000 == 0:\n",
    "                print 'count user:', i\n",
    "            samples = random_select_negative_sample(items)\n",
    "            for item_id, value in samples.iteritems():\n",
    "                E_ui = value - P_uk[user_id, :].dot(Q_ik[item_id, :].transpose())\n",
    "                old_error = E_ui * E_ui\n",
    "                P_uk[user_id, :] = P_uk[user_id, :] + alpha * (Q_ik[item_id, :] * E_ui - C * P_uk[user_id, :])\n",
    "                Q_ik[item_id, :] = Q_ik[item_id, :] + alpha * (P_uk[user_id, :] * E_ui - C * Q_ik[item_id, :])\n",
    "                new_error = (value - P_uk[user_id, :].dot(Q_ik[item_id, :].transpose())) ** 2\n",
    "                \n",
    "                num_error += new_error\n",
    "        alpha *= 0.9\n",
    "    \n",
    "        print \"step:\", step, \"error:\", num_error\n",
    "    return P_uk, Q_ik\n",
    "\n",
    "test_item = dict(u_items[:10000])\n",
    "P, Q = LatentFactorModel(user_items, 10, 1, 0.5, 0.1)"
   ]
  },
  {
   "cell_type": "code",
   "execution_count": 260,
   "metadata": {
    "collapsed": false
   },
   "outputs": [],
   "source": [
    "df = pd.DataFrame(P)"
   ]
  },
  {
   "cell_type": "code",
   "execution_count": 289,
   "metadata": {
    "collapsed": false,
    "scrolled": true
   },
   "outputs": [
    {
     "data": {
      "text/html": [
       "<div>\n",
       "<table border=\"1\" class=\"dataframe\">\n",
       "  <thead>\n",
       "    <tr style=\"text-align: right;\">\n",
       "      <th></th>\n",
       "      <th>0</th>\n",
       "      <th>1</th>\n",
       "      <th>2</th>\n",
       "      <th>3</th>\n",
       "      <th>4</th>\n",
       "      <th>5</th>\n",
       "      <th>6</th>\n",
       "      <th>7</th>\n",
       "      <th>8</th>\n",
       "      <th>9</th>\n",
       "    </tr>\n",
       "  </thead>\n",
       "  <tbody>\n",
       "    <tr>\n",
       "      <th>count</th>\n",
       "      <td>4.967700e+04</td>\n",
       "      <td>4.967700e+04</td>\n",
       "      <td>4.967700e+04</td>\n",
       "      <td>4.967700e+04</td>\n",
       "      <td>4.967700e+04</td>\n",
       "      <td>4.967700e+04</td>\n",
       "      <td>4.967700e+04</td>\n",
       "      <td>4.967700e+04</td>\n",
       "      <td>4.967700e+04</td>\n",
       "      <td>4.967700e+04</td>\n",
       "    </tr>\n",
       "    <tr>\n",
       "      <th>mean</th>\n",
       "      <td>7.514803e-04</td>\n",
       "      <td>7.514803e-04</td>\n",
       "      <td>7.514803e-04</td>\n",
       "      <td>7.514803e-04</td>\n",
       "      <td>7.514803e-04</td>\n",
       "      <td>7.514803e-04</td>\n",
       "      <td>7.514803e-04</td>\n",
       "      <td>7.514803e-04</td>\n",
       "      <td>7.514803e-04</td>\n",
       "      <td>7.514803e-04</td>\n",
       "    </tr>\n",
       "    <tr>\n",
       "      <th>std</th>\n",
       "      <td>2.000601e-03</td>\n",
       "      <td>2.000601e-03</td>\n",
       "      <td>2.000601e-03</td>\n",
       "      <td>2.000601e-03</td>\n",
       "      <td>2.000601e-03</td>\n",
       "      <td>2.000601e-03</td>\n",
       "      <td>2.000601e-03</td>\n",
       "      <td>2.000601e-03</td>\n",
       "      <td>2.000601e-03</td>\n",
       "      <td>2.000601e-03</td>\n",
       "    </tr>\n",
       "    <tr>\n",
       "      <th>min</th>\n",
       "      <td>1.679865e-11</td>\n",
       "      <td>1.679865e-11</td>\n",
       "      <td>1.679865e-11</td>\n",
       "      <td>1.679865e-11</td>\n",
       "      <td>1.679865e-11</td>\n",
       "      <td>1.679865e-11</td>\n",
       "      <td>1.679865e-11</td>\n",
       "      <td>1.679865e-11</td>\n",
       "      <td>1.679865e-11</td>\n",
       "      <td>1.679865e-11</td>\n",
       "    </tr>\n",
       "    <tr>\n",
       "      <th>25%</th>\n",
       "      <td>1.349424e-05</td>\n",
       "      <td>1.349424e-05</td>\n",
       "      <td>1.349424e-05</td>\n",
       "      <td>1.349424e-05</td>\n",
       "      <td>1.349424e-05</td>\n",
       "      <td>1.349424e-05</td>\n",
       "      <td>1.349424e-05</td>\n",
       "      <td>1.349424e-05</td>\n",
       "      <td>1.349424e-05</td>\n",
       "      <td>1.349424e-05</td>\n",
       "    </tr>\n",
       "    <tr>\n",
       "      <th>50%</th>\n",
       "      <td>1.477994e-04</td>\n",
       "      <td>1.477994e-04</td>\n",
       "      <td>1.477994e-04</td>\n",
       "      <td>1.477994e-04</td>\n",
       "      <td>1.477994e-04</td>\n",
       "      <td>1.477994e-04</td>\n",
       "      <td>1.477994e-04</td>\n",
       "      <td>1.477994e-04</td>\n",
       "      <td>1.477994e-04</td>\n",
       "      <td>1.477994e-04</td>\n",
       "    </tr>\n",
       "    <tr>\n",
       "      <th>75%</th>\n",
       "      <td>7.121548e-04</td>\n",
       "      <td>7.121548e-04</td>\n",
       "      <td>7.121548e-04</td>\n",
       "      <td>7.121548e-04</td>\n",
       "      <td>7.121548e-04</td>\n",
       "      <td>7.121548e-04</td>\n",
       "      <td>7.121548e-04</td>\n",
       "      <td>7.121548e-04</td>\n",
       "      <td>7.121548e-04</td>\n",
       "      <td>7.121548e-04</td>\n",
       "    </tr>\n",
       "    <tr>\n",
       "      <th>max</th>\n",
       "      <td>9.810913e-02</td>\n",
       "      <td>9.810913e-02</td>\n",
       "      <td>9.810913e-02</td>\n",
       "      <td>9.810913e-02</td>\n",
       "      <td>9.810913e-02</td>\n",
       "      <td>9.810913e-02</td>\n",
       "      <td>9.810913e-02</td>\n",
       "      <td>9.810913e-02</td>\n",
       "      <td>9.810913e-02</td>\n",
       "      <td>9.810913e-02</td>\n",
       "    </tr>\n",
       "  </tbody>\n",
       "</table>\n",
       "</div>"
      ],
      "text/plain": [
       "                  0             1             2             3             4  \\\n",
       "count  4.967700e+04  4.967700e+04  4.967700e+04  4.967700e+04  4.967700e+04   \n",
       "mean   7.514803e-04  7.514803e-04  7.514803e-04  7.514803e-04  7.514803e-04   \n",
       "std    2.000601e-03  2.000601e-03  2.000601e-03  2.000601e-03  2.000601e-03   \n",
       "min    1.679865e-11  1.679865e-11  1.679865e-11  1.679865e-11  1.679865e-11   \n",
       "25%    1.349424e-05  1.349424e-05  1.349424e-05  1.349424e-05  1.349424e-05   \n",
       "50%    1.477994e-04  1.477994e-04  1.477994e-04  1.477994e-04  1.477994e-04   \n",
       "75%    7.121548e-04  7.121548e-04  7.121548e-04  7.121548e-04  7.121548e-04   \n",
       "max    9.810913e-02  9.810913e-02  9.810913e-02  9.810913e-02  9.810913e-02   \n",
       "\n",
       "                  5             6             7             8             9  \n",
       "count  4.967700e+04  4.967700e+04  4.967700e+04  4.967700e+04  4.967700e+04  \n",
       "mean   7.514803e-04  7.514803e-04  7.514803e-04  7.514803e-04  7.514803e-04  \n",
       "std    2.000601e-03  2.000601e-03  2.000601e-03  2.000601e-03  2.000601e-03  \n",
       "min    1.679865e-11  1.679865e-11  1.679865e-11  1.679865e-11  1.679865e-11  \n",
       "25%    1.349424e-05  1.349424e-05  1.349424e-05  1.349424e-05  1.349424e-05  \n",
       "50%    1.477994e-04  1.477994e-04  1.477994e-04  1.477994e-04  1.477994e-04  \n",
       "75%    7.121548e-04  7.121548e-04  7.121548e-04  7.121548e-04  7.121548e-04  \n",
       "max    9.810913e-02  9.810913e-02  9.810913e-02  9.810913e-02  9.810913e-02  "
      ]
     },
     "execution_count": 289,
     "metadata": {},
     "output_type": "execute_result"
    }
   ],
   "source": [
    "q_df = pd.DataFrame(Q)\n",
    "q_df.describe()"
   ]
  },
  {
   "cell_type": "markdown",
   "metadata": {},
   "source": [
    "#### Accoring to P and Q, we try to calculate result"
   ]
  },
  {
   "cell_type": "code",
   "execution_count": 294,
   "metadata": {
    "collapsed": true
   },
   "outputs": [],
   "source": [
    "orders = pd.read_csv(DATA_PATH + \"orders.csv\")"
   ]
  },
  {
   "cell_type": "markdown",
   "metadata": {},
   "source": [
    "#### Get train use-item_list"
   ]
  },
  {
   "cell_type": "code",
   "execution_count": 295,
   "metadata": {
    "collapsed": true
   },
   "outputs": [],
   "source": [
    "train = pd.read_csv(DATA_PATH + \"order_products__train.csv\")"
   ]
  },
  {
   "cell_type": "code",
   "execution_count": 296,
   "metadata": {
    "collapsed": true
   },
   "outputs": [],
   "source": [
    "train_order_user = pd.merge(train, orders, on='order_id')"
   ]
  },
  {
   "cell_type": "code",
   "execution_count": 297,
   "metadata": {
    "collapsed": true
   },
   "outputs": [],
   "source": [
    "train_user_products = pd.DataFrame(train_order_user.groupby('user_id')['product_id'].apply(list))"
   ]
  },
  {
   "cell_type": "code",
   "execution_count": 298,
   "metadata": {
    "collapsed": false,
    "scrolled": true
   },
   "outputs": [
    {
     "data": {
      "text/html": [
       "<div>\n",
       "<table border=\"1\" class=\"dataframe\">\n",
       "  <thead>\n",
       "    <tr style=\"text-align: right;\">\n",
       "      <th></th>\n",
       "      <th>product_id</th>\n",
       "    </tr>\n",
       "    <tr>\n",
       "      <th>user_id</th>\n",
       "      <th></th>\n",
       "    </tr>\n",
       "  </thead>\n",
       "  <tbody>\n",
       "    <tr>\n",
       "      <th>1</th>\n",
       "      <td>[196, 25133, 38928, 26405, 39657, 10258, 13032...</td>\n",
       "    </tr>\n",
       "    <tr>\n",
       "      <th>2</th>\n",
       "      <td>[22963, 7963, 16589, 32792, 41787, 22825, 1364...</td>\n",
       "    </tr>\n",
       "    <tr>\n",
       "      <th>5</th>\n",
       "      <td>[15349, 19057, 16185, 21413, 20843, 20114, 482...</td>\n",
       "    </tr>\n",
       "    <tr>\n",
       "      <th>7</th>\n",
       "      <td>[12053, 47272, 37999, 13198, 43967, 40852, 176...</td>\n",
       "    </tr>\n",
       "    <tr>\n",
       "      <th>8</th>\n",
       "      <td>[15937, 5539, 10960, 23165, 22247, 4853, 27104...</td>\n",
       "    </tr>\n",
       "  </tbody>\n",
       "</table>\n",
       "</div>"
      ],
      "text/plain": [
       "                                                product_id\n",
       "user_id                                                   \n",
       "1        [196, 25133, 38928, 26405, 39657, 10258, 13032...\n",
       "2        [22963, 7963, 16589, 32792, 41787, 22825, 1364...\n",
       "5        [15349, 19057, 16185, 21413, 20843, 20114, 482...\n",
       "7        [12053, 47272, 37999, 13198, 43967, 40852, 176...\n",
       "8        [15937, 5539, 10960, 23165, 22247, 4853, 27104..."
      ]
     },
     "execution_count": 298,
     "metadata": {},
     "output_type": "execute_result"
    }
   ],
   "source": [
    "train_user_products.head()"
   ]
  },
  {
   "cell_type": "code",
   "execution_count": 301,
   "metadata": {
    "collapsed": false
   },
   "outputs": [],
   "source": [
    "prior = pd.read_csv(DATA_PATH + \"order_products__prior.csv\")\n",
    "order_user = pd.merge(prior, orders, on='order_id')\n",
    "prior_user_products = pd.DataFrame(order_user.groupby('user_id')['product_id'].apply(list))\n",
    "def cal_dict(x):\n",
    "    from collections import Counter\n",
    "    a = Counter(x)\n",
    "    return dict(a)\n",
    "\n",
    "prior_user_products_dict = pd.DataFrame(prior_user_products['product_id'].apply(cal_dict))\n",
    "product_id_list = np.unique(order_user.product_id)\n",
    "product_id_dict = {}\n",
    "for idx, product_id in enumerate(product_id_list):\n",
    "    product_id_dict[product_id] = idx\n",
    "    \n",
    "user_id_list = np.unique(order_user.user_id)\n",
    "user_id_dict = {}\n",
    "for idx, user_id in enumerate(user_id_list):\n",
    "    user_id_dict[user_id] = idx"
   ]
  },
  {
   "cell_type": "code",
   "execution_count": 321,
   "metadata": {
    "collapsed": false
   },
   "outputs": [
    {
     "data": {
      "text/plain": [
       "user_id\n",
       "1         {27845: 1, 196: 1, 26405: 1, 13032: 1, 39657: ...\n",
       "2         {48523: 1, 24838: 1, 13640: 1, 11913: 1, 45066...\n",
       "5         {40706: 1, 21413: 1, 20843: 1, 48204: 1, 21616...\n",
       "7         {17638: 1, 29894: 1, 47272: 1, 45066: 1, 13198...\n",
       "8         {15937: 1, 37803: 1, 41540: 1, 21903: 1, 10960...\n",
       "9         {17600: 1, 8834: 1, 42347: 1, 27973: 1, 27596:...\n",
       "10                 {48720: 1, 10177: 1, 29650: 1, 24654: 1}\n",
       "13        {27086: 1, 4210: 1, 27435: 1, 47078: 1, 19934: 1}\n",
       "14        {3808: 1, 11042: 1, 15172: 1, 29509: 1, 8744: ...\n",
       "17        {12720: 1, 1217: 1, 4374: 1, 18534: 1, 43352: ...\n",
       "18        {8518: 1, 22888: 1, 5450: 1, 25997: 1, 11022: ...\n",
       "21        {32645: 1, 16615: 1, 44632: 1, 12683: 1, 25740...\n",
       "23        {8224: 1, 42372: 1, 33797: 1, 32327: 1, 13544:...\n",
       "24                                               {31222: 1}\n",
       "27        {11777: 1, 44932: 1, 45446: 1, 32263: 1, 12745...\n",
       "29        {39170: 1, 20874: 1, 37645: 1, 49615: 1, 20305...\n",
       "30                                               {23288: 1}\n",
       "34        {38273: 1, 7054: 1, 24852: 1, 27845: 1, 27086: 1}\n",
       "37        {41665: 1, 2243: 1, 43014: 1, 26790: 1, 26369:...\n",
       "38        {3397: 1, 36550: 1, 48205: 1, 21198: 1, 27086:...\n",
       "41        {25890: 1, 24964: 1, 18727: 1, 20520: 1, 3661:...\n",
       "42        {30353: 1, 8866: 1, 22795: 1, 28198: 1, 9290: ...\n",
       "43        {11777: 1, 41602: 1, 33027: 1, 46981: 1, 35079...\n",
       "44        {48833: 1, 35124: 1, 9225: 1, 49481: 1, 35852:...\n",
       "46        {24097: 1, 24852: 1, 13733: 1, 42987: 1, 4605:...\n",
       "47        {8224: 1, 43504: 1, 16594: 1, 33796: 1, 30696:...\n",
       "48        {34209: 1, 25890: 1, 36389: 1, 34358: 1, 41229...\n",
       "49        {18118: 1, 34329: 1, 18441: 1, 27199: 1, 7644:...\n",
       "50        {13176: 1, 6182: 1, 16249: 1, 31720: 1, 47209:...\n",
       "52        {30720: 1, 14032: 1, 46149: 1, 24135: 1, 39275...\n",
       "                                ...                        \n",
       "206159                                            {5479: 1}\n",
       "206162    {25504: 1, 43234: 1, 45447: 1, 39370: 1, 27086...\n",
       "206164                                   {890: 1, 40742: 1}\n",
       "206165    {43329: 1, 13829: 1, 10895: 1, 14648: 1, 24852...\n",
       "206167    {32768: 1, 29382: 1, 24135: 1, 49481: 1, 7821:...\n",
       "206169                       {37464: 1, 20876: 1, 16797: 1}\n",
       "206170    {20512: 1, 2064: 1, 22275: 1, 40470: 1, 1958: ...\n",
       "206171    {32935: 1, 26165: 1, 49653: 1, 40902: 1, 36351...\n",
       "206172                       {16848: 1, 24658: 1, 13790: 1}\n",
       "206174    {18370: 1, 23926: 1, 17191: 1, 13512: 1, 35221...\n",
       "206175    {11520: 1, 44514: 1, 24489: 1, 47626: 1, 25931...\n",
       "206176    {258: 1, 41398: 1, 28920: 1, 9290: 1, 21709: 1...\n",
       "206177    {46979: 1, 10132: 1, 311: 1, 24852: 1, 33754: ...\n",
       "206178    {44449: 1, 36322: 1, 30953: 1, 35914: 1, 11755...\n",
       "206181    {27554: 1, 23044: 1, 30391: 1, 33316: 1, 24852...\n",
       "206184                                           {37442: 1}\n",
       "206185    {9088: 1, 24097: 1, 24291: 1, 14852: 1, 5192: ...\n",
       "206186    {20049: 1, 14891: 1, 39190: 1, 41290: 1, 2091:...\n",
       "206188    {6473: 1, 24970: 1, 28427: 1, 10573: 1, 44560:...\n",
       "206190    {40706: 1, 46979: 1, 20549: 1, 8518: 1, 47209:...\n",
       "206191    {10880: 1, 24964: 1, 24838: 1, 24009: 1, 37646...\n",
       "206193    {27104: 1, 3376: 1, 12756: 1, 28842: 1, 46906:...\n",
       "206195    {3376: 1, 13893: 1, 18598: 1, 47209: 1, 39275:...\n",
       "206196    {26209: 1, 39947: 1, 31717: 1, 7206: 1, 35547:...\n",
       "206198    {15937: 1, 47107: 1, 23909: 1, 2380: 1, 44683:...\n",
       "206199    {8898: 1, 38341: 1, 38855: 1, 18952: 1, 6701: ...\n",
       "206200    {33089: 1, 34243: 1, 21709: 1, 21137: 1, 46979...\n",
       "206203    {36929: 1, 14050: 1, 37188: 1, 31915: 1, 15693...\n",
       "206205    {17600: 1, 24772: 1, 27845: 1, 1158: 1, 28745:...\n",
       "206209    {15655: 1, 42606: 1, 39216: 1, 24852: 1, 37966...\n",
       "Name: product_id, dtype: object"
      ]
     },
     "execution_count": 321,
     "metadata": {},
     "output_type": "execute_result"
    }
   ],
   "source": [
    "train_user_products_dict.product_id"
   ]
  },
  {
   "cell_type": "code",
   "execution_count": null,
   "metadata": {
    "collapsed": true
   },
   "outputs": [],
   "source": []
  },
  {
   "cell_type": "code",
   "execution_count": 320,
   "metadata": {
    "collapsed": false
   },
   "outputs": [
    {
     "data": {
      "text/plain": [
       "user_id\n",
       "1         {196: 10, 46149: 3, 12427: 10, 38928: 1, 10258...\n",
       "2         {38656: 1, 34688: 3, 40198: 2, 45066: 3, 2573:...\n",
       "3         {17668: 5, 47766: 9, 44683: 2, 21903: 8, 14992...\n",
       "4         {21573: 1, 35469: 2, 37646: 1, 26576: 1, 43704...\n",
       "5         {11777: 4, 40706: 2, 8518: 2, 48775: 1, 18761:...\n",
       "6         {40992: 1, 27521: 1, 20323: 1, 48679: 1, 8424:...\n",
       "7         {11520: 1, 35333: 2, 519: 2, 10504: 1, 45066: ...\n",
       "8         {11136: 1, 8193: 1, 17794: 3, 39812: 1, 24838:...\n",
       "9         {8834: 2, 12075: 1, 38277: 2, 30252: 2, 5002: ...\n",
       "10        {28928: 1, 36865: 2, 40706: 3, 20995: 1, 260: ...\n",
       "11        {17794: 1, 8197: 1, 30855: 1, 33037: 1, 30480:...\n",
       "12        {11520: 1, 45056: 1, 17794: 1, 44422: 1, 17159...\n",
       "13        {41926: 1, 41351: 2, 41480: 1, 37385: 1, 31372...\n",
       "14        {8193: 1, 17923: 2, 18439: 1, 45066: 1, 34827:...\n",
       "15        {11266: 10, 37059: 1, 196: 5, 10441: 8, 48142:...\n",
       "16        {15872: 1, 28289: 1, 17794: 2, 43014: 2, 651: ...\n",
       "17        {5128: 5, 38444: 1, 40203: 6, 19468: 2, 30992:...\n",
       "18        {2826: 1, 25997: 1, 34126: 1, 22031: 2, 29328:...\n",
       "19        {27138: 3, 30123: 3, 21001: 1, 41483: 1, 19468...\n",
       "20        {41400: 2, 13914: 3, 13575: 4, 6184: 3, 22362:...\n",
       "21        {15618: 1, 22275: 1, 21508: 1, 38444: 1, 16139...\n",
       "22        {39040: 1, 17794: 3, 24964: 4, 7948: 2, 21903:...\n",
       "23        {42372: 1, 22021: 1, 43014: 1, 4235: 1, 47504:...\n",
       "24        {35652: 1, 46473: 1, 37687: 1, 44172: 2, 10509...\n",
       "25        {1216: 1, 27521: 1, 21506: 1, 26756: 1, 278: 1...\n",
       "26        {30592: 4, 49157: 1, 31130: 1, 32607: 1, 13219...\n",
       "27        {44548: 1, 32263: 4, 45066: 2, 16398: 5, 4952:...\n",
       "28        {40706: 2, 23044: 4, 21513: 6, 47626: 5, 41483...\n",
       "29        {39170: 17, 33027: 5, 10500: 1, 19205: 1, 3764...\n",
       "30        {6184: 1, 45128: 1, 21386: 5, 38300: 2, 23288:...\n",
       "                                ...                        \n",
       "206180    {5250: 5, 35734: 1, 45066: 13, 43789: 1, 38288...\n",
       "206181    {33792: 1, 23044: 4, 43789: 2, 22290: 2, 24852...\n",
       "206182    {39170: 2, 43307: 1, 35845: 1, 21512: 1, 22034...\n",
       "206183    {19904: 1, 17284: 1, 260: 1, 13708: 2, 27663: ...\n",
       "206184    {11136: 2, 1025: 1, 24964: 1, 24838: 1, 38273:...\n",
       "206185    {31744: 1, 14379: 1, 14852: 1, 34134: 3, 35206...\n",
       "206186    {9346: 2, 39619: 1, 13380: 2, 4421: 1, 44359: ...\n",
       "206187    {11777: 1, 7175: 2, 10248: 2, 37646: 8, 3599: ...\n",
       "206188    {260: 1, 40709: 1, 26250: 2, 44560: 2, 24852: ...\n",
       "206189    {35140: 1, 24456: 2, 42508: 1, 48204: 1, 13709...\n",
       "206190    {1025: 5, 40706: 2, 46979: 1, 28676: 1, 45965:...\n",
       "206191    {46720: 1, 10880: 1, 40706: 1, 16131: 1, 24964...\n",
       "206192    {23744: 2, 46699: 1, 11281: 2, 24852: 7, 6550:...\n",
       "206193    {8193: 1, 26629: 1, 36872: 3, 18441: 1, 14858:...\n",
       "206194    {16384: 3, 35842: 1, 47626: 1, 31504: 1, 43961...\n",
       "206195    {28289: 1, 35333: 1, 8193: 2, 48523: 2, 19982:...\n",
       "206196    {26369: 2, 40706: 2, 24964: 1, 2309: 1, 28934:...\n",
       "206197    {40194: 1, 24195: 1, 24964: 4, 37765: 1, 30657...\n",
       "206198    {25861: 2, 35209: 1, 12938: 1, 8203: 1, 40386:...\n",
       "206199    {18952: 2, 37387: 3, 27012: 1, 17426: 7, 7702:...\n",
       "206200    {14084: 1, 17878: 10, 47626: 3, 37646: 10, 443...\n",
       "206201    {18432: 1, 1025: 2, 44548: 1, 45574: 1, 44375:...\n",
       "206202    {260: 1, 28934: 2, 45066: 1, 5390: 3, 49683: 6...\n",
       "206203    {34049: 2, 3075: 1, 13829: 1, 10246: 1, 26369:...\n",
       "206204    {30720: 1, 17794: 1, 20995: 1, 17878: 1, 30855...\n",
       "206205    {49235: 1, 20995: 1, 27845: 3, 28745: 1, 37067...\n",
       "206206    {16896: 1, 44033: 1, 18434: 2, 16387: 2, 21508...\n",
       "206207    {20995: 4, 9477: 1, 18441: 1, 47626: 1, 39180:...\n",
       "206208    {1025: 1, 20995: 14, 47626: 5, 8203: 1, 5133: ...\n",
       "206209    {40534: 2, 26634: 1, 13838: 2, 11791: 1, 24852...\n",
       "Name: product_id, dtype: object"
      ]
     },
     "execution_count": 320,
     "metadata": {},
     "output_type": "execute_result"
    }
   ],
   "source": [
    "prior_user_products_dict.product_id"
   ]
  },
  {
   "cell_type": "code",
   "execution_count": 303,
   "metadata": {
    "collapsed": true
   },
   "outputs": [],
   "source": [
    "def cal_dict(x):\n",
    "    from collections import Counter\n",
    "    a = Counter(x)\n",
    "    return dict(a)\n",
    "\n",
    "train_user_products_dict = pd.DataFrame(train_user_products['product_id'].apply(cal_dict))"
   ]
  },
  {
   "cell_type": "markdown",
   "metadata": {},
   "source": [
    "#### Accoring to train_data, calculate the threshold for all provided data"
   ]
  },
  {
   "cell_type": "code",
   "execution_count": 306,
   "metadata": {
    "collapsed": false
   },
   "outputs": [
    {
     "data": {
      "text/plain": [
       "user_id\n",
       "1         [196, 25133, 38928, 26405, 39657, 10258, 13032...\n",
       "2         [22963, 7963, 16589, 32792, 41787, 22825, 1364...\n",
       "5         [15349, 19057, 16185, 21413, 20843, 20114, 482...\n",
       "7         [12053, 47272, 37999, 13198, 43967, 40852, 176...\n",
       "8         [15937, 5539, 10960, 23165, 22247, 4853, 27104...\n",
       "9         [27555, 42347, 27596, 8834, 26604, 12075, 8467...\n",
       "10                             [29650, 48720, 24654, 10177]\n",
       "13                       [27435, 27086, 4210, 47078, 19934]\n",
       "14        [11042, 32115, 28601, 29615, 15869, 37434, 380...\n",
       "17                 [18534, 1217, 12720, 16797, 43352, 4374]\n",
       "18        [36216, 47546, 21137, 5450, 8518, 22031, 22888...\n",
       "21               [25740, 12683, 44632, 10957, 32645, 16615]\n",
       "23        [13544, 42372, 33819, 33797, 20468, 13481, 822...\n",
       "24                                                  [31222]\n",
       "27        [2966, 21386, 11777, 21137, 4920, 46906, 33754...\n",
       "29        [39170, 20305, 6128, 19541, 35385, 48800, 3980...\n",
       "30                                                  [23288]\n",
       "34                       [27845, 24852, 38273, 7054, 27086]\n",
       "37        [21616, 41665, 5134, 26790, 43014, 12204, 2636...\n",
       "38        [27231, 9366, 27086, 4799, 2086, 27509, 18337,...\n",
       "41        [25890, 15290, 4605, 24964, 43961, 18727, 248,...\n",
       "42          [28198, 13187, 22795, 39275, 9290, 8866, 30353]\n",
       "43        [24852, 16797, 1330, 35079, 29429, 23909, 3856...\n",
       "44                [49481, 48833, 43886, 9225, 35124, 35852]\n",
       "46                [24852, 42987, 24097, 4605, 21781, 13733]\n",
       "47                [33796, 16594, 29181, 8224, 30696, 43504]\n",
       "48        [22993, 38277, 45007, 36695, 44636, 36389, 343...\n",
       "49                [36591, 7644, 18441, 18118, 27199, 34329]\n",
       "50                [6182, 47209, 13176, 16249, 21903, 31720]\n",
       "52        [46149, 3798, 24135, 16797, 43352, 14032, 3927...\n",
       "                                ...                        \n",
       "206159                                               [5479]\n",
       "206162    [45447, 43234, 29565, 39370, 14740, 25504, 270...\n",
       "206164                                         [40742, 890]\n",
       "206165    [14648, 39160, 13829, 6277, 17568, 31134, 4764...\n",
       "206167    [30422, 24135, 27796, 45751, 45149, 24852, 177...\n",
       "206169                                [20876, 37464, 16797]\n",
       "206170       [8153, 2064, 11432, 1958, 20512, 22275, 40470]\n",
       "206171                  [26165, 32935, 49653, 40902, 36351]\n",
       "206172                                [16848, 24658, 13790]\n",
       "206174    [23926, 18370, 17191, 35221, 23765, 13512, 211...\n",
       "206175    [25931, 46847, 20734, 47766, 47626, 24489, 445...\n",
       "206176              [21709, 37709, 28920, 41398, 258, 9290]\n",
       "206177             [21903, 46979, 33754, 24852, 10132, 311]\n",
       "206178    [7628, 19678, 1999, 28985, 44987, 890, 44449, ...\n",
       "206181    [24852, 10840, 30135, 30391, 27554, 23044, 333...\n",
       "206184                                              [37442]\n",
       "206185    [9088, 24291, 40153, 24835, 28427, 20191, 2409...\n",
       "206186     [2091, 25466, 41290, 14891, 39190, 36412, 20049]\n",
       "206188    [12078, 44560, 33894, 35898, 21137, 36186, 310...\n",
       "206190    [47209, 8518, 40706, 21616, 20549, 4614, 12478...\n",
       "206191    [24838, 27104, 35221, 28849, 24964, 48679, 229...\n",
       "206193             [12756, 9741, 46906, 27104, 28842, 3376]\n",
       "206195            [39275, 47209, 18598, 3376, 16797, 13893]\n",
       "206196    [46802, 24852, 28849, 18027, 39947, 44632, 262...\n",
       "206198    [29615, 23909, 15359, 23180, 2380, 39021, 2170...\n",
       "206199    [29429, 8898, 6128, 6701, 38855, 38341, 43821,...\n",
       "206200    [22828, 13176, 39190, 34243, 8174, 27451, 1559...\n",
       "206203    [15693, 37188, 21469, 41007, 2482, 14050, 2638...\n",
       "206205    [27845, 21137, 28745, 22035, 24852, 46886, 314...\n",
       "206209    [6846, 9405, 24852, 40603, 15655, 42606, 37966...\n",
       "Name: product_id, dtype: object"
      ]
     },
     "execution_count": 306,
     "metadata": {},
     "output_type": "execute_result"
    }
   ],
   "source": [
    "train_user_products_dict.product_id"
   ]
  },
  {
   "cell_type": "code",
   "execution_count": 314,
   "metadata": {
    "collapsed": true
   },
   "outputs": [],
   "source": [
    "def predict(train_dict, P_uk, Q_ik, user_dict, item_dict):\n",
    "    from collections import defaultdict\n",
    "    result = defaultdict(dict)\n",
    "    for x in train_dict['product_id'].iteritems():\n",
    "        user_id, product_dict = x[0], x[1]\n",
    "        for product_id, num in product_dict.iteritems():\n",
    "            if product_id not in item_dict:\n",
    "                continue\n",
    "            user_idx = user_dict[user_id]\n",
    "            item_idx = item_dict[product_id]\n",
    "            result[user_id][product_id] = P_uk[user_idx, :].dot(Q_ik[item_idx, :].transpose())\n",
    "    return result"
   ]
  },
  {
   "cell_type": "code",
   "execution_count": 352,
   "metadata": {
    "collapsed": false
   },
   "outputs": [],
   "source": [
    "train_result = predict(prior_user_products_dict, P, Q, user_id_dict, product_id_dict)"
   ]
  },
  {
   "cell_type": "code",
   "execution_count": 353,
   "metadata": {
    "collapsed": false
   },
   "outputs": [],
   "source": [
    "def normalize(data):\n",
    "    result = {}\n",
    "    for user_id, product_dict in data.iteritems():\n",
    "        cnt = sum(product_dict.values())\n",
    "        result[user_id] = {}\n",
    "        for product_id, value in product_dict.iteritems():\n",
    "            result[user_id][product_id] = value / cnt\n",
    "    return result\n",
    "\n",
    "normal_data = normalize(train_result)"
   ]
  },
  {
   "cell_type": "code",
   "execution_count": 354,
   "metadata": {
    "collapsed": true
   },
   "outputs": [],
   "source": [
    "def score_f(predict_list, product_list):\n",
    "    recall = 0\n",
    "    precision = 0\n",
    "    \n",
    "    same_one = 0\n",
    "    for product_id in predict_list:\n",
    "        if product_id in product_list:\n",
    "            same_one += 1\n",
    "    \n",
    "    if len(predict_list) == 0:\n",
    "        return 0\n",
    "    \n",
    "    recall = float(same_one) / len(product_list)\n",
    "    precision = float(same_one) / len(predict_list)\n",
    "    \n",
    "    if recall == 0 and precision == 0:\n",
    "        return 0\n",
    "    \n",
    "    return 2 * (recall * precision) / (recall + precision)"
   ]
  },
  {
   "cell_type": "code",
   "execution_count": 330,
   "metadata": {
    "collapsed": false
   },
   "outputs": [],
   "source": [
    "def cal_result(norm_data, train_dict, theshold):\n",
    "    f_score = 0\n",
    "    for x in train_dict['product_id'].iteritems():\n",
    "        user_id, product_dict = x[0], x[1]\n",
    "        \n",
    "        product_list = list(product_dict.keys())\n",
    "        predict_dict = normal_data[user_id]\n",
    "        predict_list = []\n",
    "        for key, value in predict_dict.iteritems():\n",
    "            if value >= theshold:\n",
    "                predict_list.append(key)\n",
    "                \n",
    "        f_score += score_f(predict_list, product_list)\n",
    "    \n",
    "    f_score /= float(len(train_dict))\n",
    "    return f_score"
   ]
  },
  {
   "cell_type": "code",
   "execution_count": 375,
   "metadata": {
    "collapsed": false
   },
   "outputs": [
    {
     "data": {
      "text/plain": [
       "0.19995515820848808"
      ]
     },
     "execution_count": 375,
     "metadata": {},
     "output_type": "execute_result"
    }
   ],
   "source": [
    "cal_result(normal_data, train_user_products_dict, 0.0032)"
   ]
  },
  {
   "cell_type": "code",
   "execution_count": 376,
   "metadata": {
    "collapsed": false
   },
   "outputs": [
    {
     "data": {
      "text/plain": [
       "0.1999567086194917"
      ]
     },
     "execution_count": 376,
     "metadata": {},
     "output_type": "execute_result"
    }
   ],
   "source": [
    "cal_result(normal_data, train_user_products_dict, 0.0034)"
   ]
  },
  {
   "cell_type": "code",
   "execution_count": 378,
   "metadata": {
    "collapsed": false
   },
   "outputs": [
    {
     "data": {
      "text/plain": [
       "0.19995918424112527"
      ]
     },
     "execution_count": 378,
     "metadata": {},
     "output_type": "execute_result"
    }
   ],
   "source": [
    "cal_result(normal_data, train_user_products_dict, 0.0035)"
   ]
  },
  {
   "cell_type": "code",
   "execution_count": 385,
   "metadata": {
    "collapsed": true
   },
   "outputs": [],
   "source": [
    "test_user_id_list = pd.DataFrame(orders.groupby('eval_set')['user_id'].apply(list))"
   ]
  },
  {
   "cell_type": "code",
   "execution_count": 391,
   "metadata": {
    "collapsed": false
   },
   "outputs": [],
   "source": [
    "unique_user_id_list = np.unique(test_user_id_list.user_id['test'])"
   ]
  },
  {
   "cell_type": "code",
   "execution_count": 393,
   "metadata": {
    "collapsed": false
   },
   "outputs": [
    {
     "data": {
      "text/plain": [
       "75000"
      ]
     },
     "execution_count": 393,
     "metadata": {},
     "output_type": "execute_result"
    }
   ],
   "source": [
    "len(unique_user_id_list)"
   ]
  },
  {
   "cell_type": "code",
   "execution_count": 398,
   "metadata": {
    "collapsed": true
   },
   "outputs": [],
   "source": [
    "def predict_result(norm_data, user_id_list, theshold=0.0035):\n",
    "    result = {}\n",
    "    for user_id in user_id_list:\n",
    "        predict_dict = normal_data[user_id]\n",
    "        predict_list = []\n",
    "        for key, value in predict_dict.iteritems():\n",
    "            if value >= theshold:\n",
    "                predict_list.append(key)\n",
    "                \n",
    "        result[user_id] = predict_list\n",
    "    \n",
    "    return result"
   ]
  },
  {
   "cell_type": "code",
   "execution_count": 399,
   "metadata": {
    "collapsed": true
   },
   "outputs": [],
   "source": [
    "test_result = predict_result(normal_data, unique_user_id_list)"
   ]
  },
  {
   "cell_type": "code",
   "execution_count": 404,
   "metadata": {
    "collapsed": false
   },
   "outputs": [],
   "source": [
    "test_order_data = orders.ix[orders['eval_set'] == 'test']"
   ]
  },
  {
   "cell_type": "code",
   "execution_count": 405,
   "metadata": {
    "collapsed": false,
    "scrolled": true
   },
   "outputs": [
    {
     "data": {
      "text/html": [
       "<div>\n",
       "<table border=\"1\" class=\"dataframe\">\n",
       "  <thead>\n",
       "    <tr style=\"text-align: right;\">\n",
       "      <th></th>\n",
       "      <th>order_id</th>\n",
       "      <th>user_id</th>\n",
       "      <th>eval_set</th>\n",
       "      <th>order_number</th>\n",
       "      <th>order_dow</th>\n",
       "      <th>order_hour_of_day</th>\n",
       "      <th>days_since_prior_order</th>\n",
       "    </tr>\n",
       "  </thead>\n",
       "  <tbody>\n",
       "    <tr>\n",
       "      <th>38</th>\n",
       "      <td>2774568</td>\n",
       "      <td>3</td>\n",
       "      <td>test</td>\n",
       "      <td>13</td>\n",
       "      <td>5</td>\n",
       "      <td>15</td>\n",
       "      <td>11.0</td>\n",
       "    </tr>\n",
       "    <tr>\n",
       "      <th>44</th>\n",
       "      <td>329954</td>\n",
       "      <td>4</td>\n",
       "      <td>test</td>\n",
       "      <td>6</td>\n",
       "      <td>3</td>\n",
       "      <td>12</td>\n",
       "      <td>30.0</td>\n",
       "    </tr>\n",
       "    <tr>\n",
       "      <th>53</th>\n",
       "      <td>1528013</td>\n",
       "      <td>6</td>\n",
       "      <td>test</td>\n",
       "      <td>4</td>\n",
       "      <td>3</td>\n",
       "      <td>16</td>\n",
       "      <td>22.0</td>\n",
       "    </tr>\n",
       "    <tr>\n",
       "      <th>96</th>\n",
       "      <td>1376945</td>\n",
       "      <td>11</td>\n",
       "      <td>test</td>\n",
       "      <td>8</td>\n",
       "      <td>6</td>\n",
       "      <td>11</td>\n",
       "      <td>8.0</td>\n",
       "    </tr>\n",
       "    <tr>\n",
       "      <th>102</th>\n",
       "      <td>1356845</td>\n",
       "      <td>12</td>\n",
       "      <td>test</td>\n",
       "      <td>6</td>\n",
       "      <td>1</td>\n",
       "      <td>20</td>\n",
       "      <td>30.0</td>\n",
       "    </tr>\n",
       "  </tbody>\n",
       "</table>\n",
       "</div>"
      ],
      "text/plain": [
       "     order_id  user_id eval_set  order_number  order_dow  order_hour_of_day  \\\n",
       "38    2774568        3     test            13          5                 15   \n",
       "44     329954        4     test             6          3                 12   \n",
       "53    1528013        6     test             4          3                 16   \n",
       "96    1376945       11     test             8          6                 11   \n",
       "102   1356845       12     test             6          1                 20   \n",
       "\n",
       "     days_since_prior_order  \n",
       "38                     11.0  \n",
       "44                     30.0  \n",
       "53                     22.0  \n",
       "96                      8.0  \n",
       "102                    30.0  "
      ]
     },
     "execution_count": 405,
     "metadata": {},
     "output_type": "execute_result"
    }
   ],
   "source": [
    "test_order_data.head()"
   ]
  },
  {
   "cell_type": "code",
   "execution_count": 406,
   "metadata": {
    "collapsed": false
   },
   "outputs": [
    {
     "data": {
      "text/plain": [
       "<generator object iteritems at 0x4771aef50>"
      ]
     },
     "execution_count": 406,
     "metadata": {},
     "output_type": "execute_result"
    }
   ],
   "source": [
    "test_order_data.iteritems()"
   ]
  },
  {
   "cell_type": "code",
   "execution_count": 416,
   "metadata": {
    "collapsed": false
   },
   "outputs": [],
   "source": [
    "print_data = []\n",
    "for x in test_order_data.iterrows():\n",
    "    order_id = x[1].order_id\n",
    "    user_id = x[1].user_id\n",
    "    print_data.append((order_id, test_result[user_id]))"
   ]
  },
  {
   "cell_type": "code",
   "execution_count": 419,
   "metadata": {
    "collapsed": false
   },
   "outputs": [],
   "source": [
    "sorted_print_data = sorted(print_data)"
   ]
  },
  {
   "cell_type": "code",
   "execution_count": 420,
   "metadata": {
    "collapsed": false
   },
   "outputs": [
    {
     "data": {
      "text/plain": [
       "(17,\n",
       " [26429,\n",
       "  40002,\n",
       "  16965,\n",
       "  11494,\n",
       "  13107,\n",
       "  39275,\n",
       "  21709,\n",
       "  21903,\n",
       "  18288,\n",
       "  44056,\n",
       "  6291,\n",
       "  47766,\n",
       "  21463,\n",
       "  39928,\n",
       "  38777,\n",
       "  7035,\n",
       "  31964,\n",
       "  15613,\n",
       "  13535])"
      ]
     },
     "execution_count": 420,
     "metadata": {},
     "output_type": "execute_result"
    }
   ],
   "source": [
    "sorted_print_data[0]"
   ]
  },
  {
   "cell_type": "code",
   "execution_count": null,
   "metadata": {
    "collapsed": true
   },
   "outputs": [],
   "source": []
  }
 ],
 "metadata": {
  "kernelspec": {
   "display_name": "Python 2",
   "language": "python",
   "name": "python2"
  },
  "language_info": {
   "codemirror_mode": {
    "name": "ipython",
    "version": 2
   },
   "file_extension": ".py",
   "mimetype": "text/x-python",
   "name": "python",
   "nbconvert_exporter": "python",
   "pygments_lexer": "ipython2",
   "version": "2.7.13"
  }
 },
 "nbformat": 4,
 "nbformat_minor": 2
}
