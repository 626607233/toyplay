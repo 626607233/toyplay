{
 "cells": [
  {
   "cell_type": "markdown",
   "metadata": {},
   "source": [
    "Game Description:\n",
    "https://yunhai.ctrip.com/Games/9"
   ]
  },
  {
   "cell_type": "code",
   "execution_count": 1,
   "metadata": {
    "collapsed": true
   },
   "outputs": [],
   "source": [
    "# initial environment\n",
    "import pandas as pd\n",
    "import numpy as np\n",
    "import numpy.random as nr\n",
    "\n",
    "nr.seed(42)\n",
    "\n",
    "%matplotlib inline\n",
    "import matplotlib.pyplot as plt"
   ]
  },
  {
   "cell_type": "code",
   "execution_count": 2,
   "metadata": {
    "collapsed": true
   },
   "outputs": [],
   "source": [
    "product_info = pd.read_csv(\"product_data/product_info.txt\")\n",
    "product_quantity = pd.read_csv(\"product_data/product_quantity.txt\")"
   ]
  },
  {
   "cell_type": "code",
   "execution_count": 9,
   "metadata": {
    "collapsed": false,
    "scrolled": true
   },
   "outputs": [
    {
     "data": {
      "text/plain": [
       "Index([u'product_id', u'district_id1', u'district_id2', u'district_id3',\n",
       "       u'district_id4', u'lat', u'lon', u'railway', u'airport', u'citycenter',\n",
       "       u'railway2', u'airport2', u'citycenter2', u'eval', u'eval2', u'eval3',\n",
       "       u'eval4', u'voters', u'startdate', u'upgradedate', u'cooperatedate',\n",
       "       u'maxstock'],\n",
       "      dtype='object')"
      ]
     },
     "execution_count": 9,
     "metadata": {},
     "output_type": "execute_result"
    }
   ],
   "source": [
    "product_info.shape\n",
    "product_info.columns"
   ]
  },
  {
   "cell_type": "code",
   "execution_count": 4,
   "metadata": {
    "collapsed": false,
    "scrolled": true
   },
   "outputs": [
    {
     "data": {
      "text/plain": [
       "(1959676, 9)"
      ]
     },
     "execution_count": 4,
     "metadata": {},
     "output_type": "execute_result"
    }
   ],
   "source": [
    "product_quantity.shape"
   ]
  },
  {
   "cell_type": "code",
   "execution_count": 5,
   "metadata": {
    "collapsed": false,
    "scrolled": true
   },
   "outputs": [
    {
     "data": {
      "text/html": [
       "<div>\n",
       "<table border=\"1\" class=\"dataframe\">\n",
       "  <thead>\n",
       "    <tr style=\"text-align: right;\">\n",
       "      <th></th>\n",
       "      <th>product_id</th>\n",
       "      <th>district_id1</th>\n",
       "      <th>district_id2</th>\n",
       "      <th>district_id3</th>\n",
       "      <th>district_id4</th>\n",
       "      <th>lat</th>\n",
       "      <th>lon</th>\n",
       "      <th>railway</th>\n",
       "      <th>airport</th>\n",
       "      <th>citycenter</th>\n",
       "      <th>...</th>\n",
       "      <th>citycenter2</th>\n",
       "      <th>eval</th>\n",
       "      <th>eval2</th>\n",
       "      <th>eval3</th>\n",
       "      <th>eval4</th>\n",
       "      <th>voters</th>\n",
       "      <th>startdate</th>\n",
       "      <th>upgradedate</th>\n",
       "      <th>cooperatedate</th>\n",
       "      <th>maxstock</th>\n",
       "    </tr>\n",
       "  </thead>\n",
       "  <tbody>\n",
       "    <tr>\n",
       "      <th>0</th>\n",
       "      <td>1</td>\n",
       "      <td>10201</td>\n",
       "      <td>20502</td>\n",
       "      <td>31003</td>\n",
       "      <td>45760</td>\n",
       "      <td>3.994928</td>\n",
       "      <td>11.634630</td>\n",
       "      <td>-1.0</td>\n",
       "      <td>-1.0</td>\n",
       "      <td>-1.0</td>\n",
       "      <td>...</td>\n",
       "      <td>-1.0</td>\n",
       "      <td>3.0</td>\n",
       "      <td>5</td>\n",
       "      <td>2.0</td>\n",
       "      <td>3.1</td>\n",
       "      <td>1034.0</td>\n",
       "      <td>2005-11-01</td>\n",
       "      <td>2015-01-01</td>\n",
       "      <td>2013-07-02</td>\n",
       "      <td>75.0</td>\n",
       "    </tr>\n",
       "    <tr>\n",
       "      <th>1</th>\n",
       "      <td>2</td>\n",
       "      <td>10201</td>\n",
       "      <td>20502</td>\n",
       "      <td>31003</td>\n",
       "      <td>45760</td>\n",
       "      <td>3.995148</td>\n",
       "      <td>11.636258</td>\n",
       "      <td>-1.0</td>\n",
       "      <td>-1.0</td>\n",
       "      <td>2.3</td>\n",
       "      <td>...</td>\n",
       "      <td>-1.0</td>\n",
       "      <td>3.0</td>\n",
       "      <td>4</td>\n",
       "      <td>2.0</td>\n",
       "      <td>3.4</td>\n",
       "      <td>1707.0</td>\n",
       "      <td>2005-02-28</td>\n",
       "      <td>2011-01-01</td>\n",
       "      <td>2014-12-16</td>\n",
       "      <td>172.0</td>\n",
       "    </tr>\n",
       "    <tr>\n",
       "      <th>2</th>\n",
       "      <td>3</td>\n",
       "      <td>10201</td>\n",
       "      <td>20502</td>\n",
       "      <td>31003</td>\n",
       "      <td>45760</td>\n",
       "      <td>3.994291</td>\n",
       "      <td>11.631246</td>\n",
       "      <td>-1.0</td>\n",
       "      <td>-1.0</td>\n",
       "      <td>10.3</td>\n",
       "      <td>...</td>\n",
       "      <td>-1.0</td>\n",
       "      <td>3.0</td>\n",
       "      <td>4</td>\n",
       "      <td>2.5</td>\n",
       "      <td>3.6</td>\n",
       "      <td>1739.0</td>\n",
       "      <td>2007-03-01</td>\n",
       "      <td>2014-01-01</td>\n",
       "      <td>2014-07-02</td>\n",
       "      <td>188.0</td>\n",
       "    </tr>\n",
       "    <tr>\n",
       "      <th>3</th>\n",
       "      <td>4</td>\n",
       "      <td>10201</td>\n",
       "      <td>20502</td>\n",
       "      <td>31003</td>\n",
       "      <td>55952</td>\n",
       "      <td>3.997783</td>\n",
       "      <td>11.641561</td>\n",
       "      <td>-1.0</td>\n",
       "      <td>-1.0</td>\n",
       "      <td>9.3</td>\n",
       "      <td>...</td>\n",
       "      <td>-1.0</td>\n",
       "      <td>3.0</td>\n",
       "      <td>4</td>\n",
       "      <td>2.5</td>\n",
       "      <td>3.5</td>\n",
       "      <td>1065.0</td>\n",
       "      <td>2006-07-01</td>\n",
       "      <td>1753-01-01</td>\n",
       "      <td>2014-12-19</td>\n",
       "      <td>116.0</td>\n",
       "    </tr>\n",
       "    <tr>\n",
       "      <th>4</th>\n",
       "      <td>5</td>\n",
       "      <td>10201</td>\n",
       "      <td>20502</td>\n",
       "      <td>31003</td>\n",
       "      <td>55952</td>\n",
       "      <td>3.999904</td>\n",
       "      <td>11.641149</td>\n",
       "      <td>12.1</td>\n",
       "      <td>25.2</td>\n",
       "      <td>13.3</td>\n",
       "      <td>...</td>\n",
       "      <td>3.6</td>\n",
       "      <td>3.0</td>\n",
       "      <td>5</td>\n",
       "      <td>2.0</td>\n",
       "      <td>3.4</td>\n",
       "      <td>2209.0</td>\n",
       "      <td>2007-01-01</td>\n",
       "      <td>2012-03-01</td>\n",
       "      <td>2007-11-07</td>\n",
       "      <td>95.0</td>\n",
       "    </tr>\n",
       "  </tbody>\n",
       "</table>\n",
       "<p>5 rows × 22 columns</p>\n",
       "</div>"
      ],
      "text/plain": [
       "   product_id  district_id1  district_id2  district_id3  district_id4  \\\n",
       "0           1         10201         20502         31003         45760   \n",
       "1           2         10201         20502         31003         45760   \n",
       "2           3         10201         20502         31003         45760   \n",
       "3           4         10201         20502         31003         55952   \n",
       "4           5         10201         20502         31003         55952   \n",
       "\n",
       "        lat        lon  railway  airport  citycenter   ...     citycenter2  \\\n",
       "0  3.994928  11.634630     -1.0     -1.0        -1.0   ...            -1.0   \n",
       "1  3.995148  11.636258     -1.0     -1.0         2.3   ...            -1.0   \n",
       "2  3.994291  11.631246     -1.0     -1.0        10.3   ...            -1.0   \n",
       "3  3.997783  11.641561     -1.0     -1.0         9.3   ...            -1.0   \n",
       "4  3.999904  11.641149     12.1     25.2        13.3   ...             3.6   \n",
       "\n",
       "   eval  eval2  eval3  eval4  voters   startdate  upgradedate cooperatedate  \\\n",
       "0   3.0      5    2.0    3.1  1034.0  2005-11-01   2015-01-01    2013-07-02   \n",
       "1   3.0      4    2.0    3.4  1707.0  2005-02-28   2011-01-01    2014-12-16   \n",
       "2   3.0      4    2.5    3.6  1739.0  2007-03-01   2014-01-01    2014-07-02   \n",
       "3   3.0      4    2.5    3.5  1065.0  2006-07-01   1753-01-01    2014-12-19   \n",
       "4   3.0      5    2.0    3.4  2209.0  2007-01-01   2012-03-01    2007-11-07   \n",
       "\n",
       "  maxstock  \n",
       "0     75.0  \n",
       "1    172.0  \n",
       "2    188.0  \n",
       "3    116.0  \n",
       "4     95.0  \n",
       "\n",
       "[5 rows x 22 columns]"
      ]
     },
     "execution_count": 5,
     "metadata": {},
     "output_type": "execute_result"
    }
   ],
   "source": [
    "product_info.head()"
   ]
  },
  {
   "cell_type": "code",
   "execution_count": 6,
   "metadata": {
    "collapsed": false,
    "scrolled": true
   },
   "outputs": [
    {
     "data": {
      "text/html": [
       "<div>\n",
       "<table border=\"1\" class=\"dataframe\">\n",
       "  <thead>\n",
       "    <tr style=\"text-align: right;\">\n",
       "      <th></th>\n",
       "      <th>product_id</th>\n",
       "      <th>product_date</th>\n",
       "      <th>orderattribute1</th>\n",
       "      <th>orderattribute2</th>\n",
       "      <th>orderattribute3</th>\n",
       "      <th>orderattribute4</th>\n",
       "      <th>ciiquantity</th>\n",
       "      <th>ordquantity</th>\n",
       "      <th>price</th>\n",
       "    </tr>\n",
       "  </thead>\n",
       "  <tbody>\n",
       "    <tr>\n",
       "      <th>0</th>\n",
       "      <td>1</td>\n",
       "      <td>2014-06-21</td>\n",
       "      <td>2</td>\n",
       "      <td>1</td>\n",
       "      <td>1</td>\n",
       "      <td>1</td>\n",
       "      <td>0</td>\n",
       "      <td>1</td>\n",
       "      <td>-1</td>\n",
       "    </tr>\n",
       "    <tr>\n",
       "      <th>1</th>\n",
       "      <td>1</td>\n",
       "      <td>2014-09-03</td>\n",
       "      <td>2</td>\n",
       "      <td>1</td>\n",
       "      <td>1</td>\n",
       "      <td>1</td>\n",
       "      <td>1</td>\n",
       "      <td>3</td>\n",
       "      <td>153</td>\n",
       "    </tr>\n",
       "    <tr>\n",
       "      <th>2</th>\n",
       "      <td>1</td>\n",
       "      <td>2014-09-26</td>\n",
       "      <td>2</td>\n",
       "      <td>1</td>\n",
       "      <td>1</td>\n",
       "      <td>1</td>\n",
       "      <td>0</td>\n",
       "      <td>3</td>\n",
       "      <td>-1</td>\n",
       "    </tr>\n",
       "    <tr>\n",
       "      <th>3</th>\n",
       "      <td>1</td>\n",
       "      <td>2014-11-28</td>\n",
       "      <td>2</td>\n",
       "      <td>1</td>\n",
       "      <td>1</td>\n",
       "      <td>1</td>\n",
       "      <td>0</td>\n",
       "      <td>4</td>\n",
       "      <td>-1</td>\n",
       "    </tr>\n",
       "    <tr>\n",
       "      <th>4</th>\n",
       "      <td>1</td>\n",
       "      <td>2014-01-11</td>\n",
       "      <td>2</td>\n",
       "      <td>1</td>\n",
       "      <td>1</td>\n",
       "      <td>1</td>\n",
       "      <td>1</td>\n",
       "      <td>1</td>\n",
       "      <td>153</td>\n",
       "    </tr>\n",
       "  </tbody>\n",
       "</table>\n",
       "</div>"
      ],
      "text/plain": [
       "   product_id product_date  orderattribute1  orderattribute2  orderattribute3  \\\n",
       "0           1   2014-06-21                2                1                1   \n",
       "1           1   2014-09-03                2                1                1   \n",
       "2           1   2014-09-26                2                1                1   \n",
       "3           1   2014-11-28                2                1                1   \n",
       "4           1   2014-01-11                2                1                1   \n",
       "\n",
       "   orderattribute4  ciiquantity  ordquantity  price  \n",
       "0                1            0            1     -1  \n",
       "1                1            1            3    153  \n",
       "2                1            0            3     -1  \n",
       "3                1            0            4     -1  \n",
       "4                1            1            1    153  "
      ]
     },
     "execution_count": 6,
     "metadata": {},
     "output_type": "execute_result"
    }
   ],
   "source": [
    "product_quantity.head()"
   ]
  },
  {
   "cell_type": "code",
   "execution_count": 10,
   "metadata": {
    "collapsed": false
   },
   "outputs": [
    {
     "data": {
      "text/plain": [
       "16"
      ]
     },
     "execution_count": 10,
     "metadata": {},
     "output_type": "execute_result"
    }
   ],
   "source": [
    "1959676/30/4000"
   ]
  },
  {
   "cell_type": "markdown",
   "metadata": {},
   "source": [
    "#### 1. 数据第一印象"
   ]
  },
  {
   "cell_type": "markdown",
   "metadata": {},
   "source": [
    "4000个产品，1959676天的交易记录，每个产品大概有16个月每天每单的交易记录\n",
    "1. 每个产品有22个属性, 21个有效属性。分为地理因素、评分、时间、库存4类。\n",
    "2. 订单拥有9个属性，8个有用属性，分为时间、订单信息、预定数和实际交易数和价格。"
   ]
  }
 ],
 "metadata": {
  "kernelspec": {
   "display_name": "Python 2",
   "language": "python",
   "name": "python2"
  },
  "language_info": {
   "codemirror_mode": {
    "name": "ipython",
    "version": 2
   },
   "file_extension": ".py",
   "mimetype": "text/x-python",
   "name": "python",
   "nbconvert_exporter": "python",
   "pygments_lexer": "ipython2",
   "version": "2.7.11"
  }
 },
 "nbformat": 4,
 "nbformat_minor": 0
}
