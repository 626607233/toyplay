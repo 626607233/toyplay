{
 "cells": [
  {
   "cell_type": "code",
   "execution_count": 380,
   "metadata": {
    "collapsed": true
   },
   "outputs": [],
   "source": [
    "%matplotlib inline\n",
    "import matplotlib\n",
    "import matplotlib.pyplot as plt\n",
    "import pandas as pd\n",
    "import numpy as np\n",
    "import seaborn as sns\n",
    "pd.set_option(\"display.max_columns\",101)\n",
    "RANDOM_STATE = 42\n",
    "import random\n",
    "random.seed(const.RANDOM_STATE)"
   ]
  },
  {
   "cell_type": "code",
   "execution_count": 381,
   "metadata": {
    "collapsed": false
   },
   "outputs": [
    {
     "data": {
      "text/plain": [
       "<module 'const' from 'const.pyc'>"
      ]
     },
     "execution_count": 381,
     "metadata": {},
     "output_type": "execute_result"
    }
   ],
   "source": [
    "import const"
   ]
  },
  {
   "cell_type": "code",
   "execution_count": 396,
   "metadata": {
    "collapsed": false
   },
   "outputs": [],
   "source": [
    "prior_data = pd.read_csv(const.EXTEND_PRIOR_PATH)"
   ]
  },
  {
   "cell_type": "code",
   "execution_count": 397,
   "metadata": {
    "collapsed": false
   },
   "outputs": [
    {
     "data": {
      "text/html": [
       "<div>\n",
       "<table border=\"1\" class=\"dataframe\">\n",
       "  <thead>\n",
       "    <tr style=\"text-align: right;\">\n",
       "      <th></th>\n",
       "      <th>order_id</th>\n",
       "      <th>product_id</th>\n",
       "      <th>add_to_cart_order</th>\n",
       "      <th>reordered</th>\n",
       "      <th>user_id</th>\n",
       "      <th>eval_set</th>\n",
       "      <th>order_number</th>\n",
       "      <th>order_dow</th>\n",
       "      <th>order_hour_of_day</th>\n",
       "      <th>days_since_prior_order</th>\n",
       "    </tr>\n",
       "  </thead>\n",
       "  <tbody>\n",
       "    <tr>\n",
       "      <th>0</th>\n",
       "      <td>2</td>\n",
       "      <td>33120</td>\n",
       "      <td>1</td>\n",
       "      <td>1</td>\n",
       "      <td>202279</td>\n",
       "      <td>prior</td>\n",
       "      <td>3</td>\n",
       "      <td>5</td>\n",
       "      <td>9</td>\n",
       "      <td>8.0</td>\n",
       "    </tr>\n",
       "    <tr>\n",
       "      <th>1</th>\n",
       "      <td>2</td>\n",
       "      <td>28985</td>\n",
       "      <td>2</td>\n",
       "      <td>1</td>\n",
       "      <td>202279</td>\n",
       "      <td>prior</td>\n",
       "      <td>3</td>\n",
       "      <td>5</td>\n",
       "      <td>9</td>\n",
       "      <td>8.0</td>\n",
       "    </tr>\n",
       "    <tr>\n",
       "      <th>2</th>\n",
       "      <td>2</td>\n",
       "      <td>9327</td>\n",
       "      <td>3</td>\n",
       "      <td>0</td>\n",
       "      <td>202279</td>\n",
       "      <td>prior</td>\n",
       "      <td>3</td>\n",
       "      <td>5</td>\n",
       "      <td>9</td>\n",
       "      <td>8.0</td>\n",
       "    </tr>\n",
       "    <tr>\n",
       "      <th>3</th>\n",
       "      <td>2</td>\n",
       "      <td>45918</td>\n",
       "      <td>4</td>\n",
       "      <td>1</td>\n",
       "      <td>202279</td>\n",
       "      <td>prior</td>\n",
       "      <td>3</td>\n",
       "      <td>5</td>\n",
       "      <td>9</td>\n",
       "      <td>8.0</td>\n",
       "    </tr>\n",
       "    <tr>\n",
       "      <th>4</th>\n",
       "      <td>2</td>\n",
       "      <td>30035</td>\n",
       "      <td>5</td>\n",
       "      <td>0</td>\n",
       "      <td>202279</td>\n",
       "      <td>prior</td>\n",
       "      <td>3</td>\n",
       "      <td>5</td>\n",
       "      <td>9</td>\n",
       "      <td>8.0</td>\n",
       "    </tr>\n",
       "  </tbody>\n",
       "</table>\n",
       "</div>"
      ],
      "text/plain": [
       "   order_id  product_id  add_to_cart_order  reordered  user_id eval_set  \\\n",
       "0         2       33120                  1          1   202279    prior   \n",
       "1         2       28985                  2          1   202279    prior   \n",
       "2         2        9327                  3          0   202279    prior   \n",
       "3         2       45918                  4          1   202279    prior   \n",
       "4         2       30035                  5          0   202279    prior   \n",
       "\n",
       "   order_number  order_dow  order_hour_of_day  days_since_prior_order  \n",
       "0             3          5                  9                     8.0  \n",
       "1             3          5                  9                     8.0  \n",
       "2             3          5                  9                     8.0  \n",
       "3             3          5                  9                     8.0  \n",
       "4             3          5                  9                     8.0  "
      ]
     },
     "execution_count": 397,
     "metadata": {},
     "output_type": "execute_result"
    }
   ],
   "source": [
    "prior_data.head()"
   ]
  },
  {
   "cell_type": "markdown",
   "metadata": {},
   "source": [
    "#### 使用10W的，即0.01的数据进行测试，日后使用完整的数据集进行测试。考虑到prior的特性，每次抽样都是从所有数据中进行的"
   ]
  },
  {
   "cell_type": "code",
   "execution_count": 382,
   "metadata": {
    "collapsed": false
   },
   "outputs": [],
   "source": [
    "total_train = pd.read_csv(const.SAMPLE_TRAIN_FC_PATH)\n",
    "num_data = total_train.shape[0]"
   ]
  },
  {
   "cell_type": "code",
   "execution_count": 383,
   "metadata": {
    "collapsed": false
   },
   "outputs": [
    {
     "data": {
      "text/plain": [
       "(137998, 41)"
      ]
     },
     "execution_count": 383,
     "metadata": {},
     "output_type": "execute_result"
    }
   ],
   "source": [
    "total_train[total_train.label == 1].shape"
   ]
  },
  {
   "cell_type": "code",
   "execution_count": 384,
   "metadata": {
    "collapsed": false
   },
   "outputs": [],
   "source": [
    "def split_train_test(data, key, percentage=0.2):\n",
    "    \"\"\"\n",
    "    根据key值来划分数据为train和test数据\n",
    "    \"\"\"\n",
    "    key_id_list = list(data[key].value_counts().index)\n",
    "    sample_key_set = set(random.sample(key_id_list, int(len(key_id_list) * percentage)))\n",
    "\n",
    "    key_id_data_list = data[key].values\n",
    "    sample_index_flag = range(data.shape[0])\n",
    "    for idx, value in enumerate(key_id_data_list):\n",
    "        if value in sample_key_set:\n",
    "            sample_index_flag[idx] = True\n",
    "        else:\n",
    "            sample_index_flag[idx] = False\n",
    "\n",
    "    test_df = data[sample_index_flag]\n",
    "    train_df = data[[not x for x in sample_index_flag]]\n",
    "    return train_df, test_df"
   ]
  },
  {
   "cell_type": "markdown",
   "metadata": {},
   "source": [
    "#### n_train数据由于是unblanced，所以需要进行重新采样处理"
   ]
  },
  {
   "cell_type": "code",
   "execution_count": 385,
   "metadata": {
    "collapsed": true
   },
   "outputs": [],
   "source": [
    "def get_sample_negative_data(data, sample_percentage):\n",
    "    order_id_index = data.groupby(const.OID)[const.PID].apply(list).reset_index()\n",
    "    result = data.set_index([const.OID, const.PID])\n",
    "    sample_index_list = []\n",
    "    for order_id, value in order_id_index.iterrows():\n",
    "        order_id = value['order_id']\n",
    "        product_id_list = value['product_id']\n",
    "        num = int(len(product_id_list) * sample_percentage)\n",
    "        if num <= 0:\n",
    "            continue\n",
    "\n",
    "        product_sample = random.sample(product_id_list, num)\n",
    "        sample_index_list.extend([(order_id, product_id) for product_id in product_sample])\n",
    "\n",
    "    new_data = result.ix[sample_index_list]\n",
    "    new_data.reset_index()\n",
    "    return new_data"
   ]
  },
  {
   "cell_type": "code",
   "execution_count": 386,
   "metadata": {
    "collapsed": false
   },
   "outputs": [],
   "source": [
    "n_train, n_test = split_train_test(total_train, const.OID, 0.2)\n",
    "negative_data = n_train[n_train.label == 0]\n",
    "positive_data = n_train[n_train.label == 1]\n",
    "\n",
    "num_positive = positive_data.shape[0]\n",
    "num_negative = negative_data.shape[0]\n",
    "\n",
    "target_num = 2 * num_positive\n",
    "sample_negative_data = get_sample_negative_data(negative_data, target_num / float(num_negative))\n",
    "train_data = pd.concat([sample_negative_data, positive_data])\n",
    "\n",
    "drop_list = ['order_id', 'product_id', 'reordered', 'add_to_cart_order', 'user_id', 'eval_set', 'order_number']\n",
    "train_data.drop(drop_list, axis=1, inplace=True)\n",
    "train_validate_data = n_test.drop(drop_list, axis=1)"
   ]
  },
  {
   "cell_type": "code",
   "execution_count": 388,
   "metadata": {
    "collapsed": false
   },
   "outputs": [
    {
     "name": "stdout",
     "output_type": "stream",
     "text": [
      "light GBM train :-)\n"
     ]
    }
   ],
   "source": [
    "import lightgbm as lgb\n",
    "params = {\n",
    "        'boosting_type': 'gbdt',\n",
    "        'objective': 'binary',\n",
    "        'num_leaves': 72,\n",
    "        'max_depth': 10,\n",
    "        'metric': ['auc'],\n",
    "        'feature_fraction': 0.85,\n",
    "        'bagging_fraction': 0.95,\n",
    "        'bagging_freq': 5,\n",
    "        'learning_rate': 0.1,\n",
    "        'min_child_samples': 50,\n",
    "        'reg_lambda': 0.7,\n",
    "        'n_estimators': 50,\n",
    "        'silent': True\n",
    "    }\n",
    "\n",
    "train_df = train_data.drop(['label'], axis=1)\n",
    "train_labels = train_data['label']\n",
    "print('light GBM train :-)')\n",
    "clf = lgb.LGBMClassifier(**params)\n",
    "categorical_feature = ['order_dow', 'order_hour_of_day',]\n",
    "result = clf.fit(\n",
    "    train_df,\n",
    "    train_labels,\n",
    "    categorical_feature=categorical_feature,\n",
    ")"
   ]
  },
  {
   "cell_type": "code",
   "execution_count": 389,
   "metadata": {
    "collapsed": false
   },
   "outputs": [
    {
     "data": {
      "text/plain": [
       "<matplotlib.axes._subplots.AxesSubplot at 0x2111dc6d0>"
      ]
     },
     "execution_count": 389,
     "metadata": {},
     "output_type": "execute_result"
    },
    {
     "data": {
      "image/png": "[encoded data removed]",
      "text/plain": [
       "<matplotlib.figure.Figure at 0x2111d1dd0>"
      ]
     },
     "metadata": {},
     "output_type": "display_data"
    }
   ],
   "source": [
    "lgb.plot_importance(clf)"
   ]
  },
  {
   "cell_type": "markdown",
   "metadata": {},
   "source": [
    "#### use train_validate_data to validate"
   ]
  },
  {
   "cell_type": "code",
   "execution_count": 390,
   "metadata": {
    "collapsed": true
   },
   "outputs": [],
   "source": [
    "validate_df = train_validate_data.drop(['label'], axis=1)\n",
    "validate_labels = train_validate_data['label']"
   ]
  },
  {
   "cell_type": "code",
   "execution_count": 391,
   "metadata": {
    "collapsed": true
   },
   "outputs": [],
   "source": [
    "predict_y = clf.predict_proba(validate_df)[:, 1]"
   ]
  },
  {
   "cell_type": "code",
   "execution_count": null,
   "metadata": {
    "collapsed": true
   },
   "outputs": [],
   "source": []
  },
  {
   "cell_type": "markdown",
   "metadata": {},
   "source": [
    "#### 求f值"
   ]
  },
  {
   "cell_type": "code",
   "execution_count": 392,
   "metadata": {
    "collapsed": false
   },
   "outputs": [],
   "source": [
    "order_id_index = n_test.groupby(const.OID)['label'].apply(list).reset_index()\n",
    "def mean_f1_score(order_id_index, predict_y):\n",
    "    f_score_total = 0\n",
    "    n = 0\n",
    "    idx = 0\n",
    "    for _, value in order_id_index.iterrows():\n",
    "        label_list = value['label']\n",
    "        predict_label_list = predict_y[idx:idx+len(label_list)]\n",
    "        \n",
    "        if not np.any(label_list) and not np.any(predict_label_list):\n",
    "            f_score = 1\n",
    "        else:\n",
    "            f_score = metrics.f1_score(predict_label_list, label_list)\n",
    "        f_score_total += f_score\n",
    "        idx += len(label_list)\n",
    "        n += 1\n",
    "        \n",
    "    return f_score_total / n"
   ]
  },
  {
   "cell_type": "code",
   "execution_count": 393,
   "metadata": {
    "collapsed": false
   },
   "outputs": [],
   "source": [
    "best_score = 0\n",
    "best_margin = 0\n",
    "\n",
    "for margin in range(1, 100):\n",
    "    threshold = margin / float(100)\n",
    "    predict_result = predict_y >= threshold\n",
    "    #score = metrics.f1_score(validate_labels.values, predict_result)\n",
    "    score = mean_f1_score(order_id_index, predict_result)\n",
    "    if score > best_score:\n",
    "        best_score = score\n",
    "        best_margin = threshold"
   ]
  },
  {
   "cell_type": "code",
   "execution_count": 394,
   "metadata": {
    "collapsed": false,
    "scrolled": false
   },
   "outputs": [
    {
     "name": "stdout",
     "output_type": "stream",
     "text": [
      "0.323757695298 0.06\n"
     ]
    }
   ],
   "source": [
    "print best_score, best_margin"
   ]
  }
 ],
 "metadata": {
  "kernelspec": {
   "display_name": "Python 2",
   "language": "python",
   "name": "python2"
  },
  "language_info": {
   "codemirror_mode": {
    "name": "ipython",
    "version": 2
   },
   "file_extension": ".py",
   "mimetype": "text/x-python",
   "name": "python",
   "nbconvert_exporter": "python",
   "pygments_lexer": "ipython2",
   "version": "2.7.13"
  }
 },
 "nbformat": 4,
 "nbformat_minor": 2
}
