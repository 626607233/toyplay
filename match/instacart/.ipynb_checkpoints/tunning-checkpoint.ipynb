{
 "cells": [
  {
   "cell_type": "code",
   "execution_count": 269,
   "metadata": {
    "collapsed": true
   },
   "outputs": [],
   "source": [
    "%matplotlib inline\n",
    "import matplotlib\n",
    "import matplotlib.pyplot as plt\n",
    "import pandas as pd\n",
    "import numpy as np\n",
    "import seaborn as sns\n",
    "pd.set_option(\"display.max_columns\",101)\n",
    "RANDOM_STATE = 42\n",
    "import random\n",
    "random.seed(const.RANDOM_STATE)"
   ]
  },
  {
   "cell_type": "code",
   "execution_count": 270,
   "metadata": {
    "collapsed": false
   },
   "outputs": [
    {
     "data": {
      "text/plain": [
       "<module 'const' from 'const.pyc'>"
      ]
     },
     "execution_count": 270,
     "metadata": {},
     "output_type": "execute_result"
    }
   ],
   "source": [
    "import const\n",
    "reload(const)"
   ]
  },
  {
   "cell_type": "markdown",
   "metadata": {},
   "source": [
    "#### 使用10W的，即0.01的数据进行测试，日后使用完整的数据集进行测试。考虑到prior的特性，每次抽样都是从所有数据中进行的"
   ]
  },
  {
   "cell_type": "code",
   "execution_count": 360,
   "metadata": {
    "collapsed": false
   },
   "outputs": [],
   "source": [
    "total_train = pd.read_csv(const.SAMPLE_TRAIN_FC_PATH)\n",
    "num_data = total_train.shape[0]"
   ]
  },
  {
   "cell_type": "code",
   "execution_count": 361,
   "metadata": {
    "collapsed": false
   },
   "outputs": [
    {
     "data": {
      "text/plain": [
       "(137998, 41)"
      ]
     },
     "execution_count": 361,
     "metadata": {},
     "output_type": "execute_result"
    }
   ],
   "source": [
    "total_train[total_train.label == 1].shape"
   ]
  },
  {
   "cell_type": "code",
   "execution_count": 272,
   "metadata": {
    "collapsed": false
   },
   "outputs": [],
   "source": [
    "def split_train_test(data, key, percentage=0.2):\n",
    "    \"\"\"\n",
    "    根据key值来划分数据为train和test数据\n",
    "    \"\"\"\n",
    "    key_id_list = list(data[key].value_counts().index)\n",
    "    sample_key_set = set(random.sample(key_id_list, int(len(key_id_list) * percentage)))\n",
    "\n",
    "    key_id_data_list = data[key].values\n",
    "    sample_index_flag = range(data.shape[0])\n",
    "    for idx, value in enumerate(key_id_data_list):\n",
    "        if value in sample_key_set:\n",
    "            sample_index_flag[idx] = True\n",
    "        else:\n",
    "            sample_index_flag[idx] = False\n",
    "\n",
    "    test_df = data[sample_index_flag]\n",
    "    train_df = data[[not x for x in sample_index_flag]]\n",
    "    return train_df, test_df"
   ]
  },
  {
   "cell_type": "markdown",
   "metadata": {},
   "source": [
    "#### n_train数据由于是unblanced，所以需要进行重新采样处理"
   ]
  },
  {
   "cell_type": "code",
   "execution_count": 362,
   "metadata": {
    "collapsed": false
   },
   "outputs": [],
   "source": [
    "n_train, n_test = split_train_test(total_train, const.OID, 0.2)\n",
    "negative_data = n_train[n_train.label == 0]\n",
    "positive_data = n_train[n_train.label == 1]\n",
    "\n",
    "num_positive = positive_data.shape[0]\n",
    "num_negative = negative_data.shape[0]\n",
    "\n",
    "target_num = 2 * num_positive\n",
    "sample_negative_data = get_sample_negative_data(negative_data, target_num / float(num_negative))\n",
    "train_data = pd.concat([sample_negative_data, positive_data])\n",
    "\n",
    "drop_list = ['order_id', 'product_id', 'reordered', 'add_to_cart_order', 'user_id', 'eval_set', 'order_number']\n",
    "train_data.drop(drop_list, axis=1, inplace=True)\n",
    "train_validate_data = n_test.drop(drop_list, axis=1)"
   ]
  },
  {
   "cell_type": "code",
   "execution_count": 366,
   "metadata": {
    "collapsed": false
   },
   "outputs": [
    {
     "data": {
      "text/html": [
       "<div>\n",
       "<table border=\"1\" class=\"dataframe\">\n",
       "  <thead>\n",
       "    <tr style=\"text-align: right;\">\n",
       "      <th></th>\n",
       "      <th>days_since_prior_order</th>\n",
       "      <th>label</th>\n",
       "      <th>order_dow</th>\n",
       "      <th>order_hour_of_day</th>\n",
       "      <th>order_number-user_product_order_number_max</th>\n",
       "      <th>product_active_days</th>\n",
       "      <th>product_bought_time</th>\n",
       "      <th>product_days_prior_order_mean</th>\n",
       "      <th>product_item_add_to_cart_mean</th>\n",
       "      <th>product_item_unique_number</th>\n",
       "      <th>product_order_number</th>\n",
       "      <th>product_order_number_max</th>\n",
       "      <th>product_reordered_ratio</th>\n",
       "      <th>product_reordered_times</th>\n",
       "      <th>user_active_days</th>\n",
       "      <th>user_bought_time</th>\n",
       "      <th>user_days_prior_order_mean</th>\n",
       "      <th>user_item_add_to_cart_mean</th>\n",
       "      <th>user_item_unique_number</th>\n",
       "      <th>user_order_number</th>\n",
       "      <th>user_order_number_max</th>\n",
       "      <th>user_product_bought_times</th>\n",
       "      <th>user_product_days_prior_order_max</th>\n",
       "      <th>user_product_days_prior_order_mean</th>\n",
       "      <th>user_product_days_prior_order_min</th>\n",
       "      <th>user_product_item_add_to_cart_max</th>\n",
       "      <th>user_product_item_add_to_cart_mean</th>\n",
       "      <th>user_product_item_add_to_cart_min</th>\n",
       "      <th>user_product_order_number_max</th>\n",
       "      <th>user_product_order_number_min</th>\n",
       "      <th>user_product_reordered_ratio</th>\n",
       "      <th>user_product_reordered_times</th>\n",
       "      <th>user_reordered_ratio</th>\n",
       "      <th>user_reordered_times</th>\n",
       "    </tr>\n",
       "  </thead>\n",
       "  <tbody>\n",
       "    <tr>\n",
       "      <th>0</th>\n",
       "      <td>26.0</td>\n",
       "      <td>0</td>\n",
       "      <td>5</td>\n",
       "      <td>14</td>\n",
       "      <td>1.0</td>\n",
       "      <td>179472.0</td>\n",
       "      <td>17716</td>\n",
       "      <td>11.167444</td>\n",
       "      <td>9.353974</td>\n",
       "      <td>1</td>\n",
       "      <td>17716</td>\n",
       "      <td>99</td>\n",
       "      <td>0.478494</td>\n",
       "      <td>8477</td>\n",
       "      <td>1017.0</td>\n",
       "      <td>66</td>\n",
       "      <td>19.188679</td>\n",
       "      <td>9.030303</td>\n",
       "      <td>43</td>\n",
       "      <td>4</td>\n",
       "      <td>4</td>\n",
       "      <td>1.0</td>\n",
       "      <td>30.0</td>\n",
       "      <td>30.000000</td>\n",
       "      <td>30.0</td>\n",
       "      <td>7.0</td>\n",
       "      <td>7.000000</td>\n",
       "      <td>7.0</td>\n",
       "      <td>4.0</td>\n",
       "      <td>4.0</td>\n",
       "      <td>0.000000</td>\n",
       "      <td>0.0</td>\n",
       "      <td>0.348485</td>\n",
       "      <td>23</td>\n",
       "    </tr>\n",
       "    <tr>\n",
       "      <th>1</th>\n",
       "      <td>26.0</td>\n",
       "      <td>0</td>\n",
       "      <td>5</td>\n",
       "      <td>14</td>\n",
       "      <td>3.0</td>\n",
       "      <td>54110.0</td>\n",
       "      <td>4799</td>\n",
       "      <td>12.206181</td>\n",
       "      <td>8.276099</td>\n",
       "      <td>1</td>\n",
       "      <td>4799</td>\n",
       "      <td>99</td>\n",
       "      <td>0.547406</td>\n",
       "      <td>2627</td>\n",
       "      <td>1017.0</td>\n",
       "      <td>66</td>\n",
       "      <td>19.188679</td>\n",
       "      <td>9.030303</td>\n",
       "      <td>43</td>\n",
       "      <td>4</td>\n",
       "      <td>4</td>\n",
       "      <td>1.0</td>\n",
       "      <td>23.0</td>\n",
       "      <td>23.000000</td>\n",
       "      <td>23.0</td>\n",
       "      <td>14.0</td>\n",
       "      <td>14.000000</td>\n",
       "      <td>14.0</td>\n",
       "      <td>2.0</td>\n",
       "      <td>2.0</td>\n",
       "      <td>0.000000</td>\n",
       "      <td>0.0</td>\n",
       "      <td>0.348485</td>\n",
       "      <td>23</td>\n",
       "    </tr>\n",
       "    <tr>\n",
       "      <th>2</th>\n",
       "      <td>26.0</td>\n",
       "      <td>0</td>\n",
       "      <td>5</td>\n",
       "      <td>14</td>\n",
       "      <td>1.0</td>\n",
       "      <td>383727.0</td>\n",
       "      <td>36365</td>\n",
       "      <td>11.240136</td>\n",
       "      <td>9.301114</td>\n",
       "      <td>1</td>\n",
       "      <td>36365</td>\n",
       "      <td>99</td>\n",
       "      <td>0.642678</td>\n",
       "      <td>23371</td>\n",
       "      <td>1017.0</td>\n",
       "      <td>66</td>\n",
       "      <td>19.188679</td>\n",
       "      <td>9.030303</td>\n",
       "      <td>43</td>\n",
       "      <td>4</td>\n",
       "      <td>4</td>\n",
       "      <td>2.0</td>\n",
       "      <td>30.0</td>\n",
       "      <td>30.000000</td>\n",
       "      <td>30.0</td>\n",
       "      <td>7.0</td>\n",
       "      <td>6.500000</td>\n",
       "      <td>6.0</td>\n",
       "      <td>4.0</td>\n",
       "      <td>1.0</td>\n",
       "      <td>0.500000</td>\n",
       "      <td>1.0</td>\n",
       "      <td>0.348485</td>\n",
       "      <td>23</td>\n",
       "    </tr>\n",
       "    <tr>\n",
       "      <th>3</th>\n",
       "      <td>26.0</td>\n",
       "      <td>0</td>\n",
       "      <td>5</td>\n",
       "      <td>14</td>\n",
       "      <td>1.0</td>\n",
       "      <td>1152243.0</td>\n",
       "      <td>113426</td>\n",
       "      <td>10.708678</td>\n",
       "      <td>8.517544</td>\n",
       "      <td>1</td>\n",
       "      <td>113426</td>\n",
       "      <td>99</td>\n",
       "      <td>0.697124</td>\n",
       "      <td>79072</td>\n",
       "      <td>1017.0</td>\n",
       "      <td>66</td>\n",
       "      <td>19.188679</td>\n",
       "      <td>9.030303</td>\n",
       "      <td>43</td>\n",
       "      <td>4</td>\n",
       "      <td>4</td>\n",
       "      <td>3.0</td>\n",
       "      <td>30.0</td>\n",
       "      <td>19.333333</td>\n",
       "      <td>5.0</td>\n",
       "      <td>8.0</td>\n",
       "      <td>6.333333</td>\n",
       "      <td>5.0</td>\n",
       "      <td>4.0</td>\n",
       "      <td>2.0</td>\n",
       "      <td>0.666667</td>\n",
       "      <td>2.0</td>\n",
       "      <td>0.348485</td>\n",
       "      <td>23</td>\n",
       "    </tr>\n",
       "    <tr>\n",
       "      <th>4</th>\n",
       "      <td>26.0</td>\n",
       "      <td>0</td>\n",
       "      <td>5</td>\n",
       "      <td>14</td>\n",
       "      <td>4.0</td>\n",
       "      <td>9235.0</td>\n",
       "      <td>951</td>\n",
       "      <td>10.341545</td>\n",
       "      <td>6.174553</td>\n",
       "      <td>1</td>\n",
       "      <td>951</td>\n",
       "      <td>99</td>\n",
       "      <td>0.685594</td>\n",
       "      <td>652</td>\n",
       "      <td>1017.0</td>\n",
       "      <td>66</td>\n",
       "      <td>19.188679</td>\n",
       "      <td>9.030303</td>\n",
       "      <td>43</td>\n",
       "      <td>4</td>\n",
       "      <td>4</td>\n",
       "      <td>1.0</td>\n",
       "      <td>NaN</td>\n",
       "      <td>NaN</td>\n",
       "      <td>NaN</td>\n",
       "      <td>11.0</td>\n",
       "      <td>11.000000</td>\n",
       "      <td>11.0</td>\n",
       "      <td>1.0</td>\n",
       "      <td>1.0</td>\n",
       "      <td>0.000000</td>\n",
       "      <td>0.0</td>\n",
       "      <td>0.348485</td>\n",
       "      <td>23</td>\n",
       "    </tr>\n",
       "  </tbody>\n",
       "</table>\n",
       "</div>"
      ],
      "text/plain": [
       "   days_since_prior_order  label  order_dow  order_hour_of_day  \\\n",
       "0                    26.0      0          5                 14   \n",
       "1                    26.0      0          5                 14   \n",
       "2                    26.0      0          5                 14   \n",
       "3                    26.0      0          5                 14   \n",
       "4                    26.0      0          5                 14   \n",
       "\n",
       "   order_number-user_product_order_number_max  product_active_days  \\\n",
       "0                                         1.0             179472.0   \n",
       "1                                         3.0              54110.0   \n",
       "2                                         1.0             383727.0   \n",
       "3                                         1.0            1152243.0   \n",
       "4                                         4.0               9235.0   \n",
       "\n",
       "   product_bought_time  product_days_prior_order_mean  \\\n",
       "0                17716                      11.167444   \n",
       "1                 4799                      12.206181   \n",
       "2                36365                      11.240136   \n",
       "3               113426                      10.708678   \n",
       "4                  951                      10.341545   \n",
       "\n",
       "   product_item_add_to_cart_mean  product_item_unique_number  \\\n",
       "0                       9.353974                           1   \n",
       "1                       8.276099                           1   \n",
       "2                       9.301114                           1   \n",
       "3                       8.517544                           1   \n",
       "4                       6.174553                           1   \n",
       "\n",
       "   product_order_number  product_order_number_max  product_reordered_ratio  \\\n",
       "0                 17716                        99                 0.478494   \n",
       "1                  4799                        99                 0.547406   \n",
       "2                 36365                        99                 0.642678   \n",
       "3                113426                        99                 0.697124   \n",
       "4                   951                        99                 0.685594   \n",
       "\n",
       "   product_reordered_times  user_active_days  user_bought_time  \\\n",
       "0                     8477            1017.0                66   \n",
       "1                     2627            1017.0                66   \n",
       "2                    23371            1017.0                66   \n",
       "3                    79072            1017.0                66   \n",
       "4                      652            1017.0                66   \n",
       "\n",
       "   user_days_prior_order_mean  user_item_add_to_cart_mean  \\\n",
       "0                   19.188679                    9.030303   \n",
       "1                   19.188679                    9.030303   \n",
       "2                   19.188679                    9.030303   \n",
       "3                   19.188679                    9.030303   \n",
       "4                   19.188679                    9.030303   \n",
       "\n",
       "   user_item_unique_number  user_order_number  user_order_number_max  \\\n",
       "0                       43                  4                      4   \n",
       "1                       43                  4                      4   \n",
       "2                       43                  4                      4   \n",
       "3                       43                  4                      4   \n",
       "4                       43                  4                      4   \n",
       "\n",
       "   user_product_bought_times  user_product_days_prior_order_max  \\\n",
       "0                        1.0                               30.0   \n",
       "1                        1.0                               23.0   \n",
       "2                        2.0                               30.0   \n",
       "3                        3.0                               30.0   \n",
       "4                        1.0                                NaN   \n",
       "\n",
       "   user_product_days_prior_order_mean  user_product_days_prior_order_min  \\\n",
       "0                           30.000000                               30.0   \n",
       "1                           23.000000                               23.0   \n",
       "2                           30.000000                               30.0   \n",
       "3                           19.333333                                5.0   \n",
       "4                                 NaN                                NaN   \n",
       "\n",
       "   user_product_item_add_to_cart_max  user_product_item_add_to_cart_mean  \\\n",
       "0                                7.0                            7.000000   \n",
       "1                               14.0                           14.000000   \n",
       "2                                7.0                            6.500000   \n",
       "3                                8.0                            6.333333   \n",
       "4                               11.0                           11.000000   \n",
       "\n",
       "   user_product_item_add_to_cart_min  user_product_order_number_max  \\\n",
       "0                                7.0                            4.0   \n",
       "1                               14.0                            2.0   \n",
       "2                                6.0                            4.0   \n",
       "3                                5.0                            4.0   \n",
       "4                               11.0                            1.0   \n",
       "\n",
       "   user_product_order_number_min  user_product_reordered_ratio  \\\n",
       "0                            4.0                      0.000000   \n",
       "1                            2.0                      0.000000   \n",
       "2                            1.0                      0.500000   \n",
       "3                            2.0                      0.666667   \n",
       "4                            1.0                      0.000000   \n",
       "\n",
       "   user_product_reordered_times  user_reordered_ratio  user_reordered_times  \n",
       "0                           0.0              0.348485                    23  \n",
       "1                           0.0              0.348485                    23  \n",
       "2                           1.0              0.348485                    23  \n",
       "3                           2.0              0.348485                    23  \n",
       "4                           0.0              0.348485                    23  "
      ]
     },
     "execution_count": 366,
     "metadata": {},
     "output_type": "execute_result"
    }
   ],
   "source": [
    "train_data.head()"
   ]
  },
  {
   "cell_type": "code",
   "execution_count": 368,
   "metadata": {
    "collapsed": false
   },
   "outputs": [
    {
     "name": "stdout",
     "output_type": "stream",
     "text": [
      "light GBM train :-)\n"
     ]
    }
   ],
   "source": [
    "import lightgbm as lgb\n",
    "params = {\n",
    "        'boosting_type': 'gbdt',\n",
    "        'objective': 'binary',\n",
    "        'num_leaves': 72,\n",
    "        'max_depth': 10,\n",
    "        'metric': ['auc'],\n",
    "        'feature_fraction': 0.85,\n",
    "        'bagging_fraction': 0.95,\n",
    "        'bagging_freq': 5,\n",
    "        'learning_rate': 0.1,\n",
    "        'min_child_samples': 50,\n",
    "        'reg_lambda': 0.7,\n",
    "        'n_estimators': 50,\n",
    "        'silent': True\n",
    "    }\n",
    "\n",
    "train_df = train_data.drop(['label'], axis=1)\n",
    "train_labels = train_data['label']\n",
    "print('light GBM train :-)')\n",
    "clf = lgb.LGBMClassifier(**params)\n",
    "categorical_feature = ['order_dow', 'order_hour_of_day',]\n",
    "result = clf.fit(\n",
    "    train_df,\n",
    "    train_labels,\n",
    "    categorical_feature=categorical_feature,\n",
    ")"
   ]
  },
  {
   "cell_type": "code",
   "execution_count": 370,
   "metadata": {
    "collapsed": false
   },
   "outputs": [
    {
     "data": {
      "text/plain": [
       "<matplotlib.axes._subplots.AxesSubplot at 0x17bd74490>"
      ]
     },
     "execution_count": 370,
     "metadata": {},
     "output_type": "execute_result"
    },
    {
     "data": {
      "image/png": "[encoded data removed]",
      "text/plain": [
       "<matplotlib.figure.Figure at 0x17bd6f110>"
      ]
     },
     "metadata": {},
     "output_type": "display_data"
    }
   ],
   "source": [
    "lgb.plot_importance(clf)"
   ]
  },
  {
   "cell_type": "markdown",
   "metadata": {},
   "source": [
    "#### use train_validate_data to validate"
   ]
  },
  {
   "cell_type": "code",
   "execution_count": 371,
   "metadata": {
    "collapsed": true
   },
   "outputs": [],
   "source": [
    "validate_df = train_validate_data.drop(['label'], axis=1)\n",
    "validate_labels = train_validate_data['label']"
   ]
  },
  {
   "cell_type": "code",
   "execution_count": 372,
   "metadata": {
    "collapsed": true
   },
   "outputs": [],
   "source": [
    "predict_y = clf.predict_proba(validate_df)[:, 1]"
   ]
  },
  {
   "cell_type": "code",
   "execution_count": 374,
   "metadata": {
    "collapsed": true
   },
   "outputs": [],
   "source": [
    "def get_sample_negative_data(data, sample_percentage):\n",
    "    order_id_index = data.groupby(const.OID)[const.PID].apply(list).reset_index()\n",
    "    result = data.set_index([const.OID, const.PID])\n",
    "    sample_index_list = []\n",
    "    for order_id, value in order_id_index.iterrows():\n",
    "        order_id = value['order_id']\n",
    "        product_id_list = value['product_id']\n",
    "        num = int(len(product_id_list) * sample_percentage)\n",
    "        if num <= 0:\n",
    "            continue\n",
    "\n",
    "        product_sample = random.sample(product_id_list, num)\n",
    "        sample_index_list.extend([(order_id, product_id) for product_id in product_sample])\n",
    "\n",
    "    new_data = result.ix[sample_index_list]\n",
    "    new_data.reset_index()\n",
    "    return new_data"
   ]
  },
  {
   "cell_type": "markdown",
   "metadata": {},
   "source": [
    "#### 求f值"
   ]
  },
  {
   "cell_type": "code",
   "execution_count": 373,
   "metadata": {
    "collapsed": false
   },
   "outputs": [],
   "source": [
    "order_id_index = n_test.groupby(const.OID)['label'].apply(list).reset_index()\n",
    "def mean_f1_score(order_id_index, predict_y):\n",
    "    f_score_total = 0\n",
    "    n = 0\n",
    "    idx = 0\n",
    "    for _, value in order_id_index.iterrows():\n",
    "        label_list = value['label']\n",
    "        predict_label_list = predict_y[idx:idx+len(label_list)]\n",
    "        \n",
    "        if not np.any(label_list) and not np.any(predict_label_list):\n",
    "            f_score = 1\n",
    "        else:\n",
    "            f_score = metrics.f1_score(predict_label_list, label_list)\n",
    "        f_score_total += f_score\n",
    "        idx += len(label_list)\n",
    "        n += 1\n",
    "        \n",
    "    return f_score_total / n"
   ]
  },
  {
   "cell_type": "code",
   "execution_count": 375,
   "metadata": {
    "collapsed": false
   },
   "outputs": [],
   "source": [
    "best_score = 0\n",
    "best_margin = 0\n",
    "\n",
    "for margin in range(1, 100):\n",
    "    threshold = margin / float(100)\n",
    "    predict_result = predict_y >= threshold\n",
    "    #score = metrics.f1_score(validate_labels.values, predict_result)\n",
    "    score = mean_f1_score(order_id_index, predict_result)\n",
    "    if score > best_score:\n",
    "        best_score = score\n",
    "        best_margin = threshold"
   ]
  },
  {
   "cell_type": "code",
   "execution_count": 378,
   "metadata": {
    "collapsed": false,
    "scrolled": false
   },
   "outputs": [
    {
     "name": "stdout",
     "output_type": "stream",
     "text": [
      "0.321894447496 0.17\n"
     ]
    }
   ],
   "source": [
    "print best_score, best_margin"
   ]
  }
 ],
 "metadata": {
  "kernelspec": {
   "display_name": "Python 2",
   "language": "python",
   "name": "python2"
  },
  "language_info": {
   "codemirror_mode": {
    "name": "ipython",
    "version": 2
   },
   "file_extension": ".py",
   "mimetype": "text/x-python",
   "name": "python",
   "nbconvert_exporter": "python",
   "pygments_lexer": "ipython2",
   "version": "2.7.13"
  }
 },
 "nbformat": 4,
 "nbformat_minor": 2
}
